{
 "cells": [
  {
   "cell_type": "markdown",
   "source": "## NHL Stats Challenge\n\n> If you have not had a chance to check out the [Lazy Guide to Web Scraping](https://github.com/sportsdatasolutions/sport_x_code_eis/blob/master/3.projects/LazyGuides/web_scraping.md) please do so! You can find the code for the guide in this [Deepnote Project](https://deepnote.com/project/0d7f30b4-7eb4-4d7e-b601-28085e59e0d3#%2F1.OpenAPI.ipynb).\n\n#### The challenge is to simply scrape the **Skaters Stats Table** with stats from the [**combined 18/19 and 19/20 season playoffs**](http://www.nhl.com/stats/skaters?reportType=season&seasonFrom=20182019&seasonTo=20192020&gameType=3&filter=gamesPlayed,gte,1&sort=points,goals,assists&page=0&pageSize=50).\n1. ##### **Start** by ***using the Network Tool*** on your ```browser``` to identify any possible requests for the data in the table.\n\n2. ##### **Copy** and **Paste** the ***request url*** into a new tab on your **browser** to see if you can access the API without the actual website.\n\n3. ##### **Make call(s)** for the relevant data via [`requests`.](https://requests.readthedocs.io/en/master/)\n\n4. ##### **Create** a Pandas **Dataframe** containing the **data**.\n\n5. ##### **Make sure you have ALL the data**. You'll notice that the table has a total of **583 records**. Does yours?\n\n    **Hint:** The table is **paginated**, and **so is the API**. Pay attention to the **Request URL Parameters**. Have a play around with the **values** given to the **`page`** and **`pageSize`** parameters.\n\n\n6. ##### **Save** the Dataframe to a new **CSV** file within the `data` folder.\n",
   "metadata": {
    "tags": [],
    "output_cleared": false,
    "cell_id": "00000-844e0a68-d76e-4d9a-b442-5dff1a5499c2",
    "deepnote_cell_type": "markdown"
   }
  },
  {
   "cell_type": "code",
   "metadata": {
    "output_cleared": false,
    "source_hash": "6572a475",
    "execution_millis": 98,
    "cell_id": "00001-514f9a9f-baeb-49fc-ac7b-4900b64a3dbb",
    "execution_start": 1621351876137,
    "deepnote_to_be_reexecuted": false,
    "deepnote_cell_type": "code"
   },
   "source": "import requests\nimport pandas as pd\n\nresponse = requests.get(\"https://api.nhle.com/stats/rest/en/skater/summary?isAggregate=false&isGame=false&sort=%5B%7B%22property%22:%22points%22,%22direction%22:%22DESC%22%7D,%7B%22property%22:%22goals%22,%22direction%22:%22DESC%22%7D,%7B%22property%22:%22assists%22,%22direction%22:%22DESC%22%7D%5D&start=0&limit=50&factCayenneExp=gamesPlayed%3E=1&cayenneExp=gameTypeId=3%20and%20seasonId%3C=20202021%20and%20seasonId%3E=20202021\").json()\n\npd.DataFrame.from_dict(response, orient='columns')\n\n",
   "outputs": [
    {
     "output_type": "execute_result",
     "execution_count": 14,
     "data": {
      "application/vnd.deepnote.dataframe.v2+json": {
       "row_count": 50,
       "column_count": 2,
       "columns": [
        {
         "name": "data",
         "dtype": "object",
         "stats": {
          "unique_count": 50,
          "nan_count": 0,
          "categories": [
           {
            "name": "{'assists': 1, 'evGoals': 0, 'evPoints': 0, 'faceoffWinPct': None, 'gameWinningGoals': 0, 'gamesPlayed': 1, 'goals': 2, 'lastName': 'Kucherov', 'otGoals': 0, 'penaltyMinutes': 2, 'playerId': 8476453, 'plusMinus': -1, 'points': 3, 'pointsPerGame': 3.0, 'positionCode': 'R', 'ppGoals': 2, 'ppPoints': 3, 'seasonId': 20202021, 'shGoals': 0, 'shPoints': 0, 'shootingPct': 0.4, 'shootsCatches': 'L', 'shots': 5, 'skaterFullName': 'Nikita Kucherov', 'teamAbbrevs': 'TBL', 'timeOnIcePerGame': 1161.0}",
            "count": 1
           },
           {
            "name": "{'assists': 1, 'evGoals': 2, 'evPoints': 3, 'faceoffWinPct': 0.25, 'gameWinningGoals': 1, 'gamesPlayed': 1, 'goals': 2, 'lastName': 'MacKinnon', 'otGoals': 0, 'penaltyMinutes': 0, 'playerId': 8477492, 'plusMinus': 3, 'points': 3, 'pointsPerGame': 3.0, 'positionCode': 'C', 'ppGoals': 0, 'ppPoints': 0, 'seasonId': 20202021, 'shGoals': 0, 'shPoints': 0, 'shootingPct': 0.33333, 'shootsCatches': 'R', 'shots': 6, 'skaterFullName': 'Nathan MacKinnon', 'teamAbbrevs': 'COL', 'timeOnIcePerGame': 1274.0}",
            "count": 1
           },
           {
            "name": "48 others",
            "count": 48
           }
          ]
         }
        },
        {
         "name": "total",
         "dtype": "int64",
         "stats": {
          "unique_count": 1,
          "nan_count": 0,
          "min": "217",
          "max": "217",
          "histogram": [
           {
            "bin_start": 216.5,
            "bin_end": 216.6,
            "count": 0
           },
           {
            "bin_start": 216.6,
            "bin_end": 216.7,
            "count": 0
           },
           {
            "bin_start": 216.7,
            "bin_end": 216.8,
            "count": 0
           },
           {
            "bin_start": 216.8,
            "bin_end": 216.9,
            "count": 0
           },
           {
            "bin_start": 216.9,
            "bin_end": 217,
            "count": 0
           },
           {
            "bin_start": 217,
            "bin_end": 217.1,
            "count": 50
           },
           {
            "bin_start": 217.1,
            "bin_end": 217.2,
            "count": 0
           },
           {
            "bin_start": 217.2,
            "bin_end": 217.3,
            "count": 0
           },
           {
            "bin_start": 217.3,
            "bin_end": 217.4,
            "count": 0
           },
           {
            "bin_start": 217.4,
            "bin_end": 217.5,
            "count": 0
           }
          ]
         }
        },
        {
         "name": "_deepnote_index_column",
         "dtype": "int64"
        }
       ],
       "rows_top": [
        {
         "data": "{'assists': 1, 'evGoals': 0, 'evPoints': 0, 'faceoffWinPct': None, 'gameWinningGoals': 0, 'gamesPlayed': 1, 'goals': 2, 'lastName': 'Kucherov', 'otGoals': 0, 'penaltyMinutes': 2, 'playerId': 8476453, 'plusMinus': -1, 'points': 3, 'pointsPerGame': 3.0, 'positionCode': 'R', 'ppGoals': 2, 'ppPoints': 3, 'seasonId': 20202021, 'shGoals': 0, 'shPoints': 0, 'shootingPct': 0.4, 'shootsCatches': 'L', 'shots': 5, 'skaterFullName': 'Nikita Kucherov', 'teamAbbrevs': 'TBL', 'timeOnIcePerGame': 1161.0}",
         "total": 217,
         "_deepnote_index_column": 0
        },
        {
         "data": "{'assists': 1, 'evGoals': 2, 'evPoints': 3, 'faceoffWinPct': 0.25, 'gameWinningGoals': 1, 'gamesPlayed': 1, 'goals': 2, 'lastName': 'MacKinnon', 'otGoals': 0, 'penaltyMinutes': 0, 'playerId': 8477492, 'plusMinus': 3, 'points': 3, 'pointsPerGame': 3.0, 'positionCode': 'C', 'ppGoals': 0, 'ppPoints': 0, 'seasonId': 20202021, 'shGoals': 0, 'shPoints': 0, 'shootingPct': 0.33333, 'shootsCatches': 'R', 'shots': 6, 'skaterFullName': 'Nathan MacKinnon', 'teamAbbrevs': 'COL', 'timeOnIcePerGame': 1274.0}",
         "total": 217,
         "_deepnote_index_column": 1
        },
        {
         "data": "{'assists': 2, 'evGoals': 1, 'evPoints': 3, 'faceoffWinPct': 0.42307, 'gameWinningGoals': 0, 'gamesPlayed': 1, 'goals': 1, 'lastName': 'Pageau', 'otGoals': 0, 'penaltyMinutes': 0, 'playerId': 8476419, 'plusMinus': 2, 'points': 3, 'pointsPerGame': 3.0, 'positionCode': 'C', 'ppGoals': 0, 'ppPoints': 0, 'seasonId': 20202021, 'shGoals': 0, 'shPoints': 0, 'shootingPct': 0.2, 'shootsCatches': 'R', 'shots': 5, 'skaterFullName': 'Jean-Gabriel Pageau', 'teamAbbrevs': 'NYI', 'timeOnIcePerGame': 1288.0}",
         "total": 217,
         "_deepnote_index_column": 2
        },
        {
         "data": "{'assists': 2, 'evGoals': 0, 'evPoints': 2, 'faceoffWinPct': 0.10526, 'gameWinningGoals': 0, 'gamesPlayed': 2, 'goals': 1, 'lastName': 'Oshie', 'otGoals': 0, 'penaltyMinutes': 0, 'playerId': 8471698, 'plusMinus': 0, 'points': 3, 'pointsPerGame': 1.5, 'positionCode': 'R', 'ppGoals': 1, 'ppPoints': 1, 'seasonId': 20202021, 'shGoals': 0, 'shPoints': 0, 'shootingPct': 0.2, 'shootsCatches': 'R', 'shots': 5, 'skaterFullName': 'T.J. Oshie', 'teamAbbrevs': 'WSH', 'timeOnIcePerGame': 918.0}",
         "total": 217,
         "_deepnote_index_column": 3
        },
        {
         "data": "{'assists': 2, 'evGoals': 1, 'evPoints': 3, 'faceoffWinPct': 0.7, 'gameWinningGoals': 0, 'gamesPlayed': 1, 'goals': 1, 'lastName': 'Landeskog', 'otGoals': 0, 'penaltyMinutes': 5, 'playerId': 8476455, 'plusMinus': 3, 'points': 3, 'pointsPerGame': 3.0, 'positionCode': 'L', 'ppGoals': 0, 'ppPoints': 0, 'seasonId': 20202021, 'shGoals': 0, 'shPoints': 0, 'shootingPct': 0.25, 'shootsCatches': 'L', 'shots': 4, 'skaterFullName': 'Gabriel Landeskog', 'teamAbbrevs': 'COL', 'timeOnIcePerGame': 1096.0}",
         "total": 217,
         "_deepnote_index_column": 4
        },
        {
         "data": "{'assists': 2, 'evGoals': 1, 'evPoints': 2, 'faceoffWinPct': 0.5, 'gameWinningGoals': 0, 'gamesPlayed': 1, 'goals': 1, 'lastName': 'Huberdeau', 'otGoals': 0, 'penaltyMinutes': 0, 'playerId': 8476456, 'plusMinus': 1, 'points': 3, 'pointsPerGame': 3.0, 'positionCode': 'L', 'ppGoals': 0, 'ppPoints': 1, 'seasonId': 20202021, 'shGoals': 0, 'shPoints': 0, 'shootingPct': 0.2, 'shootsCatches': 'L', 'shots': 5, 'skaterFullName': 'Jonathan Huberdeau', 'teamAbbrevs': 'FLA', 'timeOnIcePerGame': 1136.0}",
         "total": 217,
         "_deepnote_index_column": 5
        },
        {
         "data": "{'assists': 3, 'evGoals': 0, 'evPoints': 0, 'faceoffWinPct': None, 'gameWinningGoals': 0, 'gamesPlayed': 1, 'goals': 0, 'lastName': 'Hedman', 'otGoals': 0, 'penaltyMinutes': 0, 'playerId': 8475167, 'plusMinus': -1, 'points': 3, 'pointsPerGame': 3.0, 'positionCode': 'D', 'ppGoals': 0, 'ppPoints': 3, 'seasonId': 20202021, 'shGoals': 0, 'shPoints': 0, 'shootingPct': 0.0, 'shootsCatches': 'L', 'shots': 2, 'skaterFullName': 'Victor Hedman', 'teamAbbrevs': 'TBL', 'timeOnIcePerGame': 1517.0}",
         "total": 217,
         "_deepnote_index_column": 6
        },
        {
         "data": "{'assists': 0, 'evGoals': 2, 'evPoints': 2, 'faceoffWinPct': None, 'gameWinningGoals': 0, 'gamesPlayed': 2, 'goals': 2, 'lastName': 'DeBrusk', 'otGoals': 0, 'penaltyMinutes': 0, 'playerId': 8478498, 'plusMinus': 1, 'points': 2, 'pointsPerGame': 1.0, 'positionCode': 'L', 'ppGoals': 0, 'ppPoints': 0, 'seasonId': 20202021, 'shGoals': 0, 'shPoints': 0, 'shootingPct': 0.33333, 'shootsCatches': 'L', 'shots': 6, 'skaterFullName': 'Jake DeBrusk', 'teamAbbrevs': 'BOS', 'timeOnIcePerGame': 759.0}",
         "total": 217,
         "_deepnote_index_column": 7
        },
        {
         "data": "{'assists': 0, 'evGoals': 1, 'evPoints': 1, 'faceoffWinPct': 0.72222, 'gameWinningGoals': 1, 'gamesPlayed': 1, 'goals': 2, 'lastName': 'Point', 'otGoals': 0, 'penaltyMinutes': 0, 'playerId': 8478010, 'plusMinus': 0, 'points': 2, 'pointsPerGame': 2.0, 'positionCode': 'C', 'ppGoals': 1, 'ppPoints': 1, 'seasonId': 20202021, 'shGoals': 0, 'shPoints': 0, 'shootingPct': 0.5, 'shootsCatches': 'R', 'shots': 4, 'skaterFullName': 'Brayden Point', 'teamAbbrevs': 'TBL', 'timeOnIcePerGame': 1129.0}",
         "total": 217,
         "_deepnote_index_column": 8
        },
        {
         "data": "{'assists': 0, 'evGoals': 2, 'evPoints': 2, 'faceoffWinPct': None, 'gameWinningGoals': 0, 'gamesPlayed': 2, 'goals': 2, 'lastName': 'Hathaway', 'otGoals': 0, 'penaltyMinutes': 0, 'playerId': 8477903, 'plusMinus': 2, 'points': 2, 'pointsPerGame': 1.0, 'positionCode': 'R', 'ppGoals': 0, 'ppPoints': 0, 'seasonId': 20202021, 'shGoals': 0, 'shPoints': 0, 'shootingPct': 0.4, 'shootsCatches': 'R', 'shots': 5, 'skaterFullName': 'Garnet Hathaway', 'teamAbbrevs': 'WSH', 'timeOnIcePerGame': 752.5}",
         "total": 217,
         "_deepnote_index_column": 9
        },
        {
         "data": "{'assists': 0, 'evGoals': 2, 'evPoints': 2, 'faceoffWinPct': None, 'gameWinningGoals': 1, 'gamesPlayed': 1, 'goals': 2, 'lastName': 'Palmieri', 'otGoals': 1, 'penaltyMinutes': 0, 'playerId': 8475151, 'plusMinus': 1, 'points': 2, 'pointsPerGame': 2.0, 'positionCode': 'R', 'ppGoals': 0, 'ppPoints': 0, 'seasonId': 20202021, 'shGoals': 0, 'shPoints': 0, 'shootingPct': 0.66666, 'shootsCatches': 'R', 'shots': 3, 'skaterFullName': 'Kyle Palmieri', 'teamAbbrevs': 'NYI', 'timeOnIcePerGame': 1095.0}",
         "total": 217,
         "_deepnote_index_column": 10
        },
        {
         "data": "{'assists': 0, 'evGoals': 2, 'evPoints': 2, 'faceoffWinPct': 0.53846, 'gameWinningGoals': 0, 'gamesPlayed': 1, 'goals': 2, 'lastName': 'Staal', 'otGoals': 0, 'penaltyMinutes': 0, 'playerId': 8473533, 'plusMinus': 1, 'points': 2, 'pointsPerGame': 2.0, 'positionCode': 'C', 'ppGoals': 0, 'ppPoints': 0, 'seasonId': 20202021, 'shGoals': 0, 'shPoints': 0, 'shootingPct': 0.5, 'shootsCatches': 'L', 'shots': 4, 'skaterFullName': 'Jordan Staal', 'teamAbbrevs': 'CAR', 'timeOnIcePerGame': 950.0}",
         "total": 217,
         "_deepnote_index_column": 11
        },
        {
         "data": "{'assists': 1, 'evGoals': 0, 'evPoints': 1, 'faceoffWinPct': None, 'gameWinningGoals': 0, 'gamesPlayed': 2, 'goals': 1, 'lastName': 'Ritchie', 'otGoals': 0, 'penaltyMinutes': 2, 'playerId': 8477941, 'plusMinus': 0, 'points': 2, 'pointsPerGame': 1.0, 'positionCode': 'L', 'ppGoals': 1, 'ppPoints': 1, 'seasonId': 20202021, 'shGoals': 0, 'shPoints': 0, 'shootingPct': 0.5, 'shootsCatches': 'L', 'shots': 2, 'skaterFullName': 'Nick Ritchie', 'teamAbbrevs': 'BOS', 'timeOnIcePerGame': 774.0}",
         "total": 217,
         "_deepnote_index_column": 12
        },
        {
         "data": "{'assists': 1, 'evGoals': 1, 'evPoints': 2, 'faceoffWinPct': 0.0, 'gameWinningGoals': 0, 'gamesPlayed': 2, 'goals': 1, 'lastName': 'Wilson', 'otGoals': 0, 'penaltyMinutes': 2, 'playerId': 8476880, 'plusMinus': -1, 'points': 2, 'pointsPerGame': 1.0, 'positionCode': 'R', 'ppGoals': 0, 'ppPoints': 0, 'seasonId': 20202021, 'shGoals': 0, 'shPoints': 0, 'shootingPct': 0.16666, 'shootsCatches': 'R', 'shots': 6, 'skaterFullName': 'Tom Wilson', 'teamAbbrevs': 'WSH', 'timeOnIcePerGame': 968.5}",
         "total": 217,
         "_deepnote_index_column": 13
        },
        {
         "data": "{'assists': 1, 'evGoals': 1, 'evPoints': 2, 'faceoffWinPct': None, 'gameWinningGoals': 0, 'gamesPlayed': 1, 'goals': 1, 'lastName': 'Tippett', 'otGoals': 0, 'penaltyMinutes': 0, 'playerId': 8480015, 'plusMinus': 2, 'points': 2, 'pointsPerGame': 2.0, 'positionCode': 'R', 'ppGoals': 0, 'ppPoints': 0, 'seasonId': 20202021, 'shGoals': 0, 'shPoints': 0, 'shootingPct': 0.5, 'shootsCatches': 'R', 'shots': 2, 'skaterFullName': 'Owen Tippett', 'teamAbbrevs': 'FLA', 'timeOnIcePerGame': 550.0}",
         "total": 217,
         "_deepnote_index_column": 14
        },
        {
         "data": "{'assists': 1, 'evGoals': 0, 'evPoints': 1, 'faceoffWinPct': 0.5, 'gameWinningGoals': 0, 'gamesPlayed': 1, 'goals': 1, 'lastName': 'Barkov', 'otGoals': 0, 'penaltyMinutes': 2, 'playerId': 8477493, 'plusMinus': -1, 'points': 2, 'pointsPerGame': 2.0, 'positionCode': 'C', 'ppGoals': 1, 'ppPoints': 1, 'seasonId': 20202021, 'shGoals': 0, 'shPoints': 0, 'shootingPct': 0.2, 'shootsCatches': 'L', 'shots': 5, 'skaterFullName': 'Aleksander Barkov', 'teamAbbrevs': 'FLA', 'timeOnIcePerGame': 1288.0}",
         "total": 217,
         "_deepnote_index_column": 15
        },
        {
         "data": "{'assists': 2, 'evGoals': 0, 'evPoints': 1, 'faceoffWinPct': None, 'gameWinningGoals': 0, 'gamesPlayed': 1, 'goals': 0, 'lastName': 'Yandle', 'otGoals': 0, 'penaltyMinutes': 0, 'playerId': 8471735, 'plusMinus': 0, 'points': 2, 'pointsPerGame': 2.0, 'positionCode': 'D', 'ppGoals': 0, 'ppPoints': 1, 'seasonId': 20202021, 'shGoals': 0, 'shPoints': 0, 'shootingPct': None, 'shootsCatches': 'L', 'shots': 0, 'skaterFullName': 'Keith Yandle', 'teamAbbrevs': 'FLA', 'timeOnIcePerGame': 970.0}",
         "total": 217,
         "_deepnote_index_column": 16
        },
        {
         "data": "{'assists': 2, 'evGoals': 0, 'evPoints': 1, 'faceoffWinPct': None, 'gameWinningGoals': 0, 'gamesPlayed': 2, 'goals': 0, 'lastName': 'Pastrnak', 'otGoals': 0, 'penaltyMinutes': 2, 'playerId': 8477956, 'plusMinus': 1, 'points': 2, 'pointsPerGame': 1.0, 'positionCode': 'R', 'ppGoals': 0, 'ppPoints': 1, 'seasonId': 20202021, 'shGoals': 0, 'shPoints': 0, 'shootingPct': 0.0, 'shootsCatches': 'R', 'shots': 10, 'skaterFullName': 'David Pastrnak', 'teamAbbrevs': 'BOS', 'timeOnIcePerGame': 1154.5}",
         "total": 217,
         "_deepnote_index_column": 17
        },
        {
         "data": "{'assists': 2, 'evGoals': 0, 'evPoints': 2, 'faceoffWinPct': None, 'gameWinningGoals': 0, 'gamesPlayed': 2, 'goals': 0, 'lastName': 'Grzelcyk', 'otGoals': 0, 'penaltyMinutes': 0, 'playerId': 8476891, 'plusMinus': -1, 'points': 2, 'pointsPerGame': 1.0, 'positionCode': 'D', 'ppGoals': 0, 'ppPoints': 0, 'seasonId': 20202021, 'shGoals': 0, 'shPoints': 0, 'shootingPct': 0.0, 'shootsCatches': 'L', 'shots': 6, 'skaterFullName': 'Matt Grzelcyk', 'teamAbbrevs': 'BOS', 'timeOnIcePerGame': 1421.0}",
         "total": 217,
         "_deepnote_index_column": 18
        },
        {
         "data": "{'assists': 2, 'evGoals': 0, 'evPoints': 0, 'faceoffWinPct': 0.33333, 'gameWinningGoals': 0, 'gamesPlayed': 1, 'goals': 0, 'lastName': 'Stamkos', 'otGoals': 0, 'penaltyMinutes': 0, 'playerId': 8474564, 'plusMinus': 0, 'points': 2, 'pointsPerGame': 2.0, 'positionCode': 'C', 'ppGoals': 0, 'ppPoints': 2, 'seasonId': 20202021, 'shGoals': 0, 'shPoints': 0, 'shootingPct': 0.0, 'shootsCatches': 'R', 'shots': 3, 'skaterFullName': 'Steven Stamkos', 'teamAbbrevs': 'TBL', 'timeOnIcePerGame': 996.0}",
         "total": 217,
         "_deepnote_index_column": 19
        },
        {
         "data": "{'assists': 2, 'evGoals': 0, 'evPoints': 2, 'faceoffWinPct': None, 'gameWinningGoals': 0, 'gamesPlayed': 2, 'goals': 0, 'lastName': 'Orlov', 'otGoals': 0, 'penaltyMinutes': 2, 'playerId': 8475200, 'plusMinus': 0, 'points': 2, 'pointsPerGame': 1.0, 'positionCode': 'D', 'ppGoals': 0, 'ppPoints': 0, 'seasonId': 20202021, 'shGoals': 0, 'shPoints': 0, 'shootingPct': 0.0, 'shootsCatches': 'L', 'shots': 4, 'skaterFullName': 'Dmitry Orlov', 'teamAbbrevs': 'WSH', 'timeOnIcePerGame': 1453.5}",
         "total": 217,
         "_deepnote_index_column": 20
        },
        {
         "data": "{'assists': 2, 'evGoals': 0, 'evPoints': 1, 'faceoffWinPct': None, 'gameWinningGoals': 0, 'gamesPlayed': 2, 'goals': 0, 'lastName': 'Ovechkin', 'otGoals': 0, 'penaltyMinutes': 0, 'playerId': 8471214, 'plusMinus': -1, 'points': 2, 'pointsPerGame': 1.0, 'positionCode': 'L', 'ppGoals': 0, 'ppPoints': 1, 'seasonId': 20202021, 'shGoals': 0, 'shPoints': 0, 'shootingPct': 0.0, 'shootsCatches': 'R', 'shots': 8, 'skaterFullName': 'Alex Ovechkin', 'teamAbbrevs': 'WSH', 'timeOnIcePerGame': 1066.5}",
         "total": 217,
         "_deepnote_index_column": 21
        },
        {
         "data": "{'assists': 2, 'evGoals': 0, 'evPoints': 1, 'faceoffWinPct': None, 'gameWinningGoals': 0, 'gamesPlayed': 1, 'goals': 0, 'lastName': 'McDonagh', 'otGoals': 0, 'penaltyMinutes': 2, 'playerId': 8474151, 'plusMinus': 1, 'points': 2, 'pointsPerGame': 2.0, 'positionCode': 'D', 'ppGoals': 0, 'ppPoints': 0, 'seasonId': 20202021, 'shGoals': 0, 'shPoints': 1, 'shootingPct': 0.0, 'shootsCatches': 'L', 'shots': 2, 'skaterFullName': 'Ryan McDonagh', 'teamAbbrevs': 'TBL', 'timeOnIcePerGame': 1255.0}",
         "total": 217,
         "_deepnote_index_column": 22
        },
        {
         "data": "{'assists': 2, 'evGoals': 0, 'evPoints': 2, 'faceoffWinPct': 0.2, 'gameWinningGoals': 0, 'gamesPlayed': 1, 'goals': 0, 'lastName': 'Bennett', 'otGoals': 0, 'penaltyMinutes': 4, 'playerId': 8477935, 'plusMinus': 1, 'points': 2, 'pointsPerGame': 2.0, 'positionCode': 'C', 'ppGoals': 0, 'ppPoints': 0, 'seasonId': 20202021, 'shGoals': 0, 'shPoints': 0, 'shootingPct': 0.0, 'shootsCatches': 'L', 'shots': 4, 'skaterFullName': 'Sam Bennett', 'teamAbbrevs': 'FLA', 'timeOnIcePerGame': 1258.0}",
         "total": 217,
         "_deepnote_index_column": 23
        },
        {
         "data": "{'assists': 2, 'evGoals': 0, 'evPoints': 1, 'faceoffWinPct': 1.0, 'gameWinningGoals': 0, 'gamesPlayed': 1, 'goals': 0, 'lastName': 'Rantanen', 'otGoals': 0, 'penaltyMinutes': 0, 'playerId': 8478420, 'plusMinus': 2, 'points': 2, 'pointsPerGame': 2.0, 'positionCode': 'R', 'ppGoals': 0, 'ppPoints': 1, 'seasonId': 20202021, 'shGoals': 0, 'shPoints': 0, 'shootingPct': 0.0, 'shootsCatches': 'L', 'shots': 6, 'skaterFullName': 'Mikko Rantanen', 'teamAbbrevs': 'COL', 'timeOnIcePerGame': 1283.0}",
         "total": 217,
         "_deepnote_index_column": 24
        },
        {
         "data": "{'assists': 2, 'evGoals': 0, 'evPoints': 2, 'faceoffWinPct': None, 'gameWinningGoals': 0, 'gamesPlayed': 1, 'goals': 0, 'lastName': 'Pesce', 'otGoals': 0, 'penaltyMinutes': 0, 'playerId': 8477488, 'plusMinus': 3, 'points': 2, 'pointsPerGame': 2.0, 'positionCode': 'D', 'ppGoals': 0, 'ppPoints': 0, 'seasonId': 20202021, 'shGoals': 0, 'shPoints': 0, 'shootingPct': 0.0, 'shootsCatches': 'R', 'shots': 3, 'skaterFullName': 'Brett Pesce', 'teamAbbrevs': 'CAR', 'timeOnIcePerGame': 1281.0}",
         "total": 217,
         "_deepnote_index_column": 25
        },
        {
         "data": "{'assists': 0, 'evGoals': 1, 'evPoints': 1, 'faceoffWinPct': None, 'gameWinningGoals': 0, 'gamesPlayed': 2, 'goals': 1, 'lastName': 'Dillon', 'otGoals': 0, 'penaltyMinutes': 0, 'playerId': 8475455, 'plusMinus': -1, 'points': 1, 'pointsPerGame': 0.5, 'positionCode': 'D', 'ppGoals': 0, 'ppPoints': 0, 'seasonId': 20202021, 'shGoals': 0, 'shPoints': 0, 'shootingPct': 0.25, 'shootsCatches': 'L', 'shots': 4, 'skaterFullName': 'Brenden Dillon', 'teamAbbrevs': 'WSH', 'timeOnIcePerGame': 1210.5}",
         "total": 217,
         "_deepnote_index_column": 26
        },
        {
         "data": "{'assists': 0, 'evGoals': 1, 'evPoints': 1, 'faceoffWinPct': 0.33333, 'gameWinningGoals': 0, 'gamesPlayed': 1, 'goals': 1, 'lastName': 'Nelson', 'otGoals': 0, 'penaltyMinutes': 0, 'playerId': 8475754, 'plusMinus': -1, 'points': 1, 'pointsPerGame': 1.0, 'positionCode': 'C', 'ppGoals': 0, 'ppPoints': 0, 'seasonId': 20202021, 'shGoals': 0, 'shPoints': 0, 'shootingPct': 0.5, 'shootsCatches': 'L', 'shots': 2, 'skaterFullName': 'Brock Nelson', 'teamAbbrevs': 'NYI', 'timeOnIcePerGame': 1111.0}",
         "total": 217,
         "_deepnote_index_column": 27
        },
        {
         "data": "{'assists': 0, 'evGoals': 1, 'evPoints': 1, 'faceoffWinPct': None, 'gameWinningGoals': 0, 'gamesPlayed': 1, 'goals': 1, 'lastName': 'Kyrou', 'otGoals': 0, 'penaltyMinutes': 0, 'playerId': 8479385, 'plusMinus': 1, 'points': 1, 'pointsPerGame': 1.0, 'positionCode': 'C', 'ppGoals': 0, 'ppPoints': 0, 'seasonId': 20202021, 'shGoals': 0, 'shPoints': 0, 'shootingPct': 0.33333, 'shootsCatches': 'R', 'shots': 3, 'skaterFullName': 'Jordan Kyrou', 'teamAbbrevs': 'STL', 'timeOnIcePerGame': 812.0}",
         "total": 217,
         "_deepnote_index_column": 28
        },
        {
         "data": "{'assists': 0, 'evGoals': 1, 'evPoints': 1, 'faceoffWinPct': None, 'gameWinningGoals': 0, 'gamesPlayed': 1, 'goals': 1, 'lastName': 'Forsberg', 'otGoals': 0, 'penaltyMinutes': 2, 'playerId': 8476887, 'plusMinus': -1, 'points': 1, 'pointsPerGame': 1.0, 'positionCode': 'L', 'ppGoals': 0, 'ppPoints': 0, 'seasonId': 20202021, 'shGoals': 0, 'shPoints': 0, 'shootingPct': 0.5, 'shootsCatches': 'R', 'shots': 2, 'skaterFullName': 'Filip Forsberg', 'teamAbbrevs': 'NSH', 'timeOnIcePerGame': 998.0}",
         "total": 217,
         "_deepnote_index_column": 29
        },
        {
         "data": "{'assists': 0, 'evGoals': 1, 'evPoints': 1, 'faceoffWinPct': 0.62745, 'gameWinningGoals': 0, 'gamesPlayed': 2, 'goals': 1, 'lastName': 'Bergeron', 'otGoals': 0, 'penaltyMinutes': 0, 'playerId': 8470638, 'plusMinus': 0, 'points': 1, 'pointsPerGame': 0.5, 'positionCode': 'C', 'ppGoals': 0, 'ppPoints': 0, 'seasonId': 20202021, 'shGoals': 0, 'shPoints': 0, 'shootingPct': 0.16666, 'shootsCatches': 'R', 'shots': 6, 'skaterFullName': 'Patrice Bergeron', 'teamAbbrevs': 'BOS', 'timeOnIcePerGame': 1198.5}",
         "total": 217,
         "_deepnote_index_column": 30
        },
        {
         "data": "{'assists': 0, 'evGoals': 1, 'evPoints': 1, 'faceoffWinPct': 0.35714, 'gameWinningGoals': 0, 'gamesPlayed': 1, 'goals': 1, 'lastName': 'Gaudreau', 'otGoals': 0, 'penaltyMinutes': 0, 'playerId': 8477919, 'plusMinus': 1, 'points': 1, 'pointsPerGame': 1.0, 'positionCode': 'C', 'ppGoals': 0, 'ppPoints': 0, 'seasonId': 20202021, 'shGoals': 0, 'shPoints': 0, 'shootingPct': 0.25, 'shootsCatches': 'R', 'shots': 4, 'skaterFullName': 'Frederick Gaudreau', 'teamAbbrevs': 'PIT', 'timeOnIcePerGame': 740.0}",
         "total": 217,
         "_deepnote_index_column": 31
        },
        {
         "data": "{'assists': 0, 'evGoals': 1, 'evPoints': 1, 'faceoffWinPct': 0.5, 'gameWinningGoals': 1, 'gamesPlayed': 2, 'goals': 1, 'lastName': 'Marchand', 'otGoals': 1, 'penaltyMinutes': 4, 'playerId': 8473419, 'plusMinus': 1, 'points': 1, 'pointsPerGame': 0.5, 'positionCode': 'L', 'ppGoals': 0, 'ppPoints': 0, 'seasonId': 20202021, 'shGoals': 0, 'shPoints': 0, 'shootingPct': 0.16666, 'shootsCatches': 'L', 'shots': 6, 'skaterFullName': 'Brad Marchand', 'teamAbbrevs': 'BOS', 'timeOnIcePerGame': 1264.5}",
         "total": 217,
         "_deepnote_index_column": 32
        },
        {
         "data": "{'assists': 0, 'evGoals': 1, 'evPoints': 1, 'faceoffWinPct': 0.57142, 'gameWinningGoals': 0, 'gamesPlayed': 1, 'goals': 1, 'lastName': 'Crosby', 'otGoals': 0, 'penaltyMinutes': 0, 'playerId': 8471675, 'plusMinus': 1, 'points': 1, 'pointsPerGame': 1.0, 'positionCode': 'C', 'ppGoals': 0, 'ppPoints': 0, 'seasonId': 20202021, 'shGoals': 0, 'shPoints': 0, 'shootingPct': 0.2, 'shootsCatches': 'L', 'shots': 5, 'skaterFullName': 'Sidney Crosby', 'teamAbbrevs': 'PIT', 'timeOnIcePerGame': 1520.0}",
         "total": 217,
         "_deepnote_index_column": 33
        },
        {
         "data": "{'assists': 0, 'evGoals': 1, 'evPoints': 1, 'faceoffWinPct': 0.66666, 'gameWinningGoals': 0, 'gamesPlayed': 2, 'goals': 1, 'lastName': 'Hall', 'otGoals': 0, 'penaltyMinutes': 2, 'playerId': 8475791, 'plusMinus': -2, 'points': 1, 'pointsPerGame': 0.5, 'positionCode': 'L', 'ppGoals': 0, 'ppPoints': 0, 'seasonId': 20202021, 'shGoals': 0, 'shPoints': 0, 'shootingPct': 0.11111, 'shootsCatches': 'L', 'shots': 9, 'skaterFullName': 'Taylor Hall', 'teamAbbrevs': 'BOS', 'timeOnIcePerGame': 1044.5}",
         "total": 217,
         "_deepnote_index_column": 34
        },
        {
         "data": "{'assists': 0, 'evGoals': 1, 'evPoints': 1, 'faceoffWinPct': 0.38888, 'gameWinningGoals': 1, 'gamesPlayed': 1, 'goals': 1, 'lastName': 'Eriksson Ek', 'otGoals': 1, 'penaltyMinutes': 0, 'playerId': 8478493, 'plusMinus': 1, 'points': 1, 'pointsPerGame': 1.0, 'positionCode': 'C', 'ppGoals': 0, 'ppPoints': 0, 'seasonId': 20202021, 'shGoals': 0, 'shPoints': 0, 'shootingPct': 0.25, 'shootsCatches': 'L', 'shots': 4, 'skaterFullName': 'Joel Eriksson Ek', 'teamAbbrevs': 'MIN', 'timeOnIcePerGame': 1159.0}",
         "total": 217,
         "_deepnote_index_column": 35
        },
        {
         "data": "{'assists': 0, 'evGoals': 0, 'evPoints': 0, 'faceoffWinPct': 1.0, 'gameWinningGoals': 0, 'gamesPlayed': 1, 'goals': 1, 'lastName': 'Coleman', 'otGoals': 0, 'penaltyMinutes': 4, 'playerId': 8476399, 'plusMinus': 0, 'points': 1, 'pointsPerGame': 1.0, 'positionCode': 'C', 'ppGoals': 0, 'ppPoints': 0, 'seasonId': 20202021, 'shGoals': 1, 'shPoints': 1, 'shootingPct': 0.5, 'shootsCatches': 'L', 'shots': 2, 'skaterFullName': 'Blake Coleman', 'teamAbbrevs': 'TBL', 'timeOnIcePerGame': 915.0}",
         "total": 217,
         "_deepnote_index_column": 36
        },
        {
         "data": "{'assists': 0, 'evGoals': 1, 'evPoints': 1, 'faceoffWinPct': 0.0, 'gameWinningGoals': 0, 'gamesPlayed': 1, 'goals': 1, 'lastName': 'Verhaeghe', 'otGoals': 0, 'penaltyMinutes': 0, 'playerId': 8477409, 'plusMinus': 0, 'points': 1, 'pointsPerGame': 1.0, 'positionCode': 'C', 'ppGoals': 0, 'ppPoints': 0, 'seasonId': 20202021, 'shGoals': 0, 'shPoints': 0, 'shootingPct': 0.5, 'shootsCatches': 'L', 'shots': 2, 'skaterFullName': 'Carter Verhaeghe', 'teamAbbrevs': 'FLA', 'timeOnIcePerGame': 986.0}",
         "total": 217,
         "_deepnote_index_column": 37
        },
        {
         "data": "{'assists': 0, 'evGoals': 1, 'evPoints': 1, 'faceoffWinPct': 0.53333, 'gameWinningGoals': 0, 'gamesPlayed': 1, 'goals': 1, 'lastName': 'Haula', 'otGoals': 0, 'penaltyMinutes': 0, 'playerId': 8475287, 'plusMinus': 0, 'points': 1, 'pointsPerGame': 1.0, 'positionCode': 'L', 'ppGoals': 0, 'ppPoints': 0, 'seasonId': 20202021, 'shGoals': 0, 'shPoints': 0, 'shootingPct': 0.5, 'shootsCatches': 'L', 'shots': 2, 'skaterFullName': 'Erik Haula', 'teamAbbrevs': 'NSH', 'timeOnIcePerGame': 929.0}",
         "total": 217,
         "_deepnote_index_column": 38
        },
        {
         "data": "{'assists': 0, 'evGoals': 1, 'evPoints': 1, 'faceoffWinPct': None, 'gameWinningGoals': 0, 'gamesPlayed': 1, 'goals': 1, 'lastName': 'Svechnikov', 'otGoals': 0, 'penaltyMinutes': 0, 'playerId': 8480830, 'plusMinus': 0, 'points': 1, 'pointsPerGame': 1.0, 'positionCode': 'R', 'ppGoals': 0, 'ppPoints': 0, 'seasonId': 20202021, 'shGoals': 0, 'shPoints': 0, 'shootingPct': 0.125, 'shootsCatches': 'L', 'shots': 8, 'skaterFullName': 'Andrei Svechnikov', 'teamAbbrevs': 'CAR', 'timeOnIcePerGame': 894.0}",
         "total": 217,
         "_deepnote_index_column": 39
        },
        {
         "data": "{'assists': 0, 'evGoals': 0, 'evPoints': 0, 'faceoffWinPct': None, 'gameWinningGoals': 0, 'gamesPlayed': 1, 'goals': 1, 'lastName': 'Makar', 'otGoals': 0, 'penaltyMinutes': 0, 'playerId': 8480069, 'plusMinus': 0, 'points': 1, 'pointsPerGame': 1.0, 'positionCode': 'D', 'ppGoals': 1, 'ppPoints': 1, 'seasonId': 20202021, 'shGoals': 0, 'shPoints': 0, 'shootingPct': 0.33333, 'shootsCatches': 'R', 'shots': 3, 'skaterFullName': 'Cale Makar', 'teamAbbrevs': 'COL', 'timeOnIcePerGame': 1441.0}",
         "total": 217,
         "_deepnote_index_column": 40
        },
        {
         "data": "{'assists': 0, 'evGoals': 1, 'evPoints': 1, 'faceoffWinPct': 0.0, 'gameWinningGoals': 1, 'gamesPlayed': 1, 'goals': 1, 'lastName': 'Niederreiter', 'otGoals': 0, 'penaltyMinutes': 2, 'playerId': 8475799, 'plusMinus': 0, 'points': 1, 'pointsPerGame': 1.0, 'positionCode': 'R', 'ppGoals': 0, 'ppPoints': 0, 'seasonId': 20202021, 'shGoals': 0, 'shPoints': 0, 'shootingPct': 1.0, 'shootsCatches': 'L', 'shots': 1, 'skaterFullName': 'Nino Niederreiter', 'teamAbbrevs': 'CAR', 'timeOnIcePerGame': 848.0}",
         "total": 217,
         "_deepnote_index_column": 41
        },
        {
         "data": "{'assists': 0, 'evGoals': 1, 'evPoints': 1, 'faceoffWinPct': 1.0, 'gameWinningGoals': 0, 'gamesPlayed': 1, 'goals': 1, 'lastName': 'Teravainen', 'otGoals': 0, 'penaltyMinutes': 12, 'playerId': 8476882, 'plusMinus': 2, 'points': 1, 'pointsPerGame': 1.0, 'positionCode': 'L', 'ppGoals': 0, 'ppPoints': 0, 'seasonId': 20202021, 'shGoals': 0, 'shPoints': 0, 'shootingPct': 0.33333, 'shootsCatches': 'L', 'shots': 3, 'skaterFullName': 'Teuvo Teravainen', 'teamAbbrevs': 'CAR', 'timeOnIcePerGame': 1080.0}",
         "total": 217,
         "_deepnote_index_column": 42
        },
        {
         "data": "{'assists': 0, 'evGoals': 1, 'evPoints': 1, 'faceoffWinPct': None, 'gameWinningGoals': 0, 'gamesPlayed': 1, 'goals': 1, 'lastName': 'Kapanen', 'otGoals': 0, 'penaltyMinutes': 0, 'playerId': 8477953, 'plusMinus': -1, 'points': 1, 'pointsPerGame': 1.0, 'positionCode': 'R', 'ppGoals': 0, 'ppPoints': 0, 'seasonId': 20202021, 'shGoals': 0, 'shPoints': 0, 'shootingPct': 0.5, 'shootsCatches': 'R', 'shots': 2, 'skaterFullName': 'Kasperi Kapanen', 'teamAbbrevs': 'PIT', 'timeOnIcePerGame': 1178.0}",
         "total": 217,
         "_deepnote_index_column": 43
        },
        {
         "data": "{'assists': 0, 'evGoals': 1, 'evPoints': 1, 'faceoffWinPct': 0.39473, 'gameWinningGoals': 1, 'gamesPlayed': 2, 'goals': 1, 'lastName': 'Dowd', 'otGoals': 1, 'penaltyMinutes': 2, 'playerId': 8475343, 'plusMinus': 1, 'points': 1, 'pointsPerGame': 0.5, 'positionCode': 'C', 'ppGoals': 0, 'ppPoints': 0, 'seasonId': 20202021, 'shGoals': 0, 'shPoints': 0, 'shootingPct': 0.33333, 'shootsCatches': 'R', 'shots': 3, 'skaterFullName': 'Nic Dowd', 'teamAbbrevs': 'WSH', 'timeOnIcePerGame': 1003.0}",
         "total": 217,
         "_deepnote_index_column": 44
        },
        {
         "data": "{'assists': 1, 'evGoals': 0, 'evPoints': 1, 'faceoffWinPct': 0.5, 'gameWinningGoals': 0, 'gamesPlayed': 1, 'goals': 0, 'lastName': 'Thomas', 'otGoals': 0, 'penaltyMinutes': 0, 'playerId': 8480023, 'plusMinus': 1, 'points': 1, 'pointsPerGame': 1.0, 'positionCode': 'C', 'ppGoals': 0, 'ppPoints': 0, 'seasonId': 20202021, 'shGoals': 0, 'shPoints': 0, 'shootingPct': 0.0, 'shootsCatches': 'R', 'shots': 1, 'skaterFullName': 'Robert Thomas', 'teamAbbrevs': 'STL', 'timeOnIcePerGame': 880.0}",
         "total": 217,
         "_deepnote_index_column": 45
        },
        {
         "data": "{'assists': 1, 'evGoals': 0, 'evPoints': 1, 'faceoffWinPct': None, 'gameWinningGoals': 0, 'gamesPlayed': 1, 'goals': 0, 'lastName': 'Mayfield', 'otGoals': 0, 'penaltyMinutes': 0, 'playerId': 8476429, 'plusMinus': 1, 'points': 1, 'pointsPerGame': 1.0, 'positionCode': 'D', 'ppGoals': 0, 'ppPoints': 0, 'seasonId': 20202021, 'shGoals': 0, 'shPoints': 0, 'shootingPct': 0.0, 'shootsCatches': 'R', 'shots': 3, 'skaterFullName': 'Scott Mayfield', 'teamAbbrevs': 'NYI', 'timeOnIcePerGame': 1543.0}",
         "total": 217,
         "_deepnote_index_column": 46
        },
        {
         "data": "{'assists': 1, 'evGoals': 0, 'evPoints': 1, 'faceoffWinPct': None, 'gameWinningGoals': 0, 'gamesPlayed': 1, 'goals': 0, 'lastName': 'Ceci', 'otGoals': 0, 'penaltyMinutes': 0, 'playerId': 8476879, 'plusMinus': 1, 'points': 1, 'pointsPerGame': 1.0, 'positionCode': 'D', 'ppGoals': 0, 'ppPoints': 0, 'seasonId': 20202021, 'shGoals': 0, 'shPoints': 0, 'shootingPct': 0.0, 'shootsCatches': 'R', 'shots': 3, 'skaterFullName': 'Cody Ceci', 'teamAbbrevs': 'PIT', 'timeOnIcePerGame': 1589.0}",
         "total": 217,
         "_deepnote_index_column": 47
        },
        {
         "data": "{'assists': 1, 'evGoals': 0, 'evPoints': 1, 'faceoffWinPct': 0.0, 'gameWinningGoals': 0, 'gamesPlayed': 2, 'goals': 0, 'lastName': 'Smith', 'otGoals': 0, 'penaltyMinutes': 2, 'playerId': 8475225, 'plusMinus': -1, 'points': 1, 'pointsPerGame': 0.5, 'positionCode': 'C', 'ppGoals': 0, 'ppPoints': 0, 'seasonId': 20202021, 'shGoals': 0, 'shPoints': 0, 'shootingPct': 0.0, 'shootsCatches': 'R', 'shots': 4, 'skaterFullName': 'Craig Smith', 'teamAbbrevs': 'BOS', 'timeOnIcePerGame': 1030.0}",
         "total": 217,
         "_deepnote_index_column": 48
        },
        {
         "data": "{'assists': 1, 'evGoals': 0, 'evPoints': 1, 'faceoffWinPct': None, 'gameWinningGoals': 0, 'gamesPlayed': 1, 'goals': 0, 'lastName': 'Rodrigues', 'otGoals': 0, 'penaltyMinutes': 0, 'playerId': 8478542, 'plusMinus': 1, 'points': 1, 'pointsPerGame': 1.0, 'positionCode': 'C', 'ppGoals': 0, 'ppPoints': 0, 'seasonId': 20202021, 'shGoals': 0, 'shPoints': 0, 'shootingPct': None, 'shootsCatches': 'R', 'shots': 0, 'skaterFullName': 'Evan Rodrigues', 'teamAbbrevs': 'PIT', 'timeOnIcePerGame': 737.0}",
         "total": 217,
         "_deepnote_index_column": 49
        }
       ],
       "rows_bottom": null
      },
      "text/plain": "                                                 data  total\n0   {'assists': 1, 'evGoals': 0, 'evPoints': 0, 'f...    217\n1   {'assists': 1, 'evGoals': 2, 'evPoints': 3, 'f...    217\n2   {'assists': 2, 'evGoals': 1, 'evPoints': 3, 'f...    217\n3   {'assists': 2, 'evGoals': 0, 'evPoints': 2, 'f...    217\n4   {'assists': 2, 'evGoals': 1, 'evPoints': 3, 'f...    217\n5   {'assists': 2, 'evGoals': 1, 'evPoints': 2, 'f...    217\n6   {'assists': 3, 'evGoals': 0, 'evPoints': 0, 'f...    217\n7   {'assists': 0, 'evGoals': 2, 'evPoints': 2, 'f...    217\n8   {'assists': 0, 'evGoals': 1, 'evPoints': 1, 'f...    217\n9   {'assists': 0, 'evGoals': 2, 'evPoints': 2, 'f...    217\n10  {'assists': 0, 'evGoals': 2, 'evPoints': 2, 'f...    217\n11  {'assists': 0, 'evGoals': 2, 'evPoints': 2, 'f...    217\n12  {'assists': 1, 'evGoals': 0, 'evPoints': 1, 'f...    217\n13  {'assists': 1, 'evGoals': 1, 'evPoints': 2, 'f...    217\n14  {'assists': 1, 'evGoals': 1, 'evPoints': 2, 'f...    217\n15  {'assists': 1, 'evGoals': 0, 'evPoints': 1, 'f...    217\n16  {'assists': 2, 'evGoals': 0, 'evPoints': 1, 'f...    217\n17  {'assists': 2, 'evGoals': 0, 'evPoints': 1, 'f...    217\n18  {'assists': 2, 'evGoals': 0, 'evPoints': 2, 'f...    217\n19  {'assists': 2, 'evGoals': 0, 'evPoints': 0, 'f...    217\n20  {'assists': 2, 'evGoals': 0, 'evPoints': 2, 'f...    217\n21  {'assists': 2, 'evGoals': 0, 'evPoints': 1, 'f...    217\n22  {'assists': 2, 'evGoals': 0, 'evPoints': 1, 'f...    217\n23  {'assists': 2, 'evGoals': 0, 'evPoints': 2, 'f...    217\n24  {'assists': 2, 'evGoals': 0, 'evPoints': 1, 'f...    217\n25  {'assists': 2, 'evGoals': 0, 'evPoints': 2, 'f...    217\n26  {'assists': 0, 'evGoals': 1, 'evPoints': 1, 'f...    217\n27  {'assists': 0, 'evGoals': 1, 'evPoints': 1, 'f...    217\n28  {'assists': 0, 'evGoals': 1, 'evPoints': 1, 'f...    217\n29  {'assists': 0, 'evGoals': 1, 'evPoints': 1, 'f...    217\n30  {'assists': 0, 'evGoals': 1, 'evPoints': 1, 'f...    217\n31  {'assists': 0, 'evGoals': 1, 'evPoints': 1, 'f...    217\n32  {'assists': 0, 'evGoals': 1, 'evPoints': 1, 'f...    217\n33  {'assists': 0, 'evGoals': 1, 'evPoints': 1, 'f...    217\n34  {'assists': 0, 'evGoals': 1, 'evPoints': 1, 'f...    217\n35  {'assists': 0, 'evGoals': 1, 'evPoints': 1, 'f...    217\n36  {'assists': 0, 'evGoals': 0, 'evPoints': 0, 'f...    217\n37  {'assists': 0, 'evGoals': 1, 'evPoints': 1, 'f...    217\n38  {'assists': 0, 'evGoals': 1, 'evPoints': 1, 'f...    217\n39  {'assists': 0, 'evGoals': 1, 'evPoints': 1, 'f...    217\n40  {'assists': 0, 'evGoals': 0, 'evPoints': 0, 'f...    217\n41  {'assists': 0, 'evGoals': 1, 'evPoints': 1, 'f...    217\n42  {'assists': 0, 'evGoals': 1, 'evPoints': 1, 'f...    217\n43  {'assists': 0, 'evGoals': 1, 'evPoints': 1, 'f...    217\n44  {'assists': 0, 'evGoals': 1, 'evPoints': 1, 'f...    217\n45  {'assists': 1, 'evGoals': 0, 'evPoints': 1, 'f...    217\n46  {'assists': 1, 'evGoals': 0, 'evPoints': 1, 'f...    217\n47  {'assists': 1, 'evGoals': 0, 'evPoints': 1, 'f...    217\n48  {'assists': 1, 'evGoals': 0, 'evPoints': 1, 'f...    217\n49  {'assists': 1, 'evGoals': 0, 'evPoints': 1, 'f...    217",
      "text/html": "<div>\n<style scoped>\n    .dataframe tbody tr th:only-of-type {\n        vertical-align: middle;\n    }\n\n    .dataframe tbody tr th {\n        vertical-align: top;\n    }\n\n    .dataframe thead th {\n        text-align: right;\n    }\n</style>\n<table border=\"1\" class=\"dataframe\">\n  <thead>\n    <tr style=\"text-align: right;\">\n      <th></th>\n      <th>data</th>\n      <th>total</th>\n    </tr>\n  </thead>\n  <tbody>\n    <tr>\n      <th>0</th>\n      <td>{'assists': 1, 'evGoals': 0, 'evPoints': 0, 'f...</td>\n      <td>217</td>\n    </tr>\n    <tr>\n      <th>1</th>\n      <td>{'assists': 1, 'evGoals': 2, 'evPoints': 3, 'f...</td>\n      <td>217</td>\n    </tr>\n    <tr>\n      <th>2</th>\n      <td>{'assists': 2, 'evGoals': 1, 'evPoints': 3, 'f...</td>\n      <td>217</td>\n    </tr>\n    <tr>\n      <th>3</th>\n      <td>{'assists': 2, 'evGoals': 0, 'evPoints': 2, 'f...</td>\n      <td>217</td>\n    </tr>\n    <tr>\n      <th>4</th>\n      <td>{'assists': 2, 'evGoals': 1, 'evPoints': 3, 'f...</td>\n      <td>217</td>\n    </tr>\n    <tr>\n      <th>5</th>\n      <td>{'assists': 2, 'evGoals': 1, 'evPoints': 2, 'f...</td>\n      <td>217</td>\n    </tr>\n    <tr>\n      <th>6</th>\n      <td>{'assists': 3, 'evGoals': 0, 'evPoints': 0, 'f...</td>\n      <td>217</td>\n    </tr>\n    <tr>\n      <th>7</th>\n      <td>{'assists': 0, 'evGoals': 2, 'evPoints': 2, 'f...</td>\n      <td>217</td>\n    </tr>\n    <tr>\n      <th>8</th>\n      <td>{'assists': 0, 'evGoals': 1, 'evPoints': 1, 'f...</td>\n      <td>217</td>\n    </tr>\n    <tr>\n      <th>9</th>\n      <td>{'assists': 0, 'evGoals': 2, 'evPoints': 2, 'f...</td>\n      <td>217</td>\n    </tr>\n    <tr>\n      <th>10</th>\n      <td>{'assists': 0, 'evGoals': 2, 'evPoints': 2, 'f...</td>\n      <td>217</td>\n    </tr>\n    <tr>\n      <th>11</th>\n      <td>{'assists': 0, 'evGoals': 2, 'evPoints': 2, 'f...</td>\n      <td>217</td>\n    </tr>\n    <tr>\n      <th>12</th>\n      <td>{'assists': 1, 'evGoals': 0, 'evPoints': 1, 'f...</td>\n      <td>217</td>\n    </tr>\n    <tr>\n      <th>13</th>\n      <td>{'assists': 1, 'evGoals': 1, 'evPoints': 2, 'f...</td>\n      <td>217</td>\n    </tr>\n    <tr>\n      <th>14</th>\n      <td>{'assists': 1, 'evGoals': 1, 'evPoints': 2, 'f...</td>\n      <td>217</td>\n    </tr>\n    <tr>\n      <th>15</th>\n      <td>{'assists': 1, 'evGoals': 0, 'evPoints': 1, 'f...</td>\n      <td>217</td>\n    </tr>\n    <tr>\n      <th>16</th>\n      <td>{'assists': 2, 'evGoals': 0, 'evPoints': 1, 'f...</td>\n      <td>217</td>\n    </tr>\n    <tr>\n      <th>17</th>\n      <td>{'assists': 2, 'evGoals': 0, 'evPoints': 1, 'f...</td>\n      <td>217</td>\n    </tr>\n    <tr>\n      <th>18</th>\n      <td>{'assists': 2, 'evGoals': 0, 'evPoints': 2, 'f...</td>\n      <td>217</td>\n    </tr>\n    <tr>\n      <th>19</th>\n      <td>{'assists': 2, 'evGoals': 0, 'evPoints': 0, 'f...</td>\n      <td>217</td>\n    </tr>\n    <tr>\n      <th>20</th>\n      <td>{'assists': 2, 'evGoals': 0, 'evPoints': 2, 'f...</td>\n      <td>217</td>\n    </tr>\n    <tr>\n      <th>21</th>\n      <td>{'assists': 2, 'evGoals': 0, 'evPoints': 1, 'f...</td>\n      <td>217</td>\n    </tr>\n    <tr>\n      <th>22</th>\n      <td>{'assists': 2, 'evGoals': 0, 'evPoints': 1, 'f...</td>\n      <td>217</td>\n    </tr>\n    <tr>\n      <th>23</th>\n      <td>{'assists': 2, 'evGoals': 0, 'evPoints': 2, 'f...</td>\n      <td>217</td>\n    </tr>\n    <tr>\n      <th>24</th>\n      <td>{'assists': 2, 'evGoals': 0, 'evPoints': 1, 'f...</td>\n      <td>217</td>\n    </tr>\n    <tr>\n      <th>25</th>\n      <td>{'assists': 2, 'evGoals': 0, 'evPoints': 2, 'f...</td>\n      <td>217</td>\n    </tr>\n    <tr>\n      <th>26</th>\n      <td>{'assists': 0, 'evGoals': 1, 'evPoints': 1, 'f...</td>\n      <td>217</td>\n    </tr>\n    <tr>\n      <th>27</th>\n      <td>{'assists': 0, 'evGoals': 1, 'evPoints': 1, 'f...</td>\n      <td>217</td>\n    </tr>\n    <tr>\n      <th>28</th>\n      <td>{'assists': 0, 'evGoals': 1, 'evPoints': 1, 'f...</td>\n      <td>217</td>\n    </tr>\n    <tr>\n      <th>29</th>\n      <td>{'assists': 0, 'evGoals': 1, 'evPoints': 1, 'f...</td>\n      <td>217</td>\n    </tr>\n    <tr>\n      <th>30</th>\n      <td>{'assists': 0, 'evGoals': 1, 'evPoints': 1, 'f...</td>\n      <td>217</td>\n    </tr>\n    <tr>\n      <th>31</th>\n      <td>{'assists': 0, 'evGoals': 1, 'evPoints': 1, 'f...</td>\n      <td>217</td>\n    </tr>\n    <tr>\n      <th>32</th>\n      <td>{'assists': 0, 'evGoals': 1, 'evPoints': 1, 'f...</td>\n      <td>217</td>\n    </tr>\n    <tr>\n      <th>33</th>\n      <td>{'assists': 0, 'evGoals': 1, 'evPoints': 1, 'f...</td>\n      <td>217</td>\n    </tr>\n    <tr>\n      <th>34</th>\n      <td>{'assists': 0, 'evGoals': 1, 'evPoints': 1, 'f...</td>\n      <td>217</td>\n    </tr>\n    <tr>\n      <th>35</th>\n      <td>{'assists': 0, 'evGoals': 1, 'evPoints': 1, 'f...</td>\n      <td>217</td>\n    </tr>\n    <tr>\n      <th>36</th>\n      <td>{'assists': 0, 'evGoals': 0, 'evPoints': 0, 'f...</td>\n      <td>217</td>\n    </tr>\n    <tr>\n      <th>37</th>\n      <td>{'assists': 0, 'evGoals': 1, 'evPoints': 1, 'f...</td>\n      <td>217</td>\n    </tr>\n    <tr>\n      <th>38</th>\n      <td>{'assists': 0, 'evGoals': 1, 'evPoints': 1, 'f...</td>\n      <td>217</td>\n    </tr>\n    <tr>\n      <th>39</th>\n      <td>{'assists': 0, 'evGoals': 1, 'evPoints': 1, 'f...</td>\n      <td>217</td>\n    </tr>\n    <tr>\n      <th>40</th>\n      <td>{'assists': 0, 'evGoals': 0, 'evPoints': 0, 'f...</td>\n      <td>217</td>\n    </tr>\n    <tr>\n      <th>41</th>\n      <td>{'assists': 0, 'evGoals': 1, 'evPoints': 1, 'f...</td>\n      <td>217</td>\n    </tr>\n    <tr>\n      <th>42</th>\n      <td>{'assists': 0, 'evGoals': 1, 'evPoints': 1, 'f...</td>\n      <td>217</td>\n    </tr>\n    <tr>\n      <th>43</th>\n      <td>{'assists': 0, 'evGoals': 1, 'evPoints': 1, 'f...</td>\n      <td>217</td>\n    </tr>\n    <tr>\n      <th>44</th>\n      <td>{'assists': 0, 'evGoals': 1, 'evPoints': 1, 'f...</td>\n      <td>217</td>\n    </tr>\n    <tr>\n      <th>45</th>\n      <td>{'assists': 1, 'evGoals': 0, 'evPoints': 1, 'f...</td>\n      <td>217</td>\n    </tr>\n    <tr>\n      <th>46</th>\n      <td>{'assists': 1, 'evGoals': 0, 'evPoints': 1, 'f...</td>\n      <td>217</td>\n    </tr>\n    <tr>\n      <th>47</th>\n      <td>{'assists': 1, 'evGoals': 0, 'evPoints': 1, 'f...</td>\n      <td>217</td>\n    </tr>\n    <tr>\n      <th>48</th>\n      <td>{'assists': 1, 'evGoals': 0, 'evPoints': 1, 'f...</td>\n      <td>217</td>\n    </tr>\n    <tr>\n      <th>49</th>\n      <td>{'assists': 1, 'evGoals': 0, 'evPoints': 1, 'f...</td>\n      <td>217</td>\n    </tr>\n  </tbody>\n</table>\n</div>"
     },
     "metadata": {}
    }
   ],
   "execution_count": null
  },
  {
   "cell_type": "markdown",
   "source": "<a style='text-decoration:none;line-height:16px;display:flex;color:#5B5B62;padding:10px;justify-content:end;' href='https://deepnote.com?utm_source=created-in-deepnote-cell&projectId=06e3b3a6-f418-4676-af98-f6f17c6cc9f2' target=\"_blank\">\n<img alt='Created in deepnote.com' style='display:inline;max-height:16px;margin:0px;margin-right:7.5px;' src='data:image/svg+xml;base64,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' > </img>\nCreated in <span style='font-weight:600;margin-left:4px;'>Deepnote</span></a>",
   "metadata": {
    "tags": [],
    "created_in_deepnote_cell": true,
    "deepnote_cell_type": "markdown"
   }
  }
 ],
 "nbformat": 4,
 "nbformat_minor": 2,
 "metadata": {
  "kernelspec": {
   "display_name": "Python 3",
   "language": "python",
   "name": "python3"
  },
  "language_info": {
   "codemirror_mode": {
    "name": "ipython",
    "version": 3
   },
   "file_extension": ".py",
   "mimetype": "text/x-python",
   "name": "python",
   "nbconvert_exporter": "python",
   "pygments_lexer": "ipython3",
   "version": "3.6.3"
  },
  "deepnote_notebook_id": "eb0afcfd-56b3-4774-8096-d40ffa61b2ee",
  "deepnote_execution_queue": [],
  "deepnote": {}
 }
}