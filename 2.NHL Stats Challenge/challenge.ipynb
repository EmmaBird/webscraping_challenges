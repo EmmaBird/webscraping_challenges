{
 "cells": [
  {
   "cell_type": "markdown",
   "source": "## NHL Stats Challenge\n\n> If you have not had a chance to check out the [Lazy Guide to Web Scraping](https://github.com/sportsdatasolutions/sport_x_code_eis/blob/master/3.projects/LazyGuides/web_scraping.md) please do so! You can find the code for the guide in this [Deepnote Project](https://deepnote.com/project/0d7f30b4-7eb4-4d7e-b601-28085e59e0d3#%2F1.OpenAPI.ipynb).\n\n#### The challenge is to simply scrape the **Skaters Stats Table** with stats from the [**combined 18/19 and 19/20 season playoffs**](http://www.nhl.com/stats/skaters?reportType=season&seasonFrom=20182019&seasonTo=20192020&gameType=3&filter=gamesPlayed,gte,1&sort=points,goals,assists&page=0&pageSize=50).\n1. ##### **Start** by ***using the Network Tool*** on your ```browser``` to identify any possible requests for the data in the table.\n\n2. ##### **Copy** and **Paste** the ***request url*** into a new tab on your **browser** to see if you can access the API without the actual website.\n\n3. ##### **Make call(s)** for the relevant data via [`requests`.](https://requests.readthedocs.io/en/master/)\n\n4. ##### **Create** a Pandas **Dataframe** containing the **data**.\n\n5. ##### **Make sure you have ALL the data**. You'll notice that the table has a total of **583 records**. Does yours?\n\n    **Hint:** The table is **paginated**, and **so is the API**. Pay attention to the **Request URL Parameters**. Have a play around with the **values** given to the **`page`** and **`pageSize`** parameters.\n\n\n6. ##### **Save** the Dataframe to a new **CSV** file within the `data` folder.\n",
   "metadata": {
    "tags": [],
    "output_cleared": false,
    "cell_id": "00000-844e0a68-d76e-4d9a-b442-5dff1a5499c2",
    "deepnote_cell_type": "markdown"
   }
  },
  {
   "cell_type": "code",
   "metadata": {
    "output_cleared": false,
    "source_hash": "1aab9a90",
    "execution_millis": 659,
    "cell_id": "00001-514f9a9f-baeb-49fc-ac7b-4900b64a3dbb",
    "execution_start": 1621502714692,
    "deepnote_to_be_reexecuted": false,
    "deepnote_cell_type": "code"
   },
   "source": "import requests\nimport pandas as pd\nimport json\n\n# response = requests.get(\"https://api.nhle.com/stats/rest/en/skater/summary?start=101&limit=100\").json()\n\n# x = response[\"data\"]\n# pd.DataFrame.from_dict(x)\n# # # # # print(json.dumps(x, indent=4, sort_keys=True))\n\npages = 0\n\nnhl_data = []\nwhile pages<583:\n    response = requests.get(f\"https://api.nhle.com/stats/rest/en/skater/summary?isAggregate=true&isGame=false&sort=%5B%7B%22property%22:%22points%22,%22direction%22:%22DESC%22%7D,%7B%22property%22:%22goals%22,%22direction%22:%22DESC%22%7D,%7B%22property%22:%22assists%22,%22direction%22:%22DESC%22%7D%5D&start={pages}&limit=100&factCayenneExp=gamesPlayed%3E=1&cayenneExp=gameTypeId=3%20and%20seasonId%3C=20192020%20and%20seasonId%3E=20182019\").json()\n    for item in response['data']:\n        nhl_data.append(item)    \n    pages+=100\n\nprint(nhl_data)\n\ndf = pd.DataFrame(nhl_data)\ndf\n\n\n# df to csv\n# with open('./data/jj_data_file.json', 'w') as file:\n#     jj_data_file = json.dumps(jj_data) \n#     file.write(jj_data_file)\n",
   "execution_count": 7,
   "outputs": [
    {
     "name": "stdout",
     "text": "[{'assists': 23, 'evGoals': 10, 'evPoints': 23, 'faceoffWinPct': 0.46031, 'gameWinningGoals': 3, 'gamesPlayed': 27, 'goals': 15, 'lastName': 'MacKinnon', 'otGoals': 1, 'penaltyMinutes': 14, 'playerId': 8477492, 'plusMinus': 9, 'points': 38, 'pointsPerGame': 1.4074, 'positionCode': 'C', 'ppGoals': 5, 'ppPoints': 15, 'shGoals': 0, 'shPoints': 0, 'shootingPct': 0.12295, 'shootsCatches': 'R', 'shots': 122, 'skaterFullName': 'Nathan MacKinnon', 'timeOnIcePerGame': 1360.1481}, {'assists': 29, 'evGoals': 7, 'evPoints': 23, 'faceoffWinPct': 0.0, 'gameWinningGoals': 1, 'gamesPlayed': 28, 'goals': 7, 'lastName': 'Kucherov', 'otGoals': 0, 'penaltyMinutes': 41, 'playerId': 8476453, 'plusMinus': 11, 'points': 36, 'pointsPerGame': 1.28571, 'positionCode': 'R', 'ppGoals': 0, 'ppPoints': 13, 'shGoals': 0, 'shPoints': 0, 'shootingPct': 0.0693, 'shootsCatches': 'L', 'shots': 101, 'skaterFullName': 'Nikita Kucherov', 'timeOnIcePerGame': 1301.5714}, {'assists': 19, 'evGoals': 10, 'evPoints': 17, 'faceoffWinPct': 0.33333, 'gameWinningGoals': 3, 'gamesPlayed': 37, 'goals': 16, 'lastName': 'Marchand', 'otGoals': 0, 'penaltyMinutes': 16, 'playerId': 8473419, 'plusMinus': 4, 'points': 35, 'pointsPerGame': 0.94594, 'positionCode': 'L', 'ppGoals': 6, 'ppPoints': 17, 'shGoals': 0, 'shPoints': 1, 'shootingPct': 0.16, 'shootsCatches': 'L', 'shots': 100, 'skaterFullName': 'Brad Marchand', 'timeOnIcePerGame': 1237.3243}, {'assists': 22, 'evGoals': 9, 'evPoints': 22, 'faceoffWinPct': 0.38095, 'gameWinningGoals': 2, 'gamesPlayed': 27, 'goals': 13, 'lastName': 'Rantanen', 'otGoals': 1, 'penaltyMinutes': 10, 'playerId': 8478420, 'plusMinus': 10, 'points': 35, 'pointsPerGame': 1.29629, 'positionCode': 'R', 'ppGoals': 4, 'ppPoints': 13, 'shGoals': 0, 'shPoints': 0, 'shootingPct': 0.14606, 'shootsCatches': 'L', 'shots': 89, 'skaterFullName': 'Mikko Rantanen', 'timeOnIcePerGame': 1246.3703}, {'assists': 19, 'evGoals': 10, 'evPoints': 26, 'faceoffWinPct': 0.57425, 'gameWinningGoals': 3, 'gamesPlayed': 27, 'goals': 15, 'lastName': 'Point', 'otGoals': 2, 'penaltyMinutes': 15, 'playerId': 8478010, 'plusMinus': 7, 'points': 34, 'pointsPerGame': 1.25925, 'positionCode': 'C', 'ppGoals': 5, 'ppPoints': 8, 'shGoals': 0, 'shPoints': 0, 'shootingPct': 0.2, 'shootsCatches': 'R', 'shots': 75, 'skaterFullName': 'Brayden Point', 'timeOnIcePerGame': 1221.1481}, {'assists': 22, 'evGoals': 9, 'evPoints': 25, 'faceoffWinPct': 0.53325, 'gameWinningGoals': 3, 'gamesPlayed': 35, 'goals': 12, 'lastName': \"O'Reilly\", 'otGoals': 0, 'penaltyMinutes': 4, 'playerId': 8475158, 'plusMinus': 5, 'points': 34, 'pointsPerGame': 0.97142, 'positionCode': 'C', 'ppGoals': 3, 'ppPoints': 9, 'shGoals': 0, 'shPoints': 0, 'shootingPct': 0.15584, 'shootsCatches': 'L', 'shots': 77, 'skaterFullName': \"Ryan O'Reilly\", 'timeOnIcePerGame': 1295.4571}, {'assists': 22, 'evGoals': 5, 'evPoints': 21, 'faceoffWinPct': None, 'gameWinningGoals': 0, 'gamesPlayed': 40, 'goals': 8, 'lastName': 'Heiskanen', 'otGoals': 0, 'penaltyMinutes': 4, 'playerId': 8480036, 'plusMinus': 8, 'points': 30, 'pointsPerGame': 0.75, 'positionCode': 'D', 'ppGoals': 3, 'ppPoints': 9, 'shGoals': 0, 'shPoints': 0, 'shootingPct': 0.08888, 'shootsCatches': 'L', 'shots': 90, 'skaterFullName': 'Miro Heiskanen', 'timeOnIcePerGame': 1549.275}, {'assists': 24, 'evGoals': 6, 'evPoints': 21, 'faceoffWinPct': None, 'gameWinningGoals': 4, 'gamesPlayed': 39, 'goals': 6, 'lastName': 'Klingberg', 'otGoals': 1, 'penaltyMinutes': 20, 'playerId': 8475906, 'plusMinus': 3, 'points': 30, 'pointsPerGame': 0.76923, 'positionCode': 'D', 'ppGoals': 0, 'ppPoints': 9, 'shGoals': 0, 'shPoints': 0, 'shootingPct': 0.07894, 'shootsCatches': 'R', 'shots': 76, 'skaterFullName': 'John Klingberg', 'timeOnIcePerGame': 1426.2307}, {'assists': 16, 'evGoals': 10, 'evPoints': 20, 'faceoffWinPct': 0.1875, 'gameWinningGoals': 2, 'gamesPlayed': 27, 'goals': 13, 'lastName': 'Stone', 'otGoals': 0, 'penaltyMinutes': 8, 'playerId': 8475913, 'plusMinus': 1, 'points': 29, 'pointsPerGame': 1.07407, 'positionCode': 'R', 'ppGoals': 3, 'ppPoints': 8, 'shGoals': 0, 'shPoints': 1, 'shootingPct': 0.22807, 'shootsCatches': 'R', 'shots': 57, 'skaterFullName': 'Mark Stone', 'timeOnIcePerGame': 1159.6666}, {'assists': 17, 'evGoals': 7, 'evPoints': 14, 'faceoffWinPct': 1.0, 'gameWinningGoals': 2, 'gamesPlayed': 34, 'goals': 12, 'lastName': 'Pastrnak', 'otGoals': 0, 'penaltyMinutes': 6, 'playerId': 8477956, 'plusMinus': -3, 'points': 29, 'pointsPerGame': 0.85294, 'positionCode': 'R', 'ppGoals': 5, 'ppPoints': 15, 'shGoals': 0, 'shPoints': 0, 'shootingPct': 0.09836, 'shootsCatches': 'R', 'shots': 122, 'skaterFullName': 'David Pastrnak', 'timeOnIcePerGame': 1125.5588}, {'assists': 19, 'evGoals': 5, 'evPoints': 22, 'faceoffWinPct': 0.53779, 'gameWinningGoals': 1, 'gamesPlayed': 40, 'goals': 10, 'lastName': 'Benn', 'otGoals': 0, 'penaltyMinutes': 42, 'playerId': 8473994, 'plusMinus': 4, 'points': 29, 'pointsPerGame': 0.725, 'positionCode': 'L', 'ppGoals': 4, 'ppPoints': 6, 'shGoals': 1, 'shPoints': 1, 'shootingPct': 0.08928, 'shootsCatches': 'L', 'shots': 112, 'skaterFullName': 'Jamie Benn', 'timeOnIcePerGame': 1082.9}, {'assists': 11, 'evGoals': 12, 'evPoints': 20, 'faceoffWinPct': 0.54261, 'gameWinningGoals': 0, 'gamesPlayed': 40, 'goals': 17, 'lastName': 'Pavelski', 'otGoals': 0, 'penaltyMinutes': 34, 'playerId': 8470794, 'plusMinus': 3, 'points': 28, 'pointsPerGame': 0.7, 'positionCode': 'C', 'ppGoals': 5, 'ppPoints': 8, 'shGoals': 0, 'shPoints': 0, 'shootingPct': 0.19318, 'shootsCatches': 'R', 'shots': 88, 'skaterFullName': 'Joe Pavelski', 'timeOnIcePerGame': 1139.925}, {'assists': 15, 'evGoals': 9, 'evPoints': 19, 'faceoffWinPct': 0.75, 'gameWinningGoals': 5, 'gamesPlayed': 40, 'goals': 13, 'lastName': 'Radulov', 'otGoals': 2, 'penaltyMinutes': 32, 'playerId': 8471228, 'plusMinus': 5, 'points': 28, 'pointsPerGame': 0.7, 'positionCode': 'R', 'ppGoals': 4, 'ppPoints': 9, 'shGoals': 0, 'shPoints': 0, 'shootingPct': 0.13131, 'shootsCatches': 'L', 'shots': 99, 'skaterFullName': 'Alexander Radulov', 'timeOnIcePerGame': 1055.65}, {'assists': 20, 'evGoals': 6, 'evPoints': 18, 'faceoffWinPct': 0.51529, 'gameWinningGoals': 1, 'gamesPlayed': 37, 'goals': 8, 'lastName': 'Krejci', 'otGoals': 0, 'penaltyMinutes': 14, 'playerId': 8471276, 'plusMinus': 0, 'points': 28, 'pointsPerGame': 0.75675, 'positionCode': 'C', 'ppGoals': 2, 'ppPoints': 10, 'shGoals': 0, 'shPoints': 0, 'shootingPct': 0.14545, 'shootsCatches': 'R', 'shots': 55, 'skaterFullName': 'David Krejci', 'timeOnIcePerGame': 1090.0}, {'assists': 19, 'evGoals': 5, 'evPoints': 15, 'faceoffWinPct': None, 'gameWinningGoals': 1, 'gamesPlayed': 27, 'goals': 8, 'lastName': 'Theodore', 'otGoals': 0, 'penaltyMinutes': 14, 'playerId': 8477447, 'plusMinus': 8, 'points': 27, 'pointsPerGame': 1.0, 'positionCode': 'D', 'ppGoals': 3, 'ppPoints': 12, 'shGoals': 0, 'shPoints': 0, 'shootingPct': 0.08888, 'shootsCatches': 'L', 'shots': 90, 'skaterFullName': 'Shea Theodore', 'timeOnIcePerGame': 1352.4074}, {'assists': 20, 'evGoals': 4, 'evPoints': 17, 'faceoffWinPct': 0.4074, 'gameWinningGoals': 2, 'gamesPlayed': 30, 'goals': 6, 'lastName': 'Bailey', 'otGoals': 1, 'penaltyMinutes': 0, 'playerId': 8474573, 'plusMinus': 10, 'points': 26, 'pointsPerGame': 0.86666, 'positionCode': 'R', 'ppGoals': 1, 'ppPoints': 8, 'shGoals': 1, 'shPoints': 1, 'shootingPct': 0.11538, 'shootsCatches': 'L', 'shots': 52, 'skaterFullName': 'Josh Bailey', 'timeOnIcePerGame': 1132.0333}, {'assists': 14, 'evGoals': 7, 'evPoints': 17, 'faceoffWinPct': 0.4, 'gameWinningGoals': 2, 'gamesPlayed': 35, 'goals': 11, 'lastName': 'Perron', 'otGoals': 0, 'penaltyMinutes': 24, 'playerId': 8474102, 'plusMinus': 6, 'points': 25, 'pointsPerGame': 0.71428, 'positionCode': 'L', 'ppGoals': 4, 'ppPoints': 8, 'shGoals': 0, 'shPoints': 0, 'shootingPct': 0.12359, 'shootsCatches': 'R', 'shots': 89, 'skaterFullName': 'David Perron', 'timeOnIcePerGame': 1121.8571}, {'assists': 14, 'evGoals': 3, 'evPoints': 10, 'faceoffWinPct': 0.57664, 'gameWinningGoals': 4, 'gamesPlayed': 37, 'goals': 11, 'lastName': 'Bergeron', 'otGoals': 1, 'penaltyMinutes': 18, 'playerId': 8470638, 'plusMinus': 6, 'points': 25, 'pointsPerGame': 0.67567, 'positionCode': 'C', 'ppGoals': 8, 'ppPoints': 14, 'shGoals': 0, 'shPoints': 1, 'shootingPct': 0.08396, 'shootsCatches': 'R', 'shots': 131, 'skaterFullName': 'Patrice Bergeron', 'timeOnIcePerGame': 1146.2432}, {'assists': 21, 'evGoals': 3, 'evPoints': 17, 'faceoffWinPct': None, 'gameWinningGoals': 1, 'gamesPlayed': 35, 'goals': 4, 'lastName': 'Pietrangelo', 'otGoals': 0, 'penaltyMinutes': 18, 'playerId': 8474565, 'plusMinus': 5, 'points': 25, 'pointsPerGame': 0.71428, 'positionCode': 'D', 'ppGoals': 1, 'ppPoints': 8, 'shGoals': 0, 'shPoints': 0, 'shootingPct': 0.03636, 'shootsCatches': 'R', 'shots': 110, 'skaterFullName': 'Alex Pietrangelo', 'timeOnIcePerGame': 1536.4571}, {'assists': 8, 'evGoals': 14, 'evPoints': 22, 'faceoffWinPct': 0.57894, 'gameWinningGoals': 2, 'gamesPlayed': 35, 'goals': 16, 'lastName': 'Schwartz', 'otGoals': 0, 'penaltyMinutes': 6, 'playerId': 8475768, 'plusMinus': 6, 'points': 24, 'pointsPerGame': 0.68571, 'positionCode': 'L', 'ppGoals': 2, 'ppPoints': 2, 'shGoals': 0, 'shPoints': 0, 'shootingPct': 0.17204, 'shootsCatches': 'L', 'shots': 93, 'skaterFullName': 'Jaden Schwartz', 'timeOnIcePerGame': 1081.8}, {'assists': 16, 'evGoals': 3, 'evPoints': 17, 'faceoffWinPct': 0.45736, 'gameWinningGoals': 0, 'gamesPlayed': 23, 'goals': 8, 'lastName': 'Aho', 'otGoals': 0, 'penaltyMinutes': 6, 'playerId': 8478427, 'plusMinus': 9, 'points': 24, 'pointsPerGame': 1.04347, 'positionCode': 'C', 'ppGoals': 3, 'ppPoints': 5, 'shGoals': 2, 'shPoints': 2, 'shootingPct': 0.14814, 'shootsCatches': 'L', 'shots': 54, 'skaterFullName': 'Sebastian Aho', 'timeOnIcePerGame': 1251.0869}, {'assists': 17, 'evGoals': 4, 'evPoints': 17, 'faceoffWinPct': 0.47826, 'gameWinningGoals': 1, 'gamesPlayed': 30, 'goals': 7, 'lastName': 'Barzal', 'otGoals': 1, 'penaltyMinutes': 18, 'playerId': 8478445, 'plusMinus': 4, 'points': 24, 'pointsPerGame': 0.8, 'positionCode': 'C', 'ppGoals': 3, 'ppPoints': 7, 'shGoals': 0, 'shPoints': 0, 'shootingPct': 0.08974, 'shootsCatches': 'R', 'shots': 78, 'skaterFullName': 'Mathew Barzal', 'timeOnIcePerGame': 1160.4333}, {'assists': 18, 'evGoals': 5, 'evPoints': 19, 'faceoffWinPct': 0.52877, 'gameWinningGoals': 1, 'gamesPlayed': 39, 'goals': 6, 'lastName': 'Seguin', 'otGoals': 0, 'penaltyMinutes': 14, 'playerId': 8475794, 'plusMinus': 4, 'points': 24, 'pointsPerGame': 0.61538, 'positionCode': 'C', 'ppGoals': 1, 'ppPoints': 4, 'shGoals': 0, 'shPoints': 1, 'shootingPct': 0.05084, 'shootsCatches': 'R', 'shots': 118, 'skaterFullName': 'Tyler Seguin', 'timeOnIcePerGame': 1161.1282}, {'assists': 22, 'evGoals': 0, 'evPoints': 8, 'faceoffWinPct': None, 'gameWinningGoals': 0, 'gamesPlayed': 37, 'goals': 2, 'lastName': 'Krug', 'otGoals': 0, 'penaltyMinutes': 32, 'playerId': 8476792, 'plusMinus': -2, 'points': 24, 'pointsPerGame': 0.64864, 'positionCode': 'D', 'ppGoals': 2, 'ppPoints': 16, 'shGoals': 0, 'shPoints': 0, 'shootingPct': 0.02298, 'shootsCatches': 'L', 'shots': 87, 'skaterFullName': 'Torey Krug', 'timeOnIcePerGame': 1351.6216}, {'assists': 14, 'evGoals': 7, 'evPoints': 14, 'faceoffWinPct': 0.16666, 'gameWinningGoals': 3, 'gamesPlayed': 30, 'goals': 9, 'lastName': 'Eberle', 'otGoals': 1, 'penaltyMinutes': 12, 'playerId': 8474586, 'plusMinus': 6, 'points': 23, 'pointsPerGame': 0.76666, 'positionCode': 'R', 'ppGoals': 2, 'ppPoints': 9, 'shGoals': 0, 'shPoints': 0, 'shootingPct': 0.11538, 'shootsCatches': 'R', 'shots': 78, 'skaterFullName': 'Jordan Eberle', 'timeOnIcePerGame': 1096.6666}, {'assists': 9, 'evGoals': 11, 'evPoints': 18, 'faceoffWinPct': 0.5021, 'gameWinningGoals': 5, 'gamesPlayed': 30, 'goals': 13, 'lastName': 'Nelson', 'otGoals': 0, 'penaltyMinutes': 14, 'playerId': 8475754, 'plusMinus': 2, 'points': 22, 'pointsPerGame': 0.73333, 'positionCode': 'C', 'ppGoals': 2, 'ppPoints': 3, 'shGoals': 0, 'shPoints': 1, 'shootingPct': 0.16455, 'shootsCatches': 'L', 'shots': 79, 'skaterFullName': 'Brock Nelson', 'timeOnIcePerGame': 1143.8666}, {'assists': 12, 'evGoals': 7, 'evPoints': 12, 'faceoffWinPct': None, 'gameWinningGoals': 3, 'gamesPlayed': 27, 'goals': 10, 'lastName': 'Hedman', 'otGoals': 1, 'penaltyMinutes': 34, 'playerId': 8475167, 'plusMinus': 11, 'points': 22, 'pointsPerGame': 0.81481, 'positionCode': 'D', 'ppGoals': 3, 'ppPoints': 10, 'shGoals': 0, 'shPoints': 0, 'shootingPct': 0.11363, 'shootsCatches': 'L', 'shots': 88, 'skaterFullName': 'Victor Hedman', 'timeOnIcePerGame': 1573.4074}, {'assists': 9, 'evGoals': 9, 'evPoints': 14, 'faceoffWinPct': 0.49635, 'gameWinningGoals': 1, 'gamesPlayed': 37, 'goals': 12, 'lastName': 'Coyle', 'otGoals': 1, 'penaltyMinutes': 14, 'playerId': 8475745, 'plusMinus': 4, 'points': 21, 'pointsPerGame': 0.56756, 'positionCode': 'C', 'ppGoals': 3, 'ppPoints': 6, 'shGoals': 0, 'shPoints': 1, 'shootingPct': 0.17142, 'shootsCatches': 'R', 'shots': 70, 'skaterFullName': 'Charlie Coyle', 'timeOnIcePerGame': 993.6486}, {'assists': 14, 'evGoals': 5, 'evPoints': 10, 'faceoffWinPct': 0.50628, 'gameWinningGoals': 0, 'gamesPlayed': 38, 'goals': 7, 'lastName': 'Hintz', 'otGoals': 0, 'penaltyMinutes': 12, 'playerId': 8478449, 'plusMinus': -4, 'points': 21, 'pointsPerGame': 0.55263, 'positionCode': 'L', 'ppGoals': 2, 'ppPoints': 10, 'shGoals': 0, 'shPoints': 1, 'shootingPct': 0.08974, 'shootsCatches': 'L', 'shots': 78, 'skaterFullName': 'Roope Hintz', 'timeOnIcePerGame': 872.2105}, {'assists': 16, 'evGoals': 3, 'evPoints': 15, 'faceoffWinPct': None, 'gameWinningGoals': 3, 'gamesPlayed': 25, 'goals': 5, 'lastName': 'Makar', 'otGoals': 0, 'penaltyMinutes': 0, 'playerId': 8480069, 'plusMinus': 15, 'points': 21, 'pointsPerGame': 0.84, 'positionCode': 'D', 'ppGoals': 2, 'ppPoints': 6, 'shGoals': 0, 'shPoints': 0, 'shootingPct': 0.1, 'shootsCatches': 'R', 'shots': 50, 'skaterFullName': 'Cale Makar', 'timeOnIcePerGame': 1269.2}, {'assists': 16, 'evGoals': 5, 'evPoints': 14, 'faceoffWinPct': 0.51028, 'gameWinningGoals': 1, 'gamesPlayed': 26, 'goals': 5, 'lastName': 'Landeskog', 'otGoals': 1, 'penaltyMinutes': 22, 'playerId': 8476455, 'plusMinus': 5, 'points': 21, 'pointsPerGame': 0.80769, 'positionCode': 'L', 'ppGoals': 0, 'ppPoints': 7, 'shGoals': 0, 'shPoints': 0, 'shootingPct': 0.06756, 'shootsCatches': 'L', 'shots': 74, 'skaterFullName': 'Gabriel Landeskog', 'timeOnIcePerGame': 1280.8076}, {'assists': 6, 'evGoals': 10, 'evPoints': 14, 'faceoffWinPct': 0.46666, 'gameWinningGoals': 1, 'gamesPlayed': 20, 'goals': 14, 'lastName': 'Couture', 'otGoals': 0, 'penaltyMinutes': 6, 'playerId': 8474053, 'plusMinus': 3, 'points': 20, 'pointsPerGame': 1.0, 'positionCode': 'C', 'ppGoals': 3, 'ppPoints': 5, 'shGoals': 1, 'shPoints': 1, 'shootingPct': 0.20895, 'shootsCatches': 'L', 'shots': 67, 'skaterFullName': 'Logan Couture', 'timeOnIcePerGame': 1208.55}, {'assists': 10, 'evGoals': 4, 'evPoints': 12, 'faceoffWinPct': 0.52845, 'gameWinningGoals': 5, 'gamesPlayed': 17, 'goals': 10, 'lastName': 'Kadri', 'otGoals': 0, 'penaltyMinutes': 29, 'playerId': 8475172, 'plusMinus': 4, 'points': 20, 'pointsPerGame': 1.17647, 'positionCode': 'C', 'ppGoals': 6, 'ppPoints': 8, 'shGoals': 0, 'shPoints': 0, 'shootingPct': 0.16949, 'shootsCatches': 'L', 'shots': 59, 'skaterFullName': 'Nazem Kadri', 'timeOnIcePerGame': 1086.3529}, {'assists': 14, 'evGoals': 4, 'evPoints': 12, 'faceoffWinPct': 0.2, 'gameWinningGoals': 1, 'gamesPlayed': 27, 'goals': 6, 'lastName': 'Smith', 'otGoals': 1, 'penaltyMinutes': 8, 'playerId': 8475191, 'plusMinus': 3, 'points': 20, 'pointsPerGame': 0.74074, 'positionCode': 'R', 'ppGoals': 2, 'ppPoints': 7, 'shGoals': 0, 'shPoints': 1, 'shootingPct': 0.08219, 'shootsCatches': 'L', 'shots': 73, 'skaterFullName': 'Reilly Smith', 'timeOnIcePerGame': 1082.9259}, {'assists': 14, 'evGoals': 4, 'evPoints': 12, 'faceoffWinPct': 0.56084, 'gameWinningGoals': 0, 'gamesPlayed': 21, 'goals': 6, 'lastName': 'Miller', 'otGoals': 0, 'penaltyMinutes': 14, 'playerId': 8476468, 'plusMinus': 3, 'points': 20, 'pointsPerGame': 0.95238, 'positionCode': 'C', 'ppGoals': 2, 'ppPoints': 8, 'shGoals': 0, 'shPoints': 0, 'shootingPct': 0.15789, 'shootsCatches': 'L', 'shots': 38, 'skaterFullName': 'J.T. Miller', 'timeOnIcePerGame': 1164.3809}, {'assists': 7, 'evGoals': 9, 'evPoints': 14, 'faceoffWinPct': 0.30434, 'gameWinningGoals': 3, 'gamesPlayed': 29, 'goals': 12, 'lastName': 'Palat', 'otGoals': 1, 'penaltyMinutes': 12, 'playerId': 8476292, 'plusMinus': 12, 'points': 19, 'pointsPerGame': 0.65517, 'positionCode': 'L', 'ppGoals': 3, 'ppPoints': 5, 'shGoals': 0, 'shPoints': 0, 'shootingPct': 0.14285, 'shootsCatches': 'L', 'shots': 84, 'skaterFullName': 'Ondrej Palat', 'timeOnIcePerGame': 1224.5172}, {'assists': 9, 'evGoals': 6, 'evPoints': 14, 'faceoffWinPct': 0.51724, 'gameWinningGoals': 2, 'gamesPlayed': 23, 'goals': 10, 'lastName': 'Pacioretty', 'otGoals': 0, 'penaltyMinutes': 16, 'playerId': 8474157, 'plusMinus': -1, 'points': 19, 'pointsPerGame': 0.82608, 'positionCode': 'L', 'ppGoals': 4, 'ppPoints': 5, 'shGoals': 0, 'shPoints': 0, 'shootingPct': 0.11235, 'shootsCatches': 'L', 'shots': 89, 'skaterFullName': 'Max Pacioretty', 'timeOnIcePerGame': 1049.7391}, {'assists': 11, 'evGoals': 7, 'evPoints': 16, 'faceoffWinPct': 0.5, 'gameWinningGoals': 1, 'gamesPlayed': 22, 'goals': 8, 'lastName': 'Burakovsky', 'otGoals': 0, 'penaltyMinutes': 4, 'playerId': 8477444, 'plusMinus': 4, 'points': 19, 'pointsPerGame': 0.86363, 'positionCode': 'L', 'ppGoals': 1, 'ppPoints': 3, 'shGoals': 0, 'shPoints': 0, 'shootingPct': 0.27586, 'shootsCatches': 'L', 'shots': 29, 'skaterFullName': 'Andre Burakovsky', 'timeOnIcePerGame': 758.0909}, {'assists': 11, 'evGoals': 3, 'evPoints': 8, 'faceoffWinPct': 0.49367, 'gameWinningGoals': 2, 'gamesPlayed': 17, 'goals': 7, 'lastName': 'Pettersson', 'otGoals': 0, 'penaltyMinutes': 2, 'playerId': 8480012, 'plusMinus': 2, 'points': 18, 'pointsPerGame': 1.05882, 'positionCode': 'C', 'ppGoals': 4, 'ppPoints': 10, 'shGoals': 0, 'shPoints': 0, 'shootingPct': 0.18421, 'shootsCatches': 'L', 'shots': 38, 'skaterFullName': 'Elias Pettersson', 'timeOnIcePerGame': 1161.7058}, {'assists': 6, 'evGoals': 6, 'evPoints': 10, 'faceoffWinPct': 0.0, 'gameWinningGoals': 2, 'gamesPlayed': 30, 'goals': 11, 'lastName': 'Tarasenko', 'otGoals': 0, 'penaltyMinutes': 4, 'playerId': 8475765, 'plusMinus': -6, 'points': 17, 'pointsPerGame': 0.56666, 'positionCode': 'R', 'ppGoals': 5, 'ppPoints': 7, 'shGoals': 0, 'shPoints': 0, 'shootingPct': 0.11, 'shootsCatches': 'L', 'shots': 100, 'skaterFullName': 'Vladimir Tarasenko', 'timeOnIcePerGame': 1093.7333}, {'assists': 8, 'evGoals': 7, 'evPoints': 10, 'faceoffWinPct': 0.5, 'gameWinningGoals': 2, 'gamesPlayed': 27, 'goals': 9, 'lastName': 'Gurianov', 'otGoals': 1, 'penaltyMinutes': 2, 'playerId': 8478495, 'plusMinus': 0, 'points': 17, 'pointsPerGame': 0.62962, 'positionCode': 'R', 'ppGoals': 2, 'ppPoints': 7, 'shGoals': 0, 'shPoints': 0, 'shootingPct': 0.16666, 'shootsCatches': 'L', 'shots': 54, 'skaterFullName': 'Denis Gurianov', 'timeOnIcePerGame': 833.1481}, {'assists': 10, 'evGoals': 6, 'evPoints': 12, 'faceoffWinPct': 0.48563, 'gameWinningGoals': 1, 'gamesPlayed': 35, 'goals': 7, 'lastName': 'Schenn', 'otGoals': 1, 'penaltyMinutes': 20, 'playerId': 8475170, 'plusMinus': -4, 'points': 17, 'pointsPerGame': 0.48571, 'positionCode': 'C', 'ppGoals': 1, 'ppPoints': 5, 'shGoals': 0, 'shPoints': 0, 'shootingPct': 0.0875, 'shootsCatches': 'L', 'shots': 80, 'skaterFullName': 'Brayden Schenn', 'timeOnIcePerGame': 1139.6571}, {'assists': 12, 'evGoals': 4, 'evPoints': 11, 'faceoffWinPct': 0.52322, 'gameWinningGoals': 2, 'gamesPlayed': 25, 'goals': 5, 'lastName': 'Stastny', 'otGoals': 0, 'penaltyMinutes': 10, 'playerId': 8471669, 'plusMinus': 3, 'points': 17, 'pointsPerGame': 0.68, 'positionCode': 'C', 'ppGoals': 1, 'ppPoints': 6, 'shGoals': 0, 'shPoints': 0, 'shootingPct': 0.08333, 'shootsCatches': 'L', 'shots': 60, 'skaterFullName': 'Paul Stastny', 'timeOnIcePerGame': 1056.12}, {'assists': 6, 'evGoals': 8, 'evPoints': 12, 'faceoffWinPct': 0.5, 'gameWinningGoals': 3, 'gamesPlayed': 30, 'goals': 10, 'lastName': 'Beauvillier', 'otGoals': 0, 'penaltyMinutes': 10, 'playerId': 8478463, 'plusMinus': 6, 'points': 16, 'pointsPerGame': 0.53333, 'positionCode': 'L', 'ppGoals': 2, 'ppPoints': 4, 'shGoals': 0, 'shPoints': 0, 'shootingPct': 0.12195, 'shootsCatches': 'L', 'shots': 82, 'skaterFullName': 'Anthony Beauvillier', 'timeOnIcePerGame': 998.6}, {'assists': 9, 'evGoals': 4, 'evPoints': 12, 'faceoffWinPct': 0.51111, 'gameWinningGoals': 1, 'gamesPlayed': 27, 'goals': 7, 'lastName': 'Marchessault', 'otGoals': 0, 'penaltyMinutes': 22, 'playerId': 8476539, 'plusMinus': 2, 'points': 16, 'pointsPerGame': 0.59259, 'positionCode': 'C', 'ppGoals': 3, 'ppPoints': 4, 'shGoals': 0, 'shPoints': 0, 'shootingPct': 0.08433, 'shootsCatches': 'R', 'shots': 83, 'skaterFullName': 'Jonathan Marchessault', 'timeOnIcePerGame': 1021.2592}, {'assists': 10, 'evGoals': 6, 'evPoints': 16, 'faceoffWinPct': 0.48768, 'gameWinningGoals': 0, 'gamesPlayed': 22, 'goals': 6, 'lastName': 'Hayes', 'otGoals': 0, 'penaltyMinutes': 4, 'playerId': 8475763, 'plusMinus': 9, 'points': 16, 'pointsPerGame': 0.72727, 'positionCode': 'C', 'ppGoals': 0, 'ppPoints': 0, 'shGoals': 0, 'shPoints': 0, 'shootingPct': 0.11111, 'shootsCatches': 'L', 'shots': 54, 'skaterFullName': 'Kevin Hayes', 'timeOnIcePerGame': 1007.0909}, {'assists': 11, 'evGoals': 4, 'evPoints': 11, 'faceoffWinPct': None, 'gameWinningGoals': 0, 'gamesPlayed': 20, 'goals': 5, 'lastName': 'Burns', 'otGoals': 0, 'penaltyMinutes': 6, 'playerId': 8470613, 'plusMinus': 2, 'points': 16, 'pointsPerGame': 0.8, 'positionCode': 'D', 'ppGoals': 1, 'ppPoints': 5, 'shGoals': 0, 'shPoints': 0, 'shootingPct': 0.08771, 'shootsCatches': 'R', 'shots': 57, 'skaterFullName': 'Brent Burns', 'timeOnIcePerGame': 1704.5}, {'assists': 11, 'evGoals': 5, 'evPoints': 12, 'faceoffWinPct': 0.4, 'gameWinningGoals': 1, 'gamesPlayed': 18, 'goals': 5, 'lastName': 'Atkinson', 'otGoals': 0, 'penaltyMinutes': 8, 'playerId': 8474715, 'plusMinus': 5, 'points': 16, 'pointsPerGame': 0.88888, 'positionCode': 'R', 'ppGoals': 0, 'ppPoints': 4, 'shGoals': 0, 'shPoints': 0, 'shootingPct': 0.09433, 'shootsCatches': 'R', 'shots': 53, 'skaterFullName': 'Cam Atkinson', 'timeOnIcePerGame': 1224.0555}, {'assists': 14, 'evGoals': 1, 'evPoints': 7, 'faceoffWinPct': None, 'gameWinningGoals': 0, 'gamesPlayed': 17, 'goals': 2, 'lastName': 'Hughes', 'otGoals': 0, 'penaltyMinutes': 2, 'playerId': 8480800, 'plusMinus': -2, 'points': 16, 'pointsPerGame': 0.94117, 'positionCode': 'D', 'ppGoals': 1, 'ppPoints': 9, 'shGoals': 0, 'shPoints': 0, 'shootingPct': 0.06666, 'shootsCatches': 'L', 'shots': 30, 'skaterFullName': 'Quinn Hughes', 'timeOnIcePerGame': 1367.7058}, {'assists': 14, 'evGoals': 2, 'evPoints': 10, 'faceoffWinPct': None, 'gameWinningGoals': 1, 'gamesPlayed': 19, 'goals': 2, 'lastName': 'Karlsson', 'otGoals': 1, 'penaltyMinutes': 8, 'playerId': 8474578, 'plusMinus': -3, 'points': 16, 'pointsPerGame': 0.8421, 'positionCode': 'D', 'ppGoals': 0, 'ppPoints': 6, 'shGoals': 0, 'shPoints': 0, 'shootingPct': 0.03921, 'shootsCatches': 'R', 'shots': 51, 'skaterFullName': 'Erik Karlsson', 'timeOnIcePerGame': 1484.8947}, {'assists': 5, 'evGoals': 9, 'evPoints': 13, 'faceoffWinPct': 0.44444, 'gameWinningGoals': 1, 'gamesPlayed': 23, 'goals': 10, 'lastName': 'Teravainen', 'otGoals': 0, 'penaltyMinutes': 6, 'playerId': 8476882, 'plusMinus': 12, 'points': 15, 'pointsPerGame': 0.65217, 'positionCode': 'L', 'ppGoals': 1, 'ppPoints': 2, 'shGoals': 0, 'shPoints': 0, 'shootingPct': 0.19607, 'shootsCatches': 'L', 'shots': 51, 'skaterFullName': 'Teuvo Teravainen', 'timeOnIcePerGame': 1196.1739}, {'assists': 5, 'evGoals': 4, 'evPoints': 7, 'faceoffWinPct': 0.56221, 'gameWinningGoals': 2, 'gamesPlayed': 19, 'goals': 10, 'lastName': 'Hertl', 'otGoals': 1, 'penaltyMinutes': 4, 'playerId': 8476881, 'plusMinus': 2, 'points': 15, 'pointsPerGame': 0.78947, 'positionCode': 'C', 'ppGoals': 5, 'ppPoints': 7, 'shGoals': 1, 'shPoints': 1, 'shootingPct': 0.16949, 'shootsCatches': 'L', 'shots': 59, 'skaterFullName': 'Tomas Hertl', 'timeOnIcePerGame': 1311.5263}, {'assists': 7, 'evGoals': 6, 'evPoints': 10, 'faceoffWinPct': 0.21052, 'gameWinningGoals': 2, 'gamesPlayed': 37, 'goals': 8, 'lastName': 'DeBrusk', 'otGoals': 0, 'penaltyMinutes': 12, 'playerId': 8478498, 'plusMinus': 1, 'points': 15, 'pointsPerGame': 0.4054, 'positionCode': 'L', 'ppGoals': 2, 'ppPoints': 5, 'shGoals': 0, 'shPoints': 0, 'shootingPct': 0.08988, 'shootsCatches': 'L', 'shots': 89, 'skaterFullName': 'Jake DeBrusk', 'timeOnIcePerGame': 942.4864}, {'assists': 7, 'evGoals': 6, 'evPoints': 13, 'faceoffWinPct': 0.4363, 'gameWinningGoals': 2, 'gamesPlayed': 29, 'goals': 8, 'lastName': 'Gourde', 'otGoals': 0, 'penaltyMinutes': 19, 'playerId': 8476826, 'plusMinus': 9, 'points': 15, 'pointsPerGame': 0.51724, 'positionCode': 'C', 'ppGoals': 2, 'ppPoints': 2, 'shGoals': 0, 'shPoints': 0, 'shootingPct': 0.13559, 'shootsCatches': 'L', 'shots': 59, 'skaterFullName': 'Yanni Gourde', 'timeOnIcePerGame': 1051.8275}, {'assists': 7, 'evGoals': 5, 'evPoints': 9, 'faceoffWinPct': 0.49541, 'gameWinningGoals': 0, 'gamesPlayed': 30, 'goals': 8, 'lastName': 'Lee', 'otGoals': 0, 'penaltyMinutes': 23, 'playerId': 8475314, 'plusMinus': 3, 'points': 15, 'pointsPerGame': 0.5, 'positionCode': 'L', 'ppGoals': 3, 'ppPoints': 6, 'shGoals': 0, 'shPoints': 0, 'shootingPct': 0.08695, 'shootsCatches': 'L', 'shots': 92, 'skaterFullName': 'Anders Lee', 'timeOnIcePerGame': 1069.9666}, {'assists': 9, 'evGoals': 5, 'evPoints': 12, 'faceoffWinPct': 0.48632, 'gameWinningGoals': 1, 'gamesPlayed': 20, 'goals': 6, 'lastName': 'Dubois', 'otGoals': 1, 'penaltyMinutes': 18, 'playerId': 8479400, 'plusMinus': -2, 'points': 15, 'pointsPerGame': 0.75, 'positionCode': 'L', 'ppGoals': 1, 'ppPoints': 3, 'shGoals': 0, 'shPoints': 0, 'shootingPct': 0.12765, 'shootsCatches': 'L', 'shots': 47, 'skaterFullName': 'Pierre-Luc Dubois', 'timeOnIcePerGame': 1212.95}, {'assists': 9, 'evGoals': 3, 'evPoints': 9, 'faceoffWinPct': 0.43793, 'gameWinningGoals': 0, 'gamesPlayed': 27, 'goals': 6, 'lastName': 'Karlsson', 'otGoals': 0, 'penaltyMinutes': 2, 'playerId': 8476448, 'plusMinus': 3, 'points': 15, 'pointsPerGame': 0.55555, 'positionCode': 'C', 'ppGoals': 1, 'ppPoints': 4, 'shGoals': 2, 'shPoints': 2, 'shootingPct': 0.08571, 'shootsCatches': 'L', 'shots': 70, 'skaterFullName': 'William Karlsson', 'timeOnIcePerGame': 1170.9629}, {'assists': 10, 'evGoals': 5, 'evPoints': 14, 'faceoffWinPct': 0.55555, 'gameWinningGoals': 1, 'gamesPlayed': 20, 'goals': 5, 'lastName': 'Meier', 'otGoals': 0, 'penaltyMinutes': 34, 'playerId': 8478414, 'plusMinus': 3, 'points': 15, 'pointsPerGame': 0.75, 'positionCode': 'R', 'ppGoals': 0, 'ppPoints': 1, 'shGoals': 0, 'shPoints': 0, 'shootingPct': 0.09259, 'shootsCatches': 'L', 'shots': 54, 'skaterFullName': 'Timo Meier', 'timeOnIcePerGame': 1025.5}, {'assists': 10, 'evGoals': 4, 'evPoints': 11, 'faceoffWinPct': 0.51449, 'gameWinningGoals': 2, 'gamesPlayed': 34, 'goals': 5, 'lastName': 'Bozak', 'otGoals': 0, 'penaltyMinutes': 10, 'playerId': 8475098, 'plusMinus': -5, 'points': 15, 'pointsPerGame': 0.44117, 'positionCode': 'C', 'ppGoals': 1, 'ppPoints': 4, 'shGoals': 0, 'shPoints': 0, 'shootingPct': 0.10869, 'shootsCatches': 'R', 'shots': 46, 'skaterFullName': 'Tyler Bozak', 'timeOnIcePerGame': 902.7352}, {'assists': 12, 'evGoals': 2, 'evPoints': 8, 'faceoffWinPct': None, 'gameWinningGoals': 0, 'gamesPlayed': 30, 'goals': 3, 'lastName': 'Toews', 'otGoals': 0, 'penaltyMinutes': 6, 'playerId': 8478038, 'plusMinus': 0, 'points': 15, 'pointsPerGame': 0.5, 'positionCode': 'D', 'ppGoals': 1, 'ppPoints': 7, 'shGoals': 0, 'shPoints': 0, 'shootingPct': 0.08108, 'shootsCatches': 'L', 'shots': 37, 'skaterFullName': 'Devon Toews', 'timeOnIcePerGame': 1208.1666}, {'assists': 5, 'evGoals': 8, 'evPoints': 11, 'faceoffWinPct': 0.22222, 'gameWinningGoals': 3, 'gamesPlayed': 27, 'goals': 9, 'lastName': 'Tuch', 'otGoals': 1, 'penaltyMinutes': 16, 'playerId': 8477949, 'plusMinus': 5, 'points': 14, 'pointsPerGame': 0.51851, 'positionCode': 'R', 'ppGoals': 1, 'ppPoints': 3, 'shGoals': 0, 'shPoints': 0, 'shootingPct': 0.12676, 'shootsCatches': 'R', 'shots': 71, 'skaterFullName': 'Alex Tuch', 'timeOnIcePerGame': 965.2222}, {'assists': 6, 'evGoals': 4, 'evPoints': 9, 'faceoffWinPct': None, 'gameWinningGoals': 2, 'gamesPlayed': 15, 'goals': 8, 'lastName': 'Ovechkin', 'otGoals': 0, 'penaltyMinutes': 21, 'playerId': 8471214, 'plusMinus': -3, 'points': 14, 'pointsPerGame': 0.93333, 'positionCode': 'L', 'ppGoals': 4, 'ppPoints': 5, 'shGoals': 0, 'shPoints': 0, 'shootingPct': 0.15384, 'shootsCatches': 'R', 'shots': 52, 'skaterFullName': 'Alex Ovechkin', 'timeOnIcePerGame': 1289.5333}, {'assists': 7, 'evGoals': 7, 'evPoints': 12, 'faceoffWinPct': 0.47569, 'gameWinningGoals': 0, 'gamesPlayed': 27, 'goals': 7, 'lastName': 'Compher', 'otGoals': 0, 'penaltyMinutes': 4, 'playerId': 8477456, 'plusMinus': 8, 'points': 14, 'pointsPerGame': 0.51851, 'positionCode': 'L', 'ppGoals': 0, 'ppPoints': 2, 'shGoals': 0, 'shPoints': 0, 'shootingPct': 0.15555, 'shootsCatches': 'R', 'shots': 45, 'skaterFullName': 'J.T. Compher', 'timeOnIcePerGame': 935.1481}, {'assists': 10, 'evGoals': 3, 'evPoints': 11, 'faceoffWinPct': None, 'gameWinningGoals': 0, 'gamesPlayed': 35, 'goals': 4, 'lastName': 'Parayko', 'otGoals': 0, 'penaltyMinutes': 12, 'playerId': 8476892, 'plusMinus': 2, 'points': 14, 'pointsPerGame': 0.4, 'positionCode': 'D', 'ppGoals': 1, 'ppPoints': 3, 'shGoals': 0, 'shPoints': 0, 'shootingPct': 0.04123, 'shootsCatches': 'R', 'shots': 97, 'skaterFullName': 'Colton Parayko', 'timeOnIcePerGame': 1469.0}, {'assists': 7, 'evGoals': 3, 'evPoints': 6, 'faceoffWinPct': 0.45714, 'gameWinningGoals': 0, 'gamesPlayed': 15, 'goals': 6, 'lastName': 'Bennett', 'otGoals': 0, 'penaltyMinutes': 26, 'playerId': 8477935, 'plusMinus': 4, 'points': 13, 'pointsPerGame': 0.86666, 'positionCode': 'C', 'ppGoals': 3, 'ppPoints': 7, 'shGoals': 0, 'shPoints': 0, 'shootingPct': 0.14634, 'shootsCatches': 'L', 'shots': 41, 'skaterFullName': 'Sam Bennett', 'timeOnIcePerGame': 876.7333}, {'assists': 7, 'evGoals': 4, 'evPoints': 7, 'faceoffWinPct': None, 'gameWinningGoals': 0, 'gamesPlayed': 13, 'goals': 6, 'lastName': 'Panarin', 'otGoals': 0, 'penaltyMinutes': 0, 'playerId': 8478550, 'plusMinus': -3, 'points': 13, 'pointsPerGame': 1.0, 'positionCode': 'L', 'ppGoals': 2, 'ppPoints': 5, 'shGoals': 0, 'shPoints': 1, 'shootingPct': 0.16216, 'shootsCatches': 'R', 'shots': 37, 'skaterFullName': 'Artemi Panarin', 'timeOnIcePerGame': 1303.2307}, {'assists': 8, 'evGoals': 4, 'evPoints': 12, 'faceoffWinPct': 0.50809, 'gameWinningGoals': 3, 'gamesPlayed': 30, 'goals': 5, 'lastName': 'Kuraly', 'otGoals': 0, 'penaltyMinutes': 12, 'playerId': 8476374, 'plusMinus': 0, 'points': 13, 'pointsPerGame': 0.43333, 'positionCode': 'C', 'ppGoals': 0, 'ppPoints': 0, 'shGoals': 1, 'shPoints': 1, 'shootingPct': 0.07936, 'shootsCatches': 'L', 'shots': 63, 'skaterFullName': 'Sean Kuraly', 'timeOnIcePerGame': 884.1333}, {'assists': 8, 'evGoals': 5, 'evPoints': 13, 'faceoffWinPct': 0.5, 'gameWinningGoals': 0, 'gamesPlayed': 25, 'goals': 5, 'lastName': 'Coleman', 'otGoals': 0, 'penaltyMinutes': 31, 'playerId': 8476399, 'plusMinus': 6, 'points': 13, 'pointsPerGame': 0.52, 'positionCode': 'C', 'ppGoals': 0, 'ppPoints': 0, 'shGoals': 0, 'shPoints': 0, 'shootingPct': 0.07692, 'shootsCatches': 'L', 'shots': 65, 'skaterFullName': 'Blake Coleman', 'timeOnIcePerGame': 1073.12}, {'assists': 9, 'evGoals': 3, 'evPoints': 7, 'faceoffWinPct': None, 'gameWinningGoals': 1, 'gamesPlayed': 20, 'goals': 4, 'lastName': 'Jones', 'otGoals': 0, 'penaltyMinutes': 4, 'playerId': 8477495, 'plusMinus': 2, 'points': 13, 'pointsPerGame': 0.65, 'positionCode': 'D', 'ppGoals': 1, 'ppPoints': 6, 'shGoals': 0, 'shPoints': 0, 'shootingPct': 0.07692, 'shootsCatches': 'R', 'shots': 52, 'skaterFullName': 'Seth Jones', 'timeOnIcePerGame': 1836.2}, {'assists': 9, 'evGoals': 4, 'evPoints': 10, 'faceoffWinPct': 0.33333, 'gameWinningGoals': 2, 'gamesPlayed': 51, 'goals': 4, 'lastName': 'Maroon', 'otGoals': 1, 'penaltyMinutes': 40, 'playerId': 8474034, 'plusMinus': -1, 'points': 13, 'pointsPerGame': 0.2549, 'positionCode': 'L', 'ppGoals': 0, 'ppPoints': 3, 'shGoals': 0, 'shPoints': 0, 'shootingPct': 0.06666, 'shootsCatches': 'L', 'shots': 60, 'skaterFullName': 'Pat Maroon', 'timeOnIcePerGame': 747.7254}, {'assists': 10, 'evGoals': 2, 'evPoints': 11, 'faceoffWinPct': None, 'gameWinningGoals': 2, 'gamesPlayed': 25, 'goals': 3, 'lastName': 'Shattenkirk', 'otGoals': 1, 'penaltyMinutes': 6, 'playerId': 8474031, 'plusMinus': 8, 'points': 13, 'pointsPerGame': 0.52, 'positionCode': 'D', 'ppGoals': 1, 'ppPoints': 2, 'shGoals': 0, 'shPoints': 0, 'shootingPct': 0.06976, 'shootsCatches': 'R', 'shots': 43, 'skaterFullName': 'Kevin Shattenkirk', 'timeOnIcePerGame': 1170.08}, {'assists': 11, 'evGoals': 2, 'evPoints': 9, 'faceoffWinPct': None, 'gameWinningGoals': 0, 'gamesPlayed': 27, 'goals': 2, 'lastName': 'Schmidt', 'otGoals': 0, 'penaltyMinutes': 6, 'playerId': 8477220, 'plusMinus': 2, 'points': 13, 'pointsPerGame': 0.48148, 'positionCode': 'D', 'ppGoals': 0, 'ppPoints': 3, 'shGoals': 0, 'shPoints': 1, 'shootingPct': 0.02666, 'shootsCatches': 'L', 'shots': 75, 'skaterFullName': 'Nate Schmidt', 'timeOnIcePerGame': 1376.2962}, {'assists': 12, 'evGoals': 1, 'evPoints': 13, 'faceoffWinPct': 0.33333, 'gameWinningGoals': 0, 'gamesPlayed': 30, 'goals': 1, 'lastName': 'Nyquist', 'otGoals': 0, 'penaltyMinutes': 4, 'playerId': 8474679, 'plusMinus': 1, 'points': 13, 'pointsPerGame': 0.43333, 'positionCode': 'C', 'ppGoals': 0, 'ppPoints': 0, 'shGoals': 0, 'shPoints': 0, 'shootingPct': 0.02325, 'shootsCatches': 'L', 'shots': 43, 'skaterFullName': 'Gustav Nyquist', 'timeOnIcePerGame': 1052.4}, {'assists': 12, 'evGoals': 1, 'evPoints': 10, 'faceoffWinPct': None, 'gameWinningGoals': 0, 'gamesPlayed': 23, 'goals': 1, 'lastName': 'Slavin', 'otGoals': 0, 'penaltyMinutes': 0, 'playerId': 8476958, 'plusMinus': 3, 'points': 13, 'pointsPerGame': 0.56521, 'positionCode': 'D', 'ppGoals': 0, 'ppPoints': 2, 'shGoals': 0, 'shPoints': 1, 'shootingPct': 0.02439, 'shootsCatches': 'L', 'shots': 41, 'skaterFullName': 'Jaccob Slavin', 'timeOnIcePerGame': 1567.1304}, {'assists': 2, 'evGoals': 6, 'evPoints': 8, 'faceoffWinPct': 0.58992, 'gameWinningGoals': 2, 'gamesPlayed': 17, 'goals': 10, 'lastName': 'Horvat', 'otGoals': 1, 'penaltyMinutes': 4, 'playerId': 8477500, 'plusMinus': 0, 'points': 12, 'pointsPerGame': 0.70588, 'positionCode': 'C', 'ppGoals': 3, 'ppPoints': 3, 'shGoals': 1, 'shPoints': 1, 'shootingPct': 0.20833, 'shootsCatches': 'L', 'shots': 48, 'skaterFullName': 'Bo Horvat', 'timeOnIcePerGame': 1236.8823}, {'assists': 5, 'evGoals': 6, 'evPoints': 7, 'faceoffWinPct': 1.0, 'gameWinningGoals': 1, 'gamesPlayed': 15, 'goals': 7, 'lastName': 'Svechnikov', 'otGoals': 0, 'penaltyMinutes': 17, 'playerId': 8480830, 'plusMinus': 7, 'points': 12, 'pointsPerGame': 0.8, 'positionCode': 'R', 'ppGoals': 1, 'ppPoints': 5, 'shGoals': 0, 'shPoints': 0, 'shootingPct': 0.24137, 'shootsCatches': 'L', 'shots': 29, 'skaterFullName': 'Andrei Svechnikov', 'timeOnIcePerGame': 895.6666}, {'assists': 5, 'evGoals': 4, 'evPoints': 7, 'faceoffWinPct': 0.50802, 'gameWinningGoals': 2, 'gamesPlayed': 12, 'goals': 7, 'lastName': 'Matthews', 'otGoals': 1, 'penaltyMinutes': 2, 'playerId': 8479318, 'plusMinus': -2, 'points': 12, 'pointsPerGame': 1.0, 'positionCode': 'C', 'ppGoals': 3, 'ppPoints': 5, 'shGoals': 0, 'shPoints': 0, 'shootingPct': 0.11864, 'shootsCatches': 'L', 'shots': 59, 'skaterFullName': 'Auston Matthews', 'timeOnIcePerGame': 1317.5}, {'assists': 6, 'evGoals': 2, 'evPoints': 6, 'faceoffWinPct': 0.53529, 'gameWinningGoals': 2, 'gamesPlayed': 14, 'goals': 6, 'lastName': 'Duchene', 'otGoals': 1, 'penaltyMinutes': 2, 'playerId': 8475168, 'plusMinus': 0, 'points': 12, 'pointsPerGame': 0.85714, 'positionCode': 'C', 'ppGoals': 4, 'ppPoints': 6, 'shGoals': 0, 'shPoints': 0, 'shootingPct': 0.20689, 'shootsCatches': 'L', 'shots': 29, 'skaterFullName': 'Matt Duchene', 'timeOnIcePerGame': 1014.6428}, {'assists': 8, 'evGoals': 3, 'evPoints': 9, 'faceoffWinPct': 0.0, 'gameWinningGoals': 1, 'gamesPlayed': 17, 'goals': 4, 'lastName': 'Zuccarello', 'otGoals': 0, 'penaltyMinutes': 6, 'playerId': 8475692, 'plusMinus': 1, 'points': 12, 'pointsPerGame': 0.70588, 'positionCode': 'R', 'ppGoals': 1, 'ppPoints': 3, 'shGoals': 0, 'shPoints': 0, 'shootingPct': 0.16, 'shootsCatches': 'L', 'shots': 25, 'skaterFullName': 'Mats Zuccarello', 'timeOnIcePerGame': 984.2352}, {'assists': 8, 'evGoals': 3, 'evPoints': 8, 'faceoffWinPct': None, 'gameWinningGoals': 0, 'gamesPlayed': 29, 'goals': 4, 'lastName': 'Sergachev', 'otGoals': 0, 'penaltyMinutes': 26, 'playerId': 8479410, 'plusMinus': 0, 'points': 12, 'pointsPerGame': 0.41379, 'positionCode': 'D', 'ppGoals': 1, 'ppPoints': 4, 'shGoals': 0, 'shPoints': 0, 'shootingPct': 0.06557, 'shootsCatches': 'L', 'shots': 61, 'skaterFullName': 'Mikhail Sergachev', 'timeOnIcePerGame': 1325.2413}, {'assists': 9, 'evGoals': 1, 'evPoints': 6, 'faceoffWinPct': None, 'gameWinningGoals': 0, 'gamesPlayed': 36, 'goals': 3, 'lastName': 'McAvoy', 'otGoals': 0, 'penaltyMinutes': 40, 'playerId': 8479325, 'plusMinus': -2, 'points': 12, 'pointsPerGame': 0.33333, 'positionCode': 'D', 'ppGoals': 2, 'ppPoints': 4, 'shGoals': 0, 'shPoints': 2, 'shootingPct': 0.05555, 'shootsCatches': 'R', 'shots': 54, 'skaterFullName': 'Charlie McAvoy', 'timeOnIcePerGame': 1484.4722}, {'assists': 10, 'evGoals': 2, 'evPoints': 10, 'faceoffWinPct': None, 'gameWinningGoals': 1, 'gamesPlayed': 40, 'goals': 2, 'lastName': 'Lindell', 'otGoals': 0, 'penaltyMinutes': 6, 'playerId': 8476902, 'plusMinus': -8, 'points': 12, 'pointsPerGame': 0.3, 'positionCode': 'D', 'ppGoals': 0, 'ppPoints': 2, 'shGoals': 0, 'shPoints': 0, 'shootingPct': 0.03571, 'shootsCatches': 'L', 'shots': 56, 'skaterFullName': 'Esa Lindell', 'timeOnIcePerGame': 1527.35}, {'assists': 11, 'evGoals': 0, 'evPoints': 10, 'faceoffWinPct': None, 'gameWinningGoals': 1, 'gamesPlayed': 24, 'goals': 1, 'lastName': 'Girard', 'otGoals': 0, 'penaltyMinutes': 6, 'playerId': 8479398, 'plusMinus': 7, 'points': 12, 'pointsPerGame': 0.5, 'positionCode': 'D', 'ppGoals': 1, 'ppPoints': 2, 'shGoals': 0, 'shPoints': 0, 'shootingPct': 0.03846, 'shootsCatches': 'L', 'shots': 26, 'skaterFullName': 'Samuel Girard', 'timeOnIcePerGame': 1234.375}, {'assists': 3, 'evGoals': 8, 'evPoints': 11, 'faceoffWinPct': 0.55614, 'gameWinningGoals': 0, 'gamesPlayed': 22, 'goals': 8, 'lastName': 'Pageau', 'otGoals': 0, 'penaltyMinutes': 21, 'playerId': 8476419, 'plusMinus': 10, 'points': 11, 'pointsPerGame': 0.5, 'positionCode': 'C', 'ppGoals': 0, 'ppPoints': 0, 'shGoals': 0, 'shPoints': 0, 'shootingPct': 0.18181, 'shootsCatches': 'R', 'shots': 44, 'skaterFullName': 'Jean-Gabriel Pageau', 'timeOnIcePerGame': 1031.2727}, {'assists': 5, 'evGoals': 3, 'evPoints': 6, 'faceoffWinPct': 0.57142, 'gameWinningGoals': 0, 'gamesPlayed': 28, 'goals': 6, 'lastName': 'Killorn', 'otGoals': 0, 'penaltyMinutes': 33, 'playerId': 8473986, 'plusMinus': -4, 'points': 11, 'pointsPerGame': 0.39285, 'positionCode': 'L', 'ppGoals': 2, 'ppPoints': 4, 'shGoals': 1, 'shPoints': 1, 'shootingPct': 0.15, 'shootsCatches': 'L', 'shots': 40, 'skaterFullName': 'Alex Killorn', 'timeOnIcePerGame': 1116.6071}, {'assists': 7, 'evGoals': 4, 'evPoints': 10, 'faceoffWinPct': 0.46875, 'gameWinningGoals': 1, 'gamesPlayed': 29, 'goals': 4, 'lastName': 'Cirelli', 'otGoals': 1, 'penaltyMinutes': 2, 'playerId': 8478519, 'plusMinus': -7, 'points': 11, 'pointsPerGame': 0.37931, 'positionCode': 'C', 'ppGoals': 0, 'ppPoints': 1, 'shGoals': 0, 'shPoints': 0, 'shootingPct': 0.08, 'shootsCatches': 'L', 'shots': 50, 'skaterFullName': 'Anthony Cirelli', 'timeOnIcePerGame': 1191.3448}, {'assists': 7, 'evGoals': 2, 'evPoints': 5, 'faceoffWinPct': 0.66666, 'gameWinningGoals': 1, 'gamesPlayed': 17, 'goals': 4, 'lastName': 'Boeser', 'otGoals': 0, 'penaltyMinutes': 10, 'playerId': 8478444, 'plusMinus': -1, 'points': 11, 'pointsPerGame': 0.64705, 'positionCode': 'R', 'ppGoals': 2, 'ppPoints': 6, 'shGoals': 0, 'shPoints': 0, 'shootingPct': 0.12903, 'shootsCatches': 'R', 'shots': 31, 'skaterFullName': 'Brock Boeser', 'timeOnIcePerGame': 1133.7058}, {'assists': 7, 'evGoals': 2, 'evPoints': 4, 'faceoffWinPct': 0.38645, 'gameWinningGoals': 0, 'gamesPlayed': 15, 'goals': 4, 'lastName': 'Kuznetsov', 'otGoals': 0, 'penaltyMinutes': 6, 'playerId': 8475744, 'plusMinus': -5, 'points': 11, 'pointsPerGame': 0.73333, 'positionCode': 'C', 'ppGoals': 2, 'ppPoints': 7, 'shGoals': 0, 'shPoints': 0, 'shootingPct': 0.10526, 'shootsCatches': 'L', 'shots': 38, 'skaterFullName': 'Evgeny Kuznetsov', 'timeOnIcePerGame': 1197.2}, {'assists': 7, 'evGoals': 2, 'evPoints': 9, 'faceoffWinPct': 0.53846, 'gameWinningGoals': 1, 'gamesPlayed': 22, 'goals': 4, 'lastName': 'Johansson', 'otGoals': 0, 'penaltyMinutes': 0, 'playerId': 8475149, 'plusMinus': 0, 'points': 11, 'pointsPerGame': 0.5, 'positionCode': 'C', 'ppGoals': 2, 'ppPoints': 2, 'shGoals': 0, 'shPoints': 0, 'shootingPct': 0.11111, 'shootsCatches': 'L', 'shots': 36, 'skaterFullName': 'Marcus Johansson', 'timeOnIcePerGame': 841.2727}, {'assists': 9, 'evGoals': 0, 'evPoints': 8, 'faceoffWinPct': None, 'gameWinningGoals': 0, 'gamesPlayed': 30, 'goals': 2, 'lastName': 'Pulock', 'otGoals': 0, 'penaltyMinutes': 10, 'playerId': 8477506, 'plusMinus': -3, 'points': 11, 'pointsPerGame': 0.36666, 'positionCode': 'D', 'ppGoals': 2, 'ppPoints': 3, 'shGoals': 0, 'shPoints': 0, 'shootingPct': 0.03703, 'shootsCatches': 'R', 'shots': 54, 'skaterFullName': 'Ryan Pulock', 'timeOnIcePerGame': 1371.4666}, {'assists': 9, 'evGoals': 2, 'evPoints': 10, 'faceoffWinPct': 0.34146, 'gameWinningGoals': 1, 'gamesPlayed': 33, 'goals': 2, 'lastName': 'Janmark', 'otGoals': 0, 'penaltyMinutes': 46, 'playerId': 8477406, 'plusMinus': -1, 'points': 11, 'pointsPerGame': 0.33333, 'positionCode': 'C', 'ppGoals': 0, 'ppPoints': 0, 'shGoals': 0, 'shPoints': 1, 'shootingPct': 0.04761, 'shootsCatches': 'L', 'shots': 42, 'skaterFullName': 'Mattias Janmark', 'timeOnIcePerGame': 883.6363}, {'assists': 9, 'evGoals': 2, 'evPoints': 8, 'faceoffWinPct': None, 'gameWinningGoals': 0, 'gamesPlayed': 29, 'goals': 2, 'lastName': 'Dunn', 'otGoals': 0, 'penaltyMinutes': 16, 'playerId': 8478407, 'plusMinus': -7, 'points': 11, 'pointsPerGame': 0.37931, 'positionCode': 'D', 'ppGoals': 0, 'ppPoints': 3, 'shGoals': 0, 'shPoints': 0, 'shootingPct': 0.04444, 'shootsCatches': 'L', 'shots': 45, 'skaterFullName': 'Vince Dunn', 'timeOnIcePerGame': 932.1034}, {'assists': 11, 'evGoals': 0, 'evPoints': 3, 'faceoffWinPct': None, 'gameWinningGoals': 0, 'gamesPlayed': 12, 'goals': 0, 'lastName': 'Carlson', 'otGoals': 0, 'penaltyMinutes': 8, 'playerId': 8474590, 'plusMinus': -11, 'points': 11, 'pointsPerGame': 0.91666, 'positionCode': 'D', 'ppGoals': 0, 'ppPoints': 8, 'shGoals': 0, 'shPoints': 0, 'shootingPct': 0.0, 'shootsCatches': 'R', 'shots': 34, 'skaterFullName': 'John Carlson', 'timeOnIcePerGame': 1539.1666}, {'assists': 4, 'evGoals': 6, 'evPoints': 9, 'faceoffWinPct': 0.5, 'gameWinningGoals': 2, 'gamesPlayed': 23, 'goals': 6, 'lastName': 'Foegele', 'otGoals': 0, 'penaltyMinutes': 8, 'playerId': 8477998, 'plusMinus': 5, 'points': 10, 'pointsPerGame': 0.43478, 'positionCode': 'L', 'ppGoals': 0, 'ppPoints': 1, 'shGoals': 0, 'shPoints': 0, 'shootingPct': 0.2, 'shootsCatches': 'L', 'shots': 30, 'skaterFullName': 'Warren Foegele', 'timeOnIcePerGame': 837.0434}, {'assists': 5, 'evGoals': 3, 'evPoints': 8, 'faceoffWinPct': 0.16666, 'gameWinningGoals': 0, 'gamesPlayed': 26, 'goals': 5, 'lastName': 'Nieto', 'otGoals': 0, 'penaltyMinutes': 6, 'playerId': 8476442, 'plusMinus': 7, 'points': 10, 'pointsPerGame': 0.38461, 'positionCode': 'L', 'ppGoals': 0, 'ppPoints': 0, 'shGoals': 2, 'shPoints': 2, 'shootingPct': 0.13888, 'shootsCatches': 'L', 'shots': 36, 'skaterFullName': 'Matt Nieto', 'timeOnIcePerGame': 805.7692}, {'assists': 6, 'evGoals': 4, 'evPoints': 9, 'faceoffWinPct': 0.51376, 'gameWinningGoals': 0, 'gamesPlayed': 19, 'goals': 4, 'lastName': 'Thornton', 'otGoals': 0, 'penaltyMinutes': 6, 'playerId': 8466138, 'plusMinus': -6, 'points': 10, 'pointsPerGame': 0.52631, 'positionCode': 'C', 'ppGoals': 0, 'ppPoints': 1, 'shGoals': 0, 'shPoints': 0, 'shootingPct': 0.13793, 'shootsCatches': 'L', 'shots': 29, 'skaterFullName': 'Joe Thornton', 'timeOnIcePerGame': 955.8947}, {'assists': 6, 'evGoals': 3, 'evPoints': 7, 'faceoffWinPct': 0.52419, 'gameWinningGoals': 2, 'gamesPlayed': 23, 'goals': 4, 'lastName': 'Staal', 'otGoals': 1, 'penaltyMinutes': 12, 'playerId': 8473533, 'plusMinus': 5, 'points': 10, 'pointsPerGame': 0.43478, 'positionCode': 'C', 'ppGoals': 1, 'ppPoints': 3, 'shGoals': 0, 'shPoints': 0, 'shootingPct': 0.14285, 'shootsCatches': 'L', 'shots': 28, 'skaterFullName': 'Jordan Staal', 'timeOnIcePerGame': 1099.3913}, {'assists': 6, 'evGoals': 4, 'evPoints': 10, 'faceoffWinPct': 0.45783, 'gameWinningGoals': 1, 'gamesPlayed': 34, 'goals': 4, 'lastName': 'Sundqvist', 'otGoals': 0, 'penaltyMinutes': 10, 'playerId': 8476897, 'plusMinus': 1, 'points': 10, 'pointsPerGame': 0.29411, 'positionCode': 'C', 'ppGoals': 0, 'ppPoints': 0, 'shGoals': 0, 'shPoints': 0, 'shootingPct': 0.07407, 'shootsCatches': 'R', 'shots': 54, 'skaterFullName': 'Oskar Sundqvist', 'timeOnIcePerGame': 930.7352}, {'assists': 7, 'evGoals': 2, 'evPoints': 5, 'faceoffWinPct': 0.59504, 'gameWinningGoals': 1, 'gamesPlayed': 15, 'goals': 3, 'lastName': 'Monahan', 'otGoals': 0, 'penaltyMinutes': 2, 'playerId': 8477497, 'plusMinus': 1, 'points': 10, 'pointsPerGame': 0.66666, 'positionCode': 'C', 'ppGoals': 1, 'ppPoints': 5, 'shGoals': 0, 'shPoints': 0, 'shootingPct': 0.08571, 'shootsCatches': 'L', 'shots': 35, 'skaterFullName': 'Sean Monahan', 'timeOnIcePerGame': 1095.1333}, {'assists': 7, 'evGoals': 3, 'evPoints': 10, 'faceoffWinPct': 0.0, 'gameWinningGoals': 0, 'gamesPlayed': 36, 'goals': 3, 'lastName': 'Nordstrom', 'otGoals': 0, 'penaltyMinutes': 6, 'playerId': 8475807, 'plusMinus': -4, 'points': 10, 'pointsPerGame': 0.27777, 'positionCode': 'C', 'ppGoals': 0, 'ppPoints': 0, 'shGoals': 0, 'shPoints': 0, 'shootingPct': 0.07692, 'shootsCatches': 'L', 'shots': 39, 'skaterFullName': 'Joakim Nordstrom', 'timeOnIcePerGame': 794.8611}, {'assists': 4, 'evGoals': 2, 'evPoints': 4, 'faceoffWinPct': 0.43103, 'gameWinningGoals': 1, 'gamesPlayed': 4, 'goals': 5, 'lastName': 'McDavid', 'otGoals': 0, 'penaltyMinutes': 2, 'playerId': 8478402, 'plusMinus': 1, 'points': 9, 'pointsPerGame': 2.25, 'positionCode': 'C', 'ppGoals': 3, 'ppPoints': 5, 'shGoals': 0, 'shPoints': 0, 'shootingPct': 0.45454, 'shootsCatches': 'L', 'shots': 11, 'skaterFullName': 'Connor McDavid', 'timeOnIcePerGame': 1343.25}, {'assists': 4, 'evGoals': 4, 'evPoints': 8, 'faceoffWinPct': 0.40454, 'gameWinningGoals': 0, 'gamesPlayed': 40, 'goals': 5, 'lastName': 'Dickinson', 'otGoals': 0, 'penaltyMinutes': 12, 'playerId': 8477450, 'plusMinus': -7, 'points': 9, 'pointsPerGame': 0.225, 'positionCode': 'C', 'ppGoals': 0, 'ppPoints': 0, 'shGoals': 1, 'shPoints': 1, 'shootingPct': 0.08771, 'shootsCatches': 'L', 'shots': 57, 'skaterFullName': 'Jason Dickinson', 'timeOnIcePerGame': 960.85}, {'assists': 4, 'evGoals': 2, 'evPoints': 3, 'faceoffWinPct': 0.45643, 'gameWinningGoals': 1, 'gamesPlayed': 15, 'goals': 5, 'lastName': 'Backlund', 'otGoals': 0, 'penaltyMinutes': 16, 'playerId': 8474150, 'plusMinus': -7, 'points': 9, 'pointsPerGame': 0.6, 'positionCode': 'C', 'ppGoals': 2, 'ppPoints': 5, 'shGoals': 1, 'shPoints': 1, 'shootingPct': 0.11363, 'shootsCatches': 'L', 'shots': 44, 'skaterFullName': 'Mikael Backlund', 'timeOnIcePerGame': 1175.8666}, {'assists': 4, 'evGoals': 3, 'evPoints': 5, 'faceoffWinPct': 0.54929, 'gameWinningGoals': 1, 'gamesPlayed': 9, 'goals': 5, 'lastName': 'Toews', 'otGoals': 0, 'penaltyMinutes': 2, 'playerId': 8473604, 'plusMinus': -2, 'points': 9, 'pointsPerGame': 1.0, 'positionCode': 'C', 'ppGoals': 2, 'ppPoints': 4, 'shGoals': 0, 'shPoints': 0, 'shootingPct': 0.26315, 'shootsCatches': 'L', 'shots': 19, 'skaterFullName': 'Jonathan Toews', 'timeOnIcePerGame': 1121.4444}, {'assists': 4, 'evGoals': 3, 'evPoints': 5, 'faceoffWinPct': 0.48908, 'gameWinningGoals': 1, 'gamesPlayed': 12, 'goals': 5, 'lastName': 'Backstrom', 'otGoals': 0, 'penaltyMinutes': 4, 'playerId': 8473563, 'plusMinus': -6, 'points': 9, 'pointsPerGame': 0.75, 'positionCode': 'C', 'ppGoals': 2, 'ppPoints': 4, 'shGoals': 0, 'shPoints': 0, 'shootingPct': 0.2, 'shootsCatches': 'L', 'shots': 25, 'skaterFullName': 'Nicklas Backstrom', 'timeOnIcePerGame': 1146.0}, {'assists': 4, 'evGoals': 5, 'evPoints': 9, 'faceoffWinPct': 0.46938, 'gameWinningGoals': 1, 'gamesPlayed': 15, 'goals': 5, 'lastName': 'Laughton', 'otGoals': 1, 'penaltyMinutes': 21, 'playerId': 8476872, 'plusMinus': 2, 'points': 9, 'pointsPerGame': 0.6, 'positionCode': 'C', 'ppGoals': 0, 'ppPoints': 0, 'shGoals': 0, 'shPoints': 0, 'shootingPct': 0.25, 'shootsCatches': 'L', 'shots': 20, 'skaterFullName': 'Scott Laughton', 'timeOnIcePerGame': 921.5333}, {'assists': 4, 'evGoals': 3, 'evPoints': 5, 'faceoffWinPct': 0.33333, 'gameWinningGoals': 1, 'gamesPlayed': 27, 'goals': 5, 'lastName': 'Perry', 'otGoals': 1, 'penaltyMinutes': 27, 'playerId': 8470621, 'plusMinus': -3, 'points': 9, 'pointsPerGame': 0.33333, 'positionCode': 'R', 'ppGoals': 2, 'ppPoints': 4, 'shGoals': 0, 'shPoints': 0, 'shootingPct': 0.0909, 'shootsCatches': 'R', 'shots': 55, 'skaterFullName': 'Corey Perry', 'timeOnIcePerGame': 832.2222}, {'assists': 4, 'evGoals': 5, 'evPoints': 9, 'faceoffWinPct': None, 'gameWinningGoals': 2, 'gamesPlayed': 31, 'goals': 5, 'lastName': 'Oleksiak', 'otGoals': 0, 'penaltyMinutes': 26, 'playerId': 8476467, 'plusMinus': 10, 'points': 9, 'pointsPerGame': 0.29032, 'positionCode': 'D', 'ppGoals': 0, 'ppPoints': 0, 'shGoals': 0, 'shPoints': 0, 'shootingPct': 0.12195, 'shootsCatches': 'L', 'shots': 41, 'skaterFullName': 'Jamie Oleksiak', 'timeOnIcePerGame': 1219.9677}, {'assists': 5, 'evGoals': 3, 'evPoints': 5, 'faceoffWinPct': 0.42857, 'gameWinningGoals': 1, 'gamesPlayed': 20, 'goals': 4, 'lastName': 'Labanc', 'otGoals': 0, 'penaltyMinutes': 14, 'playerId': 8478099, 'plusMinus': -7, 'points': 9, 'pointsPerGame': 0.45, 'positionCode': 'R', 'ppGoals': 1, 'ppPoints': 4, 'shGoals': 0, 'shPoints': 0, 'shootingPct': 0.11764, 'shootsCatches': 'R', 'shots': 34, 'skaterFullName': 'Kevin Labanc', 'timeOnIcePerGame': 890.9}, {'assists': 5, 'evGoals': 1, 'evPoints': 5, 'faceoffWinPct': 0.0, 'gameWinningGoals': 1, 'gamesPlayed': 15, 'goals': 4, 'lastName': 'Voracek', 'otGoals': 0, 'penaltyMinutes': 24, 'playerId': 8474161, 'plusMinus': 3, 'points': 9, 'pointsPerGame': 0.6, 'positionCode': 'R', 'ppGoals': 3, 'ppPoints': 4, 'shGoals': 0, 'shPoints': 0, 'shootingPct': 0.12121, 'shootsCatches': 'L', 'shots': 33, 'skaterFullName': 'Jakub Voracek', 'timeOnIcePerGame': 1089.1333}, {'assists': 5, 'evGoals': 2, 'evPoints': 3, 'faceoffWinPct': None, 'gameWinningGoals': 0, 'gamesPlayed': 32, 'goals': 4, 'lastName': 'Grzelcyk', 'otGoals': 0, 'penaltyMinutes': 10, 'playerId': 8476891, 'plusMinus': -8, 'points': 9, 'pointsPerGame': 0.28125, 'positionCode': 'D', 'ppGoals': 2, 'ppPoints': 6, 'shGoals': 0, 'shPoints': 0, 'shootingPct': 0.0909, 'shootsCatches': 'L', 'shots': 44, 'skaterFullName': 'Matt Grzelcyk', 'timeOnIcePerGame': 1061.4375}, {'assists': 5, 'evGoals': 2, 'evPoints': 6, 'faceoffWinPct': None, 'gameWinningGoals': 1, 'gamesPlayed': 20, 'goals': 4, 'lastName': 'Hamilton', 'otGoals': 0, 'penaltyMinutes': 14, 'playerId': 8476462, 'plusMinus': 1, 'points': 9, 'pointsPerGame': 0.45, 'positionCode': 'D', 'ppGoals': 2, 'ppPoints': 3, 'shGoals': 0, 'shPoints': 0, 'shootingPct': 0.06666, 'shootsCatches': 'R', 'shots': 60, 'skaterFullName': 'Dougie Hamilton', 'timeOnIcePerGame': 1285.65}, {'assists': 5, 'evGoals': 4, 'evPoints': 8, 'faceoffWinPct': 0.2, 'gameWinningGoals': 1, 'gamesPlayed': 21, 'goals': 4, 'lastName': 'Donskoi', 'otGoals': 0, 'penaltyMinutes': 6, 'playerId': 8475820, 'plusMinus': 2, 'points': 9, 'pointsPerGame': 0.42857, 'positionCode': 'R', 'ppGoals': 0, 'ppPoints': 1, 'shGoals': 0, 'shPoints': 0, 'shootingPct': 0.2, 'shootsCatches': 'R', 'shots': 20, 'skaterFullName': 'Joonas Donskoi', 'timeOnIcePerGame': 793.0476}, {'assists': 6, 'evGoals': 3, 'evPoints': 9, 'faceoffWinPct': 0.2, 'gameWinningGoals': 0, 'gamesPlayed': 36, 'goals': 3, 'lastName': 'Comeau', 'otGoals': 0, 'penaltyMinutes': 46, 'playerId': 8471260, 'plusMinus': -2, 'points': 9, 'pointsPerGame': 0.25, 'positionCode': 'L', 'ppGoals': 0, 'ppPoints': 0, 'shGoals': 0, 'shPoints': 0, 'shootingPct': 0.07692, 'shootsCatches': 'R', 'shots': 39, 'skaterFullName': 'Blake Comeau', 'timeOnIcePerGame': 911.2777}, {'assists': 6, 'evGoals': 3, 'evPoints': 8, 'faceoffWinPct': 0.51898, 'gameWinningGoals': 0, 'gamesPlayed': 20, 'goals': 3, 'lastName': 'Foligno', 'otGoals': 0, 'penaltyMinutes': 14, 'playerId': 8473422, 'plusMinus': 3, 'points': 9, 'pointsPerGame': 0.45, 'positionCode': 'L', 'ppGoals': 0, 'ppPoints': 1, 'shGoals': 0, 'shPoints': 0, 'shootingPct': 0.08571, 'shootsCatches': 'L', 'shots': 35, 'skaterFullName': 'Nick Foligno', 'timeOnIcePerGame': 1247.9}, {'assists': 6, 'evGoals': 0, 'evPoints': 4, 'faceoffWinPct': 0.48832, 'gameWinningGoals': 1, 'gamesPlayed': 32, 'goals': 3, 'lastName': 'Faksa', 'otGoals': 0, 'penaltyMinutes': 10, 'playerId': 8476889, 'plusMinus': -4, 'points': 9, 'pointsPerGame': 0.28125, 'positionCode': 'C', 'ppGoals': 3, 'ppPoints': 5, 'shGoals': 0, 'shPoints': 0, 'shootingPct': 0.08108, 'shootsCatches': 'L', 'shots': 37, 'skaterFullName': 'Radek Faksa', 'timeOnIcePerGame': 985.3125}, {'assists': 7, 'evGoals': 2, 'evPoints': 7, 'faceoffWinPct': None, 'gameWinningGoals': 0, 'gamesPlayed': 9, 'goals': 2, 'lastName': 'Kane', 'otGoals': 0, 'penaltyMinutes': 2, 'playerId': 8474141, 'plusMinus': 0, 'points': 9, 'pointsPerGame': 1.0, 'positionCode': 'R', 'ppGoals': 0, 'ppPoints': 2, 'shGoals': 0, 'shPoints': 0, 'shootingPct': 0.07142, 'shootsCatches': 'L', 'shots': 28, 'skaterFullName': 'Patrick Kane', 'timeOnIcePerGame': 1349.7777}, {'assists': 7, 'evGoals': 1, 'evPoints': 6, 'faceoffWinPct': None, 'gameWinningGoals': 2, 'gamesPlayed': 20, 'goals': 2, 'lastName': 'Werenski', 'otGoals': 0, 'penaltyMinutes': 13, 'playerId': 8478460, 'plusMinus': 4, 'points': 9, 'pointsPerGame': 0.45, 'positionCode': 'D', 'ppGoals': 1, 'ppPoints': 3, 'shGoals': 0, 'shPoints': 0, 'shootingPct': 0.04878, 'shootsCatches': 'L', 'shots': 41, 'skaterFullName': 'Zach Werenski', 'timeOnIcePerGame': 1699.7}, {'assists': 7, 'evGoals': 2, 'evPoints': 7, 'faceoffWinPct': 0.56937, 'gameWinningGoals': 0, 'gamesPlayed': 15, 'goals': 2, 'lastName': 'Couturier', 'otGoals': 0, 'penaltyMinutes': 16, 'playerId': 8476461, 'plusMinus': 1, 'points': 9, 'pointsPerGame': 0.6, 'positionCode': 'C', 'ppGoals': 0, 'ppPoints': 2, 'shGoals': 0, 'shPoints': 0, 'shootingPct': 0.08695, 'shootsCatches': 'L', 'shots': 23, 'skaterFullName': 'Sean Couturier', 'timeOnIcePerGame': 1153.4}, {'assists': 7, 'evGoals': 2, 'evPoints': 7, 'faceoffWinPct': 0.50666, 'gameWinningGoals': 0, 'gamesPlayed': 29, 'goals': 2, 'lastName': 'Thomas', 'otGoals': 0, 'penaltyMinutes': 12, 'playerId': 8480023, 'plusMinus': -2, 'points': 9, 'pointsPerGame': 0.31034, 'positionCode': 'C', 'ppGoals': 0, 'ppPoints': 2, 'shGoals': 0, 'shPoints': 0, 'shootingPct': 0.05128, 'shootsCatches': 'R', 'shots': 39, 'skaterFullName': 'Robert Thomas', 'timeOnIcePerGame': 832.4482}, {'assists': 7, 'evGoals': 2, 'evPoints': 8, 'faceoffWinPct': None, 'gameWinningGoals': 0, 'gamesPlayed': 24, 'goals': 2, 'lastName': 'Faulk', 'otGoals': 0, 'penaltyMinutes': 6, 'playerId': 8475753, 'plusMinus': 4, 'points': 9, 'pointsPerGame': 0.375, 'positionCode': 'D', 'ppGoals': 0, 'ppPoints': 1, 'shGoals': 0, 'shPoints': 0, 'shootingPct': 0.03278, 'shootsCatches': 'R', 'shots': 61, 'skaterFullName': 'Justin Faulk', 'timeOnIcePerGame': 1425.75}, {'assists': 7, 'evGoals': 2, 'evPoints': 8, 'faceoffWinPct': 0.53448, 'gameWinningGoals': 0, 'gamesPlayed': 27, 'goals': 2, 'lastName': 'Brassard', 'otGoals': 0, 'penaltyMinutes': 14, 'playerId': 8473544, 'plusMinus': -1, 'points': 9, 'pointsPerGame': 0.33333, 'positionCode': 'C', 'ppGoals': 0, 'ppPoints': 1, 'shGoals': 0, 'shPoints': 0, 'shootingPct': 0.04444, 'shootsCatches': 'L', 'shots': 45, 'skaterFullName': 'Derick Brassard', 'timeOnIcePerGame': 700.1851}, {'assists': 3, 'evGoals': 3, 'evPoints': 6, 'faceoffWinPct': 0.0, 'gameWinningGoals': 3, 'gamesPlayed': 20, 'goals': 5, 'lastName': 'Bjorkstrand', 'otGoals': 0, 'penaltyMinutes': 0, 'playerId': 8477416, 'plusMinus': -6, 'points': 8, 'pointsPerGame': 0.4, 'positionCode': 'R', 'ppGoals': 2, 'ppPoints': 2, 'shGoals': 0, 'shPoints': 0, 'shootingPct': 0.09803, 'shootsCatches': 'R', 'shots': 51, 'skaterFullName': 'Oliver Bjorkstrand', 'timeOnIcePerGame': 1040.1}, {'assists': 3, 'evGoals': 5, 'evPoints': 8, 'faceoffWinPct': 0.42857, 'gameWinningGoals': 1, 'gamesPlayed': 22, 'goals': 5, 'lastName': 'Williams', 'otGoals': 0, 'penaltyMinutes': 27, 'playerId': 8468508, 'plusMinus': 1, 'points': 8, 'pointsPerGame': 0.36363, 'positionCode': 'R', 'ppGoals': 0, 'ppPoints': 0, 'shGoals': 0, 'shPoints': 0, 'shootingPct': 0.08196, 'shootsCatches': 'R', 'shots': 61, 'skaterFullName': 'Justin Williams', 'timeOnIcePerGame': 1033.8181}, {'assists': 4, 'evGoals': 1, 'evPoints': 4, 'faceoffWinPct': None, 'gameWinningGoals': 2, 'gamesPlayed': 9, 'goals': 4, 'lastName': 'Kubalik', 'otGoals': 0, 'penaltyMinutes': 4, 'playerId': 8477330, 'plusMinus': -2, 'points': 8, 'pointsPerGame': 0.88888, 'positionCode': 'L', 'ppGoals': 3, 'ppPoints': 4, 'shGoals': 0, 'shPoints': 0, 'shootingPct': 0.19047, 'shootsCatches': 'L', 'shots': 21, 'skaterFullName': 'Dominik Kubalik', 'timeOnIcePerGame': 960.4444}, {'assists': 4, 'evGoals': 3, 'evPoints': 3, 'faceoffWinPct': None, 'gameWinningGoals': 1, 'gamesPlayed': 15, 'goals': 4, 'lastName': 'Andersson', 'otGoals': 0, 'penaltyMinutes': 8, 'playerId': 8478397, 'plusMinus': 3, 'points': 8, 'pointsPerGame': 0.53333, 'positionCode': 'D', 'ppGoals': 1, 'ppPoints': 3, 'shGoals': 0, 'shPoints': 2, 'shootingPct': 0.14285, 'shootsCatches': 'R', 'shots': 28, 'skaterFullName': 'Rasmus Andersson', 'timeOnIcePerGame': 1230.2666}, {'assists': 4, 'evGoals': 3, 'evPoints': 5, 'faceoffWinPct': None, 'gameWinningGoals': 0, 'gamesPlayed': 30, 'goals': 4, 'lastName': 'Leddy', 'otGoals': 0, 'penaltyMinutes': 0, 'playerId': 8475181, 'plusMinus': 6, 'points': 8, 'pointsPerGame': 0.26666, 'positionCode': 'D', 'ppGoals': 1, 'ppPoints': 3, 'shGoals': 0, 'shPoints': 0, 'shootingPct': 0.11764, 'shootsCatches': 'L', 'shots': 34, 'skaterFullName': 'Nick Leddy', 'timeOnIcePerGame': 1272.3}, {'assists': 4, 'evGoals': 4, 'evPoints': 6, 'faceoffWinPct': 0.51694, 'gameWinningGoals': 0, 'gamesPlayed': 12, 'goals': 4, 'lastName': 'Tavares', 'otGoals': 0, 'penaltyMinutes': 0, 'playerId': 8475166, 'plusMinus': -8, 'points': 8, 'pointsPerGame': 0.66666, 'positionCode': 'C', 'ppGoals': 0, 'ppPoints': 2, 'shGoals': 0, 'shPoints': 0, 'shootingPct': 0.08888, 'shootsCatches': 'L', 'shots': 45, 'skaterFullName': 'John Tavares', 'timeOnIcePerGame': 1255.8333}, {'assists': 4, 'evGoals': 1, 'evPoints': 5, 'faceoffWinPct': 0.33333, 'gameWinningGoals': 0, 'gamesPlayed': 12, 'goals': 4, 'lastName': 'Wilson', 'otGoals': 0, 'penaltyMinutes': 2, 'playerId': 8474569, 'plusMinus': 0, 'points': 8, 'pointsPerGame': 0.66666, 'positionCode': 'C', 'ppGoals': 3, 'ppPoints': 3, 'shGoals': 0, 'shPoints': 0, 'shootingPct': 0.16, 'shootsCatches': 'L', 'shots': 25, 'skaterFullName': 'Colin Wilson', 'timeOnIcePerGame': 968.0}, {'assists': 4, 'evGoals': 1, 'evPoints': 2, 'faceoffWinPct': None, 'gameWinningGoals': 0, 'gamesPlayed': 15, 'goals': 4, 'lastName': 'Gaudreau', 'otGoals': 0, 'penaltyMinutes': 2, 'playerId': 8476346, 'plusMinus': -2, 'points': 8, 'pointsPerGame': 0.53333, 'positionCode': 'L', 'ppGoals': 3, 'ppPoints': 6, 'shGoals': 0, 'shPoints': 0, 'shootingPct': 0.09302, 'shootsCatches': 'L', 'shots': 43, 'skaterFullName': 'Johnny Gaudreau', 'timeOnIcePerGame': 1118.0666}, {'assists': 4, 'evGoals': 3, 'evPoints': 4, 'faceoffWinPct': 0.30769, 'gameWinningGoals': 1, 'gamesPlayed': 15, 'goals': 4, 'lastName': 'Wilson', 'otGoals': 0, 'penaltyMinutes': 25, 'playerId': 8476880, 'plusMinus': -4, 'points': 8, 'pointsPerGame': 0.53333, 'positionCode': 'R', 'ppGoals': 1, 'ppPoints': 4, 'shGoals': 0, 'shPoints': 0, 'shootingPct': 0.16666, 'shootsCatches': 'R', 'shots': 24, 'skaterFullName': 'Tom Wilson', 'timeOnIcePerGame': 1181.0666}, {'assists': 4, 'evGoals': 3, 'evPoints': 5, 'faceoffWinPct': 0.43229, 'gameWinningGoals': 1, 'gamesPlayed': 29, 'goals': 4, 'lastName': 'Johnson', 'otGoals': 0, 'penaltyMinutes': 11, 'playerId': 8474870, 'plusMinus': -9, 'points': 8, 'pointsPerGame': 0.27586, 'positionCode': 'C', 'ppGoals': 1, 'ppPoints': 3, 'shGoals': 0, 'shPoints': 0, 'shootingPct': 0.07692, 'shootsCatches': 'R', 'shots': 52, 'skaterFullName': 'Tyler Johnson', 'timeOnIcePerGame': 943.1034}, {'assists': 4, 'evGoals': 3, 'evPoints': 7, 'faceoffWinPct': 0.0, 'gameWinningGoals': 0, 'gamesPlayed': 17, 'goals': 4, 'lastName': 'Pearson', 'otGoals': 0, 'penaltyMinutes': 4, 'playerId': 8476871, 'plusMinus': -4, 'points': 8, 'pointsPerGame': 0.47058, 'positionCode': 'L', 'ppGoals': 1, 'ppPoints': 1, 'shGoals': 0, 'shPoints': 0, 'shootingPct': 0.1081, 'shootsCatches': 'L', 'shots': 37, 'skaterFullName': 'Tanner Pearson', 'timeOnIcePerGame': 1040.9411}, {'assists': 5, 'evGoals': 3, 'evPoints': 8, 'faceoffWinPct': 0.47043, 'gameWinningGoals': 2, 'gamesPlayed': 45, 'goals': 3, 'lastName': 'Goodrow', 'otGoals': 1, 'penaltyMinutes': 38, 'playerId': 8476624, 'plusMinus': 2, 'points': 8, 'pointsPerGame': 0.17777, 'positionCode': 'C', 'ppGoals': 0, 'ppPoints': 0, 'shGoals': 0, 'shPoints': 0, 'shootingPct': 0.06382, 'shootsCatches': 'L', 'shots': 47, 'skaterFullName': 'Barclay Goodrow', 'timeOnIcePerGame': 920.7555}, {'assists': 5, 'evGoals': 2, 'evPoints': 7, 'faceoffWinPct': 0.26315, 'gameWinningGoals': 1, 'gamesPlayed': 23, 'goals': 3, 'lastName': 'McGinn', 'otGoals': 1, 'penaltyMinutes': 8, 'playerId': 8476934, 'plusMinus': -1, 'points': 8, 'pointsPerGame': 0.34782, 'positionCode': 'L', 'ppGoals': 0, 'ppPoints': 0, 'shGoals': 1, 'shPoints': 1, 'shootingPct': 0.09677, 'shootsCatches': 'L', 'shots': 31, 'skaterFullName': 'Brock McGinn', 'timeOnIcePerGame': 947.0}, {'assists': 5, 'evGoals': 1, 'evPoints': 2, 'faceoffWinPct': 0.56451, 'gameWinningGoals': 0, 'gamesPlayed': 15, 'goals': 3, 'lastName': 'Lindholm', 'otGoals': 0, 'penaltyMinutes': 6, 'playerId': 8477496, 'plusMinus': -4, 'points': 8, 'pointsPerGame': 0.53333, 'positionCode': 'C', 'ppGoals': 2, 'ppPoints': 5, 'shGoals': 0, 'shPoints': 1, 'shootingPct': 0.09677, 'shootsCatches': 'R', 'shots': 31, 'skaterFullName': 'Elias Lindholm', 'timeOnIcePerGame': 1203.3333}, {'assists': 5, 'evGoals': 3, 'evPoints': 7, 'faceoffWinPct': None, 'gameWinningGoals': 1, 'gamesPlayed': 18, 'goals': 3, 'lastName': 'Vlasic', 'otGoals': 0, 'penaltyMinutes': 4, 'playerId': 8471709, 'plusMinus': 6, 'points': 8, 'pointsPerGame': 0.44444, 'positionCode': 'D', 'ppGoals': 0, 'ppPoints': 0, 'shGoals': 0, 'shPoints': 1, 'shootingPct': 0.11538, 'shootsCatches': 'L', 'shots': 26, 'skaterFullName': 'Marc-Edouard Vlasic', 'timeOnIcePerGame': 1413.0}, {'assists': 5, 'evGoals': 3, 'evPoints': 7, 'faceoffWinPct': None, 'gameWinningGoals': 1, 'gamesPlayed': 26, 'goals': 3, 'lastName': 'Clifton', 'otGoals': 0, 'penaltyMinutes': 22, 'playerId': 8477365, 'plusMinus': 1, 'points': 8, 'pointsPerGame': 0.30769, 'positionCode': 'D', 'ppGoals': 0, 'ppPoints': 1, 'shGoals': 0, 'shPoints': 0, 'shootingPct': 0.13043, 'shootsCatches': 'R', 'shots': 23, 'skaterFullName': 'Connor Clifton', 'timeOnIcePerGame': 841.423}, {'assists': 5, 'evGoals': 3, 'evPoints': 6, 'faceoffWinPct': None, 'gameWinningGoals': 1, 'gamesPlayed': 16, 'goals': 3, 'lastName': 'Provorov', 'otGoals': 1, 'penaltyMinutes': 4, 'playerId': 8478500, 'plusMinus': 2, 'points': 8, 'pointsPerGame': 0.5, 'positionCode': 'D', 'ppGoals': 0, 'ppPoints': 2, 'shGoals': 0, 'shPoints': 0, 'shootingPct': 0.13043, 'shootsCatches': 'L', 'shots': 23, 'skaterFullName': 'Ivan Provorov', 'timeOnIcePerGame': 1556.25}, {'assists': 6, 'evGoals': 2, 'evPoints': 5, 'faceoffWinPct': None, 'gameWinningGoals': 0, 'gamesPlayed': 6, 'goals': 2, 'lastName': 'Byfuglien', 'otGoals': 0, 'penaltyMinutes': 4, 'playerId': 8470834, 'plusMinus': 4, 'points': 8, 'pointsPerGame': 1.33333, 'positionCode': 'D', 'ppGoals': 0, 'ppPoints': 2, 'shGoals': 0, 'shPoints': 1, 'shootingPct': 0.16666, 'shootsCatches': 'R', 'shots': 12, 'skaterFullName': 'Dustin Byfuglien', 'timeOnIcePerGame': 1541.1666}, {'assists': 6, 'evGoals': 2, 'evPoints': 4, 'faceoffWinPct': 1.0, 'gameWinningGoals': 0, 'gamesPlayed': 4, 'goals': 2, 'lastName': 'Nugent-Hopkins', 'otGoals': 0, 'penaltyMinutes': 0, 'playerId': 8476454, 'plusMinus': -2, 'points': 8, 'pointsPerGame': 2.0, 'positionCode': 'C', 'ppGoals': 0, 'ppPoints': 4, 'shGoals': 0, 'shPoints': 0, 'shootingPct': 0.0909, 'shootsCatches': 'L', 'shots': 22, 'skaterFullName': 'Ryan Nugent-Hopkins', 'timeOnIcePerGame': 1345.5}, {'assists': 6, 'evGoals': 0, 'evPoints': 5, 'faceoffWinPct': None, 'gameWinningGoals': 0, 'gamesPlayed': 20, 'goals': 2, 'lastName': 'Martinez', 'otGoals': 0, 'penaltyMinutes': 4, 'playerId': 8474166, 'plusMinus': 11, 'points': 8, 'pointsPerGame': 0.4, 'positionCode': 'D', 'ppGoals': 2, 'ppPoints': 3, 'shGoals': 0, 'shPoints': 0, 'shootingPct': 0.05, 'shootsCatches': 'L', 'shots': 40, 'skaterFullName': 'Alec Martinez', 'timeOnIcePerGame': 1324.95}, {'assists': 6, 'evGoals': 2, 'evPoints': 7, 'faceoffWinPct': 0.25, 'gameWinningGoals': 0, 'gamesPlayed': 20, 'goals': 2, 'lastName': 'Kane', 'otGoals': 0, 'penaltyMinutes': 61, 'playerId': 8475169, 'plusMinus': -4, 'points': 8, 'pointsPerGame': 0.4, 'positionCode': 'L', 'ppGoals': 0, 'ppPoints': 1, 'shGoals': 0, 'shPoints': 0, 'shootingPct': 0.03508, 'shootsCatches': 'L', 'shots': 57, 'skaterFullName': 'Evander Kane', 'timeOnIcePerGame': 1191.85}, {'assists': 6, 'evGoals': 2, 'evPoints': 6, 'faceoffWinPct': None, 'gameWinningGoals': 0, 'gamesPlayed': 10, 'goals': 2, 'lastName': 'Josi', 'otGoals': 0, 'penaltyMinutes': 8, 'playerId': 8474600, 'plusMinus': -3, 'points': 8, 'pointsPerGame': 0.8, 'positionCode': 'D', 'ppGoals': 0, 'ppPoints': 2, 'shGoals': 0, 'shPoints': 0, 'shootingPct': 0.05714, 'shootsCatches': 'L', 'shots': 35, 'skaterFullName': 'Roman Josi', 'timeOnIcePerGame': 1578.3}, {'assists': 6, 'evGoals': 1, 'evPoints': 7, 'faceoffWinPct': 0.75, 'gameWinningGoals': 0, 'gamesPlayed': 17, 'goals': 2, 'lastName': 'Sanford', 'otGoals': 0, 'penaltyMinutes': 17, 'playerId': 8477482, 'plusMinus': 3, 'points': 8, 'pointsPerGame': 0.47058, 'positionCode': 'L', 'ppGoals': 1, 'ppPoints': 1, 'shGoals': 0, 'shPoints': 0, 'shootingPct': 0.09523, 'shootsCatches': 'L', 'shots': 21, 'skaterFullName': 'Zach Sanford', 'timeOnIcePerGame': 766.5882}, {'assists': 6, 'evGoals': 2, 'evPoints': 8, 'faceoffWinPct': None, 'gameWinningGoals': 0, 'gamesPlayed': 26, 'goals': 2, 'lastName': 'Edmundson', 'otGoals': 0, 'penaltyMinutes': 12, 'playerId': 8476441, 'plusMinus': 2, 'points': 8, 'pointsPerGame': 0.30769, 'positionCode': 'D', 'ppGoals': 0, 'ppPoints': 0, 'shGoals': 0, 'shPoints': 0, 'shootingPct': 0.05263, 'shootsCatches': 'L', 'shots': 38, 'skaterFullName': 'Joel Edmundson', 'timeOnIcePerGame': 1058.0769}, {'assists': 6, 'evGoals': 2, 'evPoints': 8, 'faceoffWinPct': None, 'gameWinningGoals': 1, 'gamesPlayed': 36, 'goals': 2, 'lastName': 'Chara', 'otGoals': 0, 'penaltyMinutes': 24, 'playerId': 8465009, 'plusMinus': 7, 'points': 8, 'pointsPerGame': 0.22222, 'positionCode': 'D', 'ppGoals': 0, 'ppPoints': 0, 'shGoals': 0, 'shPoints': 0, 'shootingPct': 0.05882, 'shootsCatches': 'L', 'shots': 34, 'skaterFullName': 'Zdeno Chara', 'timeOnIcePerGame': 1251.6111}, {'assists': 6, 'evGoals': 1, 'evPoints': 3, 'faceoffWinPct': 1.0, 'gameWinningGoals': 1, 'gamesPlayed': 12, 'goals': 2, 'lastName': 'Marner', 'otGoals': 0, 'penaltyMinutes': 4, 'playerId': 8478483, 'plusMinus': -5, 'points': 8, 'pointsPerGame': 0.66666, 'positionCode': 'R', 'ppGoals': 0, 'ppPoints': 4, 'shGoals': 1, 'shPoints': 1, 'shootingPct': 0.05882, 'shootsCatches': 'R', 'shots': 34, 'skaterFullName': 'Mitchell Marner', 'timeOnIcePerGame': 1336.5833}, {'assists': 6, 'evGoals': 2, 'evPoints': 7, 'faceoffWinPct': None, 'gameWinningGoals': 0, 'gamesPlayed': 24, 'goals': 2, 'lastName': 'Heinen', 'otGoals': 0, 'penaltyMinutes': 2, 'playerId': 8478046, 'plusMinus': 7, 'points': 8, 'pointsPerGame': 0.33333, 'positionCode': 'L', 'ppGoals': 0, 'ppPoints': 1, 'shGoals': 0, 'shPoints': 0, 'shootingPct': 0.0625, 'shootsCatches': 'L', 'shots': 32, 'skaterFullName': 'Danton Heinen', 'timeOnIcePerGame': 794.0416}, {'assists': 7, 'evGoals': 1, 'evPoints': 4, 'faceoffWinPct': None, 'gameWinningGoals': 0, 'gamesPlayed': 17, 'goals': 1, 'lastName': 'Barrie', 'otGoals': 0, 'penaltyMinutes': 6, 'playerId': 8475197, 'plusMinus': -1, 'points': 8, 'pointsPerGame': 0.47058, 'positionCode': 'D', 'ppGoals': 0, 'ppPoints': 4, 'shGoals': 0, 'shPoints': 0, 'shootingPct': 0.02564, 'shootsCatches': 'R', 'shots': 39, 'skaterFullName': 'Tyson Barrie', 'timeOnIcePerGame': 1367.9411}, {'assists': 7, 'evGoals': 1, 'evPoints': 8, 'faceoffWinPct': 0.46568, 'gameWinningGoals': 0, 'gamesPlayed': 20, 'goals': 1, 'lastName': 'Roy', 'otGoals': 0, 'penaltyMinutes': 6, 'playerId': 8478462, 'plusMinus': 4, 'points': 8, 'pointsPerGame': 0.4, 'positionCode': 'C', 'ppGoals': 0, 'ppPoints': 0, 'shGoals': 0, 'shPoints': 0, 'shootingPct': 0.04761, 'shootsCatches': 'R', 'shots': 21, 'skaterFullName': 'Nicolas Roy', 'timeOnIcePerGame': 865.65}, {'assists': 7, 'evGoals': 1, 'evPoints': 5, 'faceoffWinPct': 0.5813, 'gameWinningGoals': 0, 'gamesPlayed': 16, 'goals': 1, 'lastName': 'Giroux', 'otGoals': 0, 'penaltyMinutes': 2, 'playerId': 8473512, 'plusMinus': 1, 'points': 8, 'pointsPerGame': 0.5, 'positionCode': 'C', 'ppGoals': 0, 'ppPoints': 3, 'shGoals': 0, 'shPoints': 0, 'shootingPct': 0.02564, 'shootsCatches': 'R', 'shots': 39, 'skaterFullName': 'Claude Giroux', 'timeOnIcePerGame': 1108.4375}, {'assists': 3, 'evGoals': 3, 'evPoints': 6, 'faceoffWinPct': 0.0, 'gameWinningGoals': 0, 'gamesPlayed': 9, 'goals': 4, 'lastName': 'Keller', 'otGoals': 0, 'penaltyMinutes': 0, 'playerId': 8479343, 'plusMinus': 1, 'points': 7, 'pointsPerGame': 0.77777, 'positionCode': 'R', 'ppGoals': 1, 'ppPoints': 1, 'shGoals': 0, 'shPoints': 0, 'shootingPct': 0.23529, 'shootsCatches': 'L', 'shots': 17, 'skaterFullName': 'Clayton Keller', 'timeOnIcePerGame': 1031.1111}, {'assists': 3, 'evGoals': 3, 'evPoints': 5, 'faceoffWinPct': 0.40223, 'gameWinningGoals': 1, 'gamesPlayed': 10, 'goals': 4, 'lastName': 'Suzuki', 'otGoals': 0, 'penaltyMinutes': 0, 'playerId': 8480018, 'plusMinus': 3, 'points': 7, 'pointsPerGame': 0.7, 'positionCode': 'C', 'ppGoals': 1, 'ppPoints': 2, 'shGoals': 0, 'shPoints': 0, 'shootingPct': 0.14814, 'shootsCatches': 'R', 'shots': 27, 'skaterFullName': 'Nick Suzuki', 'timeOnIcePerGame': 1151.2}, {'assists': 3, 'evGoals': 2, 'evPoints': 5, 'faceoffWinPct': None, 'gameWinningGoals': 0, 'gamesPlayed': 10, 'goals': 4, 'lastName': 'Forsberg', 'otGoals': 0, 'penaltyMinutes': 8, 'playerId': 8476887, 'plusMinus': -1, 'points': 7, 'pointsPerGame': 0.7, 'positionCode': 'L', 'ppGoals': 2, 'ppPoints': 2, 'shGoals': 0, 'shPoints': 0, 'shootingPct': 0.09756, 'shootsCatches': 'R', 'shots': 41, 'skaterFullName': 'Filip Forsberg', 'timeOnIcePerGame': 1184.1}, {'assists': 4, 'evGoals': 2, 'evPoints': 6, 'faceoffWinPct': 0.52238, 'gameWinningGoals': 0, 'gamesPlayed': 12, 'goals': 3, 'lastName': 'Nylander', 'otGoals': 0, 'penaltyMinutes': 2, 'playerId': 8477939, 'plusMinus': -2, 'points': 7, 'pointsPerGame': 0.58333, 'positionCode': 'R', 'ppGoals': 1, 'ppPoints': 1, 'shGoals': 0, 'shPoints': 0, 'shootingPct': 0.125, 'shootsCatches': 'R', 'shots': 24, 'skaterFullName': 'William Nylander', 'timeOnIcePerGame': 1053.75}, {'assists': 5, 'evGoals': 1, 'evPoints': 6, 'faceoffWinPct': 0.4918, 'gameWinningGoals': 0, 'gamesPlayed': 10, 'goals': 2, 'lastName': 'Copp', 'otGoals': 0, 'penaltyMinutes': 6, 'playerId': 8477429, 'plusMinus': 1, 'points': 7, 'pointsPerGame': 0.7, 'positionCode': 'C', 'ppGoals': 1, 'ppPoints': 1, 'shGoals': 0, 'shPoints': 0, 'shootingPct': 0.13333, 'shootsCatches': 'L', 'shots': 15, 'skaterFullName': 'Andrew Copp', 'timeOnIcePerGame': 1011.6}, {'assists': 5, 'evGoals': 2, 'evPoints': 7, 'faceoffWinPct': 0.0, 'gameWinningGoals': 0, 'gamesPlayed': 23, 'goals': 2, 'lastName': 'Blais', 'otGoals': 0, 'penaltyMinutes': 22, 'playerId': 8478104, 'plusMinus': 3, 'points': 7, 'pointsPerGame': 0.30434, 'positionCode': 'L', 'ppGoals': 0, 'ppPoints': 0, 'shGoals': 0, 'shPoints': 0, 'shootingPct': 0.06451, 'shootsCatches': 'L', 'shots': 31, 'skaterFullName': 'Sammy Blais', 'timeOnIcePerGame': 708.5217}, {'assists': 5, 'evGoals': 2, 'evPoints': 7, 'faceoffWinPct': 0.41935, 'gameWinningGoals': 0, 'gamesPlayed': 18, 'goals': 2, 'lastName': 'Martinook', 'otGoals': 0, 'penaltyMinutes': 14, 'playerId': 8476921, 'plusMinus': 0, 'points': 7, 'pointsPerGame': 0.38888, 'positionCode': 'L', 'ppGoals': 0, 'ppPoints': 0, 'shGoals': 0, 'shPoints': 0, 'shootingPct': 0.09523, 'shootsCatches': 'L', 'shots': 21, 'skaterFullName': 'Jordan Martinook', 'timeOnIcePerGame': 733.8333}, {'assists': 5, 'evGoals': 1, 'evPoints': 3, 'faceoffWinPct': 0.5, 'gameWinningGoals': 0, 'gamesPlayed': 18, 'goals': 2, 'lastName': 'Texier', 'otGoals': 0, 'penaltyMinutes': 4, 'playerId': 8480074, 'plusMinus': -2, 'points': 7, 'pointsPerGame': 0.38888, 'positionCode': 'C', 'ppGoals': 1, 'ppPoints': 4, 'shGoals': 0, 'shPoints': 0, 'shootingPct': 0.05714, 'shootsCatches': 'L', 'shots': 35, 'skaterFullName': 'Alexandre Texier', 'timeOnIcePerGame': 1033.5}, {'assists': 5, 'evGoals': 2, 'evPoints': 5, 'faceoffWinPct': 0.56696, 'gameWinningGoals': 0, 'gamesPlayed': 10, 'goals': 2, 'lastName': 'Johansen', 'otGoals': 0, 'penaltyMinutes': 4, 'playerId': 8475793, 'plusMinus': -1, 'points': 7, 'pointsPerGame': 0.7, 'positionCode': 'C', 'ppGoals': 0, 'ppPoints': 2, 'shGoals': 0, 'shPoints': 0, 'shootingPct': 0.08, 'shootsCatches': 'R', 'shots': 25, 'skaterFullName': 'Ryan Johansen', 'timeOnIcePerGame': 1192.1}, {'assists': 6, 'evGoals': 1, 'evPoints': 4, 'faceoffWinPct': 0.16666, 'gameWinningGoals': 0, 'gamesPlayed': 10, 'goals': 1, 'lastName': 'Drouin', 'otGoals': 0, 'penaltyMinutes': 8, 'playerId': 8477494, 'plusMinus': 3, 'points': 7, 'pointsPerGame': 0.7, 'positionCode': 'L', 'ppGoals': 0, 'ppPoints': 3, 'shGoals': 0, 'shPoints': 0, 'shootingPct': 0.0625, 'shootsCatches': 'L', 'shots': 16, 'skaterFullName': 'Jonathan Drouin', 'timeOnIcePerGame': 967.0}, {'assists': 6, 'evGoals': 1, 'evPoints': 5, 'faceoffWinPct': None, 'gameWinningGoals': 1, 'gamesPlayed': 17, 'goals': 1, 'lastName': 'Tanev', 'otGoals': 1, 'penaltyMinutes': 4, 'playerId': 8475690, 'plusMinus': 1, 'points': 7, 'pointsPerGame': 0.41176, 'positionCode': 'D', 'ppGoals': 0, 'ppPoints': 1, 'shGoals': 0, 'shPoints': 1, 'shootingPct': 0.05, 'shootsCatches': 'R', 'shots': 20, 'skaterFullName': 'Christopher Tanev', 'timeOnIcePerGame': 1277.5882}, {'assists': 6, 'evGoals': 1, 'evPoints': 7, 'faceoffWinPct': None, 'gameWinningGoals': 0, 'gamesPlayed': 29, 'goals': 1, 'lastName': 'Pelech', 'otGoals': 0, 'penaltyMinutes': 14, 'playerId': 8476917, 'plusMinus': 7, 'points': 7, 'pointsPerGame': 0.24137, 'positionCode': 'D', 'ppGoals': 0, 'ppPoints': 0, 'shGoals': 0, 'shPoints': 0, 'shootingPct': 0.03571, 'shootsCatches': 'L', 'shots': 28, 'skaterFullName': 'Adam Pelech', 'timeOnIcePerGame': 1314.4482}, {'assists': 6, 'evGoals': 1, 'evPoints': 7, 'faceoffWinPct': None, 'gameWinningGoals': 1, 'gamesPlayed': 30, 'goals': 1, 'lastName': 'Mayfield', 'otGoals': 0, 'penaltyMinutes': 20, 'playerId': 8476429, 'plusMinus': 11, 'points': 7, 'pointsPerGame': 0.23333, 'positionCode': 'D', 'ppGoals': 0, 'ppPoints': 0, 'shGoals': 0, 'shPoints': 0, 'shootingPct': 0.02564, 'shootsCatches': 'R', 'shots': 39, 'skaterFullName': 'Scott Mayfield', 'timeOnIcePerGame': 1198.2333}, {'assists': 6, 'evGoals': 1, 'evPoints': 7, 'faceoffWinPct': 0.30769, 'gameWinningGoals': 0, 'gamesPlayed': 16, 'goals': 1, 'lastName': 'Calvert', 'otGoals': 0, 'penaltyMinutes': 22, 'playerId': 8474685, 'plusMinus': 4, 'points': 7, 'pointsPerGame': 0.4375, 'positionCode': 'L', 'ppGoals': 0, 'ppPoints': 0, 'shGoals': 0, 'shPoints': 0, 'shootingPct': 0.03333, 'shootsCatches': 'L', 'shots': 30, 'skaterFullName': 'Matt Calvert', 'timeOnIcePerGame': 830.8125}, {'assists': 6, 'evGoals': 1, 'evPoints': 7, 'faceoffWinPct': None, 'gameWinningGoals': 1, 'gamesPlayed': 16, 'goals': 1, 'lastName': 'Sanheim', 'otGoals': 0, 'penaltyMinutes': 6, 'playerId': 8477948, 'plusMinus': 1, 'points': 7, 'pointsPerGame': 0.4375, 'positionCode': 'D', 'ppGoals': 0, 'ppPoints': 0, 'shGoals': 0, 'shPoints': 0, 'shootingPct': 0.04761, 'shootsCatches': 'L', 'shots': 21, 'skaterFullName': 'Travis Sanheim', 'timeOnIcePerGame': 1356.9375}, {'assists': 7, 'evGoals': 0, 'evPoints': 7, 'faceoffWinPct': None, 'gameWinningGoals': 0, 'gamesPlayed': 26, 'goals': 0, 'lastName': 'Bouwmeester', 'otGoals': 0, 'penaltyMinutes': 18, 'playerId': 8470151, 'plusMinus': 9, 'points': 7, 'pointsPerGame': 0.26923, 'positionCode': 'D', 'ppGoals': 0, 'ppPoints': 0, 'shGoals': 0, 'shPoints': 0, 'shootingPct': 0.0, 'shootsCatches': 'L', 'shots': 23, 'skaterFullName': 'Jay Bouwmeester', 'timeOnIcePerGame': 1409.6923}, {'assists': 7, 'evGoals': 0, 'evPoints': 6, 'faceoffWinPct': None, 'gameWinningGoals': 0, 'gamesPlayed': 27, 'goals': 0, 'lastName': 'Cole', 'otGoals': 0, 'penaltyMinutes': 26, 'playerId': 8474013, 'plusMinus': 8, 'points': 7, 'pointsPerGame': 0.25925, 'positionCode': 'D', 'ppGoals': 0, 'ppPoints': 0, 'shGoals': 0, 'shPoints': 1, 'shootingPct': 0.0, 'shootsCatches': 'L', 'shots': 32, 'skaterFullName': 'Ian Cole', 'timeOnIcePerGame': 1100.7037}, {'assists': 7, 'evGoals': 0, 'evPoints': 7, 'faceoffWinPct': 0.28571, 'gameWinningGoals': 0, 'gamesPlayed': 16, 'goals': 0, 'lastName': 'Konecny', 'otGoals': 0, 'penaltyMinutes': 14, 'playerId': 8478439, 'plusMinus': 3, 'points': 7, 'pointsPerGame': 0.4375, 'positionCode': 'R', 'ppGoals': 0, 'ppPoints': 0, 'shGoals': 0, 'shPoints': 0, 'shootingPct': 0.0, 'shootsCatches': 'R', 'shots': 29, 'skaterFullName': 'Travis Konecny', 'timeOnIcePerGame': 1046.4375}, {'assists': 7, 'evGoals': 0, 'evPoints': 5, 'faceoffWinPct': None, 'gameWinningGoals': 0, 'gamesPlayed': 15, 'goals': 0, 'lastName': 'Orlov', 'otGoals': 0, 'penaltyMinutes': 8, 'playerId': 8475200, 'plusMinus': -3, 'points': 7, 'pointsPerGame': 0.46666, 'positionCode': 'D', 'ppGoals': 0, 'ppPoints': 2, 'shGoals': 0, 'shPoints': 0, 'shootingPct': 0.0, 'shootsCatches': 'L', 'shots': 21, 'skaterFullName': 'Dmitry Orlov', 'timeOnIcePerGame': 1422.8}, {'assists': 7, 'evGoals': 0, 'evPoints': 7, 'faceoffWinPct': None, 'gameWinningGoals': 0, 'gamesPlayed': 17, 'goals': 0, 'lastName': 'Edler', 'otGoals': 0, 'penaltyMinutes': 20, 'playerId': 8471303, 'plusMinus': 5, 'points': 7, 'pointsPerGame': 0.41176, 'positionCode': 'D', 'ppGoals': 0, 'ppPoints': 0, 'shGoals': 0, 'shPoints': 0, 'shootingPct': 0.0, 'shootsCatches': 'L', 'shots': 38, 'skaterFullName': 'Alexander Edler', 'timeOnIcePerGame': 1380.2352}, {'assists': 7, 'evGoals': 0, 'evPoints': 7, 'faceoffWinPct': None, 'gameWinningGoals': 0, 'gamesPlayed': 29, 'goals': 0, 'lastName': 'Cernak', 'otGoals': 0, 'penaltyMinutes': 12, 'playerId': 8478416, 'plusMinus': 0, 'points': 7, 'pointsPerGame': 0.24137, 'positionCode': 'D', 'ppGoals': 0, 'ppPoints': 0, 'shGoals': 0, 'shPoints': 0, 'shootingPct': 0.0, 'shootsCatches': 'R', 'shots': 39, 'skaterFullName': 'Erik Cernak', 'timeOnIcePerGame': 1249.1034}, {'assists': 1, 'evGoals': 4, 'evPoints': 5, 'faceoffWinPct': 0.0, 'gameWinningGoals': 1, 'gamesPlayed': 14, 'goals': 5, 'lastName': 'Kiviranta', 'otGoals': 1, 'penaltyMinutes': 4, 'playerId': 8481641, 'plusMinus': 7, 'points': 6, 'pointsPerGame': 0.42857, 'positionCode': 'L', 'ppGoals': 1, 'ppPoints': 1, 'shGoals': 0, 'shPoints': 0, 'shootingPct': 0.23809, 'shootsCatches': 'L', 'shots': 21, 'skaterFullName': 'Joel Kiviranta', 'timeOnIcePerGame': 766.5714}, {'assists': 1, 'evGoals': 5, 'evPoints': 6, 'faceoffWinPct': 0.33333, 'gameWinningGoals': 0, 'gamesPlayed': 30, 'goals': 5, 'lastName': 'Martin', 'otGoals': 0, 'penaltyMinutes': 28, 'playerId': 8474709, 'plusMinus': -4, 'points': 6, 'pointsPerGame': 0.2, 'positionCode': 'L', 'ppGoals': 0, 'ppPoints': 0, 'shGoals': 0, 'shPoints': 0, 'shootingPct': 0.1282, 'shootsCatches': 'L', 'shots': 39, 'skaterFullName': 'Matt Martin', 'timeOnIcePerGame': 666.8}, {'assists': 3, 'evGoals': 2, 'evPoints': 3, 'faceoffWinPct': None, 'gameWinningGoals': 1, 'gamesPlayed': 10, 'goals': 3, 'lastName': 'Connor', 'otGoals': 1, 'penaltyMinutes': 0, 'playerId': 8478398, 'plusMinus': -5, 'points': 6, 'pointsPerGame': 0.6, 'positionCode': 'L', 'ppGoals': 1, 'ppPoints': 3, 'shGoals': 0, 'shPoints': 0, 'shootingPct': 0.10714, 'shootsCatches': 'L', 'shots': 28, 'skaterFullName': 'Kyle Connor', 'timeOnIcePerGame': 1322.1}, {'assists': 3, 'evGoals': 3, 'evPoints': 6, 'faceoffWinPct': 0.46496, 'gameWinningGoals': 0, 'gamesPlayed': 28, 'goals': 3, 'lastName': 'Barbashev', 'otGoals': 0, 'penaltyMinutes': 6, 'playerId': 8477964, 'plusMinus': 0, 'points': 6, 'pointsPerGame': 0.21428, 'positionCode': 'C', 'ppGoals': 0, 'ppPoints': 0, 'shGoals': 0, 'shPoints': 0, 'shootingPct': 0.10714, 'shootsCatches': 'L', 'shots': 28, 'skaterFullName': 'Ivan Barbashev', 'timeOnIcePerGame': 745.6428}, {'assists': 3, 'evGoals': 2, 'evPoints': 3, 'faceoffWinPct': 0.53684, 'gameWinningGoals': 0, 'gamesPlayed': 4, 'goals': 3, 'lastName': 'Draisaitl', 'otGoals': 0, 'penaltyMinutes': 0, 'playerId': 8477934, 'plusMinus': 1, 'points': 6, 'pointsPerGame': 1.5, 'positionCode': 'C', 'ppGoals': 1, 'ppPoints': 3, 'shGoals': 0, 'shPoints': 0, 'shootingPct': 0.23076, 'shootsCatches': 'L', 'shots': 13, 'skaterFullName': 'Leon Draisaitl', 'timeOnIcePerGame': 1377.75}, {'assists': 3, 'evGoals': 3, 'evPoints': 6, 'faceoffWinPct': None, 'gameWinningGoals': 0, 'gamesPlayed': 10, 'goals': 3, 'lastName': 'Maatta', 'otGoals': 0, 'penaltyMinutes': 4, 'playerId': 8476874, 'plusMinus': 5, 'points': 6, 'pointsPerGame': 0.6, 'positionCode': 'D', 'ppGoals': 0, 'ppPoints': 0, 'shGoals': 0, 'shPoints': 0, 'shootingPct': 0.3, 'shootsCatches': 'L', 'shots': 10, 'skaterFullName': 'Olli Maatta', 'timeOnIcePerGame': 1100.0}, {'assists': 3, 'evGoals': 3, 'evPoints': 5, 'faceoffWinPct': None, 'gameWinningGoals': 0, 'gamesPlayed': 15, 'goals': 3, 'lastName': 'Brodie', 'otGoals': 0, 'penaltyMinutes': 12, 'playerId': 8474673, 'plusMinus': -1, 'points': 6, 'pointsPerGame': 0.4, 'positionCode': 'D', 'ppGoals': 0, 'ppPoints': 0, 'shGoals': 0, 'shPoints': 1, 'shootingPct': 0.3, 'shootsCatches': 'L', 'shots': 10, 'skaterFullName': 'TJ Brodie', 'timeOnIcePerGame': 1271.8666}, {'assists': 3, 'evGoals': 3, 'evPoints': 5, 'faceoffWinPct': 0.5, 'gameWinningGoals': 1, 'gamesPlayed': 15, 'goals': 3, 'lastName': 'Mangiapane', 'otGoals': 0, 'penaltyMinutes': 6, 'playerId': 8478233, 'plusMinus': -1, 'points': 6, 'pointsPerGame': 0.4, 'positionCode': 'L', 'ppGoals': 0, 'ppPoints': 1, 'shGoals': 0, 'shPoints': 0, 'shootingPct': 0.17647, 'shootsCatches': 'L', 'shots': 17, 'skaterFullName': 'Andrew Mangiapane', 'timeOnIcePerGame': 867.8}, {'assists': 4, 'evGoals': 2, 'evPoints': 5, 'faceoffWinPct': 0.0, 'gameWinningGoals': 0, 'gamesPlayed': 9, 'goals': 2, 'lastName': 'DeBrincat', 'otGoals': 0, 'penaltyMinutes': 9, 'playerId': 8479337, 'plusMinus': 4, 'points': 6, 'pointsPerGame': 0.66666, 'positionCode': 'L', 'ppGoals': 0, 'ppPoints': 1, 'shGoals': 0, 'shPoints': 0, 'shootingPct': 0.07407, 'shootsCatches': 'R', 'shots': 27, 'skaterFullName': 'Alex DeBrincat', 'timeOnIcePerGame': 994.8888}, {'assists': 4, 'evGoals': 2, 'evPoints': 5, 'faceoffWinPct': None, 'gameWinningGoals': 0, 'gamesPlayed': 12, 'goals': 2, 'lastName': 'Rielly', 'otGoals': 0, 'penaltyMinutes': 2, 'playerId': 8476853, 'plusMinus': -1, 'points': 6, 'pointsPerGame': 0.5, 'positionCode': 'D', 'ppGoals': 0, 'ppPoints': 1, 'shGoals': 0, 'shPoints': 0, 'shootingPct': 0.04651, 'shootsCatches': 'L', 'shots': 43, 'skaterFullName': 'Morgan Rielly', 'timeOnIcePerGame': 1586.6666}, {'assists': 4, 'evGoals': 1, 'evPoints': 5, 'faceoffWinPct': 0.46153, 'gameWinningGoals': 1, 'gamesPlayed': 22, 'goals': 2, 'lastName': 'Niederreiter', 'otGoals': 0, 'penaltyMinutes': 14, 'playerId': 8475799, 'plusMinus': -6, 'points': 6, 'pointsPerGame': 0.27272, 'positionCode': 'R', 'ppGoals': 1, 'ppPoints': 1, 'shGoals': 0, 'shPoints': 0, 'shootingPct': 0.04444, 'shootsCatches': 'L', 'shots': 45, 'skaterFullName': 'Nino Niederreiter', 'timeOnIcePerGame': 1014.5454}, {'assists': 4, 'evGoals': 1, 'evPoints': 5, 'faceoffWinPct': 1.0, 'gameWinningGoals': 1, 'gamesPlayed': 9, 'goals': 2, 'lastName': 'Hall', 'otGoals': 0, 'penaltyMinutes': 10, 'playerId': 8475791, 'plusMinus': -4, 'points': 6, 'pointsPerGame': 0.66666, 'positionCode': 'L', 'ppGoals': 1, 'ppPoints': 1, 'shGoals': 0, 'shPoints': 0, 'shootingPct': 0.10526, 'shootsCatches': 'L', 'shots': 19, 'skaterFullName': 'Taylor Hall', 'timeOnIcePerGame': 1141.2222}, {'assists': 4, 'evGoals': 2, 'evPoints': 3, 'faceoffWinPct': None, 'gameWinningGoals': 0, 'gamesPlayed': 13, 'goals': 2, 'lastName': 'Kessel', 'otGoals': 0, 'penaltyMinutes': 6, 'playerId': 8473548, 'plusMinus': -2, 'points': 6, 'pointsPerGame': 0.46153, 'positionCode': 'R', 'ppGoals': 0, 'ppPoints': 3, 'shGoals': 0, 'shPoints': 0, 'shootingPct': 0.05555, 'shootsCatches': 'R', 'shots': 36, 'skaterFullName': 'Phil Kessel', 'timeOnIcePerGame': 1057.6923}, {'assists': 5, 'evGoals': 1, 'evPoints': 6, 'faceoffWinPct': 0.5298, 'gameWinningGoals': 0, 'gamesPlayed': 17, 'goals': 1, 'lastName': 'Sutter', 'otGoals': 0, 'penaltyMinutes': 4, 'playerId': 8474091, 'plusMinus': -2, 'points': 6, 'pointsPerGame': 0.35294, 'positionCode': 'C', 'ppGoals': 0, 'ppPoints': 0, 'shGoals': 0, 'shPoints': 0, 'shootingPct': 0.05263, 'shootsCatches': 'R', 'shots': 19, 'skaterFullName': 'Brandon Sutter', 'timeOnIcePerGame': 851.1764}, {'assists': 5, 'evGoals': 1, 'evPoints': 6, 'faceoffWinPct': None, 'gameWinningGoals': 0, 'gamesPlayed': 20, 'goals': 1, 'lastName': 'Savard', 'otGoals': 0, 'penaltyMinutes': 6, 'playerId': 8475233, 'plusMinus': -5, 'points': 6, 'pointsPerGame': 0.3, 'positionCode': 'D', 'ppGoals': 0, 'ppPoints': 0, 'shGoals': 0, 'shPoints': 0, 'shootingPct': 0.0303, 'shootsCatches': 'R', 'shots': 33, 'skaterFullName': 'David Savard', 'timeOnIcePerGame': 1472.95}, {'assists': 5, 'evGoals': 1, 'evPoints': 3, 'faceoffWinPct': 0.56818, 'gameWinningGoals': 0, 'gamesPlayed': 10, 'goals': 1, 'lastName': 'Wheeler', 'otGoals': 0, 'penaltyMinutes': 11, 'playerId': 8471218, 'plusMinus': -4, 'points': 6, 'pointsPerGame': 0.6, 'positionCode': 'R', 'ppGoals': 0, 'ppPoints': 3, 'shGoals': 0, 'shPoints': 0, 'shootingPct': 0.06666, 'shootsCatches': 'R', 'shots': 15, 'skaterFullName': 'Blake Wheeler', 'timeOnIcePerGame': 1251.6}, {'assists': 5, 'evGoals': 1, 'evPoints': 4, 'faceoffWinPct': 0.30864, 'gameWinningGoals': 0, 'gamesPlayed': 9, 'goals': 1, 'lastName': 'Dach', 'otGoals': 0, 'penaltyMinutes': 4, 'playerId': 8481523, 'plusMinus': 3, 'points': 6, 'pointsPerGame': 0.66666, 'positionCode': 'C', 'ppGoals': 0, 'ppPoints': 2, 'shGoals': 0, 'shPoints': 0, 'shootingPct': 0.0625, 'shootsCatches': 'R', 'shots': 16, 'skaterFullName': 'Kirby Dach', 'timeOnIcePerGame': 1164.3333}, {'assists': 5, 'evGoals': 1, 'evPoints': 6, 'faceoffWinPct': None, 'gameWinningGoals': 0, 'gamesPlayed': 10, 'goals': 1, 'lastName': 'Ellis', 'otGoals': 0, 'penaltyMinutes': 2, 'playerId': 8475176, 'plusMinus': -2, 'points': 6, 'pointsPerGame': 0.6, 'positionCode': 'D', 'ppGoals': 0, 'ppPoints': 0, 'shGoals': 0, 'shPoints': 0, 'shootingPct': 0.04347, 'shootsCatches': 'R', 'shots': 23, 'skaterFullName': 'Ryan Ellis', 'timeOnIcePerGame': 1513.1}, {'assists': 5, 'evGoals': 0, 'evPoints': 3, 'faceoffWinPct': 0.53571, 'gameWinningGoals': 0, 'gamesPlayed': 10, 'goals': 1, 'lastName': 'Lucic', 'otGoals': 0, 'penaltyMinutes': 17, 'playerId': 8473473, 'plusMinus': 2, 'points': 6, 'pointsPerGame': 0.6, 'positionCode': 'L', 'ppGoals': 1, 'ppPoints': 3, 'shGoals': 0, 'shPoints': 0, 'shootingPct': 0.07142, 'shootsCatches': 'L', 'shots': 14, 'skaterFullName': 'Milan Lucic', 'timeOnIcePerGame': 912.0}, {'assists': 6, 'evGoals': 0, 'evPoints': 5, 'faceoffWinPct': 0.38157, 'gameWinningGoals': 0, 'gamesPlayed': 17, 'goals': 0, 'lastName': 'Kerfoot', 'otGoals': 0, 'penaltyMinutes': 8, 'playerId': 8477021, 'plusMinus': -1, 'points': 6, 'pointsPerGame': 0.35294, 'positionCode': 'C', 'ppGoals': 0, 'ppPoints': 0, 'shGoals': 0, 'shPoints': 1, 'shootingPct': 0.0, 'shootsCatches': 'L', 'shots': 22, 'skaterFullName': 'Alexander Kerfoot', 'timeOnIcePerGame': 942.0588}, {'assists': 6, 'evGoals': 0, 'evPoints': 5, 'faceoffWinPct': None, 'gameWinningGoals': 0, 'gamesPlayed': 15, 'goals': 0, 'lastName': 'Pesce', 'otGoals': 0, 'penaltyMinutes': 0, 'playerId': 8477488, 'plusMinus': 4, 'points': 6, 'pointsPerGame': 0.4, 'positionCode': 'D', 'ppGoals': 0, 'ppPoints': 0, 'shGoals': 0, 'shPoints': 1, 'shootingPct': 0.0, 'shootsCatches': 'R', 'shots': 20, 'skaterFullName': 'Brett Pesce', 'timeOnIcePerGame': 1385.6}, {'assists': 1, 'evGoals': 2, 'evPoints': 3, 'faceoffWinPct': 0.43137, 'gameWinningGoals': 0, 'gamesPlayed': 12, 'goals': 4, 'lastName': 'Oshie', 'otGoals': 0, 'penaltyMinutes': 17, 'playerId': 8471698, 'plusMinus': -7, 'points': 5, 'pointsPerGame': 0.41666, 'positionCode': 'R', 'ppGoals': 2, 'ppPoints': 2, 'shGoals': 0, 'shPoints': 0, 'shootingPct': 0.17391, 'shootsCatches': 'R', 'shots': 23, 'skaterFullName': 'T.J. Oshie', 'timeOnIcePerGame': 1110.0833}, {'assists': 1, 'evGoals': 3, 'evPoints': 4, 'faceoffWinPct': 0.46153, 'gameWinningGoals': 1, 'gamesPlayed': 17, 'goals': 4, 'lastName': 'Motte', 'otGoals': 0, 'penaltyMinutes': 2, 'playerId': 8477353, 'plusMinus': 0, 'points': 5, 'pointsPerGame': 0.29411, 'positionCode': 'C', 'ppGoals': 0, 'ppPoints': 0, 'shGoals': 1, 'shPoints': 1, 'shootingPct': 0.13793, 'shootsCatches': 'L', 'shots': 29, 'skaterFullName': 'Tyler Motte', 'timeOnIcePerGame': 916.647}, {'assists': 1, 'evGoals': 4, 'evPoints': 5, 'faceoffWinPct': 0.75, 'gameWinningGoals': 2, 'gamesPlayed': 9, 'goals': 4, 'lastName': 'Raffl', 'otGoals': 0, 'penaltyMinutes': 2, 'playerId': 8477290, 'plusMinus': 5, 'points': 5, 'pointsPerGame': 0.55555, 'positionCode': 'L', 'ppGoals': 0, 'ppPoints': 0, 'shGoals': 0, 'shPoints': 0, 'shootingPct': 0.28571, 'shootsCatches': 'L', 'shots': 14, 'skaterFullName': 'Michael Raffl', 'timeOnIcePerGame': 783.1111}, {'assists': 1, 'evGoals': 3, 'evPoints': 3, 'faceoffWinPct': 0.0, 'gameWinningGoals': 1, 'gamesPlayed': 10, 'goals': 4, 'lastName': 'Dube', 'otGoals': 0, 'penaltyMinutes': 2, 'playerId': 8479346, 'plusMinus': 1, 'points': 5, 'pointsPerGame': 0.5, 'positionCode': 'C', 'ppGoals': 1, 'ppPoints': 2, 'shGoals': 0, 'shPoints': 0, 'shootingPct': 0.13333, 'shootsCatches': 'L', 'shots': 30, 'skaterFullName': 'Dillon Dube', 'timeOnIcePerGame': 905.7}, {'assists': 1, 'evGoals': 4, 'evPoints': 5, 'faceoffWinPct': 0.4878, 'gameWinningGoals': 0, 'gamesPlayed': 24, 'goals': 4, 'lastName': 'Wagner', 'otGoals': 0, 'penaltyMinutes': 6, 'playerId': 8475780, 'plusMinus': -8, 'points': 5, 'pointsPerGame': 0.20833, 'positionCode': 'R', 'ppGoals': 0, 'ppPoints': 0, 'shGoals': 0, 'shPoints': 0, 'shootingPct': 0.10256, 'shootsCatches': 'R', 'shots': 39, 'skaterFullName': 'Chris Wagner', 'timeOnIcePerGame': 757.2083}, {'assists': 1, 'evGoals': 4, 'evPoints': 5, 'faceoffWinPct': 0.33333, 'gameWinningGoals': 0, 'gamesPlayed': 12, 'goals': 4, 'lastName': 'Namestnikov', 'otGoals': 0, 'penaltyMinutes': 4, 'playerId': 8476480, 'plusMinus': 1, 'points': 5, 'pointsPerGame': 0.41666, 'positionCode': 'C', 'ppGoals': 0, 'ppPoints': 0, 'shGoals': 0, 'shPoints': 0, 'shootingPct': 0.23529, 'shootsCatches': 'L', 'shots': 17, 'skaterFullName': 'Vladislav Namestnikov', 'timeOnIcePerGame': 639.0}, {'assists': 1, 'evGoals': 4, 'evPoints': 5, 'faceoffWinPct': 0.39285, 'gameWinningGoals': 0, 'gamesPlayed': 24, 'goals': 4, 'lastName': 'Jost', 'otGoals': 0, 'penaltyMinutes': 8, 'playerId': 8479370, 'plusMinus': 2, 'points': 5, 'pointsPerGame': 0.20833, 'positionCode': 'C', 'ppGoals': 0, 'ppPoints': 0, 'shGoals': 0, 'shPoints': 0, 'shootingPct': 0.1, 'shootsCatches': 'L', 'shots': 40, 'skaterFullName': 'Tyson Jost', 'timeOnIcePerGame': 634.4583}, {'assists': 2, 'evGoals': 1, 'evPoints': 1, 'faceoffWinPct': None, 'gameWinningGoals': 0, 'gamesPlayed': 4, 'goals': 3, 'lastName': 'Hoffman', 'otGoals': 0, 'penaltyMinutes': 4, 'playerId': 8474884, 'plusMinus': -1, 'points': 5, 'pointsPerGame': 1.25, 'positionCode': 'C', 'ppGoals': 2, 'ppPoints': 4, 'shGoals': 0, 'shPoints': 0, 'shootingPct': 0.375, 'shootsCatches': 'L', 'shots': 8, 'skaterFullName': 'Mike Hoffman', 'timeOnIcePerGame': 1105.5}, {'assists': 2, 'evGoals': 3, 'evPoints': 5, 'faceoffWinPct': None, 'gameWinningGoals': 0, 'gamesPlayed': 27, 'goals': 3, 'lastName': 'Zadorov', 'otGoals': 0, 'penaltyMinutes': 42, 'playerId': 8477507, 'plusMinus': 0, 'points': 5, 'pointsPerGame': 0.18518, 'positionCode': 'D', 'ppGoals': 0, 'ppPoints': 0, 'shGoals': 0, 'shPoints': 0, 'shootingPct': 0.11111, 'shootsCatches': 'L', 'shots': 27, 'skaterFullName': 'Nikita Zadorov', 'timeOnIcePerGame': 1004.1851}, {'assists': 2, 'evGoals': 2, 'evPoints': 4, 'faceoffWinPct': None, 'gameWinningGoals': 0, 'gamesPlayed': 10, 'goals': 3, 'lastName': 'Weber', 'otGoals': 0, 'penaltyMinutes': 16, 'playerId': 8470642, 'plusMinus': 3, 'points': 5, 'pointsPerGame': 0.5, 'positionCode': 'D', 'ppGoals': 1, 'ppPoints': 1, 'shGoals': 0, 'shPoints': 0, 'shootingPct': 0.11111, 'shootsCatches': 'R', 'shots': 27, 'skaterFullName': 'Shea Weber', 'timeOnIcePerGame': 1516.8}, {'assists': 2, 'evGoals': 2, 'evPoints': 2, 'faceoffWinPct': 0.52336, 'gameWinningGoals': 0, 'gamesPlayed': 16, 'goals': 3, 'lastName': 'Spezza', 'otGoals': 0, 'penaltyMinutes': 9, 'playerId': 8469455, 'plusMinus': -1, 'points': 5, 'pointsPerGame': 0.3125, 'positionCode': 'C', 'ppGoals': 1, 'ppPoints': 3, 'shGoals': 0, 'shPoints': 0, 'shootingPct': 0.13043, 'shootsCatches': 'R', 'shots': 23, 'skaterFullName': 'Jason Spezza', 'timeOnIcePerGame': 571.875}, {'assists': 2, 'evGoals': 2, 'evPoints': 3, 'faceoffWinPct': 1.0, 'gameWinningGoals': 0, 'gamesPlayed': 10, 'goals': 3, 'lastName': 'Armia', 'otGoals': 0, 'penaltyMinutes': 10, 'playerId': 8476469, 'plusMinus': 5, 'points': 5, 'pointsPerGame': 0.5, 'positionCode': 'R', 'ppGoals': 0, 'ppPoints': 1, 'shGoals': 1, 'shPoints': 1, 'shootingPct': 0.11111, 'shootsCatches': 'R', 'shots': 27, 'skaterFullName': 'Joel Armia', 'timeOnIcePerGame': 955.8}, {'assists': 2, 'evGoals': 2, 'evPoints': 4, 'faceoffWinPct': 0.66666, 'gameWinningGoals': 0, 'gamesPlayed': 11, 'goals': 3, 'lastName': 'Tkachuk', 'otGoals': 0, 'penaltyMinutes': 28, 'playerId': 8479314, 'plusMinus': -3, 'points': 5, 'pointsPerGame': 0.45454, 'positionCode': 'L', 'ppGoals': 1, 'ppPoints': 1, 'shGoals': 0, 'shPoints': 0, 'shootingPct': 0.15, 'shootsCatches': 'L', 'shots': 20, 'skaterFullName': 'Matthew Tkachuk', 'timeOnIcePerGame': 1028.1818}, {'assists': 2, 'evGoals': 3, 'evPoints': 5, 'faceoffWinPct': 0.41322, 'gameWinningGoals': 0, 'gamesPlayed': 14, 'goals': 3, 'lastName': 'Wennberg', 'otGoals': 0, 'penaltyMinutes': 2, 'playerId': 8477505, 'plusMinus': 5, 'points': 5, 'pointsPerGame': 0.35714, 'positionCode': 'C', 'ppGoals': 0, 'ppPoints': 0, 'shGoals': 0, 'shPoints': 0, 'shootingPct': 0.27272, 'shootsCatches': 'L', 'shots': 11, 'skaterFullName': 'Alex Wennberg', 'timeOnIcePerGame': 900.8571}, {'assists': 2, 'evGoals': 2, 'evPoints': 4, 'faceoffWinPct': 0.25, 'gameWinningGoals': 1, 'gamesPlayed': 12, 'goals': 3, 'lastName': 'Farabee', 'otGoals': 0, 'penaltyMinutes': 4, 'playerId': 8480797, 'plusMinus': -2, 'points': 5, 'pointsPerGame': 0.41666, 'positionCode': 'L', 'ppGoals': 1, 'ppPoints': 1, 'shGoals': 0, 'shPoints': 0, 'shootingPct': 0.15789, 'shootsCatches': 'L', 'shots': 19, 'skaterFullName': 'Joel Farabee', 'timeOnIcePerGame': 868.9166}, {'assists': 2, 'evGoals': 0, 'evPoints': 2, 'faceoffWinPct': 0.0, 'gameWinningGoals': 1, 'gamesPlayed': 10, 'goals': 3, 'lastName': 'Rieder', 'otGoals': 0, 'penaltyMinutes': 0, 'playerId': 8476356, 'plusMinus': -2, 'points': 5, 'pointsPerGame': 0.5, 'positionCode': 'L', 'ppGoals': 0, 'ppPoints': 0, 'shGoals': 3, 'shPoints': 3, 'shootingPct': 0.25, 'shootsCatches': 'L', 'shots': 12, 'skaterFullName': 'Tobias Rieder', 'timeOnIcePerGame': 802.2}, {'assists': 2, 'evGoals': 3, 'evPoints': 5, 'faceoffWinPct': 0.42777, 'gameWinningGoals': 0, 'gamesPlayed': 26, 'goals': 3, 'lastName': 'Stephenson', 'otGoals': 0, 'penaltyMinutes': 6, 'playerId': 8476905, 'plusMinus': 0, 'points': 5, 'pointsPerGame': 0.1923, 'positionCode': 'C', 'ppGoals': 0, 'ppPoints': 0, 'shGoals': 0, 'shPoints': 0, 'shootingPct': 0.14285, 'shootsCatches': 'L', 'shots': 21, 'skaterFullName': 'Chandler Stephenson', 'timeOnIcePerGame': 872.8076}, {'assists': 3, 'evGoals': 2, 'evPoints': 5, 'faceoffWinPct': 0.54961, 'gameWinningGoals': 0, 'gamesPlayed': 17, 'goals': 2, 'lastName': 'Nash', 'otGoals': 0, 'penaltyMinutes': 4, 'playerId': 8474062, 'plusMinus': -2, 'points': 5, 'pointsPerGame': 0.29411, 'positionCode': 'C', 'ppGoals': 0, 'ppPoints': 0, 'shGoals': 0, 'shPoints': 0, 'shootingPct': 0.0909, 'shootsCatches': 'R', 'shots': 22, 'skaterFullName': 'Riley Nash', 'timeOnIcePerGame': 914.0}, {'assists': 3, 'evGoals': 2, 'evPoints': 4, 'faceoffWinPct': 0.33333, 'gameWinningGoals': 0, 'gamesPlayed': 9, 'goals': 2, 'lastName': 'Saad', 'otGoals': 0, 'penaltyMinutes': 2, 'playerId': 8476438, 'plusMinus': 2, 'points': 5, 'pointsPerGame': 0.55555, 'positionCode': 'L', 'ppGoals': 0, 'ppPoints': 0, 'shGoals': 0, 'shPoints': 1, 'shootingPct': 0.1, 'shootsCatches': 'L', 'shots': 20, 'skaterFullName': 'Brandon Saad', 'timeOnIcePerGame': 990.6666}, {'assists': 3, 'evGoals': 2, 'evPoints': 3, 'faceoffWinPct': None, 'gameWinningGoals': 0, 'gamesPlayed': 21, 'goals': 2, 'lastName': 'Johnson', 'otGoals': 0, 'penaltyMinutes': 4, 'playerId': 8473446, 'plusMinus': 2, 'points': 5, 'pointsPerGame': 0.23809, 'positionCode': 'D', 'ppGoals': 0, 'ppPoints': 1, 'shGoals': 0, 'shPoints': 1, 'shootingPct': 0.04, 'shootsCatches': 'R', 'shots': 50, 'skaterFullName': 'Erik Johnson', 'timeOnIcePerGame': 1131.0952}, {'assists': 3, 'evGoals': 1, 'evPoints': 4, 'faceoffWinPct': 0.43089, 'gameWinningGoals': 0, 'gamesPlayed': 7, 'goals': 2, 'lastName': 'Scheifele', 'otGoals': 0, 'penaltyMinutes': 8, 'playerId': 8476460, 'plusMinus': 0, 'points': 5, 'pointsPerGame': 0.71428, 'positionCode': 'C', 'ppGoals': 1, 'ppPoints': 1, 'shGoals': 0, 'shPoints': 0, 'shootingPct': 0.14285, 'shootsCatches': 'R', 'shots': 14, 'skaterFullName': 'Mark Scheifele', 'timeOnIcePerGame': 1094.2857}, {'assists': 3, 'evGoals': 1, 'evPoints': 4, 'faceoffWinPct': None, 'gameWinningGoals': 1, 'gamesPlayed': 37, 'goals': 2, 'lastName': 'Carlo', 'otGoals': 0, 'penaltyMinutes': 14, 'playerId': 8478443, 'plusMinus': 10, 'points': 5, 'pointsPerGame': 0.13513, 'positionCode': 'D', 'ppGoals': 0, 'ppPoints': 0, 'shGoals': 1, 'shPoints': 1, 'shootingPct': 0.04166, 'shootsCatches': 'R', 'shots': 48, 'skaterFullName': 'Brandon Carlo', 'timeOnIcePerGame': 1268.7297}, {'assists': 3, 'evGoals': 2, 'evPoints': 5, 'faceoffWinPct': 0.33333, 'gameWinningGoals': 1, 'gamesPlayed': 25, 'goals': 2, 'lastName': 'Komarov', 'otGoals': 0, 'penaltyMinutes': 12, 'playerId': 8473463, 'plusMinus': 2, 'points': 5, 'pointsPerGame': 0.2, 'positionCode': 'R', 'ppGoals': 0, 'ppPoints': 0, 'shGoals': 0, 'shPoints': 0, 'shootingPct': 0.06666, 'shootsCatches': 'L', 'shots': 30, 'skaterFullName': 'Leo Komarov', 'timeOnIcePerGame': 758.08}, {'assists': 3, 'evGoals': 2, 'evPoints': 5, 'faceoffWinPct': 0.4, 'gameWinningGoals': 0, 'gamesPlayed': 30, 'goals': 2, 'lastName': 'Steen', 'otGoals': 0, 'penaltyMinutes': 8, 'playerId': 8470257, 'plusMinus': 1, 'points': 5, 'pointsPerGame': 0.16666, 'positionCode': 'L', 'ppGoals': 0, 'ppPoints': 0, 'shGoals': 0, 'shPoints': 0, 'shootingPct': 0.1, 'shootsCatches': 'L', 'shots': 20, 'skaterFullName': 'Alexander Steen', 'timeOnIcePerGame': 791.4}, {'assists': 3, 'evGoals': 2, 'evPoints': 5, 'faceoffWinPct': 0.46153, 'gameWinningGoals': 0, 'gamesPlayed': 15, 'goals': 2, 'lastName': 'Backes', 'otGoals': 0, 'penaltyMinutes': 2, 'playerId': 8470655, 'plusMinus': 1, 'points': 5, 'pointsPerGame': 0.33333, 'positionCode': 'R', 'ppGoals': 0, 'ppPoints': 0, 'shGoals': 0, 'shPoints': 0, 'shootingPct': 0.1, 'shootsCatches': 'R', 'shots': 20, 'skaterFullName': 'David Backes', 'timeOnIcePerGame': 583.5333}, {'assists': 4, 'evGoals': 1, 'evPoints': 5, 'faceoffWinPct': None, 'gameWinningGoals': 1, 'gamesPlayed': 26, 'goals': 1, 'lastName': 'McDonagh', 'otGoals': 0, 'penaltyMinutes': 12, 'playerId': 8474151, 'plusMinus': -7, 'points': 5, 'pointsPerGame': 0.1923, 'positionCode': 'D', 'ppGoals': 0, 'ppPoints': 0, 'shGoals': 0, 'shPoints': 0, 'shootingPct': 0.025, 'shootsCatches': 'L', 'shots': 40, 'skaterFullName': 'Ryan McDonagh', 'timeOnIcePerGame': 1442.7692}, {'assists': 4, 'evGoals': 1, 'evPoints': 5, 'faceoffWinPct': 0.44262, 'gameWinningGoals': 0, 'gamesPlayed': 9, 'goals': 1, 'lastName': 'Stepan', 'otGoals': 0, 'penaltyMinutes': 6, 'playerId': 8474613, 'plusMinus': -4, 'points': 5, 'pointsPerGame': 0.55555, 'positionCode': 'C', 'ppGoals': 0, 'ppPoints': 0, 'shGoals': 0, 'shPoints': 0, 'shootingPct': 0.08333, 'shootsCatches': 'R', 'shots': 12, 'skaterFullName': 'Derek Stepan', 'timeOnIcePerGame': 1146.2222}, {'assists': 4, 'evGoals': 1, 'evPoints': 5, 'faceoffWinPct': 0.48557, 'gameWinningGoals': 0, 'gamesPlayed': 17, 'goals': 1, 'lastName': 'Wallmark', 'otGoals': 0, 'penaltyMinutes': 8, 'playerId': 8478027, 'plusMinus': -1, 'points': 5, 'pointsPerGame': 0.29411, 'positionCode': 'C', 'ppGoals': 0, 'ppPoints': 0, 'shGoals': 0, 'shPoints': 0, 'shootingPct': 0.07142, 'shootsCatches': 'L', 'shots': 14, 'skaterFullName': 'Lucas Wallmark', 'timeOnIcePerGame': 840.647}, {'assists': 4, 'evGoals': 1, 'evPoints': 3, 'faceoffWinPct': 0.39743, 'gameWinningGoals': 0, 'gamesPlayed': 4, 'goals': 1, 'lastName': 'Staal', 'otGoals': 0, 'penaltyMinutes': 2, 'playerId': 8470595, 'plusMinus': 0, 'points': 5, 'pointsPerGame': 1.25, 'positionCode': 'C', 'ppGoals': 0, 'ppPoints': 2, 'shGoals': 0, 'shPoints': 0, 'shootingPct': 0.11111, 'shootsCatches': 'L', 'shots': 9, 'skaterFullName': 'Eric Staal', 'timeOnIcePerGame': 1068.5}, {'assists': 5, 'evGoals': 0, 'evPoints': 4, 'faceoffWinPct': 0.36666, 'gameWinningGoals': 0, 'gamesPlayed': 17, 'goals': 0, 'lastName': 'Cousins', 'otGoals': 0, 'penaltyMinutes': 22, 'playerId': 8476393, 'plusMinus': 0, 'points': 5, 'pointsPerGame': 0.29411, 'positionCode': 'C', 'ppGoals': 0, 'ppPoints': 1, 'shGoals': 0, 'shPoints': 0, 'shootingPct': 0.0, 'shootsCatches': 'L', 'shots': 24, 'skaterFullName': 'Nick Cousins', 'timeOnIcePerGame': 797.4117}, {'assists': 5, 'evGoals': 0, 'evPoints': 3, 'faceoffWinPct': None, 'gameWinningGoals': 0, 'gamesPlayed': 9, 'goals': 0, 'lastName': 'Keith', 'otGoals': 0, 'penaltyMinutes': 4, 'playerId': 8470281, 'plusMinus': -7, 'points': 5, 'pointsPerGame': 0.55555, 'positionCode': 'D', 'ppGoals': 0, 'ppPoints': 2, 'shGoals': 0, 'shPoints': 0, 'shootingPct': 0.0, 'shootsCatches': 'L', 'shots': 10, 'skaterFullName': 'Duncan Keith', 'timeOnIcePerGame': 1527.4444}, {'assists': 5, 'evGoals': 0, 'evPoints': 5, 'faceoffWinPct': 0.5, 'gameWinningGoals': 0, 'gamesPlayed': 18, 'goals': 0, 'lastName': 'Sorensen', 'otGoals': 0, 'penaltyMinutes': 2, 'playerId': 8475834, 'plusMinus': -3, 'points': 5, 'pointsPerGame': 0.27777, 'positionCode': 'L', 'ppGoals': 0, 'ppPoints': 0, 'shGoals': 0, 'shPoints': 0, 'shootingPct': 0.0, 'shootsCatches': 'L', 'shots': 15, 'skaterFullName': 'Marcus Sorensen', 'timeOnIcePerGame': 784.8888}, {'assists': 5, 'evGoals': 0, 'evPoints': 5, 'faceoffWinPct': None, 'gameWinningGoals': 0, 'gamesPlayed': 15, 'goals': 0, 'lastName': 'Hanifin', 'otGoals': 0, 'penaltyMinutes': 4, 'playerId': 8478396, 'plusMinus': -1, 'points': 5, 'pointsPerGame': 0.33333, 'positionCode': 'D', 'ppGoals': 0, 'ppPoints': 0, 'shGoals': 0, 'shPoints': 0, 'shootingPct': 0.0, 'shootsCatches': 'L', 'shots': 29, 'skaterFullName': 'Noah Hanifin', 'timeOnIcePerGame': 1166.8}, {'assists': 5, 'evGoals': 0, 'evPoints': 2, 'faceoffWinPct': None, 'gameWinningGoals': 0, 'gamesPlayed': 15, 'goals': 0, 'lastName': 'Giordano', 'otGoals': 0, 'penaltyMinutes': 12, 'playerId': 8470966, 'plusMinus': -4, 'points': 5, 'pointsPerGame': 0.33333, 'positionCode': 'D', 'ppGoals': 0, 'ppPoints': 3, 'shGoals': 0, 'shPoints': 0, 'shootingPct': 0.0, 'shootsCatches': 'L', 'shots': 37, 'skaterFullName': 'Mark Giordano', 'timeOnIcePerGame': 1435.4}, {'assists': 0, 'evGoals': 3, 'evPoints': 3, 'faceoffWinPct': 0.33783, 'gameWinningGoals': 0, 'gamesPlayed': 10, 'goals': 4, 'lastName': 'Kotkaniemi', 'otGoals': 0, 'penaltyMinutes': 23, 'playerId': 8480829, 'plusMinus': 4, 'points': 4, 'pointsPerGame': 0.4, 'positionCode': 'C', 'ppGoals': 1, 'ppPoints': 1, 'shGoals': 0, 'shPoints': 0, 'shootingPct': 0.36363, 'shootsCatches': 'L', 'shots': 11, 'skaterFullName': 'Jesperi Kotkaniemi', 'timeOnIcePerGame': 832.5}, {'assists': 1, 'evGoals': 2, 'evPoints': 2, 'faceoffWinPct': 0.0, 'gameWinningGoals': 0, 'gamesPlayed': 7, 'goals': 3, 'lastName': 'Laine', 'otGoals': 0, 'penaltyMinutes': 0, 'playerId': 8479339, 'plusMinus': 1, 'points': 4, 'pointsPerGame': 0.57142, 'positionCode': 'L', 'ppGoals': 1, 'ppPoints': 2, 'shGoals': 0, 'shPoints': 0, 'shootingPct': 0.14285, 'shootsCatches': 'R', 'shots': 21, 'skaterFullName': 'Patrik Laine', 'timeOnIcePerGame': 1091.0}, {'assists': 1, 'evGoals': 3, 'evPoints': 4, 'faceoffWinPct': None, 'gameWinningGoals': 1, 'gamesPlayed': 9, 'goals': 3, 'lastName': 'Highmore', 'otGoals': 0, 'penaltyMinutes': 2, 'playerId': 8478146, 'plusMinus': -1, 'points': 4, 'pointsPerGame': 0.44444, 'positionCode': 'C', 'ppGoals': 0, 'ppPoints': 0, 'shGoals': 0, 'shPoints': 0, 'shootingPct': 0.375, 'shootsCatches': 'L', 'shots': 8, 'skaterFullName': 'Matthew Highmore', 'timeOnIcePerGame': 608.3333}, {'assists': 1, 'evGoals': 3, 'evPoints': 4, 'faceoffWinPct': 1.0, 'gameWinningGoals': 0, 'gamesPlayed': 9, 'goals': 3, 'lastName': 'Grimaldi', 'otGoals': 0, 'penaltyMinutes': 2, 'playerId': 8476428, 'plusMinus': 0, 'points': 4, 'pointsPerGame': 0.44444, 'positionCode': 'R', 'ppGoals': 0, 'ppPoints': 0, 'shGoals': 0, 'shPoints': 0, 'shootingPct': 0.14285, 'shootsCatches': 'R', 'shots': 21, 'skaterFullName': 'Rocco Grimaldi', 'timeOnIcePerGame': 767.0}, {'assists': 1, 'evGoals': 3, 'evPoints': 4, 'faceoffWinPct': None, 'gameWinningGoals': 1, 'gamesPlayed': 16, 'goals': 3, 'lastName': 'Myers', 'otGoals': 1, 'penaltyMinutes': 8, 'playerId': 8479026, 'plusMinus': 2, 'points': 4, 'pointsPerGame': 0.25, 'positionCode': 'D', 'ppGoals': 0, 'ppPoints': 0, 'shGoals': 0, 'shPoints': 0, 'shootingPct': 0.1, 'shootsCatches': 'R', 'shots': 30, 'skaterFullName': 'Philippe Myers', 'timeOnIcePerGame': 1201.6875}, {'assists': 1, 'evGoals': 2, 'evPoints': 3, 'faceoffWinPct': 0.5, 'gameWinningGoals': 1, 'gamesPlayed': 4, 'goals': 3, 'lastName': 'Fiala', 'otGoals': 0, 'penaltyMinutes': 10, 'playerId': 8477942, 'plusMinus': 1, 'points': 4, 'pointsPerGame': 1.0, 'positionCode': 'L', 'ppGoals': 1, 'ppPoints': 1, 'shGoals': 0, 'shPoints': 0, 'shootingPct': 0.15789, 'shootsCatches': 'L', 'shots': 19, 'skaterFullName': 'Kevin Fiala', 'timeOnIcePerGame': 1058.0}, {'assists': 2, 'evGoals': 1, 'evPoints': 2, 'faceoffWinPct': None, 'gameWinningGoals': 0, 'gamesPlayed': 7, 'goals': 2, 'lastName': 'Toffoli', 'otGoals': 0, 'penaltyMinutes': 0, 'playerId': 8475726, 'plusMinus': -4, 'points': 4, 'pointsPerGame': 0.57142, 'positionCode': 'R', 'ppGoals': 1, 'ppPoints': 2, 'shGoals': 0, 'shPoints': 0, 'shootingPct': 0.18181, 'shootsCatches': 'R', 'shots': 11, 'skaterFullName': 'Tyler Toffoli', 'timeOnIcePerGame': 945.8571}, {'assists': 2, 'evGoals': 1, 'evPoints': 3, 'faceoffWinPct': 0.3125, 'gameWinningGoals': 0, 'gamesPlayed': 36, 'goals': 2, 'lastName': 'Cogliano', 'otGoals': 0, 'penaltyMinutes': 14, 'playerId': 8471699, 'plusMinus': -7, 'points': 4, 'pointsPerGame': 0.11111, 'positionCode': 'C', 'ppGoals': 0, 'ppPoints': 0, 'shGoals': 1, 'shPoints': 1, 'shootingPct': 0.04761, 'shootsCatches': 'L', 'shots': 42, 'skaterFullName': 'Andrew Cogliano', 'timeOnIcePerGame': 781.7777}, {'assists': 2, 'evGoals': 2, 'evPoints': 4, 'faceoffWinPct': None, 'gameWinningGoals': 1, 'gamesPlayed': 21, 'goals': 2, 'lastName': 'Greene', 'otGoals': 0, 'penaltyMinutes': 12, 'playerId': 8472382, 'plusMinus': 2, 'points': 4, 'pointsPerGame': 0.19047, 'positionCode': 'D', 'ppGoals': 0, 'ppPoints': 0, 'shGoals': 0, 'shPoints': 0, 'shootingPct': 0.16666, 'shootsCatches': 'L', 'shots': 12, 'skaterFullName': 'Andy Greene', 'timeOnIcePerGame': 1060.3809}, {'assists': 2, 'evGoals': 2, 'evPoints': 3, 'faceoffWinPct': 0.51546, 'gameWinningGoals': 0, 'gamesPlayed': 8, 'goals': 2, 'lastName': 'Crosby', 'otGoals': 0, 'penaltyMinutes': 2, 'playerId': 8471675, 'plusMinus': -4, 'points': 4, 'pointsPerGame': 0.5, 'positionCode': 'C', 'ppGoals': 0, 'ppPoints': 1, 'shGoals': 0, 'shPoints': 0, 'shootingPct': 0.10526, 'shootsCatches': 'L', 'shots': 19, 'skaterFullName': 'Sidney Crosby', 'timeOnIcePerGame': 1294.5}, {'assists': 2, 'evGoals': 2, 'evPoints': 4, 'faceoffWinPct': 0.0, 'gameWinningGoals': 0, 'gamesPlayed': 17, 'goals': 2, 'lastName': 'Roussel', 'otGoals': 0, 'penaltyMinutes': 46, 'playerId': 8474849, 'plusMinus': 0, 'points': 4, 'pointsPerGame': 0.23529, 'positionCode': 'L', 'ppGoals': 0, 'ppPoints': 0, 'shGoals': 0, 'shPoints': 0, 'shootingPct': 0.18181, 'shootsCatches': 'L', 'shots': 11, 'skaterFullName': 'Antoine Roussel', 'timeOnIcePerGame': 445.8235}, {'assists': 2, 'evGoals': 1, 'evPoints': 3, 'faceoffWinPct': 0.54819, 'gameWinningGoals': 0, 'gamesPlayed': 23, 'goals': 2, 'lastName': 'Acciari', 'otGoals': 0, 'penaltyMinutes': 0, 'playerId': 8478569, 'plusMinus': -1, 'points': 4, 'pointsPerGame': 0.17391, 'positionCode': 'C', 'ppGoals': 0, 'ppPoints': 0, 'shGoals': 1, 'shPoints': 1, 'shootingPct': 0.08333, 'shootsCatches': 'R', 'shots': 24, 'skaterFullName': 'Noel Acciari', 'timeOnIcePerGame': 838.0434}, {'assists': 2, 'evGoals': 2, 'evPoints': 4, 'faceoffWinPct': 0.0, 'gameWinningGoals': 0, 'gamesPlayed': 8, 'goals': 2, 'lastName': 'Guentzel', 'otGoals': 0, 'penaltyMinutes': 0, 'playerId': 8477404, 'plusMinus': -2, 'points': 4, 'pointsPerGame': 0.5, 'positionCode': 'L', 'ppGoals': 0, 'ppPoints': 0, 'shGoals': 0, 'shPoints': 0, 'shootingPct': 0.08333, 'shootsCatches': 'L', 'shots': 24, 'skaterFullName': 'Jake Guentzel', 'timeOnIcePerGame': 1269.625}, {'assists': 2, 'evGoals': 2, 'evPoints': 4, 'faceoffWinPct': 0.53529, 'gameWinningGoals': 0, 'gamesPlayed': 10, 'goals': 2, 'lastName': 'Lowry', 'otGoals': 0, 'penaltyMinutes': 2, 'playerId': 8476392, 'plusMinus': -1, 'points': 4, 'pointsPerGame': 0.4, 'positionCode': 'C', 'ppGoals': 0, 'ppPoints': 0, 'shGoals': 0, 'shPoints': 0, 'shootingPct': 0.13333, 'shootsCatches': 'L', 'shots': 15, 'skaterFullName': 'Adam Lowry', 'timeOnIcePerGame': 898.7}, {'assists': 2, 'evGoals': 1, 'evPoints': 2, 'faceoffWinPct': None, 'gameWinningGoals': 0, 'gamesPlayed': 4, 'goals': 2, 'lastName': 'Spurgeon', 'otGoals': 0, 'penaltyMinutes': 4, 'playerId': 8474716, 'plusMinus': -1, 'points': 4, 'pointsPerGame': 1.0, 'positionCode': 'D', 'ppGoals': 1, 'ppPoints': 2, 'shGoals': 0, 'shPoints': 0, 'shootingPct': 0.28571, 'shootsCatches': 'R', 'shots': 7, 'skaterFullName': 'Jared Spurgeon', 'timeOnIcePerGame': 1367.5}, {'assists': 2, 'evGoals': 2, 'evPoints': 3, 'faceoffWinPct': 0.50461, 'gameWinningGoals': 0, 'gamesPlayed': 20, 'goals': 2, 'lastName': 'Jenner', 'otGoals': 0, 'penaltyMinutes': 6, 'playerId': 8476432, 'plusMinus': -2, 'points': 4, 'pointsPerGame': 0.2, 'positionCode': 'C', 'ppGoals': 0, 'ppPoints': 0, 'shGoals': 0, 'shPoints': 1, 'shootingPct': 0.03703, 'shootsCatches': 'L', 'shots': 54, 'skaterFullName': 'Boone Jenner', 'timeOnIcePerGame': 1160.2}, {'assists': 2, 'evGoals': 2, 'evPoints': 4, 'faceoffWinPct': 0.41176, 'gameWinningGoals': 0, 'gamesPlayed': 12, 'goals': 2, 'lastName': 'Hyman', 'otGoals': 0, 'penaltyMinutes': 2, 'playerId': 8475786, 'plusMinus': -3, 'points': 4, 'pointsPerGame': 0.33333, 'positionCode': 'L', 'ppGoals': 0, 'ppPoints': 0, 'shGoals': 0, 'shPoints': 0, 'shootingPct': 0.07407, 'shootsCatches': 'R', 'shots': 27, 'skaterFullName': 'Zach Hyman', 'timeOnIcePerGame': 1157.8333}, {'assists': 2, 'evGoals': 2, 'evPoints': 4, 'faceoffWinPct': 0.42857, 'gameWinningGoals': 0, 'gamesPlayed': 28, 'goals': 2, 'lastName': 'Clutterbuck', 'otGoals': 0, 'penaltyMinutes': 22, 'playerId': 8473504, 'plusMinus': 1, 'points': 4, 'pointsPerGame': 0.14285, 'positionCode': 'R', 'ppGoals': 0, 'ppPoints': 0, 'shGoals': 0, 'shPoints': 0, 'shootingPct': 0.0606, 'shootsCatches': 'R', 'shots': 33, 'skaterFullName': 'Cal Clutterbuck', 'timeOnIcePerGame': 836.7857}, {'assists': 3, 'evGoals': 1, 'evPoints': 3, 'faceoffWinPct': None, 'gameWinningGoals': 0, 'gamesPlayed': 9, 'goals': 1, 'lastName': 'Oesterle', 'otGoals': 0, 'penaltyMinutes': 0, 'playerId': 8477851, 'plusMinus': 1, 'points': 4, 'pointsPerGame': 0.44444, 'positionCode': 'D', 'ppGoals': 0, 'ppPoints': 1, 'shGoals': 0, 'shPoints': 0, 'shootingPct': 0.0909, 'shootsCatches': 'L', 'shots': 11, 'skaterFullName': 'Jordan Oesterle', 'timeOnIcePerGame': 1014.0}, {'assists': 3, 'evGoals': 1, 'evPoints': 3, 'faceoffWinPct': None, 'gameWinningGoals': 0, 'gamesPlayed': 8, 'goals': 1, 'lastName': 'Schultz', 'otGoals': 0, 'penaltyMinutes': 0, 'playerId': 8474602, 'plusMinus': -6, 'points': 4, 'pointsPerGame': 0.5, 'positionCode': 'D', 'ppGoals': 0, 'ppPoints': 1, 'shGoals': 0, 'shPoints': 0, 'shootingPct': 0.07692, 'shootsCatches': 'R', 'shots': 13, 'skaterFullName': 'Justin Schultz', 'timeOnIcePerGame': 1167.5}, {'assists': 3, 'evGoals': 1, 'evPoints': 4, 'faceoffWinPct': 0.44081, 'gameWinningGoals': 0, 'gamesPlayed': 21, 'goals': 1, 'lastName': 'Soderberg', 'otGoals': 0, 'penaltyMinutes': 10, 'playerId': 8471262, 'plusMinus': 4, 'points': 4, 'pointsPerGame': 0.19047, 'positionCode': 'C', 'ppGoals': 0, 'ppPoints': 0, 'shGoals': 0, 'shPoints': 0, 'shootingPct': 0.02564, 'shootsCatches': 'L', 'shots': 39, 'skaterFullName': 'Carl Soderberg', 'timeOnIcePerGame': 965.5714}, {'assists': 3, 'evGoals': 0, 'evPoints': 2, 'faceoffWinPct': 0.0, 'gameWinningGoals': 1, 'gamesPlayed': 8, 'goals': 1, 'lastName': 'Johnsson', 'otGoals': 0, 'penaltyMinutes': 0, 'playerId': 8477341, 'plusMinus': -4, 'points': 4, 'pointsPerGame': 0.5, 'positionCode': 'L', 'ppGoals': 1, 'ppPoints': 2, 'shGoals': 0, 'shPoints': 0, 'shootingPct': 0.05882, 'shootsCatches': 'L', 'shots': 17, 'skaterFullName': 'Andreas Johnsson', 'timeOnIcePerGame': 922.0}, {'assists': 3, 'evGoals': 1, 'evPoints': 4, 'faceoffWinPct': 0.5198, 'gameWinningGoals': 0, 'gamesPlayed': 29, 'goals': 1, 'lastName': 'Paquette', 'otGoals': 0, 'penaltyMinutes': 16, 'playerId': 8476975, 'plusMinus': -4, 'points': 4, 'pointsPerGame': 0.13793, 'positionCode': 'C', 'ppGoals': 0, 'ppPoints': 0, 'shGoals': 0, 'shPoints': 0, 'shootingPct': 0.03846, 'shootsCatches': 'L', 'shots': 26, 'skaterFullName': 'Cedric Paquette', 'timeOnIcePerGame': 698.4827}, {'assists': 3, 'evGoals': 1, 'evPoints': 4, 'faceoffWinPct': 0.6, 'gameWinningGoals': 1, 'gamesPlayed': 8, 'goals': 1, 'lastName': 'Necas', 'otGoals': 0, 'penaltyMinutes': 0, 'playerId': 8480039, 'plusMinus': 0, 'points': 4, 'pointsPerGame': 0.5, 'positionCode': 'C', 'ppGoals': 0, 'ppPoints': 0, 'shGoals': 0, 'shPoints': 0, 'shootingPct': 0.125, 'shootsCatches': 'R', 'shots': 8, 'skaterFullName': 'Martin Necas', 'timeOnIcePerGame': 817.0}, {'assists': 3, 'evGoals': 1, 'evPoints': 4, 'faceoffWinPct': 0.0, 'gameWinningGoals': 1, 'gamesPlayed': 10, 'goals': 1, 'lastName': 'Lehkonen', 'otGoals': 0, 'penaltyMinutes': 8, 'playerId': 8477476, 'plusMinus': 4, 'points': 4, 'pointsPerGame': 0.4, 'positionCode': 'L', 'ppGoals': 0, 'ppPoints': 0, 'shGoals': 0, 'shPoints': 0, 'shootingPct': 0.05, 'shootsCatches': 'L', 'shots': 20, 'skaterFullName': 'Artturi Lehkonen', 'timeOnIcePerGame': 1044.4}, {'assists': 3, 'evGoals': 0, 'evPoints': 1, 'faceoffWinPct': 0.54666, 'gameWinningGoals': 0, 'gamesPlayed': 4, 'goals': 1, 'lastName': 'Barkov', 'otGoals': 0, 'penaltyMinutes': 2, 'playerId': 8477493, 'plusMinus': 0, 'points': 4, 'pointsPerGame': 1.0, 'positionCode': 'C', 'ppGoals': 1, 'ppPoints': 3, 'shGoals': 0, 'shPoints': 0, 'shootingPct': 0.07142, 'shootsCatches': 'L', 'shots': 14, 'skaterFullName': 'Aleksander Barkov', 'timeOnIcePerGame': 1304.5}, {'assists': 3, 'evGoals': 1, 'evPoints': 3, 'faceoffWinPct': 0.0, 'gameWinningGoals': 1, 'gamesPlayed': 12, 'goals': 1, 'lastName': 'Kapanen', 'otGoals': 0, 'penaltyMinutes': 16, 'playerId': 8477953, 'plusMinus': -3, 'points': 4, 'pointsPerGame': 0.33333, 'positionCode': 'R', 'ppGoals': 0, 'ppPoints': 0, 'shGoals': 0, 'shPoints': 1, 'shootingPct': 0.03703, 'shootsCatches': 'R', 'shots': 27, 'skaterFullName': 'Kasperi Kapanen', 'timeOnIcePerGame': 1008.5833}, {'assists': 3, 'evGoals': 1, 'evPoints': 4, 'faceoffWinPct': None, 'gameWinningGoals': 1, 'gamesPlayed': 25, 'goals': 1, 'lastName': 'Gunnarsson', 'otGoals': 1, 'penaltyMinutes': 10, 'playerId': 8474125, 'plusMinus': 8, 'points': 4, 'pointsPerGame': 0.16, 'positionCode': 'D', 'ppGoals': 0, 'ppPoints': 0, 'shGoals': 0, 'shPoints': 0, 'shootingPct': 0.0909, 'shootsCatches': 'L', 'shots': 11, 'skaterFullName': 'Carl Gunnarsson', 'timeOnIcePerGame': 923.04}, {'assists': 3, 'evGoals': 1, 'evPoints': 3, 'faceoffWinPct': 0.49693, 'gameWinningGoals': 0, 'gamesPlayed': 12, 'goals': 1, 'lastName': 'Eller', 'otGoals': 0, 'penaltyMinutes': 4, 'playerId': 8474189, 'plusMinus': -6, 'points': 4, 'pointsPerGame': 0.33333, 'positionCode': 'C', 'ppGoals': 0, 'ppPoints': 1, 'shGoals': 0, 'shPoints': 0, 'shootingPct': 0.04761, 'shootsCatches': 'L', 'shots': 21, 'skaterFullName': 'Lars Eller', 'timeOnIcePerGame': 1122.0833}, {'assists': 3, 'evGoals': 1, 'evPoints': 4, 'faceoffWinPct': 0.33333, 'gameWinningGoals': 0, 'gamesPlayed': 8, 'goals': 1, 'lastName': 'Ennis', 'otGoals': 0, 'penaltyMinutes': 6, 'playerId': 8474589, 'plusMinus': 1, 'points': 4, 'pointsPerGame': 0.5, 'positionCode': 'C', 'ppGoals': 0, 'ppPoints': 0, 'shGoals': 0, 'shPoints': 0, 'shootingPct': 0.11111, 'shootsCatches': 'L', 'shots': 9, 'skaterFullName': 'Tyler Ennis', 'timeOnIcePerGame': 567.125}, {'assists': 3, 'evGoals': 0, 'evPoints': 2, 'faceoffWinPct': 0.3, 'gameWinningGoals': 0, 'gamesPlayed': 9, 'goals': 1, 'lastName': 'Gallagher', 'otGoals': 0, 'penaltyMinutes': 2, 'playerId': 8475848, 'plusMinus': -1, 'points': 4, 'pointsPerGame': 0.44444, 'positionCode': 'R', 'ppGoals': 1, 'ppPoints': 2, 'shGoals': 0, 'shPoints': 0, 'shootingPct': 0.02702, 'shootsCatches': 'R', 'shots': 37, 'skaterFullName': 'Brendan Gallagher', 'timeOnIcePerGame': 1015.8888}, {'assists': 3, 'evGoals': 1, 'evPoints': 4, 'faceoffWinPct': None, 'gameWinningGoals': 0, 'gamesPlayed': 22, 'goals': 1, 'lastName': 'Niskanen', 'otGoals': 0, 'penaltyMinutes': 6, 'playerId': 8471702, 'plusMinus': 0, 'points': 4, 'pointsPerGame': 0.18181, 'positionCode': 'D', 'ppGoals': 0, 'ppPoints': 0, 'shGoals': 0, 'shPoints': 0, 'shootingPct': 0.05555, 'shootsCatches': 'R', 'shots': 18, 'skaterFullName': 'Matt Niskanen', 'timeOnIcePerGame': 1415.5}, {'assists': 3, 'evGoals': 0, 'evPoints': 2, 'faceoffWinPct': 0.51578, 'gameWinningGoals': 0, 'gamesPlayed': 8, 'goals': 1, 'lastName': 'Malkin', 'otGoals': 0, 'penaltyMinutes': 12, 'playerId': 8471215, 'plusMinus': -4, 'points': 4, 'pointsPerGame': 0.5, 'positionCode': 'C', 'ppGoals': 1, 'ppPoints': 2, 'shGoals': 0, 'shPoints': 0, 'shootingPct': 0.03125, 'shootsCatches': 'L', 'shots': 32, 'skaterFullName': 'Evgeni Malkin', 'timeOnIcePerGame': 1182.625}, {'assists': 3, 'evGoals': 1, 'evPoints': 3, 'faceoffWinPct': None, 'gameWinningGoals': 0, 'gamesPlayed': 9, 'goals': 1, 'lastName': 'Ekman-Larsson', 'otGoals': 0, 'penaltyMinutes': 8, 'playerId': 8475171, 'plusMinus': 3, 'points': 4, 'pointsPerGame': 0.44444, 'positionCode': 'D', 'ppGoals': 0, 'ppPoints': 1, 'shGoals': 0, 'shPoints': 0, 'shootingPct': 0.0625, 'shootsCatches': 'L', 'shots': 16, 'skaterFullName': 'Oliver Ekman-Larsson', 'timeOnIcePerGame': 1358.4444}, {'assists': 3, 'evGoals': 1, 'evPoints': 4, 'faceoffWinPct': 0.5, 'gameWinningGoals': 0, 'gamesPlayed': 10, 'goals': 1, 'lastName': 'Byron', 'otGoals': 0, 'penaltyMinutes': 6, 'playerId': 8474038, 'plusMinus': 4, 'points': 4, 'pointsPerGame': 0.4, 'positionCode': 'L', 'ppGoals': 0, 'ppPoints': 0, 'shGoals': 0, 'shPoints': 0, 'shootingPct': 0.11111, 'shootsCatches': 'L', 'shots': 9, 'skaterFullName': 'Paul Byron', 'timeOnIcePerGame': 882.0}, {'assists': 3, 'evGoals': 1, 'evPoints': 4, 'faceoffWinPct': None, 'gameWinningGoals': 0, 'gamesPlayed': 12, 'goals': 1, 'lastName': 'Dermott', 'otGoals': 0, 'penaltyMinutes': 6, 'playerId': 8478408, 'plusMinus': -2, 'points': 4, 'pointsPerGame': 0.33333, 'positionCode': 'D', 'ppGoals': 0, 'ppPoints': 0, 'shGoals': 0, 'shPoints': 0, 'shootingPct': 0.11111, 'shootsCatches': 'L', 'shots': 9, 'skaterFullName': 'Travis Dermott', 'timeOnIcePerGame': 1009.5833}, {'assists': 4, 'evGoals': 0, 'evPoints': 4, 'faceoffWinPct': None, 'gameWinningGoals': 0, 'gamesPlayed': 11, 'goals': 0, 'lastName': 'Kuhnhackl', 'otGoals': 0, 'penaltyMinutes': 2, 'playerId': 8475832, 'plusMinus': 2, 'points': 4, 'pointsPerGame': 0.36363, 'positionCode': 'R', 'ppGoals': 0, 'ppPoints': 0, 'shGoals': 0, 'shPoints': 0, 'shootingPct': 0.0, 'shootsCatches': 'L', 'shots': 13, 'skaterFullName': 'Tom Kuhnhackl', 'timeOnIcePerGame': 724.0909}, {'assists': 4, 'evGoals': 0, 'evPoints': 4, 'faceoffWinPct': None, 'gameWinningGoals': 0, 'gamesPlayed': 11, 'goals': 0, 'lastName': 'Harrington', 'otGoals': 0, 'penaltyMinutes': 2, 'playerId': 8476449, 'plusMinus': 3, 'points': 4, 'pointsPerGame': 0.36363, 'positionCode': 'D', 'ppGoals': 0, 'ppPoints': 0, 'shGoals': 0, 'shPoints': 0, 'shootingPct': 0.0, 'shootsCatches': 'L', 'shots': 7, 'skaterFullName': 'Scott Harrington', 'timeOnIcePerGame': 843.6363}, {'assists': 4, 'evGoals': 0, 'evPoints': 4, 'faceoffWinPct': 0.60563, 'gameWinningGoals': 0, 'gamesPlayed': 8, 'goals': 0, 'lastName': 'Filppula', 'otGoals': 0, 'penaltyMinutes': 2, 'playerId': 8470047, 'plusMinus': 0, 'points': 4, 'pointsPerGame': 0.5, 'positionCode': 'C', 'ppGoals': 0, 'ppPoints': 0, 'shGoals': 0, 'shPoints': 0, 'shootingPct': 0.0, 'shootsCatches': 'L', 'shots': 7, 'skaterFullName': 'Valtteri Filppula', 'timeOnIcePerGame': 883.0}, {'assists': 4, 'evGoals': 0, 'evPoints': 2, 'faceoffWinPct': None, 'gameWinningGoals': 0, 'gamesPlayed': 10, 'goals': 0, 'lastName': 'Gustafsson', 'otGoals': 0, 'penaltyMinutes': 2, 'playerId': 8476979, 'plusMinus': 1, 'points': 4, 'pointsPerGame': 0.4, 'positionCode': 'D', 'ppGoals': 0, 'ppPoints': 2, 'shGoals': 0, 'shPoints': 0, 'shootingPct': 0.0, 'shootsCatches': 'L', 'shots': 22, 'skaterFullName': 'Erik Gustafsson', 'timeOnIcePerGame': 1026.2}, {'assists': 4, 'evGoals': 0, 'evPoints': 4, 'faceoffWinPct': None, 'gameWinningGoals': 0, 'gamesPlayed': 20, 'goals': 0, 'lastName': 'Bogosian', 'otGoals': 0, 'penaltyMinutes': 12, 'playerId': 8474567, 'plusMinus': 1, 'points': 4, 'pointsPerGame': 0.2, 'positionCode': 'D', 'ppGoals': 0, 'ppPoints': 0, 'shGoals': 0, 'shPoints': 0, 'shootingPct': 0.0, 'shootsCatches': 'R', 'shots': 42, 'skaterFullName': 'Zach Bogosian', 'timeOnIcePerGame': 1059.8}, {'assists': 4, 'evGoals': 0, 'evPoints': 4, 'faceoffWinPct': 0.25, 'gameWinningGoals': 0, 'gamesPlayed': 26, 'goals': 0, 'lastName': 'Reaves', 'otGoals': 0, 'penaltyMinutes': 31, 'playerId': 8471817, 'plusMinus': 1, 'points': 4, 'pointsPerGame': 0.15384, 'positionCode': 'R', 'ppGoals': 0, 'ppPoints': 0, 'shGoals': 0, 'shPoints': 0, 'shootingPct': 0.0, 'shootsCatches': 'R', 'shots': 17, 'skaterFullName': 'Ryan Reaves', 'timeOnIcePerGame': 543.1538}, {'assists': 4, 'evGoals': 0, 'evPoints': 4, 'faceoffWinPct': None, 'gameWinningGoals': 0, 'gamesPlayed': 27, 'goals': 0, 'lastName': 'McNabb', 'otGoals': 0, 'penaltyMinutes': 22, 'playerId': 8475188, 'plusMinus': 3, 'points': 4, 'pointsPerGame': 0.14814, 'positionCode': 'D', 'ppGoals': 0, 'ppPoints': 0, 'shGoals': 0, 'shPoints': 0, 'shootingPct': 0.0, 'shootsCatches': 'L', 'shots': 32, 'skaterFullName': 'Brayden McNabb', 'timeOnIcePerGame': 1246.3333}, {'assists': 4, 'evGoals': 0, 'evPoints': 4, 'faceoffWinPct': None, 'gameWinningGoals': 0, 'gamesPlayed': 9, 'goals': 0, 'lastName': 'Demers', 'otGoals': 0, 'penaltyMinutes': 8, 'playerId': 8474218, 'plusMinus': 5, 'points': 4, 'pointsPerGame': 0.44444, 'positionCode': 'D', 'ppGoals': 0, 'ppPoints': 0, 'shGoals': 0, 'shPoints': 0, 'shootingPct': 0.0, 'shootsCatches': 'R', 'shots': 7, 'skaterFullName': 'Jason Demers', 'timeOnIcePerGame': 1137.8888}, {'assists': 4, 'evGoals': 0, 'evPoints': 4, 'faceoffWinPct': None, 'gameWinningGoals': 0, 'gamesPlayed': 9, 'goals': 0, 'lastName': 'Murphy', 'otGoals': 0, 'penaltyMinutes': 4, 'playerId': 8476473, 'plusMinus': -1, 'points': 4, 'pointsPerGame': 0.44444, 'positionCode': 'D', 'ppGoals': 0, 'ppPoints': 0, 'shGoals': 0, 'shPoints': 0, 'shootingPct': 0.0, 'shootsCatches': 'R', 'shots': 12, 'skaterFullName': 'Connor Murphy', 'timeOnIcePerGame': 1332.6666}, {'assists': 4, 'evGoals': 0, 'evPoints': 4, 'faceoffWinPct': 0.16666, 'gameWinningGoals': 0, 'gamesPlayed': 11, 'goals': 0, 'lastName': 'Kase', 'otGoals': 0, 'penaltyMinutes': 2, 'playerId': 8478131, 'plusMinus': -1, 'points': 4, 'pointsPerGame': 0.36363, 'positionCode': 'R', 'ppGoals': 0, 'ppPoints': 0, 'shGoals': 0, 'shPoints': 0, 'shootingPct': 0.0, 'shootsCatches': 'R', 'shots': 27, 'skaterFullName': 'Ondrej Kase', 'timeOnIcePerGame': 929.5454}, {'assists': 0, 'evGoals': 2, 'evPoints': 2, 'faceoffWinPct': 0.5, 'gameWinningGoals': 1, 'gamesPlayed': 9, 'goals': 3, 'lastName': 'Grabner', 'otGoals': 0, 'penaltyMinutes': 6, 'playerId': 8473546, 'plusMinus': -1, 'points': 3, 'pointsPerGame': 0.33333, 'positionCode': 'L', 'ppGoals': 0, 'ppPoints': 0, 'shGoals': 1, 'shPoints': 1, 'shootingPct': 0.23076, 'shootsCatches': 'L', 'shots': 13, 'skaterFullName': 'Michael Grabner', 'timeOnIcePerGame': 636.5555}, {'assists': 0, 'evGoals': 2, 'evPoints': 2, 'faceoffWinPct': 1.0, 'gameWinningGoals': 0, 'gamesPlayed': 10, 'goals': 3, 'lastName': 'Arvidsson', 'otGoals': 0, 'penaltyMinutes': 4, 'playerId': 8478042, 'plusMinus': -2, 'points': 3, 'pointsPerGame': 0.3, 'positionCode': 'R', 'ppGoals': 1, 'ppPoints': 1, 'shGoals': 0, 'shPoints': 0, 'shootingPct': 0.08823, 'shootsCatches': 'R', 'shots': 34, 'skaterFullName': 'Viktor Arvidsson', 'timeOnIcePerGame': 1116.9}, {'assists': 1, 'evGoals': 2, 'evPoints': 3, 'faceoffWinPct': 0.5, 'gameWinningGoals': 1, 'gamesPlayed': 13, 'goals': 2, 'lastName': 'Aube-Kubel', 'otGoals': 0, 'penaltyMinutes': 8, 'playerId': 8477979, 'plusMinus': 1, 'points': 3, 'pointsPerGame': 0.23076, 'positionCode': 'R', 'ppGoals': 0, 'ppPoints': 0, 'shGoals': 0, 'shPoints': 0, 'shootingPct': 0.15384, 'shootsCatches': 'R', 'shots': 13, 'skaterFullName': 'Nicolas Aube-Kubel', 'timeOnIcePerGame': 713.6153}, {'assists': 1, 'evGoals': 2, 'evPoints': 3, 'faceoffWinPct': 0.5, 'gameWinningGoals': 1, 'gamesPlayed': 16, 'goals': 2, 'lastName': 'Virtanen', 'otGoals': 0, 'penaltyMinutes': 25, 'playerId': 8477937, 'plusMinus': 2, 'points': 3, 'pointsPerGame': 0.1875, 'positionCode': 'R', 'ppGoals': 0, 'ppPoints': 0, 'shGoals': 0, 'shPoints': 0, 'shootingPct': 0.125, 'shootsCatches': 'R', 'shots': 16, 'skaterFullName': 'Jake Virtanen', 'timeOnIcePerGame': 675.75}, {'assists': 1, 'evGoals': 2, 'evPoints': 2, 'faceoffWinPct': 0.45238, 'gameWinningGoals': 0, 'gamesPlayed': 5, 'goals': 2, 'lastName': 'Stamkos', 'otGoals': 0, 'penaltyMinutes': 2, 'playerId': 8474564, 'plusMinus': -7, 'points': 3, 'pointsPerGame': 0.6, 'positionCode': 'C', 'ppGoals': 0, 'ppPoints': 1, 'shGoals': 0, 'shPoints': 0, 'shootingPct': 0.18181, 'shootsCatches': 'R', 'shots': 11, 'skaterFullName': 'Steven Stamkos', 'timeOnIcePerGame': 940.6}, {'assists': 1, 'evGoals': 2, 'evPoints': 3, 'faceoffWinPct': 0.51351, 'gameWinningGoals': 0, 'gamesPlayed': 9, 'goals': 2, 'lastName': 'Strome', 'otGoals': 0, 'penaltyMinutes': 2, 'playerId': 8478440, 'plusMinus': -3, 'points': 3, 'pointsPerGame': 0.33333, 'positionCode': 'C', 'ppGoals': 0, 'ppPoints': 0, 'shGoals': 0, 'shPoints': 0, 'shootingPct': 0.2, 'shootsCatches': 'L', 'shots': 10, 'skaterFullName': 'Dylan Strome', 'timeOnIcePerGame': 865.4444}, {'assists': 1, 'evGoals': 1, 'evPoints': 2, 'faceoffWinPct': 0.5, 'gameWinningGoals': 0, 'gamesPlayed': 8, 'goals': 2, 'lastName': 'Neal', 'otGoals': 0, 'penaltyMinutes': 0, 'playerId': 8471707, 'plusMinus': 0, 'points': 3, 'pointsPerGame': 0.375, 'positionCode': 'L', 'ppGoals': 1, 'ppPoints': 1, 'shGoals': 0, 'shPoints': 0, 'shootingPct': 0.11111, 'shootsCatches': 'L', 'shots': 18, 'skaterFullName': 'James Neal', 'timeOnIcePerGame': 798.125}, {'assists': 1, 'evGoals': 2, 'evPoints': 3, 'faceoffWinPct': None, 'gameWinningGoals': 0, 'gamesPlayed': 20, 'goals': 2, 'lastName': 'Whitecloud', 'otGoals': 0, 'penaltyMinutes': 6, 'playerId': 8480727, 'plusMinus': 1, 'points': 3, 'pointsPerGame': 0.15, 'positionCode': 'D', 'ppGoals': 0, 'ppPoints': 0, 'shGoals': 0, 'shPoints': 0, 'shootingPct': 0.1, 'shootsCatches': 'R', 'shots': 20, 'skaterFullName': 'Zach Whitecloud', 'timeOnIcePerGame': 1017.95}, {'assists': 1, 'evGoals': 2, 'evPoints': 3, 'faceoffWinPct': None, 'gameWinningGoals': 2, 'gamesPlayed': 10, 'goals': 2, 'lastName': 'Petry', 'otGoals': 1, 'penaltyMinutes': 6, 'playerId': 8473507, 'plusMinus': 1, 'points': 3, 'pointsPerGame': 0.3, 'positionCode': 'D', 'ppGoals': 0, 'ppPoints': 0, 'shGoals': 0, 'shPoints': 0, 'shootingPct': 0.13333, 'shootsCatches': 'R', 'shots': 15, 'skaterFullName': 'Jeff Petry', 'timeOnIcePerGame': 1526.6}, {'assists': 1, 'evGoals': 2, 'evPoints': 3, 'faceoffWinPct': 0.66666, 'gameWinningGoals': 2, 'gamesPlayed': 27, 'goals': 2, 'lastName': 'Carrier', 'otGoals': 0, 'penaltyMinutes': 16, 'playerId': 8477478, 'plusMinus': 2, 'points': 3, 'pointsPerGame': 0.11111, 'positionCode': 'L', 'ppGoals': 0, 'ppPoints': 0, 'shGoals': 0, 'shPoints': 0, 'shootingPct': 0.0606, 'shootsCatches': 'L', 'shots': 33, 'skaterFullName': 'William Carrier', 'timeOnIcePerGame': 530.8888}, {'assists': 1, 'evGoals': 2, 'evPoints': 3, 'faceoffWinPct': 0.50526, 'gameWinningGoals': 1, 'gamesPlayed': 9, 'goals': 2, 'lastName': 'Richardson', 'otGoals': 1, 'penaltyMinutes': 4, 'playerId': 8470755, 'plusMinus': -1, 'points': 3, 'pointsPerGame': 0.33333, 'positionCode': 'R', 'ppGoals': 0, 'ppPoints': 0, 'shGoals': 0, 'shPoints': 0, 'shootingPct': 0.125, 'shootsCatches': 'L', 'shots': 16, 'skaterFullName': 'Brad Richardson', 'timeOnIcePerGame': 817.4444}, {'assists': 1, 'evGoals': 2, 'evPoints': 3, 'faceoffWinPct': None, 'gameWinningGoals': 0, 'gamesPlayed': 16, 'goals': 2, 'lastName': 'Nichushkin', 'otGoals': 0, 'penaltyMinutes': 2, 'playerId': 8477501, 'plusMinus': 0, 'points': 3, 'pointsPerGame': 0.1875, 'positionCode': 'R', 'ppGoals': 0, 'ppPoints': 0, 'shGoals': 0, 'shPoints': 0, 'shootingPct': 0.11111, 'shootsCatches': 'L', 'shots': 18, 'skaterFullName': 'Valeri Nichushkin', 'timeOnIcePerGame': 822.0625}, {'assists': 1, 'evGoals': 2, 'evPoints': 2, 'faceoffWinPct': 0.42537, 'gameWinningGoals': 0, 'gamesPlayed': 9, 'goals': 2, 'lastName': 'Dvorak', 'otGoals': 0, 'penaltyMinutes': 0, 'playerId': 8477989, 'plusMinus': 1, 'points': 3, 'pointsPerGame': 0.33333, 'positionCode': 'C', 'ppGoals': 0, 'ppPoints': 1, 'shGoals': 0, 'shPoints': 0, 'shootingPct': 0.18181, 'shootsCatches': 'L', 'shots': 11, 'skaterFullName': 'Christian Dvorak', 'timeOnIcePerGame': 972.8888}, {'assists': 1, 'evGoals': 2, 'evPoints': 3, 'faceoffWinPct': 0.45714, 'gameWinningGoals': 0, 'gamesPlayed': 15, 'goals': 2, 'lastName': 'Nosek', 'otGoals': 0, 'penaltyMinutes': 16, 'playerId': 8477931, 'plusMinus': -3, 'points': 3, 'pointsPerGame': 0.2, 'positionCode': 'L', 'ppGoals': 0, 'ppPoints': 0, 'shGoals': 0, 'shPoints': 0, 'shootingPct': 0.16666, 'shootsCatches': 'L', 'shots': 12, 'skaterFullName': 'Tomas Nosek', 'timeOnIcePerGame': 730.0666}, {'assists': 1, 'evGoals': 2, 'evPoints': 3, 'faceoffWinPct': 0.50413, 'gameWinningGoals': 0, 'gamesPlayed': 21, 'goals': 2, 'lastName': 'Bellemare', 'otGoals': 0, 'penaltyMinutes': 8, 'playerId': 8477930, 'plusMinus': 0, 'points': 3, 'pointsPerGame': 0.14285, 'positionCode': 'C', 'ppGoals': 0, 'ppPoints': 0, 'shGoals': 0, 'shPoints': 0, 'shootingPct': 0.06896, 'shootsCatches': 'L', 'shots': 29, 'skaterFullName': 'Pierre-Edouard Bellemare', 'timeOnIcePerGame': 754.7142}, {'assists': 1, 'evGoals': 2, 'evPoints': 3, 'faceoffWinPct': None, 'gameWinningGoals': 2, 'gamesPlayed': 17, 'goals': 2, 'lastName': 'Stecher', 'otGoals': 0, 'penaltyMinutes': 10, 'playerId': 8479442, 'plusMinus': 9, 'points': 3, 'pointsPerGame': 0.17647, 'positionCode': 'D', 'ppGoals': 0, 'ppPoints': 0, 'shGoals': 0, 'shPoints': 0, 'shootingPct': 0.09523, 'shootsCatches': 'R', 'shots': 21, 'skaterFullName': 'Troy Stecher', 'timeOnIcePerGame': 980.0}, {'assists': 1, 'evGoals': 2, 'evPoints': 3, 'faceoffWinPct': 0.0, 'gameWinningGoals': 0, 'gamesPlayed': 22, 'goals': 2, 'lastName': 'Pitlick', 'otGoals': 0, 'penaltyMinutes': 2, 'playerId': 8475752, 'plusMinus': -8, 'points': 3, 'pointsPerGame': 0.13636, 'positionCode': 'C', 'ppGoals': 0, 'ppPoints': 0, 'shGoals': 0, 'shPoints': 0, 'shootingPct': 0.08695, 'shootsCatches': 'R', 'shots': 23, 'skaterFullName': 'Tyler Pitlick', 'timeOnIcePerGame': 728.0454}, {'assists': 2, 'evGoals': 0, 'evPoints': 0, 'faceoffWinPct': None, 'gameWinningGoals': 0, 'gamesPlayed': 6, 'goals': 1, 'lastName': 'Miller', 'otGoals': 0, 'penaltyMinutes': 6, 'playerId': 8476525, 'plusMinus': 1, 'points': 3, 'pointsPerGame': 0.5, 'positionCode': 'D', 'ppGoals': 0, 'ppPoints': 2, 'shGoals': 1, 'shPoints': 1, 'shootingPct': 0.11111, 'shootsCatches': 'R', 'shots': 9, 'skaterFullName': 'Colin Miller', 'timeOnIcePerGame': 1118.5}, {'assists': 2, 'evGoals': 1, 'evPoints': 3, 'faceoffWinPct': None, 'gameWinningGoals': 0, 'gamesPlayed': 9, 'goals': 1, 'lastName': 'Koekkoek', 'otGoals': 0, 'penaltyMinutes': 2, 'playerId': 8476886, 'plusMinus': 4, 'points': 3, 'pointsPerGame': 0.33333, 'positionCode': 'D', 'ppGoals': 0, 'ppPoints': 0, 'shGoals': 0, 'shPoints': 0, 'shootingPct': 0.14285, 'shootsCatches': 'L', 'shots': 7, 'skaterFullName': 'Slater Koekkoek', 'timeOnIcePerGame': 984.5555}, {'assists': 2, 'evGoals': 1, 'evPoints': 2, 'faceoffWinPct': 1.0, 'gameWinningGoals': 0, 'gamesPlayed': 4, 'goals': 1, 'lastName': 'Huberdeau', 'otGoals': 0, 'penaltyMinutes': 2, 'playerId': 8476456, 'plusMinus': 0, 'points': 3, 'pointsPerGame': 0.75, 'positionCode': 'L', 'ppGoals': 0, 'ppPoints': 1, 'shGoals': 0, 'shPoints': 0, 'shootingPct': 0.08333, 'shootsCatches': 'L', 'shots': 12, 'skaterFullName': 'Jonathan Huberdeau', 'timeOnIcePerGame': 1155.0}, {'assists': 2, 'evGoals': 1, 'evPoints': 3, 'faceoffWinPct': 0.55319, 'gameWinningGoals': 1, 'gamesPlayed': 7, 'goals': 1, 'lastName': 'Boyle', 'otGoals': 0, 'penaltyMinutes': 14, 'playerId': 8470619, 'plusMinus': 3, 'points': 3, 'pointsPerGame': 0.42857, 'positionCode': 'C', 'ppGoals': 0, 'ppPoints': 0, 'shGoals': 0, 'shPoints': 0, 'shootingPct': 0.1, 'shootsCatches': 'L', 'shots': 10, 'skaterFullName': 'Brian Boyle', 'timeOnIcePerGame': 712.1428}, {'assists': 2, 'evGoals': 1, 'evPoints': 3, 'faceoffWinPct': 0.47826, 'gameWinningGoals': 1, 'gamesPlayed': 10, 'goals': 1, 'lastName': 'Jarnkrok', 'otGoals': 0, 'penaltyMinutes': 2, 'playerId': 8475714, 'plusMinus': 1, 'points': 3, 'pointsPerGame': 0.3, 'positionCode': 'C', 'ppGoals': 0, 'ppPoints': 0, 'shGoals': 0, 'shPoints': 0, 'shootingPct': 0.1, 'shootsCatches': 'R', 'shots': 10, 'skaterFullName': 'Calle Jarnkrok', 'timeOnIcePerGame': 876.7}, {'assists': 2, 'evGoals': 1, 'evPoints': 3, 'faceoffWinPct': 0.28571, 'gameWinningGoals': 0, 'gamesPlayed': 8, 'goals': 1, 'lastName': 'Caggiula', 'otGoals': 0, 'penaltyMinutes': 2, 'playerId': 8479465, 'plusMinus': 0, 'points': 3, 'pointsPerGame': 0.375, 'positionCode': 'C', 'ppGoals': 0, 'ppPoints': 0, 'shGoals': 0, 'shPoints': 0, 'shootingPct': 0.125, 'shootsCatches': 'L', 'shots': 8, 'skaterFullName': 'Drake Caggiula', 'timeOnIcePerGame': 703.5}, {'assists': 2, 'evGoals': 1, 'evPoints': 3, 'faceoffWinPct': 0.59259, 'gameWinningGoals': 1, 'gamesPlayed': 10, 'goals': 1, 'lastName': 'Granlund', 'otGoals': 0, 'penaltyMinutes': 4, 'playerId': 8475798, 'plusMinus': -2, 'points': 3, 'pointsPerGame': 0.3, 'positionCode': 'C', 'ppGoals': 0, 'ppPoints': 0, 'shGoals': 0, 'shPoints': 0, 'shootingPct': 0.05263, 'shootsCatches': 'L', 'shots': 19, 'skaterFullName': 'Mikael Granlund', 'timeOnIcePerGame': 995.3}, {'assists': 2, 'evGoals': 1, 'evPoints': 3, 'faceoffWinPct': None, 'gameWinningGoals': 1, 'gamesPlayed': 9, 'goals': 1, 'lastName': 'Tanev', 'otGoals': 0, 'penaltyMinutes': 0, 'playerId': 8479293, 'plusMinus': -2, 'points': 3, 'pointsPerGame': 0.33333, 'positionCode': 'L', 'ppGoals': 0, 'ppPoints': 0, 'shGoals': 0, 'shPoints': 0, 'shootingPct': 0.08333, 'shootsCatches': 'L', 'shots': 12, 'skaterFullName': 'Brandon Tanev', 'timeOnIcePerGame': 820.4444}, {'assists': 2, 'evGoals': 1, 'evPoints': 3, 'faceoffWinPct': 0.58536, 'gameWinningGoals': 0, 'gamesPlayed': 10, 'goals': 1, 'lastName': 'Bonino', 'otGoals': 0, 'penaltyMinutes': 4, 'playerId': 8474009, 'plusMinus': -5, 'points': 3, 'pointsPerGame': 0.3, 'positionCode': 'C', 'ppGoals': 0, 'ppPoints': 0, 'shGoals': 0, 'shPoints': 0, 'shootingPct': 0.07142, 'shootsCatches': 'L', 'shots': 14, 'skaterFullName': 'Nick Bonino', 'timeOnIcePerGame': 950.4}, {'assists': 2, 'evGoals': 1, 'evPoints': 2, 'faceoffWinPct': 0.50781, 'gameWinningGoals': 0, 'gamesPlayed': 15, 'goals': 1, 'lastName': 'Ryan', 'otGoals': 0, 'penaltyMinutes': 2, 'playerId': 8478585, 'plusMinus': 4, 'points': 3, 'pointsPerGame': 0.2, 'positionCode': 'C', 'ppGoals': 0, 'ppPoints': 0, 'shGoals': 0, 'shPoints': 1, 'shootingPct': 0.08333, 'shootsCatches': 'R', 'shots': 12, 'skaterFullName': 'Derek Ryan', 'timeOnIcePerGame': 711.8}, {'assists': 2, 'evGoals': 1, 'evPoints': 3, 'faceoffWinPct': 0.54017, 'gameWinningGoals': 0, 'gamesPlayed': 10, 'goals': 1, 'lastName': 'Danault', 'otGoals': 0, 'penaltyMinutes': 6, 'playerId': 8476479, 'plusMinus': -1, 'points': 3, 'pointsPerGame': 0.3, 'positionCode': 'C', 'ppGoals': 0, 'ppPoints': 0, 'shGoals': 0, 'shPoints': 0, 'shootingPct': 0.04166, 'shootsCatches': 'L', 'shots': 24, 'skaterFullName': 'Phillip Danault', 'timeOnIcePerGame': 1174.3}, {'assists': 2, 'evGoals': 1, 'evPoints': 3, 'faceoffWinPct': 0.25, 'gameWinningGoals': 0, 'gamesPlayed': 13, 'goals': 1, 'lastName': 'Kuhlman', 'otGoals': 0, 'penaltyMinutes': 0, 'playerId': 8480901, 'plusMinus': -1, 'points': 3, 'pointsPerGame': 0.23076, 'positionCode': 'C', 'ppGoals': 0, 'ppPoints': 0, 'shGoals': 0, 'shPoints': 0, 'shootingPct': 0.04761, 'shootsCatches': 'R', 'shots': 21, 'skaterFullName': 'Karson Kuhlman', 'timeOnIcePerGame': 719.3846}, {'assists': 2, 'evGoals': 0, 'evPoints': 1, 'faceoffWinPct': 0.66666, 'gameWinningGoals': 0, 'gamesPlayed': 8, 'goals': 1, 'lastName': 'Rust', 'otGoals': 0, 'penaltyMinutes': 4, 'playerId': 8475810, 'plusMinus': -6, 'points': 3, 'pointsPerGame': 0.375, 'positionCode': 'R', 'ppGoals': 1, 'ppPoints': 2, 'shGoals': 0, 'shPoints': 0, 'shootingPct': 0.11111, 'shootsCatches': 'R', 'shots': 9, 'skaterFullName': 'Bryan Rust', 'timeOnIcePerGame': 964.875}, {'assists': 2, 'evGoals': 1, 'evPoints': 3, 'faceoffWinPct': None, 'gameWinningGoals': 0, 'gamesPlayed': 12, 'goals': 1, 'lastName': 'Gavrikov', 'otGoals': 0, 'penaltyMinutes': 6, 'playerId': 8478882, 'plusMinus': -6, 'points': 3, 'pointsPerGame': 0.25, 'positionCode': 'D', 'ppGoals': 0, 'ppPoints': 0, 'shGoals': 0, 'shPoints': 0, 'shootingPct': 0.0625, 'shootsCatches': 'L', 'shots': 16, 'skaterFullName': 'Vladislav Gavrikov', 'timeOnIcePerGame': 1323.0}, {'assists': 2, 'evGoals': 1, 'evPoints': 3, 'faceoffWinPct': None, 'gameWinningGoals': 0, 'gamesPlayed': 15, 'goals': 1, 'lastName': 'Graves', 'otGoals': 0, 'penaltyMinutes': 6, 'playerId': 8477435, 'plusMinus': 9, 'points': 3, 'pointsPerGame': 0.2, 'positionCode': 'D', 'ppGoals': 0, 'ppPoints': 0, 'shGoals': 0, 'shPoints': 0, 'shootingPct': 0.0303, 'shootsCatches': 'L', 'shots': 33, 'skaterFullName': 'Ryan Graves', 'timeOnIcePerGame': 1211.4}, {'assists': 2, 'evGoals': 0, 'evPoints': 2, 'faceoffWinPct': 0.25, 'gameWinningGoals': 0, 'gamesPlayed': 10, 'goals': 1, 'lastName': 'Anderson', 'otGoals': 0, 'penaltyMinutes': 22, 'playerId': 8476981, 'plusMinus': -5, 'points': 3, 'pointsPerGame': 0.3, 'positionCode': 'R', 'ppGoals': 0, 'ppPoints': 0, 'shGoals': 1, 'shPoints': 1, 'shootingPct': 0.04347, 'shootsCatches': 'R', 'shots': 23, 'skaterFullName': 'Josh Anderson', 'timeOnIcePerGame': 1019.1}, {'assists': 2, 'evGoals': 0, 'evPoints': 2, 'faceoffWinPct': 0.50617, 'gameWinningGoals': 0, 'gamesPlayed': 6, 'goals': 1, 'lastName': 'Little', 'otGoals': 0, 'penaltyMinutes': 0, 'playerId': 8473412, 'plusMinus': 1, 'points': 3, 'pointsPerGame': 0.5, 'positionCode': 'C', 'ppGoals': 0, 'ppPoints': 0, 'shGoals': 1, 'shPoints': 1, 'shootingPct': 0.16666, 'shootsCatches': 'R', 'shots': 6, 'skaterFullName': 'Bryan Little', 'timeOnIcePerGame': 968.6666}, {'assists': 2, 'evGoals': 1, 'evPoints': 3, 'faceoffWinPct': None, 'gameWinningGoals': 0, 'gamesPlayed': 6, 'goals': 1, 'lastName': 'Subban', 'otGoals': 0, 'penaltyMinutes': 0, 'playerId': 8474056, 'plusMinus': -3, 'points': 3, 'pointsPerGame': 0.5, 'positionCode': 'D', 'ppGoals': 0, 'ppPoints': 0, 'shGoals': 0, 'shPoints': 0, 'shootingPct': 0.05555, 'shootsCatches': 'R', 'shots': 18, 'skaterFullName': 'P.K. Subban', 'timeOnIcePerGame': 1529.0}, {'assists': 3, 'evGoals': 0, 'evPoints': 3, 'faceoffWinPct': None, 'gameWinningGoals': 0, 'gamesPlayed': 13, 'goals': 0, 'lastName': 'Gardiner', 'otGoals': 0, 'penaltyMinutes': 2, 'playerId': 8474581, 'plusMinus': -2, 'points': 3, 'pointsPerGame': 0.23076, 'positionCode': 'D', 'ppGoals': 0, 'ppPoints': 0, 'shGoals': 0, 'shPoints': 0, 'shootingPct': 0.0, 'shootsCatches': 'L', 'shots': 11, 'skaterFullName': 'Jake Gardiner', 'timeOnIcePerGame': 887.0}, {'assists': 3, 'evGoals': 0, 'evPoints': 3, 'faceoffWinPct': None, 'gameWinningGoals': 0, 'gamesPlayed': 28, 'goals': 0, 'lastName': 'Dillon', 'otGoals': 0, 'penaltyMinutes': 32, 'playerId': 8475455, 'plusMinus': -8, 'points': 3, 'pointsPerGame': 0.10714, 'positionCode': 'D', 'ppGoals': 0, 'ppPoints': 0, 'shGoals': 0, 'shPoints': 0, 'shootingPct': 0.0, 'shootsCatches': 'L', 'shots': 21, 'skaterFullName': 'Brenden Dillon', 'timeOnIcePerGame': 1084.7142}, {'assists': 3, 'evGoals': 0, 'evPoints': 2, 'faceoffWinPct': None, 'gameWinningGoals': 0, 'gamesPlayed': 10, 'goals': 0, 'lastName': 'Kulak', 'otGoals': 0, 'penaltyMinutes': 0, 'playerId': 8476967, 'plusMinus': 2, 'points': 3, 'pointsPerGame': 0.3, 'positionCode': 'D', 'ppGoals': 0, 'ppPoints': 0, 'shGoals': 0, 'shPoints': 1, 'shootingPct': 0.0, 'shootsCatches': 'L', 'shots': 19, 'skaterFullName': 'Brett Kulak', 'timeOnIcePerGame': 1113.0}, {'assists': 3, 'evGoals': 0, 'evPoints': 1, 'faceoffWinPct': None, 'gameWinningGoals': 0, 'gamesPlayed': 4, 'goals': 0, 'lastName': 'Yandle', 'otGoals': 0, 'penaltyMinutes': 0, 'playerId': 8471735, 'plusMinus': -2, 'points': 3, 'pointsPerGame': 0.75, 'positionCode': 'D', 'ppGoals': 0, 'ppPoints': 2, 'shGoals': 0, 'shPoints': 0, 'shootingPct': 0.0, 'shootsCatches': 'L', 'shots': 6, 'skaterFullName': 'Keith Yandle', 'timeOnIcePerGame': 1089.0}, {'assists': 3, 'evGoals': 0, 'evPoints': 3, 'faceoffWinPct': None, 'gameWinningGoals': 0, 'gamesPlayed': 9, 'goals': 0, 'lastName': 'Rutta', 'otGoals': 0, 'penaltyMinutes': 12, 'playerId': 8480172, 'plusMinus': 2, 'points': 3, 'pointsPerGame': 0.33333, 'positionCode': 'D', 'ppGoals': 0, 'ppPoints': 0, 'shGoals': 0, 'shPoints': 0, 'shootingPct': 0.0, 'shootsCatches': 'R', 'shots': 7, 'skaterFullName': 'Jan Rutta', 'timeOnIcePerGame': 1026.7777}, {'assists': 3, 'evGoals': 0, 'evPoints': 1, 'faceoffWinPct': 0.50877, 'gameWinningGoals': 0, 'gamesPlayed': 10, 'goals': 0, 'lastName': 'Domi', 'otGoals': 0, 'penaltyMinutes': 8, 'playerId': 8477503, 'plusMinus': -2, 'points': 3, 'pointsPerGame': 0.3, 'positionCode': 'C', 'ppGoals': 0, 'ppPoints': 2, 'shGoals': 0, 'shPoints': 0, 'shootingPct': 0.0, 'shootsCatches': 'L', 'shots': 14, 'skaterFullName': 'Max Domi', 'timeOnIcePerGame': 861.2}, {'assists': 3, 'evGoals': 0, 'evPoints': 1, 'faceoffWinPct': None, 'gameWinningGoals': 0, 'gamesPlayed': 7, 'goals': 0, 'lastName': 'Vatanen', 'otGoals': 0, 'penaltyMinutes': 6, 'playerId': 8475222, 'plusMinus': -1, 'points': 3, 'pointsPerGame': 0.42857, 'positionCode': 'D', 'ppGoals': 0, 'ppPoints': 2, 'shGoals': 0, 'shPoints': 0, 'shootingPct': 0.0, 'shootsCatches': 'R', 'shots': 10, 'skaterFullName': 'Sami Vatanen', 'timeOnIcePerGame': 1090.0}, {'assists': 3, 'evGoals': 0, 'evPoints': 3, 'faceoffWinPct': None, 'gameWinningGoals': 0, 'gamesPlayed': 12, 'goals': 0, 'lastName': 'Hagg', 'otGoals': 0, 'penaltyMinutes': 6, 'playerId': 8477462, 'plusMinus': 1, 'points': 3, 'pointsPerGame': 0.25, 'positionCode': 'D', 'ppGoals': 0, 'ppPoints': 0, 'shGoals': 0, 'shPoints': 0, 'shootingPct': 0.0, 'shootsCatches': 'L', 'shots': 12, 'skaterFullName': 'Robert Hagg', 'timeOnIcePerGame': 892.0}, {'assists': 3, 'evGoals': 0, 'evPoints': 2, 'faceoffWinPct': 0.4, 'gameWinningGoals': 0, 'gamesPlayed': 4, 'goals': 0, 'lastName': 'Parise', 'otGoals': 0, 'penaltyMinutes': 2, 'playerId': 8470610, 'plusMinus': 2, 'points': 3, 'pointsPerGame': 0.75, 'positionCode': 'L', 'ppGoals': 0, 'ppPoints': 0, 'shGoals': 0, 'shPoints': 1, 'shootingPct': 0.0, 'shootsCatches': 'L', 'shots': 6, 'skaterFullName': 'Zach Parise', 'timeOnIcePerGame': 1064.0}, {'assists': 3, 'evGoals': 0, 'evPoints': 3, 'faceoffWinPct': None, 'gameWinningGoals': 0, 'gamesPlayed': 36, 'goals': 0, 'lastName': 'Braun', 'otGoals': 0, 'penaltyMinutes': 10, 'playerId': 8474027, 'plusMinus': -3, 'points': 3, 'pointsPerGame': 0.08333, 'positionCode': 'D', 'ppGoals': 0, 'ppPoints': 0, 'shGoals': 0, 'shPoints': 0, 'shootingPct': 0.0, 'shootsCatches': 'R', 'shots': 43, 'skaterFullName': 'Justin Braun', 'timeOnIcePerGame': 1161.0833}, {'assists': 3, 'evGoals': 0, 'evPoints': 3, 'faceoffWinPct': None, 'gameWinningGoals': 0, 'gamesPlayed': 10, 'goals': 0, 'lastName': 'Ekholm', 'otGoals': 0, 'penaltyMinutes': 12, 'playerId': 8475218, 'plusMinus': -4, 'points': 3, 'pointsPerGame': 0.3, 'positionCode': 'D', 'ppGoals': 0, 'ppPoints': 0, 'shGoals': 0, 'shPoints': 0, 'shootingPct': 0.0, 'shootsCatches': 'L', 'shots': 26, 'skaterFullName': 'Mattias Ekholm', 'timeOnIcePerGame': 1441.1}, {'assists': 0, 'evGoals': 2, 'evPoints': 2, 'faceoffWinPct': 0.0, 'gameWinningGoals': 0, 'gamesPlayed': 11, 'goals': 2, 'lastName': 'Connolly', 'otGoals': 0, 'penaltyMinutes': 8, 'playerId': 8475792, 'plusMinus': -7, 'points': 2, 'pointsPerGame': 0.18181, 'positionCode': 'R', 'ppGoals': 0, 'ppPoints': 0, 'shGoals': 0, 'shPoints': 0, 'shootingPct': 0.18181, 'shootsCatches': 'R', 'shots': 11, 'skaterFullName': 'Brett Connolly', 'timeOnIcePerGame': 780.2727}, {'assists': 0, 'evGoals': 2, 'evPoints': 2, 'faceoffWinPct': None, 'gameWinningGoals': 0, 'gamesPlayed': 17, 'goals': 2, 'lastName': 'Fleury', 'otGoals': 0, 'penaltyMinutes': 8, 'playerId': 8477938, 'plusMinus': 5, 'points': 2, 'pointsPerGame': 0.11764, 'positionCode': 'D', 'ppGoals': 0, 'ppPoints': 0, 'shGoals': 0, 'shPoints': 0, 'shootingPct': 0.125, 'shootsCatches': 'L', 'shots': 16, 'skaterFullName': 'Haydn Fleury', 'timeOnIcePerGame': 704.2941}, {'assists': 0, 'evGoals': 0, 'evPoints': 0, 'faceoffWinPct': 0.57142, 'gameWinningGoals': 0, 'gamesPlayed': 4, 'goals': 2, 'lastName': 'Kunin', 'otGoals': 0, 'penaltyMinutes': 2, 'playerId': 8479316, 'plusMinus': 0, 'points': 2, 'pointsPerGame': 0.5, 'positionCode': 'C', 'ppGoals': 1, 'ppPoints': 1, 'shGoals': 1, 'shPoints': 1, 'shootingPct': 0.33333, 'shootsCatches': 'R', 'shots': 6, 'skaterFullName': 'Luke Kunin', 'timeOnIcePerGame': 869.75}, {'assists': 0, 'evGoals': 2, 'evPoints': 2, 'faceoffWinPct': 1.0, 'gameWinningGoals': 0, 'gamesPlayed': 9, 'goals': 2, 'lastName': 'Crouse', 'otGoals': 0, 'penaltyMinutes': 2, 'playerId': 8478474, 'plusMinus': 1, 'points': 2, 'pointsPerGame': 0.22222, 'positionCode': 'L', 'ppGoals': 0, 'ppPoints': 0, 'shGoals': 0, 'shPoints': 0, 'shootingPct': 0.15384, 'shootsCatches': 'L', 'shots': 13, 'skaterFullName': 'Lawson Crouse', 'timeOnIcePerGame': 873.5555}, {'assists': 0, 'evGoals': 1, 'evPoints': 1, 'faceoffWinPct': 0.66666, 'gameWinningGoals': 1, 'gamesPlayed': 10, 'goals': 2, 'lastName': 'Ehlers', 'otGoals': 0, 'penaltyMinutes': 2, 'playerId': 8477940, 'plusMinus': -4, 'points': 2, 'pointsPerGame': 0.2, 'positionCode': 'L', 'ppGoals': 1, 'ppPoints': 1, 'shGoals': 0, 'shPoints': 0, 'shootingPct': 0.06666, 'shootsCatches': 'L', 'shots': 30, 'skaterFullName': 'Nikolaj Ehlers', 'timeOnIcePerGame': 881.8}, {'assists': 0, 'evGoals': 1, 'evPoints': 1, 'faceoffWinPct': None, 'gameWinningGoals': 1, 'gamesPlayed': 4, 'goals': 2, 'lastName': 'Zucker', 'otGoals': 0, 'penaltyMinutes': 0, 'playerId': 8475722, 'plusMinus': 0, 'points': 2, 'pointsPerGame': 0.5, 'positionCode': 'L', 'ppGoals': 1, 'ppPoints': 1, 'shGoals': 0, 'shPoints': 0, 'shootingPct': 0.16666, 'shootsCatches': 'L', 'shots': 12, 'skaterFullName': 'Jason Zucker', 'timeOnIcePerGame': 1034.0}, {'assists': 0, 'evGoals': 2, 'evPoints': 2, 'faceoffWinPct': 0.0, 'gameWinningGoals': 0, 'gamesPlayed': 12, 'goals': 2, 'lastName': 'van Riemsdyk', 'otGoals': 0, 'penaltyMinutes': 2, 'playerId': 8474037, 'plusMinus': -3, 'points': 2, 'pointsPerGame': 0.16666, 'positionCode': 'L', 'ppGoals': 0, 'ppPoints': 0, 'shGoals': 0, 'shPoints': 0, 'shootingPct': 0.08695, 'shootsCatches': 'L', 'shots': 23, 'skaterFullName': 'James van Riemsdyk', 'timeOnIcePerGame': 860.0}, {'assists': 0, 'evGoals': 1, 'evPoints': 1, 'faceoffWinPct': 1.0, 'gameWinningGoals': 1, 'gamesPlayed': 10, 'goals': 2, 'lastName': 'Tatar', 'otGoals': 0, 'penaltyMinutes': 4, 'playerId': 8475193, 'plusMinus': -1, 'points': 2, 'pointsPerGame': 0.2, 'positionCode': 'L', 'ppGoals': 1, 'ppPoints': 1, 'shGoals': 0, 'shPoints': 0, 'shootingPct': 0.15384, 'shootsCatches': 'L', 'shots': 13, 'skaterFullName': 'Tomas Tatar', 'timeOnIcePerGame': 961.6}, {'assists': 0, 'evGoals': 2, 'evPoints': 2, 'faceoffWinPct': 0.50495, 'gameWinningGoals': 1, 'gamesPlayed': 17, 'goals': 2, 'lastName': 'McKegg', 'otGoals': 0, 'penaltyMinutes': 6, 'playerId': 8475735, 'plusMinus': -2, 'points': 2, 'pointsPerGame': 0.11764, 'positionCode': 'C', 'ppGoals': 0, 'ppPoints': 0, 'shGoals': 0, 'shPoints': 0, 'shootingPct': 0.14285, 'shootsCatches': 'L', 'shots': 14, 'skaterFullName': 'Greg McKegg', 'timeOnIcePerGame': 624.647}, {'assists': 0, 'evGoals': 2, 'evPoints': 2, 'faceoffWinPct': None, 'gameWinningGoals': 1, 'gamesPlayed': 20, 'goals': 2, 'lastName': 'Bortuzzo', 'otGoals': 0, 'penaltyMinutes': 30, 'playerId': 8474145, 'plusMinus': 0, 'points': 2, 'pointsPerGame': 0.1, 'positionCode': 'D', 'ppGoals': 0, 'ppPoints': 0, 'shGoals': 0, 'shPoints': 0, 'shootingPct': 0.15384, 'shootsCatches': 'R', 'shots': 13, 'skaterFullName': 'Robert Bortuzzo', 'timeOnIcePerGame': 720.3}, {'assists': 0, 'evGoals': 2, 'evPoints': 2, 'faceoffWinPct': 0.51265, 'gameWinningGoals': 0, 'gamesPlayed': 11, 'goals': 2, 'lastName': 'Eakin', 'otGoals': 0, 'penaltyMinutes': 21, 'playerId': 8475236, 'plusMinus': -3, 'points': 2, 'pointsPerGame': 0.18181, 'positionCode': 'C', 'ppGoals': 0, 'ppPoints': 0, 'shGoals': 0, 'shPoints': 0, 'shootingPct': 0.14285, 'shootsCatches': 'L', 'shots': 14, 'skaterFullName': 'Cody Eakin', 'timeOnIcePerGame': 1021.909}, {'assists': 1, 'evGoals': 1, 'evPoints': 2, 'faceoffWinPct': None, 'gameWinningGoals': 0, 'gamesPlayed': 10, 'goals': 1, 'lastName': 'Forbort', 'otGoals': 0, 'penaltyMinutes': 2, 'playerId': 8475762, 'plusMinus': -1, 'points': 2, 'pointsPerGame': 0.2, 'positionCode': 'D', 'ppGoals': 0, 'ppPoints': 0, 'shGoals': 0, 'shPoints': 0, 'shootingPct': 0.0909, 'shootsCatches': 'L', 'shots': 11, 'skaterFullName': 'Derek Forbort', 'timeOnIcePerGame': 1048.9}, {'assists': 1, 'evGoals': 1, 'evPoints': 2, 'faceoffWinPct': None, 'gameWinningGoals': 1, 'gamesPlayed': 7, 'goals': 1, 'lastName': 'Orpik', 'otGoals': 1, 'penaltyMinutes': 0, 'playerId': 8468498, 'plusMinus': -1, 'points': 2, 'pointsPerGame': 0.28571, 'positionCode': 'D', 'ppGoals': 0, 'ppPoints': 0, 'shGoals': 0, 'shPoints': 0, 'shootingPct': 0.11111, 'shootsCatches': 'L', 'shots': 9, 'skaterFullName': 'Brooks Orpik', 'timeOnIcePerGame': 1092.1428}, {'assists': 1, 'evGoals': 1, 'evPoints': 2, 'faceoffWinPct': None, 'gameWinningGoals': 0, 'gamesPlayed': 21, 'goals': 1, 'lastName': 'de Haan', 'otGoals': 0, 'penaltyMinutes': 2, 'playerId': 8475177, 'plusMinus': 4, 'points': 2, 'pointsPerGame': 0.09523, 'positionCode': 'D', 'ppGoals': 0, 'ppPoints': 0, 'shGoals': 0, 'shPoints': 0, 'shootingPct': 0.04545, 'shootsCatches': 'L', 'shots': 22, 'skaterFullName': 'Calvin de Haan', 'timeOnIcePerGame': 1115.4285}, {'assists': 1, 'evGoals': 1, 'evPoints': 2, 'faceoffWinPct': None, 'gameWinningGoals': 0, 'gamesPlayed': 10, 'goals': 1, 'lastName': 'Watson', 'otGoals': 0, 'penaltyMinutes': 8, 'playerId': 8475766, 'plusMinus': -2, 'points': 2, 'pointsPerGame': 0.2, 'positionCode': 'L', 'ppGoals': 0, 'ppPoints': 0, 'shGoals': 0, 'shPoints': 0, 'shootingPct': 0.05, 'shootsCatches': 'R', 'shots': 20, 'skaterFullName': 'Austin Watson', 'timeOnIcePerGame': 701.6}, {'assists': 1, 'evGoals': 1, 'evPoints': 1, 'faceoffWinPct': 0.52459, 'gameWinningGoals': 0, 'gamesPlayed': 3, 'goals': 1, 'lastName': 'Zibanejad', 'otGoals': 0, 'penaltyMinutes': 0, 'playerId': 8476459, 'plusMinus': -1, 'points': 2, 'pointsPerGame': 0.66666, 'positionCode': 'C', 'ppGoals': 0, 'ppPoints': 0, 'shGoals': 0, 'shPoints': 1, 'shootingPct': 0.11111, 'shootsCatches': 'R', 'shots': 9, 'skaterFullName': 'Mika Zibanejad', 'timeOnIcePerGame': 1387.0}, {'assists': 1, 'evGoals': 1, 'evPoints': 2, 'faceoffWinPct': 0.0, 'gameWinningGoals': 0, 'gamesPlayed': 10, 'goals': 1, 'lastName': 'Foudy', 'otGoals': 0, 'penaltyMinutes': 0, 'playerId': 8480853, 'plusMinus': -1, 'points': 2, 'pointsPerGame': 0.2, 'positionCode': 'C', 'ppGoals': 0, 'ppPoints': 0, 'shGoals': 0, 'shPoints': 0, 'shootingPct': 0.05, 'shootsCatches': 'L', 'shots': 20, 'skaterFullName': 'Liam Foudy', 'timeOnIcePerGame': 1002.7}, {'assists': 1, 'evGoals': 1, 'evPoints': 1, 'faceoffWinPct': 0.0, 'gameWinningGoals': 0, 'gamesPlayed': 4, 'goals': 1, 'lastName': 'Chiasson', 'otGoals': 0, 'penaltyMinutes': 0, 'playerId': 8475163, 'plusMinus': 1, 'points': 2, 'pointsPerGame': 0.5, 'positionCode': 'R', 'ppGoals': 0, 'ppPoints': 1, 'shGoals': 0, 'shPoints': 0, 'shootingPct': 0.14285, 'shootsCatches': 'R', 'shots': 7, 'skaterFullName': 'Alex Chiasson', 'timeOnIcePerGame': 826.5}, {'assists': 1, 'evGoals': 1, 'evPoints': 2, 'faceoffWinPct': None, 'gameWinningGoals': 0, 'gamesPlayed': 19, 'goals': 1, 'lastName': 'Kukan', 'otGoals': 0, 'penaltyMinutes': 9, 'playerId': 8478567, 'plusMinus': 0, 'points': 2, 'pointsPerGame': 0.10526, 'positionCode': 'D', 'ppGoals': 0, 'ppPoints': 0, 'shGoals': 0, 'shPoints': 0, 'shootingPct': 0.04166, 'shootsCatches': 'L', 'shots': 24, 'skaterFullName': 'Dean Kukan', 'timeOnIcePerGame': 853.7368}, {'assists': 1, 'evGoals': 1, 'evPoints': 2, 'faceoffWinPct': None, 'gameWinningGoals': 0, 'gamesPlayed': 13, 'goals': 1, 'lastName': 'Hanley', 'otGoals': 0, 'penaltyMinutes': 4, 'playerId': 8477810, 'plusMinus': 3, 'points': 2, 'pointsPerGame': 0.15384, 'positionCode': 'D', 'ppGoals': 0, 'ppPoints': 0, 'shGoals': 0, 'shPoints': 0, 'shootingPct': 0.16666, 'shootsCatches': 'L', 'shots': 6, 'skaterFullName': 'Joel Hanley', 'timeOnIcePerGame': 686.1538}, {'assists': 1, 'evGoals': 1, 'evPoints': 2, 'faceoffWinPct': 0.0, 'gameWinningGoals': 1, 'gamesPlayed': 8, 'goals': 1, 'lastName': 'Garland', 'otGoals': 0, 'penaltyMinutes': 0, 'playerId': 8478856, 'plusMinus': 1, 'points': 2, 'pointsPerGame': 0.25, 'positionCode': 'R', 'ppGoals': 0, 'ppPoints': 0, 'shGoals': 0, 'shPoints': 0, 'shootingPct': 0.05882, 'shootsCatches': 'R', 'shots': 17, 'skaterFullName': 'Conor Garland', 'timeOnIcePerGame': 744.625}, {'assists': 1, 'evGoals': 0, 'evPoints': 0, 'faceoffWinPct': 1.0, 'gameWinningGoals': 0, 'gamesPlayed': 8, 'goals': 1, 'lastName': 'Hornqvist', 'otGoals': 0, 'penaltyMinutes': 8, 'playerId': 8471887, 'plusMinus': -5, 'points': 2, 'pointsPerGame': 0.25, 'positionCode': 'R', 'ppGoals': 1, 'ppPoints': 2, 'shGoals': 0, 'shPoints': 0, 'shootingPct': 0.04347, 'shootsCatches': 'R', 'shots': 23, 'skaterFullName': 'Patric Hornqvist', 'timeOnIcePerGame': 883.625}, {'assists': 1, 'evGoals': 1, 'evPoints': 2, 'faceoffWinPct': 0.47142, 'gameWinningGoals': 0, 'gamesPlayed': 10, 'goals': 1, 'lastName': 'Turris', 'otGoals': 0, 'penaltyMinutes': 2, 'playerId': 8474068, 'plusMinus': -2, 'points': 2, 'pointsPerGame': 0.2, 'positionCode': 'C', 'ppGoals': 0, 'ppPoints': 0, 'shGoals': 0, 'shPoints': 0, 'shootingPct': 0.04545, 'shootsCatches': 'R', 'shots': 22, 'skaterFullName': 'Kyle Turris', 'timeOnIcePerGame': 880.7}, {'assists': 1, 'evGoals': 1, 'evPoints': 2, 'faceoffWinPct': 0.5, 'gameWinningGoals': 0, 'gamesPlayed': 3, 'goals': 1, 'lastName': 'Kreider', 'otGoals': 0, 'penaltyMinutes': 6, 'playerId': 8475184, 'plusMinus': 0, 'points': 2, 'pointsPerGame': 0.66666, 'positionCode': 'L', 'ppGoals': 0, 'ppPoints': 0, 'shGoals': 0, 'shPoints': 0, 'shootingPct': 0.11111, 'shootsCatches': 'L', 'shots': 9, 'skaterFullName': 'Chris Kreider', 'timeOnIcePerGame': 1070.6666}, {'assists': 1, 'evGoals': 1, 'evPoints': 2, 'faceoffWinPct': 0.57142, 'gameWinningGoals': 0, 'gamesPlayed': 17, 'goals': 1, 'lastName': 'Beagle', 'otGoals': 0, 'penaltyMinutes': 10, 'playerId': 8474291, 'plusMinus': 2, 'points': 2, 'pointsPerGame': 0.11764, 'positionCode': 'C', 'ppGoals': 0, 'ppPoints': 0, 'shGoals': 0, 'shPoints': 0, 'shootingPct': 0.1, 'shootsCatches': 'R', 'shots': 10, 'skaterFullName': 'Jay Beagle', 'timeOnIcePerGame': 759.7647}, {'assists': 2, 'evGoals': 0, 'evPoints': 1, 'faceoffWinPct': 0.48484, 'gameWinningGoals': 0, 'gamesPlayed': 6, 'goals': 0, 'lastName': 'McCann', 'otGoals': 0, 'penaltyMinutes': 2, 'playerId': 8477955, 'plusMinus': 0, 'points': 2, 'pointsPerGame': 0.33333, 'positionCode': 'L', 'ppGoals': 0, 'ppPoints': 1, 'shGoals': 0, 'shPoints': 0, 'shootingPct': 0.0, 'shootsCatches': 'L', 'shots': 9, 'skaterFullName': 'Jared McCann', 'timeOnIcePerGame': 874.3333}, {'assists': 2, 'evGoals': 0, 'evPoints': 2, 'faceoffWinPct': 0.47727, 'gameWinningGoals': 0, 'gamesPlayed': 15, 'goals': 0, 'lastName': 'Grant', 'otGoals': 0, 'penaltyMinutes': 8, 'playerId': 8474683, 'plusMinus': -1, 'points': 2, 'pointsPerGame': 0.13333, 'positionCode': 'C', 'ppGoals': 0, 'ppPoints': 0, 'shGoals': 0, 'shPoints': 0, 'shootingPct': 0.0, 'shootsCatches': 'L', 'shots': 21, 'skaterFullName': 'Derek Grant', 'timeOnIcePerGame': 791.8}, {'assists': 2, 'evGoals': 0, 'evPoints': 1, 'faceoffWinPct': 0.5, 'gameWinningGoals': 0, 'gamesPlayed': 9, 'goals': 0, 'lastName': 'Perreault', 'otGoals': 0, 'penaltyMinutes': 10, 'playerId': 8473618, 'plusMinus': -2, 'points': 2, 'pointsPerGame': 0.22222, 'positionCode': 'L', 'ppGoals': 0, 'ppPoints': 0, 'shGoals': 0, 'shPoints': 1, 'shootingPct': 0.0, 'shootsCatches': 'L', 'shots': 4, 'skaterFullName': 'Mathieu Perreault', 'timeOnIcePerGame': 649.0}, {'assists': 2, 'evGoals': 0, 'evPoints': 2, 'faceoffWinPct': None, 'gameWinningGoals': 0, 'gamesPlayed': 5, 'goals': 0, 'lastName': 'Gudas', 'otGoals': 0, 'penaltyMinutes': 2, 'playerId': 8475462, 'plusMinus': -1, 'points': 2, 'pointsPerGame': 0.4, 'positionCode': 'D', 'ppGoals': 0, 'ppPoints': 0, 'shGoals': 0, 'shPoints': 0, 'shootingPct': 0.0, 'shootsCatches': 'R', 'shots': 2, 'skaterFullName': 'Radko Gudas', 'timeOnIcePerGame': 952.4}, {'assists': 2, 'evGoals': 0, 'evPoints': 1, 'faceoffWinPct': None, 'gameWinningGoals': 0, 'gamesPlayed': 4, 'goals': 0, 'lastName': 'Brodin', 'otGoals': 0, 'penaltyMinutes': 0, 'playerId': 8476463, 'plusMinus': 1, 'points': 2, 'pointsPerGame': 0.5, 'positionCode': 'D', 'ppGoals': 0, 'ppPoints': 1, 'shGoals': 0, 'shPoints': 0, 'shootingPct': 0.0, 'shootsCatches': 'L', 'shots': 8, 'skaterFullName': 'Jonas Brodin', 'timeOnIcePerGame': 1428.0}, {'assists': 2, 'evGoals': 0, 'evPoints': 0, 'faceoffWinPct': None, 'gameWinningGoals': 0, 'gamesPlayed': 4, 'goals': 0, 'lastName': 'Pionk', 'otGoals': 0, 'penaltyMinutes': 0, 'playerId': 8480145, 'plusMinus': -6, 'points': 2, 'pointsPerGame': 0.5, 'positionCode': 'D', 'ppGoals': 0, 'ppPoints': 2, 'shGoals': 0, 'shPoints': 0, 'shootingPct': 0.0, 'shootsCatches': 'R', 'shots': 10, 'skaterFullName': 'Neal Pionk', 'timeOnIcePerGame': 1384.0}, {'assists': 2, 'evGoals': 0, 'evPoints': 2, 'faceoffWinPct': None, 'gameWinningGoals': 0, 'gamesPlayed': 5, 'goals': 0, 'lastName': 'Gostisbehere', 'otGoals': 0, 'penaltyMinutes': 2, 'playerId': 8476906, 'plusMinus': 2, 'points': 2, 'pointsPerGame': 0.4, 'positionCode': 'D', 'ppGoals': 0, 'ppPoints': 0, 'shGoals': 0, 'shPoints': 0, 'shootingPct': 0.0, 'shootsCatches': 'L', 'shots': 10, 'skaterFullName': 'Shayne Gostisbehere', 'timeOnIcePerGame': 995.6}, {'assists': 2, 'evGoals': 0, 'evPoints': 2, 'faceoffWinPct': None, 'gameWinningGoals': 0, 'gamesPlayed': 9, 'goals': 0, 'lastName': 'Muzzin', 'otGoals': 0, 'penaltyMinutes': 4, 'playerId': 8474162, 'plusMinus': -6, 'points': 2, 'pointsPerGame': 0.22222, 'positionCode': 'D', 'ppGoals': 0, 'ppPoints': 0, 'shGoals': 0, 'shPoints': 0, 'shootingPct': 0.0, 'shootsCatches': 'L', 'shots': 10, 'skaterFullName': 'Jake Muzzin', 'timeOnIcePerGame': 1196.4444}, {'assists': 2, 'evGoals': 0, 'evPoints': 2, 'faceoffWinPct': 0.0, 'gameWinningGoals': 0, 'gamesPlayed': 8, 'goals': 0, 'lastName': 'Verhaeghe', 'otGoals': 0, 'penaltyMinutes': 2, 'playerId': 8477409, 'plusMinus': -1, 'points': 2, 'pointsPerGame': 0.25, 'positionCode': 'C', 'ppGoals': 0, 'ppPoints': 0, 'shGoals': 0, 'shPoints': 0, 'shootingPct': 0.0, 'shootsCatches': 'L', 'shots': 5, 'skaterFullName': 'Carter Verhaeghe', 'timeOnIcePerGame': 635.25}, {'assists': 2, 'evGoals': 0, 'evPoints': 1, 'faceoffWinPct': None, 'gameWinningGoals': 0, 'gamesPlayed': 4, 'goals': 0, 'lastName': 'Klefbom', 'otGoals': 0, 'penaltyMinutes': 0, 'playerId': 8476472, 'plusMinus': 0, 'points': 2, 'pointsPerGame': 0.5, 'positionCode': 'D', 'ppGoals': 0, 'ppPoints': 1, 'shGoals': 0, 'shPoints': 0, 'shootingPct': 0.0, 'shootsCatches': 'L', 'shots': 11, 'skaterFullName': 'Oscar Klefbom', 'timeOnIcePerGame': 1453.0}, {'assists': 2, 'evGoals': 0, 'evPoints': 2, 'faceoffWinPct': None, 'gameWinningGoals': 0, 'gamesPlayed': 8, 'goals': 0, 'lastName': 'Dumoulin', 'otGoals': 0, 'penaltyMinutes': 4, 'playerId': 8475208, 'plusMinus': -3, 'points': 2, 'pointsPerGame': 0.25, 'positionCode': 'D', 'ppGoals': 0, 'ppPoints': 0, 'shGoals': 0, 'shPoints': 0, 'shootingPct': 0.0, 'shootsCatches': 'L', 'shots': 11, 'skaterFullName': 'Brian Dumoulin', 'timeOnIcePerGame': 1283.5}, {'assists': 2, 'evGoals': 0, 'evPoints': 0, 'faceoffWinPct': 0.44444, 'gameWinningGoals': 0, 'gamesPlayed': 15, 'goals': 0, 'lastName': 'Dowling', 'otGoals': 0, 'penaltyMinutes': 0, 'playerId': 8475413, 'plusMinus': -6, 'points': 2, 'pointsPerGame': 0.13333, 'positionCode': 'C', 'ppGoals': 0, 'ppPoints': 2, 'shGoals': 0, 'shPoints': 0, 'shootingPct': 0.0, 'shootsCatches': 'L', 'shots': 10, 'skaterFullName': 'Justin Dowling', 'timeOnIcePerGame': 670.4}, {'assists': 2, 'evGoals': 0, 'evPoints': 0, 'faceoffWinPct': None, 'gameWinningGoals': 0, 'gamesPlayed': 10, 'goals': 0, 'lastName': 'Mete', 'otGoals': 0, 'penaltyMinutes': 2, 'playerId': 8479376, 'plusMinus': 1, 'points': 2, 'pointsPerGame': 0.2, 'positionCode': 'D', 'ppGoals': 0, 'ppPoints': 2, 'shGoals': 0, 'shPoints': 0, 'shootingPct': 0.0, 'shootsCatches': 'L', 'shots': 1, 'skaterFullName': 'Victor Mete', 'timeOnIcePerGame': 750.1}, {'assists': 2, 'evGoals': 0, 'evPoints': 2, 'faceoffWinPct': 0.42857, 'gameWinningGoals': 0, 'gamesPlayed': 10, 'goals': 0, 'lastName': 'Roslovic', 'otGoals': 0, 'penaltyMinutes': 0, 'playerId': 8478458, 'plusMinus': 0, 'points': 2, 'pointsPerGame': 0.2, 'positionCode': 'C', 'ppGoals': 0, 'ppPoints': 0, 'shGoals': 0, 'shPoints': 0, 'shootingPct': 0.0, 'shootsCatches': 'R', 'shots': 11, 'skaterFullName': 'Jack Roslovic', 'timeOnIcePerGame': 705.9}, {'assists': 2, 'evGoals': 0, 'evPoints': 1, 'faceoffWinPct': 0.66666, 'gameWinningGoals': 0, 'gamesPlayed': 7, 'goals': 0, 'lastName': 'Hinostroza', 'otGoals': 0, 'penaltyMinutes': 2, 'playerId': 8476994, 'plusMinus': 1, 'points': 2, 'pointsPerGame': 0.28571, 'positionCode': 'L', 'ppGoals': 0, 'ppPoints': 1, 'shGoals': 0, 'shPoints': 0, 'shootingPct': 0.0, 'shootsCatches': 'R', 'shots': 4, 'skaterFullName': 'Vinnie Hinostroza', 'timeOnIcePerGame': 679.4285}, {'assists': 2, 'evGoals': 0, 'evPoints': 2, 'faceoffWinPct': None, 'gameWinningGoals': 0, 'gamesPlayed': 4, 'goals': 0, 'lastName': 'Sheary', 'otGoals': 0, 'penaltyMinutes': 2, 'playerId': 8477839, 'plusMinus': 3, 'points': 2, 'pointsPerGame': 0.5, 'positionCode': 'L', 'ppGoals': 0, 'ppPoints': 0, 'shGoals': 0, 'shPoints': 0, 'shootingPct': 0.0, 'shootsCatches': 'L', 'shots': 6, 'skaterFullName': 'Conor Sheary', 'timeOnIcePerGame': 852.5}, {'assists': 2, 'evGoals': 0, 'evPoints': 2, 'faceoffWinPct': None, 'gameWinningGoals': 0, 'gamesPlayed': 16, 'goals': 0, 'lastName': 'Chiarot', 'otGoals': 0, 'penaltyMinutes': 12, 'playerId': 8475279, 'plusMinus': 4, 'points': 2, 'pointsPerGame': 0.125, 'positionCode': 'D', 'ppGoals': 0, 'ppPoints': 0, 'shGoals': 0, 'shPoints': 0, 'shootingPct': 0.0, 'shootsCatches': 'L', 'shots': 23, 'skaterFullName': 'Ben Chiarot', 'timeOnIcePerGame': 1312.0625}, {'assists': 2, 'evGoals': 0, 'evPoints': 2, 'faceoffWinPct': None, 'gameWinningGoals': 0, 'gamesPlayed': 9, 'goals': 0, 'lastName': 'Trouba', 'otGoals': 0, 'penaltyMinutes': 4, 'playerId': 8476885, 'plusMinus': -4, 'points': 2, 'pointsPerGame': 0.22222, 'positionCode': 'D', 'ppGoals': 0, 'ppPoints': 0, 'shGoals': 0, 'shPoints': 0, 'shootingPct': 0.0, 'shootsCatches': 'R', 'shots': 16, 'skaterFullName': 'Jacob Trouba', 'timeOnIcePerGame': 1326.4444}, {'assists': 2, 'evGoals': 0, 'evPoints': 2, 'faceoffWinPct': None, 'gameWinningGoals': 0, 'gamesPlayed': 4, 'goals': 0, 'lastName': 'Nurse', 'otGoals': 0, 'penaltyMinutes': 6, 'playerId': 8477498, 'plusMinus': -3, 'points': 2, 'pointsPerGame': 0.5, 'positionCode': 'D', 'ppGoals': 0, 'ppPoints': 0, 'shGoals': 0, 'shPoints': 0, 'shootingPct': 0.0, 'shootsCatches': 'L', 'shots': 9, 'skaterFullName': 'Darnell Nurse', 'timeOnIcePerGame': 1442.0}, {'assists': 2, 'evGoals': 0, 'evPoints': 1, 'faceoffWinPct': 0.46666, 'gameWinningGoals': 0, 'gamesPlayed': 3, 'goals': 0, 'lastName': 'Strome', 'otGoals': 0, 'penaltyMinutes': 7, 'playerId': 8476458, 'plusMinus': -3, 'points': 2, 'pointsPerGame': 0.66666, 'positionCode': 'C', 'ppGoals': 0, 'ppPoints': 1, 'shGoals': 0, 'shPoints': 0, 'shootingPct': 0.0, 'shootsCatches': 'R', 'shots': 6, 'skaterFullName': 'Ryan Strome', 'timeOnIcePerGame': 1084.3333}, {'assists': 2, 'evGoals': 0, 'evPoints': 2, 'faceoffWinPct': 0.59523, 'gameWinningGoals': 0, 'gamesPlayed': 11, 'goals': 0, 'lastName': 'Marleau', 'otGoals': 0, 'penaltyMinutes': 2, 'playerId': 8466139, 'plusMinus': -3, 'points': 2, 'pointsPerGame': 0.18181, 'positionCode': 'C', 'ppGoals': 0, 'ppPoints': 0, 'shGoals': 0, 'shPoints': 0, 'shootingPct': 0.0, 'shootsCatches': 'L', 'shots': 10, 'skaterFullName': 'Patrick Marleau', 'timeOnIcePerGame': 793.4545}, {'assists': 2, 'evGoals': 0, 'evPoints': 2, 'faceoffWinPct': 0.49514, 'gameWinningGoals': 0, 'gamesPlayed': 8, 'goals': 0, 'lastName': 'Trocheck', 'otGoals': 0, 'penaltyMinutes': 4, 'playerId': 8476389, 'plusMinus': 4, 'points': 2, 'pointsPerGame': 0.25, 'positionCode': 'C', 'ppGoals': 0, 'ppPoints': 0, 'shGoals': 0, 'shPoints': 0, 'shootingPct': 0.0, 'shootsCatches': 'R', 'shots': 16, 'skaterFullName': 'Vincent Trocheck', 'timeOnIcePerGame': 1050.5}, {'assists': 2, 'evGoals': 0, 'evPoints': 2, 'faceoffWinPct': None, 'gameWinningGoals': 0, 'gamesPlayed': 10, 'goals': 0, 'lastName': 'Kulikov', 'otGoals': 0, 'penaltyMinutes': 8, 'playerId': 8475179, 'plusMinus': -1, 'points': 2, 'pointsPerGame': 0.2, 'positionCode': 'D', 'ppGoals': 0, 'ppPoints': 0, 'shGoals': 0, 'shPoints': 0, 'shootingPct': 0.0, 'shootsCatches': 'L', 'shots': 10, 'skaterFullName': 'Dmitry Kulikov', 'timeOnIcePerGame': 978.5}, {'assists': 2, 'evGoals': 0, 'evPoints': 2, 'faceoffWinPct': 0.75, 'gameWinningGoals': 0, 'gamesPlayed': 15, 'goals': 0, 'lastName': 'Hagelin', 'otGoals': 0, 'penaltyMinutes': 2, 'playerId': 8474176, 'plusMinus': -5, 'points': 2, 'pointsPerGame': 0.13333, 'positionCode': 'L', 'ppGoals': 0, 'ppPoints': 0, 'shGoals': 0, 'shPoints': 0, 'shootingPct': 0.0, 'shootsCatches': 'L', 'shots': 17, 'skaterFullName': 'Carl Hagelin', 'timeOnIcePerGame': 869.0}, {'assists': 2, 'evGoals': 0, 'evPoints': 2, 'faceoffWinPct': None, 'gameWinningGoals': 0, 'gamesPlayed': 8, 'goals': 0, 'lastName': 'Skjei', 'otGoals': 0, 'penaltyMinutes': 4, 'playerId': 8476869, 'plusMinus': 6, 'points': 2, 'pointsPerGame': 0.25, 'positionCode': 'D', 'ppGoals': 0, 'ppPoints': 0, 'shGoals': 0, 'shPoints': 0, 'shootingPct': 0.0, 'shootsCatches': 'L', 'shots': 12, 'skaterFullName': 'Brady Skjei', 'timeOnIcePerGame': 1286.125}, {'assists': 2, 'evGoals': 0, 'evPoints': 2, 'faceoffWinPct': 0.5, 'gameWinningGoals': 0, 'gamesPlayed': 20, 'goals': 0, 'lastName': 'Karlsson', 'otGoals': 0, 'penaltyMinutes': 4, 'playerId': 8477922, 'plusMinus': -2, 'points': 2, 'pointsPerGame': 0.1, 'positionCode': 'C', 'ppGoals': 0, 'ppPoints': 0, 'shGoals': 0, 'shPoints': 0, 'shootingPct': 0.0, 'shootsCatches': 'R', 'shots': 20, 'skaterFullName': 'Melker Karlsson', 'timeOnIcePerGame': 698.35}, {'assists': 2, 'evGoals': 0, 'evPoints': 2, 'faceoffWinPct': None, 'gameWinningGoals': 0, 'gamesPlayed': 11, 'goals': 0, 'lastName': 'Schenn', 'otGoals': 0, 'penaltyMinutes': 7, 'playerId': 8474568, 'plusMinus': 3, 'points': 2, 'pointsPerGame': 0.18181, 'positionCode': 'D', 'ppGoals': 0, 'ppPoints': 0, 'shGoals': 0, 'shPoints': 0, 'shootingPct': 0.0, 'shootsCatches': 'R', 'shots': 9, 'skaterFullName': 'Luke Schenn', 'timeOnIcePerGame': 651.909}, {'assists': 2, 'evGoals': 0, 'evPoints': 2, 'faceoffWinPct': None, 'gameWinningGoals': 0, 'gamesPlayed': 10, 'goals': 0, 'lastName': 'Morrissey', 'otGoals': 0, 'penaltyMinutes': 4, 'playerId': 8477504, 'plusMinus': -5, 'points': 2, 'pointsPerGame': 0.2, 'positionCode': 'D', 'ppGoals': 0, 'ppPoints': 0, 'shGoals': 0, 'shPoints': 0, 'shootingPct': 0.0, 'shootsCatches': 'L', 'shots': 11, 'skaterFullName': 'Josh Morrissey', 'timeOnIcePerGame': 1149.6}, {'assists': 2, 'evGoals': 0, 'evPoints': 2, 'faceoffWinPct': 0.47923, 'gameWinningGoals': 0, 'gamesPlayed': 26, 'goals': 0, 'lastName': 'Cizikas', 'otGoals': 0, 'penaltyMinutes': 14, 'playerId': 8475231, 'plusMinus': -6, 'points': 2, 'pointsPerGame': 0.07692, 'positionCode': 'C', 'ppGoals': 0, 'ppPoints': 0, 'shGoals': 0, 'shPoints': 0, 'shootingPct': 0.0, 'shootsCatches': 'L', 'shots': 26, 'skaterFullName': 'Casey Cizikas', 'timeOnIcePerGame': 854.3846}, {'assists': 0, 'evGoals': 1, 'evPoints': 1, 'faceoffWinPct': 0.4, 'gameWinningGoals': 0, 'gamesPlayed': 2, 'goals': 1, 'lastName': 'Gambrell', 'otGoals': 0, 'penaltyMinutes': 2, 'playerId': 8479580, 'plusMinus': 0, 'points': 1, 'pointsPerGame': 0.5, 'positionCode': 'C', 'ppGoals': 0, 'ppPoints': 0, 'shGoals': 0, 'shPoints': 0, 'shootingPct': 0.33333, 'shootsCatches': 'R', 'shots': 3, 'skaterFullName': 'Dylan Gambrell', 'timeOnIcePerGame': 585.0}, {'assists': 0, 'evGoals': 1, 'evPoints': 1, 'faceoffWinPct': 0.48437, 'gameWinningGoals': 0, 'gamesPlayed': 7, 'goals': 1, 'lastName': 'Stephens', 'otGoals': 0, 'penaltyMinutes': 2, 'playerId': 8478477, 'plusMinus': -2, 'points': 1, 'pointsPerGame': 0.14285, 'positionCode': 'C', 'ppGoals': 0, 'ppPoints': 0, 'shGoals': 0, 'shPoints': 0, 'shootingPct': 0.08333, 'shootsCatches': 'R', 'shots': 12, 'skaterFullName': 'Mitchell Stephens', 'timeOnIcePerGame': 735.2857}, {'assists': 0, 'evGoals': 1, 'evPoints': 1, 'faceoffWinPct': 0.0, 'gameWinningGoals': 0, 'gamesPlayed': 8, 'goals': 1, 'lastName': 'Panik', 'otGoals': 0, 'penaltyMinutes': 6, 'playerId': 8475209, 'plusMinus': -2, 'points': 1, 'pointsPerGame': 0.125, 'positionCode': 'R', 'ppGoals': 0, 'ppPoints': 0, 'shGoals': 0, 'shPoints': 0, 'shootingPct': 0.125, 'shootsCatches': 'L', 'shots': 8, 'skaterFullName': 'Richard Panik', 'timeOnIcePerGame': 682.125}, {'assists': 0, 'evGoals': 1, 'evPoints': 1, 'faceoffWinPct': 0.41666, 'gameWinningGoals': 0, 'gamesPlayed': 4, 'goals': 1, 'lastName': 'Eriksson Ek', 'otGoals': 0, 'penaltyMinutes': 2, 'playerId': 8478493, 'plusMinus': 1, 'points': 1, 'pointsPerGame': 0.25, 'positionCode': 'C', 'ppGoals': 0, 'ppPoints': 0, 'shGoals': 0, 'shPoints': 0, 'shootingPct': 0.125, 'shootsCatches': 'L', 'shots': 8, 'skaterFullName': 'Joel Eriksson Ek', 'timeOnIcePerGame': 864.0}, {'assists': 0, 'evGoals': 1, 'evPoints': 1, 'faceoffWinPct': 0.0, 'gameWinningGoals': 0, 'gamesPlayed': 4, 'goals': 1, 'lastName': 'Wilson', 'otGoals': 0, 'penaltyMinutes': 0, 'playerId': 8475253, 'plusMinus': -1, 'points': 1, 'pointsPerGame': 0.25, 'positionCode': 'L', 'ppGoals': 0, 'ppPoints': 0, 'shGoals': 0, 'shPoints': 0, 'shootingPct': 0.2, 'shootsCatches': 'L', 'shots': 5, 'skaterFullName': 'Garrett Wilson', 'timeOnIcePerGame': 482.75}, {'assists': 0, 'evGoals': 0, 'evPoints': 0, 'faceoffWinPct': None, 'gameWinningGoals': 0, 'gamesPlayed': 9, 'goals': 1, 'lastName': 'Chychrun', 'otGoals': 0, 'penaltyMinutes': 8, 'playerId': 8479345, 'plusMinus': -4, 'points': 1, 'pointsPerGame': 0.11111, 'positionCode': 'D', 'ppGoals': 1, 'ppPoints': 1, 'shGoals': 0, 'shPoints': 0, 'shootingPct': 0.05882, 'shootsCatches': 'L', 'shots': 17, 'skaterFullName': 'Jakob Chychrun', 'timeOnIcePerGame': 1108.1111}, {'assists': 0, 'evGoals': 1, 'evPoints': 1, 'faceoffWinPct': 0.51351, 'gameWinningGoals': 1, 'gamesPlayed': 10, 'goals': 1, 'lastName': 'Brown', 'otGoals': 0, 'penaltyMinutes': 0, 'playerId': 8477887, 'plusMinus': 1, 'points': 1, 'pointsPerGame': 0.1, 'positionCode': 'C', 'ppGoals': 0, 'ppPoints': 0, 'shGoals': 0, 'shPoints': 0, 'shootingPct': 0.14285, 'shootsCatches': 'R', 'shots': 7, 'skaterFullName': 'Patrick Brown', 'timeOnIcePerGame': 505.5}, {'assists': 0, 'evGoals': 1, 'evPoints': 1, 'faceoffWinPct': 0.0, 'gameWinningGoals': 0, 'gamesPlayed': 4, 'goals': 1, 'lastName': 'Robertson', 'otGoals': 0, 'penaltyMinutes': 2, 'playerId': 8481582, 'plusMinus': -1, 'points': 1, 'pointsPerGame': 0.25, 'positionCode': 'L', 'ppGoals': 0, 'ppPoints': 0, 'shGoals': 0, 'shPoints': 0, 'shootingPct': 0.14285, 'shootsCatches': 'L', 'shots': 7, 'skaterFullName': 'Nicholas Robertson', 'timeOnIcePerGame': 724.5}, {'assists': 0, 'evGoals': 0, 'evPoints': 0, 'faceoffWinPct': None, 'gameWinningGoals': 0, 'gamesPlayed': 5, 'goals': 1, 'lastName': 'Ceci', 'otGoals': 0, 'penaltyMinutes': 4, 'playerId': 8476879, 'plusMinus': 0, 'points': 1, 'pointsPerGame': 0.2, 'positionCode': 'D', 'ppGoals': 0, 'ppPoints': 0, 'shGoals': 1, 'shPoints': 1, 'shootingPct': 0.2, 'shootsCatches': 'R', 'shots': 5, 'skaterFullName': 'Cody Ceci', 'timeOnIcePerGame': 1242.6}, {'assists': 0, 'evGoals': 1, 'evPoints': 1, 'faceoffWinPct': 0.5647, 'gameWinningGoals': 0, 'gamesPlayed': 10, 'goals': 1, 'lastName': 'Dubinsky', 'otGoals': 0, 'penaltyMinutes': 6, 'playerId': 8471273, 'plusMinus': 0, 'points': 1, 'pointsPerGame': 0.1, 'positionCode': 'C', 'ppGoals': 0, 'ppPoints': 0, 'shGoals': 0, 'shPoints': 0, 'shootingPct': 0.0909, 'shootsCatches': 'L', 'shots': 11, 'skaterFullName': 'Brandon Dubinsky', 'timeOnIcePerGame': 786.8}, {'assists': 0, 'evGoals': 1, 'evPoints': 1, 'faceoffWinPct': None, 'gameWinningGoals': 0, 'gamesPlayed': 4, 'goals': 1, 'lastName': 'Brouwer', 'otGoals': 0, 'penaltyMinutes': 4, 'playerId': 8471426, 'plusMinus': 1, 'points': 1, 'pointsPerGame': 0.25, 'positionCode': 'R', 'ppGoals': 0, 'ppPoints': 0, 'shGoals': 0, 'shPoints': 0, 'shootingPct': 1.0, 'shootsCatches': 'R', 'shots': 1, 'skaterFullName': 'Troy Brouwer', 'timeOnIcePerGame': 501.0}, {'assists': 0, 'evGoals': 1, 'evPoints': 1, 'faceoffWinPct': 0.29268, 'gameWinningGoals': 0, 'gamesPlayed': 5, 'goals': 1, 'lastName': 'Boyd', 'otGoals': 0, 'penaltyMinutes': 0, 'playerId': 8476329, 'plusMinus': 0, 'points': 1, 'pointsPerGame': 0.2, 'positionCode': 'C', 'ppGoals': 0, 'ppPoints': 0, 'shGoals': 0, 'shPoints': 0, 'shootingPct': 0.2, 'shootsCatches': 'R', 'shots': 5, 'skaterFullName': 'Travis Boyd', 'timeOnIcePerGame': 628.4}, {'assists': 0, 'evGoals': 0, 'evPoints': 0, 'faceoffWinPct': 0.57647, 'gameWinningGoals': 0, 'gamesPlayed': 9, 'goals': 1, 'lastName': 'Kampf', 'otGoals': 0, 'penaltyMinutes': 6, 'playerId': 8480144, 'plusMinus': 0, 'points': 1, 'pointsPerGame': 0.11111, 'positionCode': 'C', 'ppGoals': 0, 'ppPoints': 0, 'shGoals': 1, 'shPoints': 1, 'shootingPct': 0.11111, 'shootsCatches': 'L', 'shots': 9, 'skaterFullName': 'David Kampf', 'timeOnIcePerGame': 768.5555}, {'assists': 0, 'evGoals': 1, 'evPoints': 1, 'faceoffWinPct': 0.46, 'gameWinningGoals': 0, 'gamesPlayed': 5, 'goals': 1, 'lastName': 'Blueger', 'otGoals': 0, 'penaltyMinutes': 0, 'playerId': 8476927, 'plusMinus': -1, 'points': 1, 'pointsPerGame': 0.2, 'positionCode': 'C', 'ppGoals': 0, 'ppPoints': 0, 'shGoals': 0, 'shPoints': 0, 'shootingPct': 0.16666, 'shootsCatches': 'L', 'shots': 6, 'skaterFullName': 'Teddy Blueger', 'timeOnIcePerGame': 799.8}, {'assists': 0, 'evGoals': 1, 'evPoints': 1, 'faceoffWinPct': 0.5, 'gameWinningGoals': 0, 'gamesPlayed': 2, 'goals': 1, 'lastName': 'Sturm', 'otGoals': 0, 'penaltyMinutes': 0, 'playerId': 8481477, 'plusMinus': -1, 'points': 1, 'pointsPerGame': 0.5, 'positionCode': 'C', 'ppGoals': 0, 'ppPoints': 0, 'shGoals': 0, 'shPoints': 0, 'shootingPct': 1.0, 'shootsCatches': 'L', 'shots': 1, 'skaterFullName': 'Nico Sturm', 'timeOnIcePerGame': 668.5}, {'assists': 0, 'evGoals': 1, 'evPoints': 1, 'faceoffWinPct': 1.0, 'gameWinningGoals': 0, 'gamesPlayed': 8, 'goals': 1, 'lastName': 'Ritchie', 'otGoals': 0, 'penaltyMinutes': 16, 'playerId': 8477941, 'plusMinus': -3, 'points': 1, 'pointsPerGame': 0.125, 'positionCode': 'L', 'ppGoals': 0, 'ppPoints': 0, 'shGoals': 0, 'shPoints': 0, 'shootingPct': 0.16666, 'shootsCatches': 'L', 'shots': 6, 'skaterFullName': 'Nick Ritchie', 'timeOnIcePerGame': 760.5}, {'assists': 0, 'evGoals': 0, 'evPoints': 0, 'faceoffWinPct': None, 'gameWinningGoals': 0, 'gamesPlayed': 3, 'goals': 1, 'lastName': 'Staal', 'otGoals': 0, 'penaltyMinutes': 0, 'playerId': 8471686, 'plusMinus': -4, 'points': 1, 'pointsPerGame': 0.33333, 'positionCode': 'D', 'ppGoals': 0, 'ppPoints': 0, 'shGoals': 1, 'shPoints': 1, 'shootingPct': 0.33333, 'shootsCatches': 'L', 'shots': 3, 'skaterFullName': 'Marc Staal', 'timeOnIcePerGame': 861.3333}, {'assists': 0, 'evGoals': 1, 'evPoints': 1, 'faceoffWinPct': None, 'gameWinningGoals': 0, 'gamesPlayed': 10, 'goals': 1, 'lastName': 'Robinson', 'otGoals': 0, 'penaltyMinutes': 0, 'playerId': 8480762, 'plusMinus': 0, 'points': 1, 'pointsPerGame': 0.1, 'positionCode': 'L', 'ppGoals': 0, 'ppPoints': 0, 'shGoals': 0, 'shPoints': 0, 'shootingPct': 0.07142, 'shootsCatches': 'L', 'shots': 14, 'skaterFullName': 'Eric Robinson', 'timeOnIcePerGame': 528.0}, {'assists': 0, 'evGoals': 1, 'evPoints': 1, 'faceoffWinPct': 0.14285, 'gameWinningGoals': 0, 'gamesPlayed': 13, 'goals': 1, 'lastName': 'Dzingel', 'otGoals': 0, 'penaltyMinutes': 4, 'playerId': 8476288, 'plusMinus': 3, 'points': 1, 'pointsPerGame': 0.07692, 'positionCode': 'L', 'ppGoals': 0, 'ppPoints': 0, 'shGoals': 0, 'shPoints': 0, 'shootingPct': 0.07692, 'shootsCatches': 'L', 'shots': 13, 'skaterFullName': 'Ryan Dzingel', 'timeOnIcePerGame': 766.3846}, {'assists': 0, 'evGoals': 1, 'evPoints': 1, 'faceoffWinPct': None, 'gameWinningGoals': 0, 'gamesPlayed': 4, 'goals': 1, 'lastName': 'Archibald', 'otGoals': 0, 'penaltyMinutes': 4, 'playerId': 8476326, 'plusMinus': 1, 'points': 1, 'pointsPerGame': 0.25, 'positionCode': 'R', 'ppGoals': 0, 'ppPoints': 0, 'shGoals': 0, 'shPoints': 0, 'shootingPct': 0.2, 'shootsCatches': 'R', 'shots': 5, 'skaterFullName': 'Josh Archibald', 'timeOnIcePerGame': 821.0}, {'assists': 0, 'evGoals': 1, 'evPoints': 1, 'faceoffWinPct': 0.56818, 'gameWinningGoals': 0, 'gamesPlayed': 15, 'goals': 1, 'lastName': 'Dowd', 'otGoals': 0, 'penaltyMinutes': 10, 'playerId': 8475343, 'plusMinus': -5, 'points': 1, 'pointsPerGame': 0.06666, 'positionCode': 'C', 'ppGoals': 0, 'ppPoints': 0, 'shGoals': 0, 'shPoints': 0, 'shootingPct': 0.07692, 'shootsCatches': 'R', 'shots': 13, 'skaterFullName': 'Nic Dowd', 'timeOnIcePerGame': 691.6}, {'assists': 0, 'evGoals': 1, 'evPoints': 1, 'faceoffWinPct': 0.42857, 'gameWinningGoals': 0, 'gamesPlayed': 15, 'goals': 1, 'lastName': 'Bourque', 'otGoals': 0, 'penaltyMinutes': 2, 'playerId': 8475268, 'plusMinus': -1, 'points': 1, 'pointsPerGame': 0.06666, 'positionCode': 'L', 'ppGoals': 0, 'ppPoints': 0, 'shGoals': 0, 'shPoints': 0, 'shootingPct': 0.125, 'shootsCatches': 'L', 'shots': 8, 'skaterFullName': 'Gabriel Bourque', 'timeOnIcePerGame': 444.2}, {'assists': 0, 'evGoals': 0, 'evPoints': 0, 'faceoffWinPct': 0.5, 'gameWinningGoals': 0, 'gamesPlayed': 2, 'goals': 1, 'lastName': 'Stenlund', 'otGoals': 0, 'penaltyMinutes': 0, 'playerId': 8478831, 'plusMinus': 1, 'points': 1, 'pointsPerGame': 0.5, 'positionCode': 'C', 'ppGoals': 1, 'ppPoints': 1, 'shGoals': 0, 'shPoints': 0, 'shootingPct': 0.5, 'shootsCatches': 'R', 'shots': 2, 'skaterFullName': 'Kevin Stenlund', 'timeOnIcePerGame': 506.0}, {'assists': 0, 'evGoals': 1, 'evPoints': 1, 'faceoffWinPct': None, 'gameWinningGoals': 0, 'gamesPlayed': 7, 'goals': 1, 'lastName': 'Moore', 'otGoals': 0, 'penaltyMinutes': 0, 'playerId': 8479675, 'plusMinus': 1, 'points': 1, 'pointsPerGame': 0.14285, 'positionCode': 'C', 'ppGoals': 0, 'ppPoints': 0, 'shGoals': 0, 'shPoints': 0, 'shootingPct': 0.16666, 'shootsCatches': 'L', 'shots': 6, 'skaterFullName': 'Trevor Moore', 'timeOnIcePerGame': 466.2857}, {'assists': 0, 'evGoals': 1, 'evPoints': 1, 'faceoffWinPct': 0.0, 'gameWinningGoals': 0, 'gamesPlayed': 10, 'goals': 1, 'lastName': 'Fabbri', 'otGoals': 0, 'penaltyMinutes': 0, 'playerId': 8477952, 'plusMinus': -4, 'points': 1, 'pointsPerGame': 0.1, 'positionCode': 'C', 'ppGoals': 0, 'ppPoints': 0, 'shGoals': 0, 'shPoints': 0, 'shootingPct': 0.0909, 'shootsCatches': 'L', 'shots': 11, 'skaterFullName': 'Robby Fabbri', 'timeOnIcePerGame': 519.4}, {'assists': 0, 'evGoals': 1, 'evPoints': 1, 'faceoffWinPct': 1.0, 'gameWinningGoals': 0, 'gamesPlayed': 3, 'goals': 1, 'lastName': 'Harkins', 'otGoals': 0, 'penaltyMinutes': 4, 'playerId': 8478424, 'plusMinus': -2, 'points': 1, 'pointsPerGame': 0.33333, 'positionCode': 'C', 'ppGoals': 0, 'ppPoints': 0, 'shGoals': 0, 'shPoints': 0, 'shootingPct': 0.33333, 'shootsCatches': 'L', 'shots': 3, 'skaterFullName': 'Jansen Harkins', 'timeOnIcePerGame': 708.0}, {'assists': 0, 'evGoals': 1, 'evPoints': 1, 'faceoffWinPct': None, 'gameWinningGoals': 0, 'gamesPlayed': 4, 'goals': 1, 'lastName': 'Gudbranson', 'otGoals': 0, 'penaltyMinutes': 2, 'playerId': 8475790, 'plusMinus': 0, 'points': 1, 'pointsPerGame': 0.25, 'positionCode': 'D', 'ppGoals': 0, 'ppPoints': 0, 'shGoals': 0, 'shPoints': 0, 'shootingPct': 0.5, 'shootsCatches': 'R', 'shots': 2, 'skaterFullName': 'Erik Gudbranson', 'timeOnIcePerGame': 974.0}, {'assists': 0, 'evGoals': 1, 'evPoints': 1, 'faceoffWinPct': 0.0, 'gameWinningGoals': 1, 'gamesPlayed': 10, 'goals': 1, 'lastName': 'Smith', 'otGoals': 1, 'penaltyMinutes': 4, 'playerId': 8475225, 'plusMinus': -4, 'points': 1, 'pointsPerGame': 0.1, 'positionCode': 'C', 'ppGoals': 0, 'ppPoints': 0, 'shGoals': 0, 'shPoints': 0, 'shootingPct': 0.03448, 'shootsCatches': 'R', 'shots': 29, 'skaterFullName': 'Craig Smith', 'timeOnIcePerGame': 814.9}, {'assists': 0, 'evGoals': 0, 'evPoints': 0, 'faceoffWinPct': 0.5, 'gameWinningGoals': 0, 'gamesPlayed': 4, 'goals': 1, 'lastName': 'Haula', 'otGoals': 0, 'penaltyMinutes': 0, 'playerId': 8475287, 'plusMinus': -3, 'points': 1, 'pointsPerGame': 0.25, 'positionCode': 'L', 'ppGoals': 1, 'ppPoints': 1, 'shGoals': 0, 'shPoints': 0, 'shootingPct': 0.125, 'shootsCatches': 'L', 'shots': 8, 'skaterFullName': 'Erik Haula', 'timeOnIcePerGame': 997.25}, {'assists': 0, 'evGoals': 1, 'evPoints': 1, 'faceoffWinPct': None, 'gameWinningGoals': 0, 'gamesPlayed': 9, 'goals': 1, 'lastName': 'Murray', 'otGoals': 0, 'penaltyMinutes': 2, 'playerId': 8476850, 'plusMinus': 0, 'points': 1, 'pointsPerGame': 0.11111, 'positionCode': 'D', 'ppGoals': 0, 'ppPoints': 0, 'shGoals': 0, 'shPoints': 0, 'shootingPct': 0.16666, 'shootsCatches': 'L', 'shots': 6, 'skaterFullName': 'Ryan Murray', 'timeOnIcePerGame': 985.5555}, {'assists': 0, 'evGoals': 1, 'evPoints': 1, 'faceoffWinPct': 0.60119, 'gameWinningGoals': 1, 'gamesPlayed': 16, 'goals': 1, 'lastName': 'Thompson', 'otGoals': 0, 'penaltyMinutes': 14, 'playerId': 8470775, 'plusMinus': -3, 'points': 1, 'pointsPerGame': 0.0625, 'positionCode': 'C', 'ppGoals': 0, 'ppPoints': 0, 'shGoals': 0, 'shPoints': 0, 'shootingPct': 0.0909, 'shootsCatches': 'L', 'shots': 11, 'skaterFullName': 'Nate Thompson', 'timeOnIcePerGame': 788.1875}, {'assists': 0, 'evGoals': 1, 'evPoints': 1, 'faceoffWinPct': None, 'gameWinningGoals': 0, 'gamesPlayed': 3, 'goals': 1, 'lastName': 'Kampfer', 'otGoals': 0, 'penaltyMinutes': 0, 'playerId': 8474000, 'plusMinus': 0, 'points': 1, 'pointsPerGame': 0.33333, 'positionCode': 'D', 'ppGoals': 0, 'ppPoints': 0, 'shGoals': 0, 'shPoints': 0, 'shootingPct': 0.33333, 'shootsCatches': 'R', 'shots': 3, 'skaterFullName': 'Steven Kampfer', 'timeOnIcePerGame': 696.6666}, {'assists': 1, 'evGoals': 0, 'evPoints': 1, 'faceoffWinPct': None, 'gameWinningGoals': 0, 'gamesPlayed': 4, 'goals': 0, 'lastName': 'Beaulieu', 'otGoals': 0, 'penaltyMinutes': 7, 'playerId': 8476470, 'plusMinus': 1, 'points': 1, 'pointsPerGame': 0.25, 'positionCode': 'D', 'ppGoals': 0, 'ppPoints': 0, 'shGoals': 0, 'shPoints': 0, 'shootingPct': 0.0, 'shootsCatches': 'L', 'shots': 4, 'skaterFullName': 'Nathan Beaulieu', 'timeOnIcePerGame': 918.75}, {'assists': 1, 'evGoals': 0, 'evPoints': 1, 'faceoffWinPct': 0.33333, 'gameWinningGoals': 0, 'gamesPlayed': 4, 'goals': 0, 'lastName': 'Simon', 'otGoals': 0, 'penaltyMinutes': 0, 'playerId': 8478866, 'plusMinus': -1, 'points': 1, 'pointsPerGame': 0.25, 'positionCode': 'C', 'ppGoals': 0, 'ppPoints': 0, 'shGoals': 0, 'shPoints': 0, 'shootingPct': 0.0, 'shootsCatches': 'L', 'shots': 4, 'skaterFullName': 'Dominik Simon', 'timeOnIcePerGame': 778.25}, {'assists': 1, 'evGoals': 0, 'evPoints': 1, 'faceoffWinPct': None, 'gameWinningGoals': 0, 'gamesPlayed': 8, 'goals': 0, 'lastName': 'Merrill', 'otGoals': 0, 'penaltyMinutes': 0, 'playerId': 8475750, 'plusMinus': 0, 'points': 1, 'pointsPerGame': 0.125, 'positionCode': 'D', 'ppGoals': 0, 'ppPoints': 0, 'shGoals': 0, 'shPoints': 0, 'shootingPct': 0.0, 'shootsCatches': 'L', 'shots': 5, 'skaterFullName': 'Jon Merrill', 'timeOnIcePerGame': 1072.875}, {'assists': 1, 'evGoals': 0, 'evPoints': 1, 'faceoffWinPct': None, 'gameWinningGoals': 0, 'gamesPlayed': 4, 'goals': 0, 'lastName': 'Weegar', 'otGoals': 0, 'penaltyMinutes': 4, 'playerId': 8477346, 'plusMinus': 1, 'points': 1, 'pointsPerGame': 0.25, 'positionCode': 'D', 'ppGoals': 0, 'ppPoints': 0, 'shGoals': 0, 'shPoints': 0, 'shootingPct': 0.0, 'shootsCatches': 'R', 'shots': 7, 'skaterFullName': 'MacKenzie Weegar', 'timeOnIcePerGame': 1359.75}, {'assists': 1, 'evGoals': 0, 'evPoints': 1, 'faceoffWinPct': None, 'gameWinningGoals': 0, 'gamesPlayed': 2, 'goals': 0, 'lastName': 'Valimaki', 'otGoals': 0, 'penaltyMinutes': 0, 'playerId': 8479976, 'plusMinus': 1, 'points': 1, 'pointsPerGame': 0.5, 'positionCode': 'D', 'ppGoals': 0, 'ppPoints': 0, 'shGoals': 0, 'shPoints': 0, 'shootingPct': 0.0, 'shootsCatches': 'L', 'shots': 3, 'skaterFullName': 'Juuso Valimaki', 'timeOnIcePerGame': 1006.5}, {'assists': 1, 'evGoals': 0, 'evPoints': 1, 'faceoffWinPct': None, 'gameWinningGoals': 0, 'gamesPlayed': 4, 'goals': 0, 'lastName': 'Connauton', 'otGoals': 0, 'penaltyMinutes': 6, 'playerId': 8475246, 'plusMinus': -2, 'points': 1, 'pointsPerGame': 0.25, 'positionCode': 'D', 'ppGoals': 0, 'ppPoints': 0, 'shGoals': 0, 'shPoints': 0, 'shootingPct': 0.0, 'shootsCatches': 'L', 'shots': 6, 'skaterFullName': 'Kevin Connauton', 'timeOnIcePerGame': 607.0}, {'assists': 1, 'evGoals': 0, 'evPoints': 1, 'faceoffWinPct': None, 'gameWinningGoals': 0, 'gamesPlayed': 5, 'goals': 0, 'lastName': \"O'Connor\", 'otGoals': 0, 'penaltyMinutes': 0, 'playerId': 8481186, 'plusMinus': 0, 'points': 1, 'pointsPerGame': 0.2, 'positionCode': 'R', 'ppGoals': 0, 'ppPoints': 0, 'shGoals': 0, 'shPoints': 0, 'shootingPct': 0.0, 'shootsCatches': 'R', 'shots': 5, 'skaterFullName': \"Logan O'Connor\", 'timeOnIcePerGame': 647.8}, {'assists': 1, 'evGoals': 0, 'evPoints': 1, 'faceoffWinPct': None, 'gameWinningGoals': 0, 'gamesPlayed': 6, 'goals': 0, 'lastName': 'Belzile', 'otGoals': 0, 'penaltyMinutes': 0, 'playerId': 8475968, 'plusMinus': 1, 'points': 1, 'pointsPerGame': 0.16666, 'positionCode': 'R', 'ppGoals': 0, 'ppPoints': 0, 'shGoals': 0, 'shPoints': 0, 'shootingPct': 0.0, 'shootsCatches': 'R', 'shots': 4, 'skaterFullName': 'Alex Belzile', 'timeOnIcePerGame': 410.3333}, {'assists': 1, 'evGoals': 0, 'evPoints': 1, 'faceoffWinPct': 0.45762, 'gameWinningGoals': 0, 'gamesPlayed': 8, 'goals': 0, 'lastName': 'Geekie', 'otGoals': 0, 'penaltyMinutes': 0, 'playerId': 8479987, 'plusMinus': -1, 'points': 1, 'pointsPerGame': 0.125, 'positionCode': 'C', 'ppGoals': 0, 'ppPoints': 0, 'shGoals': 0, 'shPoints': 0, 'shootingPct': 0.0, 'shootsCatches': 'R', 'shots': 4, 'skaterFullName': 'Morgan Geekie', 'timeOnIcePerGame': 657.625}, {'assists': 1, 'evGoals': 0, 'evPoints': 1, 'faceoffWinPct': None, 'gameWinningGoals': 0, 'gamesPlayed': 11, 'goals': 0, 'lastName': 'van Riemsdyk', 'otGoals': 0, 'penaltyMinutes': 6, 'playerId': 8477845, 'plusMinus': 1, 'points': 1, 'pointsPerGame': 0.0909, 'positionCode': 'D', 'ppGoals': 0, 'ppPoints': 0, 'shGoals': 0, 'shPoints': 0, 'shootingPct': 0.0, 'shootsCatches': 'R', 'shots': 15, 'skaterFullName': 'Trevor van Riemsdyk', 'timeOnIcePerGame': 798.4545}, {'assists': 1, 'evGoals': 0, 'evPoints': 1, 'faceoffWinPct': 0.5, 'gameWinningGoals': 0, 'gamesPlayed': 9, 'goals': 0, 'lastName': 'Fischer', 'otGoals': 0, 'penaltyMinutes': 6, 'playerId': 8478432, 'plusMinus': 0, 'points': 1, 'pointsPerGame': 0.11111, 'positionCode': 'R', 'ppGoals': 0, 'ppPoints': 0, 'shGoals': 0, 'shPoints': 0, 'shootingPct': 0.0, 'shootsCatches': 'R', 'shots': 12, 'skaterFullName': 'Christian Fischer', 'timeOnIcePerGame': 672.6666}, {'assists': 1, 'evGoals': 0, 'evPoints': 1, 'faceoffWinPct': 0.71428, 'gameWinningGoals': 0, 'gamesPlayed': 3, 'goals': 0, 'lastName': 'Quine', 'otGoals': 0, 'penaltyMinutes': 0, 'playerId': 8476409, 'plusMinus': 1, 'points': 1, 'pointsPerGame': 0.33333, 'positionCode': 'C', 'ppGoals': 0, 'ppPoints': 0, 'shGoals': 0, 'shPoints': 0, 'shootingPct': None, 'shootsCatches': 'L', 'shots': 0, 'skaterFullName': 'Alan Quine', 'timeOnIcePerGame': 506.6666}, {'assists': 1, 'evGoals': 0, 'evPoints': 1, 'faceoffWinPct': None, 'gameWinningGoals': 0, 'gamesPlayed': 7, 'goals': 0, 'lastName': 'Boychuk', 'otGoals': 0, 'penaltyMinutes': 0, 'playerId': 8470187, 'plusMinus': 3, 'points': 1, 'pointsPerGame': 0.14285, 'positionCode': 'D', 'ppGoals': 0, 'ppPoints': 0, 'shGoals': 0, 'shPoints': 0, 'shootingPct': 0.0, 'shootsCatches': 'R', 'shots': 5, 'skaterFullName': 'Johnny Boychuk', 'timeOnIcePerGame': 838.7142}, {'assists': 1, 'evGoals': 0, 'evPoints': 1, 'faceoffWinPct': None, 'gameWinningGoals': 0, 'gamesPlayed': 4, 'goals': 0, 'lastName': 'Benning', 'otGoals': 0, 'penaltyMinutes': 6, 'playerId': 8476988, 'plusMinus': 2, 'points': 1, 'pointsPerGame': 0.25, 'positionCode': 'D', 'ppGoals': 0, 'ppPoints': 0, 'shGoals': 0, 'shPoints': 0, 'shootingPct': 0.0, 'shootsCatches': 'R', 'shots': 4, 'skaterFullName': 'Matt Benning', 'timeOnIcePerGame': 640.0}, {'assists': 1, 'evGoals': 0, 'evPoints': 1, 'faceoffWinPct': 0.33333, 'gameWinningGoals': 0, 'gamesPlayed': 9, 'goals': 0, 'lastName': 'Maenalanen', 'otGoals': 0, 'penaltyMinutes': 6, 'playerId': 8477357, 'plusMinus': 1, 'points': 1, 'pointsPerGame': 0.11111, 'positionCode': 'R', 'ppGoals': 0, 'ppPoints': 0, 'shGoals': 0, 'shPoints': 0, 'shootingPct': 0.0, 'shootsCatches': 'L', 'shots': 7, 'skaterFullName': 'Saku Maenalanen', 'timeOnIcePerGame': 609.1111}, {'assists': 1, 'evGoals': 0, 'evPoints': 1, 'faceoffWinPct': None, 'gameWinningGoals': 0, 'gamesPlayed': 13, 'goals': 0, 'lastName': 'Lovejoy', 'otGoals': 0, 'penaltyMinutes': 0, 'playerId': 8473933, 'plusMinus': -7, 'points': 1, 'pointsPerGame': 0.07692, 'positionCode': 'D', 'ppGoals': 0, 'ppPoints': 0, 'shGoals': 0, 'shPoints': 0, 'shootingPct': 0.0, 'shootsCatches': 'R', 'shots': 6, 'skaterFullName': 'Ben Lovejoy', 'timeOnIcePerGame': 1082.923}, {'assists': 1, 'evGoals': 0, 'evPoints': 1, 'faceoffWinPct': 0.5, 'gameWinningGoals': 0, 'gamesPlayed': 7, 'goals': 0, 'lastName': 'Brown', 'otGoals': 0, 'penaltyMinutes': 2, 'playerId': 8477015, 'plusMinus': 2, 'points': 1, 'pointsPerGame': 0.14285, 'positionCode': 'R', 'ppGoals': 0, 'ppPoints': 0, 'shGoals': 0, 'shPoints': 0, 'shootingPct': 0.0, 'shootsCatches': 'R', 'shots': 6, 'skaterFullName': 'Connor Brown', 'timeOnIcePerGame': 780.0}, {'assists': 1, 'evGoals': 0, 'evPoints': 0, 'faceoffWinPct': None, 'gameWinningGoals': 0, 'gamesPlayed': 4, 'goals': 0, 'lastName': 'Dadonov', 'otGoals': 0, 'penaltyMinutes': 2, 'playerId': 8474149, 'plusMinus': 1, 'points': 1, 'pointsPerGame': 0.25, 'positionCode': 'R', 'ppGoals': 0, 'ppPoints': 1, 'shGoals': 0, 'shPoints': 0, 'shootingPct': 0.0, 'shootsCatches': 'L', 'shots': 7, 'skaterFullName': 'Evgenii Dadonov', 'timeOnIcePerGame': 1037.5}, {'assists': 1, 'evGoals': 0, 'evPoints': 0, 'faceoffWinPct': None, 'gameWinningGoals': 0, 'gamesPlayed': 4, 'goals': 0, 'lastName': 'Marino', 'otGoals': 0, 'penaltyMinutes': 2, 'playerId': 8478507, 'plusMinus': -1, 'points': 1, 'pointsPerGame': 0.25, 'positionCode': 'D', 'ppGoals': 0, 'ppPoints': 1, 'shGoals': 0, 'shPoints': 0, 'shootingPct': 0.0, 'shootsCatches': 'R', 'shots': 10, 'skaterFullName': 'John Marino', 'timeOnIcePerGame': 1277.25}, {'assists': 1, 'evGoals': 0, 'evPoints': 1, 'faceoffWinPct': None, 'gameWinningGoals': 0, 'gamesPlayed': 7, 'goals': 0, 'lastName': 'Clendening', 'otGoals': 0, 'penaltyMinutes': 2, 'playerId': 8476431, 'plusMinus': 1, 'points': 1, 'pointsPerGame': 0.14285, 'positionCode': 'D', 'ppGoals': 0, 'ppPoints': 0, 'shGoals': 0, 'shPoints': 0, 'shootingPct': 0.0, 'shootsCatches': 'R', 'shots': 9, 'skaterFullName': 'Adam Clendening', 'timeOnIcePerGame': 525.8571}, {'assists': 1, 'evGoals': 0, 'evPoints': 1, 'faceoffWinPct': None, 'gameWinningGoals': 0, 'gamesPlayed': 5, 'goals': 0, 'lastName': 'Coburn', 'otGoals': 0, 'penaltyMinutes': 0, 'playerId': 8470601, 'plusMinus': 3, 'points': 1, 'pointsPerGame': 0.2, 'positionCode': 'D', 'ppGoals': 0, 'ppPoints': 0, 'shGoals': 0, 'shPoints': 0, 'shootingPct': 0.0, 'shootsCatches': 'L', 'shots': 10, 'skaterFullName': 'Braydon Coburn', 'timeOnIcePerGame': 946.0}, {'assists': 1, 'evGoals': 0, 'evPoints': 1, 'faceoffWinPct': 0.0, 'gameWinningGoals': 0, 'gamesPlayed': 8, 'goals': 0, 'lastName': 'Kovalchuk', 'otGoals': 0, 'penaltyMinutes': 2, 'playerId': 8469454, 'plusMinus': 0, 'points': 1, 'pointsPerGame': 0.125, 'positionCode': 'L', 'ppGoals': 0, 'ppPoints': 0, 'shGoals': 0, 'shPoints': 0, 'shootingPct': 0.0, 'shootsCatches': 'R', 'shots': 5, 'skaterFullName': 'Ilya Kovalchuk', 'timeOnIcePerGame': 776.375}, {'assists': 1, 'evGoals': 0, 'evPoints': 1, 'faceoffWinPct': None, 'gameWinningGoals': 0, 'gamesPlayed': 20, 'goals': 0, 'lastName': 'Ryan', 'otGoals': 0, 'penaltyMinutes': 0, 'playerId': 8477046, 'plusMinus': -2, 'points': 1, 'pointsPerGame': 0.05, 'positionCode': 'D', 'ppGoals': 0, 'ppPoints': 0, 'shGoals': 0, 'shPoints': 0, 'shootingPct': 0.0, 'shootsCatches': 'L', 'shots': 6, 'skaterFullName': 'Joakim Ryan', 'timeOnIcePerGame': 521.25}, {'assists': 1, 'evGoals': 0, 'evPoints': 1, 'faceoffWinPct': None, 'gameWinningGoals': 0, 'gamesPlayed': 7, 'goals': 0, 'lastName': 'Hainsey', 'otGoals': 0, 'penaltyMinutes': 2, 'playerId': 8468493, 'plusMinus': 5, 'points': 1, 'pointsPerGame': 0.14285, 'positionCode': 'D', 'ppGoals': 0, 'ppPoints': 0, 'shGoals': 0, 'shPoints': 0, 'shootingPct': 0.0, 'shootsCatches': 'L', 'shots': 8, 'skaterFullName': 'Ron Hainsey', 'timeOnIcePerGame': 1223.4285}, {'assists': 1, 'evGoals': 0, 'evPoints': 1, 'faceoffWinPct': 0.5126, 'gameWinningGoals': 0, 'gamesPlayed': 10, 'goals': 0, 'lastName': 'Sissons', 'otGoals': 0, 'penaltyMinutes': 6, 'playerId': 8476925, 'plusMinus': -5, 'points': 1, 'pointsPerGame': 0.1, 'positionCode': 'C', 'ppGoals': 0, 'ppPoints': 0, 'shGoals': 0, 'shPoints': 0, 'shootingPct': 0.0, 'shootsCatches': 'R', 'shots': 8, 'skaterFullName': 'Colton Sissons', 'timeOnIcePerGame': 883.2}, {'assists': 1, 'evGoals': 0, 'evPoints': 0, 'faceoffWinPct': None, 'gameWinningGoals': 0, 'gamesPlayed': 10, 'goals': 0, 'lastName': 'Ouellet', 'otGoals': 0, 'penaltyMinutes': 14, 'playerId': 8476443, 'plusMinus': 2, 'points': 1, 'pointsPerGame': 0.1, 'positionCode': 'D', 'ppGoals': 0, 'ppPoints': 0, 'shGoals': 0, 'shPoints': 1, 'shootingPct': 0.0, 'shootsCatches': 'L', 'shots': 9, 'skaterFullName': 'Xavier Ouellet', 'timeOnIcePerGame': 878.4}, {'assists': 1, 'evGoals': 0, 'evPoints': 1, 'faceoffWinPct': None, 'gameWinningGoals': 0, 'gamesPlayed': 7, 'goals': 0, 'lastName': 'Engelland', 'otGoals': 0, 'penaltyMinutes': 8, 'playerId': 8468674, 'plusMinus': 2, 'points': 1, 'pointsPerGame': 0.14285, 'positionCode': 'D', 'ppGoals': 0, 'ppPoints': 0, 'shGoals': 0, 'shPoints': 0, 'shootingPct': 0.0, 'shootsCatches': 'R', 'shots': 7, 'skaterFullName': 'Deryk Engelland', 'timeOnIcePerGame': 1399.2857}, {'assists': 1, 'evGoals': 0, 'evPoints': 1, 'faceoffWinPct': None, 'gameWinningGoals': 0, 'gamesPlayed': 5, 'goals': 0, 'lastName': 'Kempny', 'otGoals': 0, 'penaltyMinutes': 4, 'playerId': 8479482, 'plusMinus': -2, 'points': 1, 'pointsPerGame': 0.2, 'positionCode': 'D', 'ppGoals': 0, 'ppPoints': 0, 'shGoals': 0, 'shPoints': 0, 'shootingPct': 0.0, 'shootsCatches': 'L', 'shots': 7, 'skaterFullName': 'Michal Kempny', 'timeOnIcePerGame': 1150.6}, {'assists': 1, 'evGoals': 0, 'evPoints': 1, 'faceoffWinPct': None, 'gameWinningGoals': 0, 'gamesPlayed': 4, 'goals': 0, 'lastName': 'Dumba', 'otGoals': 0, 'penaltyMinutes': 2, 'playerId': 8476856, 'plusMinus': 1, 'points': 1, 'pointsPerGame': 0.25, 'positionCode': 'D', 'ppGoals': 0, 'ppPoints': 0, 'shGoals': 0, 'shPoints': 0, 'shootingPct': 0.0, 'shootsCatches': 'R', 'shots': 14, 'skaterFullName': 'Matt Dumba', 'timeOnIcePerGame': 1503.25}, {'assists': 1, 'evGoals': 0, 'evPoints': 1, 'faceoffWinPct': 0.44444, 'gameWinningGoals': 0, 'gamesPlayed': 6, 'goals': 0, 'lastName': 'Evans', 'otGoals': 0, 'penaltyMinutes': 0, 'playerId': 8478133, 'plusMinus': -1, 'points': 1, 'pointsPerGame': 0.16666, 'positionCode': 'C', 'ppGoals': 0, 'ppPoints': 0, 'shGoals': 0, 'shPoints': 0, 'shootingPct': 0.0, 'shootsCatches': 'R', 'shots': 3, 'skaterFullName': 'Jake Evans', 'timeOnIcePerGame': 467.5}, {'assists': 1, 'evGoals': 0, 'evPoints': 1, 'faceoffWinPct': None, 'gameWinningGoals': 0, 'gamesPlayed': 8, 'goals': 0, 'lastName': 'Letang', 'otGoals': 0, 'penaltyMinutes': 2, 'playerId': 8471724, 'plusMinus': -5, 'points': 1, 'pointsPerGame': 0.125, 'positionCode': 'D', 'ppGoals': 0, 'ppPoints': 0, 'shGoals': 0, 'shPoints': 0, 'shootingPct': 0.0, 'shootsCatches': 'R', 'shots': 26, 'skaterFullName': 'Kris Letang', 'timeOnIcePerGame': 1615.25}, {'assists': 1, 'evGoals': 0, 'evPoints': 1, 'faceoffWinPct': None, 'gameWinningGoals': 0, 'gamesPlayed': 20, 'goals': 0, 'lastName': 'Holden', 'otGoals': 0, 'penaltyMinutes': 6, 'playerId': 8474207, 'plusMinus': 0, 'points': 1, 'pointsPerGame': 0.05, 'positionCode': 'D', 'ppGoals': 0, 'ppPoints': 0, 'shGoals': 0, 'shPoints': 0, 'shootingPct': 0.0, 'shootsCatches': 'L', 'shots': 33, 'skaterFullName': 'Nick Holden', 'timeOnIcePerGame': 801.05}, {'assists': 1, 'evGoals': 0, 'evPoints': 1, 'faceoffWinPct': None, 'gameWinningGoals': 0, 'gamesPlayed': 13, 'goals': 0, 'lastName': 'Polak', 'otGoals': 0, 'penaltyMinutes': 10, 'playerId': 8471392, 'plusMinus': -2, 'points': 1, 'pointsPerGame': 0.07692, 'positionCode': 'D', 'ppGoals': 0, 'ppPoints': 0, 'shGoals': 0, 'shPoints': 0, 'shootingPct': 0.0, 'shootsCatches': 'R', 'shots': 15, 'skaterFullName': 'Roman Polak', 'timeOnIcePerGame': 1169.1538}, {'assists': 1, 'evGoals': 0, 'evPoints': 1, 'faceoffWinPct': 0.0, 'gameWinningGoals': 0, 'gamesPlayed': 4, 'goals': 0, 'lastName': 'Foligno', 'otGoals': 0, 'penaltyMinutes': 5, 'playerId': 8475220, 'plusMinus': -2, 'points': 1, 'pointsPerGame': 0.25, 'positionCode': 'L', 'ppGoals': 0, 'ppPoints': 0, 'shGoals': 0, 'shPoints': 0, 'shootingPct': 0.0, 'shootsCatches': 'L', 'shots': 4, 'skaterFullName': 'Marcus Foligno', 'timeOnIcePerGame': 816.75}, {'assists': 1, 'evGoals': 0, 'evPoints': 1, 'faceoffWinPct': None, 'gameWinningGoals': 0, 'gamesPlayed': 3, 'goals': 0, 'lastName': 'Lindgren', 'otGoals': 0, 'penaltyMinutes': 0, 'playerId': 8479324, 'plusMinus': 0, 'points': 1, 'pointsPerGame': 0.33333, 'positionCode': 'D', 'ppGoals': 0, 'ppPoints': 0, 'shGoals': 0, 'shPoints': 0, 'shootingPct': 0.0, 'shootsCatches': 'L', 'shots': 1, 'skaterFullName': 'Ryan Lindgren', 'timeOnIcePerGame': 1214.0}, {'assists': 1, 'evGoals': 0, 'evPoints': 1, 'faceoffWinPct': None, 'gameWinningGoals': 0, 'gamesPlayed': 8, 'goals': 0, 'lastName': 'Pettersson', 'otGoals': 0, 'penaltyMinutes': 8, 'playerId': 8477969, 'plusMinus': 0, 'points': 1, 'pointsPerGame': 0.125, 'positionCode': 'D', 'ppGoals': 0, 'ppPoints': 0, 'shGoals': 0, 'shPoints': 0, 'shootingPct': 0.0, 'shootsCatches': 'L', 'shots': 11, 'skaterFullName': 'Marcus Pettersson', 'timeOnIcePerGame': 1086.125}, {'assists': 1, 'evGoals': 0, 'evPoints': 1, 'faceoffWinPct': 0.0, 'gameWinningGoals': 0, 'gamesPlayed': 8, 'goals': 0, 'lastName': 'Aston-Reese', 'otGoals': 0, 'penaltyMinutes': 2, 'playerId': 8479944, 'plusMinus': -5, 'points': 1, 'pointsPerGame': 0.125, 'positionCode': 'L', 'ppGoals': 0, 'ppPoints': 0, 'shGoals': 0, 'shPoints': 0, 'shootingPct': 0.0, 'shootsCatches': 'L', 'shots': 12, 'skaterFullName': 'Zach Aston-Reese', 'timeOnIcePerGame': 676.625}, {'assists': 1, 'evGoals': 0, 'evPoints': 1, 'faceoffWinPct': None, 'gameWinningGoals': 0, 'gamesPlayed': 9, 'goals': 0, 'lastName': 'Hjalmarsson', 'otGoals': 0, 'penaltyMinutes': 6, 'playerId': 8471769, 'plusMinus': -7, 'points': 1, 'pointsPerGame': 0.11111, 'positionCode': 'D', 'ppGoals': 0, 'ppPoints': 0, 'shGoals': 0, 'shPoints': 0, 'shootingPct': 0.0, 'shootsCatches': 'L', 'shots': 3, 'skaterFullName': 'Niklas Hjalmarsson', 'timeOnIcePerGame': 1170.8888}, {'assists': 1, 'evGoals': 0, 'evPoints': 1, 'faceoffWinPct': None, 'gameWinningGoals': 0, 'gamesPlayed': 9, 'goals': 0, 'lastName': 'Ferland', 'otGoals': 0, 'penaltyMinutes': 25, 'playerId': 8475907, 'plusMinus': -3, 'points': 1, 'pointsPerGame': 0.11111, 'positionCode': 'L', 'ppGoals': 0, 'ppPoints': 0, 'shGoals': 0, 'shPoints': 0, 'shootingPct': 0.0, 'shootsCatches': 'L', 'shots': 10, 'skaterFullName': 'Micheal Ferland', 'timeOnIcePerGame': 574.3333}, {'assists': 1, 'evGoals': 0, 'evPoints': 0, 'faceoffWinPct': None, 'gameWinningGoals': 0, 'gamesPlayed': 3, 'goals': 0, 'lastName': 'Suter', 'otGoals': 0, 'penaltyMinutes': 0, 'playerId': 8470600, 'plusMinus': 1, 'points': 1, 'pointsPerGame': 0.33333, 'positionCode': 'D', 'ppGoals': 0, 'ppPoints': 0, 'shGoals': 0, 'shPoints': 1, 'shootingPct': 0.0, 'shootsCatches': 'L', 'shots': 3, 'skaterFullName': 'Ryan Suter', 'timeOnIcePerGame': 1407.0}, {'assists': 1, 'evGoals': 0, 'evPoints': 1, 'faceoffWinPct': None, 'gameWinningGoals': 0, 'gamesPlayed': 10, 'goals': 0, 'lastName': 'Fabbro', 'otGoals': 0, 'penaltyMinutes': 2, 'playerId': 8479371, 'plusMinus': 1, 'points': 1, 'pointsPerGame': 0.1, 'positionCode': 'D', 'ppGoals': 0, 'ppPoints': 0, 'shGoals': 0, 'shPoints': 0, 'shootingPct': 0.0, 'shootsCatches': 'R', 'shots': 5, 'skaterFullName': 'Dante Fabbro', 'timeOnIcePerGame': 928.5}, {'assists': 1, 'evGoals': 0, 'evPoints': 1, 'faceoffWinPct': None, 'gameWinningGoals': 0, 'gamesPlayed': 2, 'goals': 0, 'lastName': 'Salomaki', 'otGoals': 0, 'penaltyMinutes': 0, 'playerId': 8476447, 'plusMinus': 0, 'points': 1, 'pointsPerGame': 0.5, 'positionCode': 'R', 'ppGoals': 0, 'ppPoints': 0, 'shGoals': 0, 'shPoints': 0, 'shootingPct': 0.0, 'shootsCatches': 'L', 'shots': 1, 'skaterFullName': 'Miikka Salomaki', 'timeOnIcePerGame': 620.5}, {'assists': 1, 'evGoals': 0, 'evPoints': 1, 'faceoffWinPct': None, 'gameWinningGoals': 0, 'gamesPlayed': 27, 'goals': 0, 'lastName': 'Sekera', 'otGoals': 0, 'penaltyMinutes': 0, 'playerId': 8471284, 'plusMinus': -1, 'points': 1, 'pointsPerGame': 0.03703, 'positionCode': 'D', 'ppGoals': 0, 'ppPoints': 0, 'shGoals': 0, 'shPoints': 0, 'shootingPct': 0.0, 'shootsCatches': 'L', 'shots': 15, 'skaterFullName': 'Andrej Sekera', 'timeOnIcePerGame': 883.2592}, {'assists': 1, 'evGoals': 0, 'evPoints': 1, 'faceoffWinPct': 0.28, 'gameWinningGoals': 0, 'gamesPlayed': 9, 'goals': 0, 'lastName': 'Carpenter', 'otGoals': 0, 'penaltyMinutes': 0, 'playerId': 8477846, 'plusMinus': -4, 'points': 1, 'pointsPerGame': 0.11111, 'positionCode': 'C', 'ppGoals': 0, 'ppPoints': 0, 'shGoals': 0, 'shPoints': 0, 'shootingPct': 0.0, 'shootsCatches': 'R', 'shots': 10, 'skaterFullName': 'Ryan Carpenter', 'timeOnIcePerGame': 794.3333}, {'assists': 1, 'evGoals': 0, 'evPoints': 1, 'faceoffWinPct': None, 'gameWinningGoals': 0, 'gamesPlayed': 10, 'goals': 0, 'lastName': 'Bjork', 'otGoals': 0, 'penaltyMinutes': 6, 'playerId': 8478075, 'plusMinus': -3, 'points': 1, 'pointsPerGame': 0.1, 'positionCode': 'L', 'ppGoals': 0, 'ppPoints': 0, 'shGoals': 0, 'shPoints': 0, 'shootingPct': 0.0, 'shootsCatches': 'L', 'shots': 17, 'skaterFullName': 'Anders Bjork', 'timeOnIcePerGame': 689.4}, {'assists': 1, 'evGoals': 0, 'evPoints': 0, 'faceoffWinPct': None, 'gameWinningGoals': 0, 'gamesPlayed': 3, 'goals': 0, 'lastName': 'DeAngelo', 'otGoals': 0, 'penaltyMinutes': 16, 'playerId': 8477950, 'plusMinus': -6, 'points': 1, 'pointsPerGame': 0.33333, 'positionCode': 'D', 'ppGoals': 0, 'ppPoints': 1, 'shGoals': 0, 'shPoints': 0, 'shootingPct': 0.0, 'shootsCatches': 'R', 'shots': 5, 'skaterFullName': 'Tony DeAngelo', 'timeOnIcePerGame': 1140.3333}, {'assists': 0, 'evGoals': 0, 'evPoints': 0, 'faceoffWinPct': 0.5, 'gameWinningGoals': 0, 'gamesPlayed': 4, 'goals': 0, 'lastName': 'Hartman', 'otGoals': 0, 'penaltyMinutes': 9, 'playerId': 8477451, 'plusMinus': 0, 'points': 0, 'pointsPerGame': 0.0, 'positionCode': 'R', 'ppGoals': 0, 'ppPoints': 0, 'shGoals': 0, 'shPoints': 0, 'shootingPct': 0.0, 'shootsCatches': 'R', 'shots': 6, 'skaterFullName': 'Ryan Hartman', 'timeOnIcePerGame': 689.5}, {'assists': 0, 'evGoals': 0, 'evPoints': 0, 'faceoffWinPct': None, 'gameWinningGoals': 0, 'gamesPlayed': 5, 'goals': 0, 'lastName': 'Weise', 'otGoals': 0, 'penaltyMinutes': 2, 'playerId': 8474668, 'plusMinus': -1, 'points': 0, 'pointsPerGame': 0.0, 'positionCode': 'R', 'ppGoals': 0, 'ppPoints': 0, 'shGoals': 0, 'shPoints': 0, 'shootingPct': 0.0, 'shootsCatches': 'R', 'shots': 2, 'skaterFullName': 'Dale Weise', 'timeOnIcePerGame': 518.0}, {'assists': 0, 'evGoals': 0, 'evPoints': 0, 'faceoffWinPct': None, 'gameWinningGoals': 0, 'gamesPlayed': 7, 'goals': 0, 'lastName': 'Johnson', 'otGoals': 0, 'penaltyMinutes': 6, 'playerId': 8471677, 'plusMinus': -7, 'points': 0, 'pointsPerGame': 0.0, 'positionCode': 'D', 'ppGoals': 0, 'ppPoints': 0, 'shGoals': 0, 'shPoints': 0, 'shootingPct': 0.0, 'shootsCatches': 'L', 'shots': 4, 'skaterFullName': 'Jack Johnson', 'timeOnIcePerGame': 940.7142}, {'assists': 0, 'evGoals': 0, 'evPoints': 0, 'faceoffWinPct': 1.0, 'gameWinningGoals': 0, 'gamesPlayed': 3, 'goals': 0, 'lastName': 'Erne', 'otGoals': 0, 'penaltyMinutes': 2, 'playerId': 8477454, 'plusMinus': 0, 'points': 0, 'pointsPerGame': 0.0, 'positionCode': 'L', 'ppGoals': 0, 'ppPoints': 0, 'shGoals': 0, 'shPoints': 0, 'shootingPct': 0.0, 'shootsCatches': 'L', 'shots': 4, 'skaterFullName': 'Adam Erne', 'timeOnIcePerGame': 540.6666}, {'assists': 0, 'evGoals': 0, 'evPoints': 0, 'faceoffWinPct': None, 'gameWinningGoals': 0, 'gamesPlayed': 4, 'goals': 0, 'lastName': 'Yamamoto', 'otGoals': 0, 'penaltyMinutes': 6, 'playerId': 8479977, 'plusMinus': -1, 'points': 0, 'pointsPerGame': 0.0, 'positionCode': 'R', 'ppGoals': 0, 'ppPoints': 0, 'shGoals': 0, 'shPoints': 0, 'shootingPct': 0.0, 'shootsCatches': 'R', 'shots': 4, 'skaterFullName': 'Kailer Yamamoto', 'timeOnIcePerGame': 963.0}, {'assists': 0, 'evGoals': 0, 'evPoints': 0, 'faceoffWinPct': None, 'gameWinningGoals': 0, 'gamesPlayed': 19, 'goals': 0, 'lastName': 'Fantenberg', 'otGoals': 0, 'penaltyMinutes': 10, 'playerId': 8480147, 'plusMinus': -2, 'points': 0, 'pointsPerGame': 0.0, 'positionCode': 'D', 'ppGoals': 0, 'ppPoints': 0, 'shGoals': 0, 'shPoints': 0, 'shootingPct': 0.0, 'shootsCatches': 'L', 'shots': 19, 'skaterFullName': 'Oscar Fantenberg', 'timeOnIcePerGame': 907.421}, {'assists': 0, 'evGoals': 0, 'evPoints': 0, 'faceoffWinPct': None, 'gameWinningGoals': 0, 'gamesPlayed': 4, 'goals': 0, 'lastName': 'Nutivaara', 'otGoals': 0, 'penaltyMinutes': 0, 'playerId': 8478906, 'plusMinus': 0, 'points': 0, 'pointsPerGame': 0.0, 'positionCode': 'D', 'ppGoals': 0, 'ppPoints': 0, 'shGoals': 0, 'shPoints': 0, 'shootingPct': 0.0, 'shootsCatches': 'L', 'shots': 2, 'skaterFullName': 'Markus Nutivaara', 'timeOnIcePerGame': 942.25}, {'assists': 0, 'evGoals': 0, 'evPoints': 0, 'faceoffWinPct': None, 'gameWinningGoals': 0, 'gamesPlayed': 16, 'goals': 0, 'lastName': 'Myers', 'otGoals': 0, 'penaltyMinutes': 28, 'playerId': 8474574, 'plusMinus': -5, 'points': 0, 'pointsPerGame': 0.0, 'positionCode': 'D', 'ppGoals': 0, 'ppPoints': 0, 'shGoals': 0, 'shPoints': 0, 'shootingPct': 0.0, 'shootsCatches': 'R', 'shots': 28, 'skaterFullName': 'Tyler Myers', 'timeOnIcePerGame': 1151.0625}, {'assists': 0, 'evGoals': 0, 'evPoints': 0, 'faceoffWinPct': None, 'gameWinningGoals': 0, 'gamesPlayed': 3, 'goals': 0, 'lastName': 'Marincin', 'otGoals': 0, 'penaltyMinutes': 0, 'playerId': 8475716, 'plusMinus': -2, 'points': 0, 'pointsPerGame': 0.0, 'positionCode': 'D', 'ppGoals': 0, 'ppPoints': 0, 'shGoals': 0, 'shPoints': 0, 'shootingPct': 0.0, 'shootsCatches': 'L', 'shots': 5, 'skaterFullName': 'Martin Marincin', 'timeOnIcePerGame': 989.0}, {'assists': 0, 'evGoals': 0, 'evPoints': 0, 'faceoffWinPct': 0.58108, 'gameWinningGoals': 0, 'gamesPlayed': 10, 'goals': 0, 'lastName': 'Jankowski', 'otGoals': 0, 'penaltyMinutes': 0, 'playerId': 8476873, 'plusMinus': -3, 'points': 0, 'pointsPerGame': 0.0, 'positionCode': 'C', 'ppGoals': 0, 'ppPoints': 0, 'shGoals': 0, 'shPoints': 0, 'shootingPct': 0.0, 'shootsCatches': 'L', 'shots': 8, 'skaterFullName': 'Mark Jankowski', 'timeOnIcePerGame': 647.1}, {'assists': 0, 'evGoals': 0, 'evPoints': 0, 'faceoffWinPct': 0.5, 'gameWinningGoals': 0, 'gamesPlayed': 5, 'goals': 0, 'lastName': 'Bemstrom', 'otGoals': 0, 'penaltyMinutes': 2, 'playerId': 8480205, 'plusMinus': -1, 'points': 0, 'pointsPerGame': 0.0, 'positionCode': 'C', 'ppGoals': 0, 'ppPoints': 0, 'shGoals': 0, 'shPoints': 0, 'shootingPct': 0.0, 'shootsCatches': 'R', 'shots': 4, 'skaterFullName': 'Emil Bemstrom', 'timeOnIcePerGame': 549.0}, {'assists': 0, 'evGoals': 0, 'evPoints': 0, 'faceoffWinPct': 0.33333, 'gameWinningGoals': 0, 'gamesPlayed': 1, 'goals': 0, 'lastName': 'Lafferty', 'otGoals': 0, 'penaltyMinutes': 0, 'playerId': 8478043, 'plusMinus': -1, 'points': 0, 'pointsPerGame': 0.0, 'positionCode': 'R', 'ppGoals': 0, 'ppPoints': 0, 'shGoals': 0, 'shPoints': 0, 'shootingPct': None, 'shootsCatches': 'R', 'shots': 0, 'skaterFullName': 'Sam Lafferty', 'timeOnIcePerGame': 460.0}, {'assists': 0, 'evGoals': 0, 'evPoints': 0, 'faceoffWinPct': None, 'gameWinningGoals': 0, 'gamesPlayed': 4, 'goals': 0, 'lastName': 'Hunt', 'otGoals': 0, 'penaltyMinutes': 2, 'playerId': 8476779, 'plusMinus': -1, 'points': 0, 'pointsPerGame': 0.0, 'positionCode': 'D', 'ppGoals': 0, 'ppPoints': 0, 'shGoals': 0, 'shPoints': 0, 'shootingPct': 0.0, 'shootsCatches': 'L', 'shots': 7, 'skaterFullName': 'Brad Hunt', 'timeOnIcePerGame': 816.0}, {'assists': 0, 'evGoals': 0, 'evPoints': 0, 'faceoffWinPct': None, 'gameWinningGoals': 0, 'gamesPlayed': 4, 'goals': 0, 'lastName': 'Weber', 'otGoals': 0, 'penaltyMinutes': 0, 'playerId': 8474134, 'plusMinus': -2, 'points': 0, 'pointsPerGame': 0.0, 'positionCode': 'D', 'ppGoals': 0, 'ppPoints': 0, 'shGoals': 0, 'shPoints': 0, 'shootingPct': 0.0, 'shootsCatches': 'R', 'shots': 3, 'skaterFullName': 'Yannick Weber', 'timeOnIcePerGame': 518.0}, {'assists': 0, 'evGoals': 0, 'evPoints': 0, 'faceoffWinPct': None, 'gameWinningGoals': 0, 'gamesPlayed': 4, 'goals': 0, 'lastName': 'Girardi', 'otGoals': 0, 'penaltyMinutes': 4, 'playerId': 8471958, 'plusMinus': -2, 'points': 0, 'pointsPerGame': 0.0, 'positionCode': 'D', 'ppGoals': 0, 'ppPoints': 0, 'shGoals': 0, 'shPoints': 0, 'shootingPct': 0.0, 'shootsCatches': 'R', 'shots': 3, 'skaterFullName': 'Dan Girardi', 'timeOnIcePerGame': 1038.25}, {'assists': 0, 'evGoals': 0, 'evPoints': 0, 'faceoffWinPct': None, 'gameWinningGoals': 0, 'gamesPlayed': 1, 'goals': 0, 'lastName': 'Pirri', 'otGoals': 0, 'penaltyMinutes': 0, 'playerId': 8475204, 'plusMinus': 0, 'points': 0, 'pointsPerGame': 0.0, 'positionCode': 'C', 'ppGoals': 0, 'ppPoints': 0, 'shGoals': 0, 'shPoints': 0, 'shootingPct': 0.0, 'shootsCatches': 'L', 'shots': 5, 'skaterFullName': 'Brandon Pirri', 'timeOnIcePerGame': 1035.0}, {'assists': 0, 'evGoals': 0, 'evPoints': 0, 'faceoffWinPct': 0.5, 'gameWinningGoals': 0, 'gamesPlayed': 4, 'goals': 0, 'lastName': 'Khaira', 'otGoals': 0, 'penaltyMinutes': 2, 'playerId': 8476915, 'plusMinus': 0, 'points': 0, 'pointsPerGame': 0.0, 'positionCode': 'L', 'ppGoals': 0, 'ppPoints': 0, 'shGoals': 0, 'shPoints': 0, 'shootingPct': 0.0, 'shootsCatches': 'L', 'shots': 7, 'skaterFullName': 'Jujhar Khaira', 'timeOnIcePerGame': 677.0}, {'assists': 0, 'evGoals': 0, 'evPoints': 0, 'faceoffWinPct': None, 'gameWinningGoals': 0, 'gamesPlayed': 4, 'goals': 0, 'lastName': 'Soucy', 'otGoals': 0, 'penaltyMinutes': 0, 'playerId': 8477369, 'plusMinus': -3, 'points': 0, 'pointsPerGame': 0.0, 'positionCode': 'D', 'ppGoals': 0, 'ppPoints': 0, 'shGoals': 0, 'shPoints': 0, 'shootingPct': 0.0, 'shootsCatches': 'L', 'shots': 3, 'skaterFullName': 'Carson Soucy', 'timeOnIcePerGame': 879.0}, {'assists': 0, 'evGoals': 0, 'evPoints': 0, 'faceoffWinPct': None, 'gameWinningGoals': 0, 'gamesPlayed': 8, 'goals': 0, 'lastName': 'Nylander', 'otGoals': 0, 'penaltyMinutes': 2, 'playerId': 8479423, 'plusMinus': -4, 'points': 0, 'pointsPerGame': 0.0, 'positionCode': 'L', 'ppGoals': 0, 'ppPoints': 0, 'shGoals': 0, 'shPoints': 0, 'shootingPct': 0.0, 'shootsCatches': 'R', 'shots': 11, 'skaterFullName': 'Alex Nylander', 'timeOnIcePerGame': 648.125}, {'assists': 0, 'evGoals': 0, 'evPoints': 0, 'faceoffWinPct': None, 'gameWinningGoals': 0, 'gamesPlayed': 4, 'goals': 0, 'lastName': 'Joseph', 'otGoals': 0, 'penaltyMinutes': 0, 'playerId': 8478472, 'plusMinus': -2, 'points': 0, 'pointsPerGame': 0.0, 'positionCode': 'R', 'ppGoals': 0, 'ppPoints': 0, 'shGoals': 0, 'shPoints': 0, 'shootingPct': 0.0, 'shootsCatches': 'L', 'shots': 4, 'skaterFullName': 'Mathieu Joseph', 'timeOnIcePerGame': 629.25}, {'assists': 0, 'evGoals': 0, 'evPoints': 0, 'faceoffWinPct': None, 'gameWinningGoals': 0, 'gamesPlayed': 10, 'goals': 0, 'lastName': 'Eriksson', 'otGoals': 0, 'penaltyMinutes': 6, 'playerId': 8470626, 'plusMinus': 0, 'points': 0, 'pointsPerGame': 0.0, 'positionCode': 'L', 'ppGoals': 0, 'ppPoints': 0, 'shGoals': 0, 'shPoints': 0, 'shootingPct': 0.0, 'shootsCatches': 'L', 'shots': 16, 'skaterFullName': 'Loui Eriksson', 'timeOnIcePerGame': 956.3}, {'assists': 0, 'evGoals': 0, 'evPoints': 0, 'faceoffWinPct': 0.30769, 'gameWinningGoals': 0, 'gamesPlayed': 3, 'goals': 0, 'lastName': 'Hayton', 'otGoals': 0, 'penaltyMinutes': 0, 'playerId': 8480849, 'plusMinus': -3, 'points': 0, 'pointsPerGame': 0.0, 'positionCode': 'C', 'ppGoals': 0, 'ppPoints': 0, 'shGoals': 0, 'shPoints': 0, 'shootingPct': 0.0, 'shootsCatches': 'L', 'shots': 2, 'skaterFullName': 'Barrett Hayton', 'timeOnIcePerGame': 637.6666}, {'assists': 0, 'evGoals': 0, 'evPoints': 0, 'faceoffWinPct': None, 'gameWinningGoals': 0, 'gamesPlayed': 1, 'goals': 0, 'lastName': 'Ladd', 'otGoals': 0, 'penaltyMinutes': 0, 'playerId': 8471217, 'plusMinus': -1, 'points': 0, 'pointsPerGame': 0.0, 'positionCode': 'L', 'ppGoals': 0, 'ppPoints': 0, 'shGoals': 0, 'shPoints': 0, 'shootingPct': None, 'shootsCatches': 'L', 'shots': 0, 'skaterFullName': 'Andrew Ladd', 'timeOnIcePerGame': 710.0}, {'assists': 0, 'evGoals': 0, 'evPoints': 0, 'faceoffWinPct': None, 'gameWinningGoals': 0, 'gamesPlayed': 7, 'goals': 0, 'lastName': 'Benn', 'otGoals': 0, 'penaltyMinutes': 0, 'playerId': 8474818, 'plusMinus': 1, 'points': 0, 'pointsPerGame': 0.0, 'positionCode': 'D', 'ppGoals': 0, 'ppPoints': 0, 'shGoals': 0, 'shPoints': 0, 'shootingPct': 0.0, 'shootsCatches': 'L', 'shots': 5, 'skaterFullName': 'Jordie Benn', 'timeOnIcePerGame': 968.5714}, {'assists': 0, 'evGoals': 0, 'evPoints': 0, 'faceoffWinPct': 0.5862, 'gameWinningGoals': 0, 'gamesPlayed': 4, 'goals': 0, 'lastName': 'Shore', 'otGoals': 0, 'penaltyMinutes': 2, 'playerId': 8476406, 'plusMinus': -4, 'points': 0, 'pointsPerGame': 0.0, 'positionCode': 'C', 'ppGoals': 0, 'ppPoints': 0, 'shGoals': 0, 'shPoints': 0, 'shootingPct': 0.0, 'shootsCatches': 'R', 'shots': 5, 'skaterFullName': 'Nicholas Shore', 'timeOnIcePerGame': 593.75}, {'assists': 0, 'evGoals': 0, 'evPoints': 0, 'faceoffWinPct': None, 'gameWinningGoals': 0, 'gamesPlayed': 3, 'goals': 0, 'lastName': 'Fox', 'otGoals': 0, 'penaltyMinutes': 2, 'playerId': 8479323, 'plusMinus': 2, 'points': 0, 'pointsPerGame': 0.0, 'positionCode': 'D', 'ppGoals': 0, 'ppPoints': 0, 'shGoals': 0, 'shPoints': 0, 'shootingPct': 0.0, 'shootsCatches': 'R', 'shots': 6, 'skaterFullName': 'Adam Fox', 'timeOnIcePerGame': 1271.6666}, {'assists': 0, 'evGoals': 0, 'evPoints': 0, 'faceoffWinPct': 0.46666, 'gameWinningGoals': 0, 'gamesPlayed': 10, 'goals': 0, 'lastName': 'Gaudette', 'otGoals': 0, 'penaltyMinutes': 2, 'playerId': 8478874, 'plusMinus': -1, 'points': 0, 'pointsPerGame': 0.0, 'positionCode': 'C', 'ppGoals': 0, 'ppPoints': 0, 'shGoals': 0, 'shPoints': 0, 'shootingPct': 0.0, 'shootsCatches': 'R', 'shots': 4, 'skaterFullName': 'Adam Gaudette', 'timeOnIcePerGame': 626.0}, {'assists': 0, 'evGoals': 0, 'evPoints': 0, 'faceoffWinPct': None, 'gameWinningGoals': 0, 'gamesPlayed': 4, 'goals': 0, 'lastName': 'Ekblad', 'otGoals': 0, 'penaltyMinutes': 2, 'playerId': 8477932, 'plusMinus': 0, 'points': 0, 'pointsPerGame': 0.0, 'positionCode': 'D', 'ppGoals': 0, 'ppPoints': 0, 'shGoals': 0, 'shPoints': 0, 'shootingPct': 0.0, 'shootsCatches': 'R', 'shots': 10, 'skaterFullName': 'Aaron Ekblad', 'timeOnIcePerGame': 1513.0}, {'assists': 0, 'evGoals': 0, 'evPoints': 0, 'faceoffWinPct': None, 'gameWinningGoals': 0, 'gamesPlayed': 2, 'goals': 0, 'lastName': 'Callahan', 'otGoals': 0, 'penaltyMinutes': 4, 'playerId': 8471339, 'plusMinus': 0, 'points': 0, 'pointsPerGame': 0.0, 'positionCode': 'R', 'ppGoals': 0, 'ppPoints': 0, 'shGoals': 0, 'shPoints': 0, 'shootingPct': 0.0, 'shootsCatches': 'R', 'shots': 4, 'skaterFullName': 'Ryan Callahan', 'timeOnIcePerGame': 607.5}, {'assists': 0, 'evGoals': 0, 'evPoints': 0, 'faceoffWinPct': 0.41666, 'gameWinningGoals': 0, 'gamesPlayed': 1, 'goals': 0, 'lastName': 'Haas', 'otGoals': 0, 'penaltyMinutes': 0, 'playerId': 8481813, 'plusMinus': 0, 'points': 0, 'pointsPerGame': 0.0, 'positionCode': 'C', 'ppGoals': 0, 'ppPoints': 0, 'shGoals': 0, 'shPoints': 0, 'shootingPct': 0.0, 'shootsCatches': 'R', 'shots': 4, 'skaterFullName': 'Gaetan Haas', 'timeOnIcePerGame': 637.0}, {'assists': 0, 'evGoals': 0, 'evPoints': 0, 'faceoffWinPct': 0.5, 'gameWinningGoals': 0, 'gamesPlayed': 4, 'goals': 0, 'lastName': 'Bunnaman', 'otGoals': 0, 'penaltyMinutes': 2, 'playerId': 8479382, 'plusMinus': -1, 'points': 0, 'pointsPerGame': 0.0, 'positionCode': 'C', 'ppGoals': 0, 'ppPoints': 0, 'shGoals': 0, 'shPoints': 0, 'shootingPct': 0.0, 'shootsCatches': 'L', 'shots': 3, 'skaterFullName': 'Connor Bunnaman', 'timeOnIcePerGame': 612.0}, {'assists': 0, 'evGoals': 0, 'evPoints': 0, 'faceoffWinPct': 0.64285, 'gameWinningGoals': 0, 'gamesPlayed': 4, 'goals': 0, 'lastName': 'Sheahan', 'otGoals': 0, 'penaltyMinutes': 2, 'playerId': 8475772, 'plusMinus': -1, 'points': 0, 'pointsPerGame': 0.0, 'positionCode': 'C', 'ppGoals': 0, 'ppPoints': 0, 'shGoals': 0, 'shPoints': 0, 'shootingPct': 0.0, 'shootsCatches': 'L', 'shots': 1, 'skaterFullName': 'Riley Sheahan', 'timeOnIcePerGame': 674.75}, {'assists': 0, 'evGoals': 0, 'evPoints': 0, 'faceoffWinPct': 0.38888, 'gameWinningGoals': 0, 'gamesPlayed': 3, 'goals': 0, 'lastName': 'Chytil', 'otGoals': 0, 'penaltyMinutes': 2, 'playerId': 8480078, 'plusMinus': -1, 'points': 0, 'pointsPerGame': 0.0, 'positionCode': 'C', 'ppGoals': 0, 'ppPoints': 0, 'shGoals': 0, 'shPoints': 0, 'shootingPct': 0.0, 'shootsCatches': 'L', 'shots': 5, 'skaterFullName': 'Filip Chytil', 'timeOnIcePerGame': 917.0}, {'assists': 0, 'evGoals': 0, 'evPoints': 0, 'faceoffWinPct': None, 'gameWinningGoals': 0, 'gamesPlayed': 2, 'goals': 0, 'lastName': 'Donato', 'otGoals': 0, 'penaltyMinutes': 2, 'playerId': 8477987, 'plusMinus': 1, 'points': 0, 'pointsPerGame': 0.0, 'positionCode': 'C', 'ppGoals': 0, 'ppPoints': 0, 'shGoals': 0, 'shPoints': 0, 'shootingPct': 0.0, 'shootsCatches': 'L', 'shots': 1, 'skaterFullName': 'Ryan Donato', 'timeOnIcePerGame': 540.0}, {'assists': 0, 'evGoals': 0, 'evPoints': 0, 'faceoffWinPct': 0.46153, 'gameWinningGoals': 0, 'gamesPlayed': 4, 'goals': 0, 'lastName': 'Engvall', 'otGoals': 0, 'penaltyMinutes': 0, 'playerId': 8478115, 'plusMinus': 0, 'points': 0, 'pointsPerGame': 0.0, 'positionCode': 'L', 'ppGoals': 0, 'ppPoints': 0, 'shGoals': 0, 'shPoints': 0, 'shootingPct': 0.0, 'shootsCatches': 'L', 'shots': 10, 'skaterFullName': 'Pierre Engvall', 'timeOnIcePerGame': 706.5}, {'assists': 0, 'evGoals': 0, 'evPoints': 0, 'faceoffWinPct': 0.0, 'gameWinningGoals': 0, 'gamesPlayed': 1, 'goals': 0, 'lastName': 'Fogarty', 'otGoals': 0, 'penaltyMinutes': 0, 'playerId': 8476396, 'plusMinus': 0, 'points': 0, 'pointsPerGame': 0.0, 'positionCode': 'C', 'ppGoals': 0, 'ppPoints': 0, 'shGoals': 0, 'shPoints': 0, 'shootingPct': None, 'shootsCatches': 'R', 'shots': 0, 'skaterFullName': 'Steven Fogarty', 'timeOnIcePerGame': 427.0}, {'assists': 0, 'evGoals': 0, 'evPoints': 0, 'faceoffWinPct': 0.33333, 'gameWinningGoals': 0, 'gamesPlayed': 8, 'goals': 0, 'lastName': 'Gauthier', 'otGoals': 0, 'penaltyMinutes': 2, 'playerId': 8477512, 'plusMinus': 1, 'points': 0, 'pointsPerGame': 0.0, 'positionCode': 'C', 'ppGoals': 0, 'ppPoints': 0, 'shGoals': 0, 'shPoints': 0, 'shootingPct': 0.0, 'shootsCatches': 'L', 'shots': 1, 'skaterFullName': 'Frederik Gauthier', 'timeOnIcePerGame': 420.75}, {'assists': 0, 'evGoals': 0, 'evPoints': 0, 'faceoffWinPct': 0.66666, 'gameWinningGoals': 0, 'gamesPlayed': 5, 'goals': 0, 'lastName': 'Studnicka', 'otGoals': 0, 'penaltyMinutes': 2, 'playerId': 8480021, 'plusMinus': -1, 'points': 0, 'pointsPerGame': 0.0, 'positionCode': 'C', 'ppGoals': 0, 'ppPoints': 0, 'shGoals': 0, 'shPoints': 0, 'shootingPct': 0.0, 'shootsCatches': 'R', 'shots': 10, 'skaterFullName': 'Jack Studnicka', 'timeOnIcePerGame': 696.6}, {'assists': 0, 'evGoals': 0, 'evPoints': 0, 'faceoffWinPct': None, 'gameWinningGoals': 0, 'gamesPlayed': 6, 'goals': 0, 'lastName': 'Lauzon', 'otGoals': 0, 'penaltyMinutes': 18, 'playerId': 8478468, 'plusMinus': -3, 'points': 0, 'pointsPerGame': 0.0, 'positionCode': 'D', 'ppGoals': 0, 'ppPoints': 0, 'shGoals': 0, 'shPoints': 0, 'shootingPct': 0.0, 'shootsCatches': 'L', 'shots': 3, 'skaterFullName': 'Jeremy Lauzon', 'timeOnIcePerGame': 880.6666}, {'assists': 0, 'evGoals': 0, 'evPoints': 0, 'faceoffWinPct': None, 'gameWinningGoals': 0, 'gamesPlayed': 4, 'goals': 0, 'lastName': 'Kassian', 'otGoals': 0, 'penaltyMinutes': 2, 'playerId': 8475178, 'plusMinus': -4, 'points': 0, 'pointsPerGame': 0.0, 'positionCode': 'R', 'ppGoals': 0, 'ppPoints': 0, 'shGoals': 0, 'shPoints': 0, 'shootingPct': 0.0, 'shootsCatches': 'R', 'shots': 5, 'skaterFullName': 'Zack Kassian', 'timeOnIcePerGame': 637.25}, {'assists': 0, 'evGoals': 0, 'evPoints': 0, 'faceoffWinPct': None, 'gameWinningGoals': 0, 'gamesPlayed': 7, 'goals': 0, 'lastName': 'Zaitsev', 'otGoals': 0, 'penaltyMinutes': 2, 'playerId': 8479458, 'plusMinus': -3, 'points': 0, 'pointsPerGame': 0.0, 'positionCode': 'D', 'ppGoals': 0, 'ppPoints': 0, 'shGoals': 0, 'shPoints': 0, 'shootingPct': 0.0, 'shootsCatches': 'R', 'shots': 8, 'skaterFullName': 'Nikita Zaitsev', 'timeOnIcePerGame': 1137.2857}, {'assists': 0, 'evGoals': 0, 'evPoints': 0, 'faceoffWinPct': None, 'gameWinningGoals': 0, 'gamesPlayed': 5, 'goals': 0, 'lastName': 'Mikheyev', 'otGoals': 0, 'penaltyMinutes': 0, 'playerId': 8481624, 'plusMinus': -1, 'points': 0, 'pointsPerGame': 0.0, 'positionCode': 'R', 'ppGoals': 0, 'ppPoints': 0, 'shGoals': 0, 'shPoints': 0, 'shootingPct': 0.0, 'shootsCatches': 'L', 'shots': 10, 'skaterFullName': 'Ilya Mikheyev', 'timeOnIcePerGame': 928.2}, {'assists': 0, 'evGoals': 0, 'evPoints': 0, 'faceoffWinPct': None, 'gameWinningGoals': 0, 'gamesPlayed': 3, 'goals': 0, 'lastName': 'Heed', 'otGoals': 0, 'penaltyMinutes': 0, 'playerId': 8475841, 'plusMinus': 0, 'points': 0, 'pointsPerGame': 0.0, 'positionCode': 'D', 'ppGoals': 0, 'ppPoints': 0, 'shGoals': 0, 'shPoints': 0, 'shootingPct': 0.0, 'shootsCatches': 'R', 'shots': 4, 'skaterFullName': 'Tim Heed', 'timeOnIcePerGame': 852.0}, {'assists': 0, 'evGoals': 0, 'evPoints': 0, 'faceoffWinPct': 0.4, 'gameWinningGoals': 0, 'gamesPlayed': 5, 'goals': 0, 'lastName': 'de la Rose', 'otGoals': 0, 'penaltyMinutes': 0, 'playerId': 8477455, 'plusMinus': -1, 'points': 0, 'pointsPerGame': 0.0, 'positionCode': 'L', 'ppGoals': 0, 'ppPoints': 0, 'shGoals': 0, 'shPoints': 0, 'shootingPct': 0.0, 'shootsCatches': 'L', 'shots': 5, 'skaterFullName': 'Jacob de la Rose', 'timeOnIcePerGame': 575.0}, {'assists': 0, 'evGoals': 0, 'evPoints': 0, 'faceoffWinPct': None, 'gameWinningGoals': 0, 'gamesPlayed': 1, 'goals': 0, 'lastName': 'Volkov', 'otGoals': 0, 'penaltyMinutes': 0, 'playerId': 8480186, 'plusMinus': 0, 'points': 0, 'pointsPerGame': 0.0, 'positionCode': 'R', 'ppGoals': 0, 'ppPoints': 0, 'shGoals': 0, 'shPoints': 0, 'shootingPct': None, 'shootsCatches': 'L', 'shots': 0, 'skaterFullName': 'Alexander Volkov', 'timeOnIcePerGame': 574.0}, {'assists': 0, 'evGoals': 0, 'evPoints': 0, 'faceoffWinPct': None, 'gameWinningGoals': 0, 'gamesPlayed': 2, 'goals': 0, 'lastName': 'Matheson', 'otGoals': 0, 'penaltyMinutes': 8, 'playerId': 8476875, 'plusMinus': -2, 'points': 0, 'pointsPerGame': 0.0, 'positionCode': 'D', 'ppGoals': 0, 'ppPoints': 0, 'shGoals': 0, 'shPoints': 0, 'shootingPct': None, 'shootsCatches': 'L', 'shots': 0, 'skaterFullName': 'Mike Matheson', 'timeOnIcePerGame': 793.0}, {'assists': 0, 'evGoals': 0, 'evPoints': 0, 'faceoffWinPct': None, 'gameWinningGoals': 0, 'gamesPlayed': 5, 'goals': 0, 'lastName': 'Johnston', 'otGoals': 0, 'penaltyMinutes': 12, 'playerId': 8477527, 'plusMinus': 1, 'points': 0, 'pointsPerGame': 0.0, 'positionCode': 'L', 'ppGoals': 0, 'ppPoints': 0, 'shGoals': 0, 'shPoints': 0, 'shootingPct': 0.0, 'shootsCatches': 'L', 'shots': 2, 'skaterFullName': 'Ross Johnston', 'timeOnIcePerGame': 550.8}, {'assists': 0, 'evGoals': 0, 'evPoints': 0, 'faceoffWinPct': 0.51785, 'gameWinningGoals': 0, 'gamesPlayed': 4, 'goals': 0, 'lastName': 'Koivu', 'otGoals': 0, 'penaltyMinutes': 6, 'playerId': 8469459, 'plusMinus': 0, 'points': 0, 'pointsPerGame': 0.0, 'positionCode': 'C', 'ppGoals': 0, 'ppPoints': 0, 'shGoals': 0, 'shPoints': 0, 'shootingPct': 0.0, 'shootsCatches': 'L', 'shots': 5, 'skaterFullName': 'Mikko Koivu', 'timeOnIcePerGame': 696.25}, {'assists': 0, 'evGoals': 0, 'evPoints': 0, 'faceoffWinPct': None, 'gameWinningGoals': 0, 'gamesPlayed': 7, 'goals': 0, 'lastName': 'Nemeth', 'otGoals': 0, 'penaltyMinutes': 4, 'playerId': 8475747, 'plusMinus': 4, 'points': 0, 'pointsPerGame': 0.0, 'positionCode': 'D', 'ppGoals': 0, 'ppPoints': 0, 'shGoals': 0, 'shPoints': 0, 'shootingPct': 0.0, 'shootsCatches': 'L', 'shots': 8, 'skaterFullName': 'Patrik Nemeth', 'timeOnIcePerGame': 855.4285}, {'assists': 0, 'evGoals': 0, 'evPoints': 0, 'faceoffWinPct': None, 'gameWinningGoals': 0, 'gamesPlayed': 4, 'goals': 0, 'lastName': 'Stralman', 'otGoals': 0, 'penaltyMinutes': 2, 'playerId': 8471873, 'plusMinus': -5, 'points': 0, 'pointsPerGame': 0.0, 'positionCode': 'D', 'ppGoals': 0, 'ppPoints': 0, 'shGoals': 0, 'shPoints': 0, 'shootingPct': 0.0, 'shootsCatches': 'R', 'shots': 4, 'skaterFullName': 'Anton Stralman', 'timeOnIcePerGame': 1259.75}, {'assists': 0, 'evGoals': 0, 'evPoints': 0, 'faceoffWinPct': 0.39024, 'gameWinningGoals': 0, 'gamesPlayed': 4, 'goals': 0, 'lastName': 'Bjugstad', 'otGoals': 0, 'penaltyMinutes': 2, 'playerId': 8475760, 'plusMinus': -3, 'points': 0, 'pointsPerGame': 0.0, 'positionCode': 'C', 'ppGoals': 0, 'ppPoints': 0, 'shGoals': 0, 'shPoints': 0, 'shootingPct': 0.0, 'shootsCatches': 'R', 'shots': 11, 'skaterFullName': 'Nick Bjugstad', 'timeOnIcePerGame': 851.75}, {'assists': 0, 'evGoals': 0, 'evPoints': 0, 'faceoffWinPct': 1.0, 'gameWinningGoals': 0, 'gamesPlayed': 6, 'goals': 0, 'lastName': 'Radil', 'otGoals': 0, 'penaltyMinutes': 0, 'playerId': 8480780, 'plusMinus': -1, 'points': 0, 'pointsPerGame': 0.0, 'positionCode': 'C', 'ppGoals': 0, 'ppPoints': 0, 'shGoals': 0, 'shPoints': 0, 'shootingPct': 0.0, 'shootsCatches': 'R', 'shots': 4, 'skaterFullName': 'Lukas Radil', 'timeOnIcePerGame': 582.8333}, {'assists': 0, 'evGoals': 0, 'evPoints': 0, 'faceoffWinPct': 0.3, 'gameWinningGoals': 0, 'gamesPlayed': 2, 'goals': 0, 'lastName': 'Pinho', 'otGoals': 0, 'penaltyMinutes': 0, 'playerId': 8477314, 'plusMinus': -1, 'points': 0, 'pointsPerGame': 0.0, 'positionCode': 'C', 'ppGoals': 0, 'ppPoints': 0, 'shGoals': 0, 'shPoints': 0, 'shootingPct': None, 'shootsCatches': 'R', 'shots': 0, 'skaterFullName': 'Brian Pinho', 'timeOnIcePerGame': 346.5}, {'assists': 0, 'evGoals': 0, 'evPoints': 0, 'faceoffWinPct': None, 'gameWinningGoals': 0, 'gamesPlayed': 11, 'goals': 0, 'lastName': 'Siegenthaler', 'otGoals': 0, 'penaltyMinutes': 2, 'playerId': 8478399, 'plusMinus': -7, 'points': 0, 'pointsPerGame': 0.0, 'positionCode': 'D', 'ppGoals': 0, 'ppPoints': 0, 'shGoals': 0, 'shPoints': 0, 'shootingPct': 0.0, 'shootsCatches': 'L', 'shots': 6, 'skaterFullName': 'Jonas Siegenthaler', 'timeOnIcePerGame': 880.0909}, {'assists': 0, 'evGoals': 0, 'evPoints': 0, 'faceoffWinPct': None, 'gameWinningGoals': 0, 'gamesPlayed': 4, 'goals': 0, 'lastName': 'Russell', 'otGoals': 0, 'penaltyMinutes': 2, 'playerId': 8471729, 'plusMinus': -1, 'points': 0, 'pointsPerGame': 0.0, 'positionCode': 'D', 'ppGoals': 0, 'ppPoints': 0, 'shGoals': 0, 'shPoints': 0, 'shootingPct': 0.0, 'shootsCatches': 'L', 'shots': 7, 'skaterFullName': 'Kris Russell', 'timeOnIcePerGame': 988.75}, {'assists': 0, 'evGoals': 0, 'evPoints': 0, 'faceoffWinPct': None, 'gameWinningGoals': 0, 'gamesPlayed': 2, 'goals': 0, 'lastName': 'Fehervary', 'otGoals': 0, 'penaltyMinutes': 0, 'playerId': 8480796, 'plusMinus': 0, 'points': 0, 'pointsPerGame': 0.0, 'positionCode': 'D', 'ppGoals': 0, 'ppPoints': 0, 'shGoals': 0, 'shPoints': 0, 'shootingPct': None, 'shootsCatches': 'L', 'shots': 0, 'skaterFullName': 'Martin Fehervary', 'timeOnIcePerGame': 802.5}, {'assists': 0, 'evGoals': 0, 'evPoints': 0, 'faceoffWinPct': 0.55263, 'gameWinningGoals': 0, 'gamesPlayed': 4, 'goals': 0, 'lastName': 'Cullen', 'otGoals': 0, 'penaltyMinutes': 0, 'playerId': 8464989, 'plusMinus': -1, 'points': 0, 'pointsPerGame': 0.0, 'positionCode': 'C', 'ppGoals': 0, 'ppPoints': 0, 'shGoals': 0, 'shPoints': 0, 'shootingPct': 0.0, 'shootsCatches': 'L', 'shots': 3, 'skaterFullName': 'Matt Cullen', 'timeOnIcePerGame': 672.0}, {'assists': 0, 'evGoals': 0, 'evPoints': 0, 'faceoffWinPct': None, 'gameWinningGoals': 0, 'gamesPlayed': 15, 'goals': 0, 'lastName': 'Jensen', 'otGoals': 0, 'penaltyMinutes': 2, 'playerId': 8475324, 'plusMinus': -3, 'points': 0, 'pointsPerGame': 0.0, 'positionCode': 'D', 'ppGoals': 0, 'ppPoints': 0, 'shGoals': 0, 'shPoints': 0, 'shootingPct': 0.0, 'shootsCatches': 'R', 'shots': 14, 'skaterFullName': 'Nick Jensen', 'timeOnIcePerGame': 1063.4}, {'assists': 0, 'evGoals': 0, 'evPoints': 0, 'faceoffWinPct': None, 'gameWinningGoals': 0, 'gamesPlayed': 2, 'goals': 0, 'lastName': 'Simmonds', 'otGoals': 0, 'penaltyMinutes': 0, 'playerId': 8474190, 'plusMinus': 1, 'points': 0, 'pointsPerGame': 0.0, 'positionCode': 'R', 'ppGoals': 0, 'ppPoints': 0, 'shGoals': 0, 'shPoints': 0, 'shootingPct': 0.0, 'shootsCatches': 'R', 'shots': 1, 'skaterFullName': 'Wayne Simmonds', 'timeOnIcePerGame': 448.5}, {'assists': 0, 'evGoals': 0, 'evPoints': 0, 'faceoffWinPct': None, 'gameWinningGoals': 0, 'gamesPlayed': 9, 'goals': 0, 'lastName': 'Scandella', 'otGoals': 0, 'penaltyMinutes': 0, 'playerId': 8474618, 'plusMinus': -3, 'points': 0, 'pointsPerGame': 0.0, 'positionCode': 'D', 'ppGoals': 0, 'ppPoints': 0, 'shGoals': 0, 'shPoints': 0, 'shootingPct': 0.0, 'shootsCatches': 'L', 'shots': 9, 'skaterFullName': 'Marco Scandella', 'timeOnIcePerGame': 1212.8888}, {'assists': 0, 'evGoals': 0, 'evPoints': 0, 'faceoffWinPct': 0.33333, 'gameWinningGoals': 0, 'gamesPlayed': 2, 'goals': 0, 'lastName': 'Bishop', 'otGoals': 0, 'penaltyMinutes': 0, 'playerId': 8478056, 'plusMinus': 0, 'points': 0, 'pointsPerGame': 0.0, 'positionCode': 'C', 'ppGoals': 0, 'ppPoints': 0, 'shGoals': 0, 'shPoints': 0, 'shootingPct': 0.0, 'shootsCatches': 'L', 'shots': 2, 'skaterFullName': 'Clark Bishop', 'timeOnIcePerGame': 471.0}, {'assists': 0, 'evGoals': 0, 'evPoints': 0, 'faceoffWinPct': None, 'gameWinningGoals': 0, 'gamesPlayed': 5, 'goals': 0, 'lastName': 'Holl', 'otGoals': 0, 'penaltyMinutes': 2, 'playerId': 8475718, 'plusMinus': -3, 'points': 0, 'pointsPerGame': 0.0, 'positionCode': 'D', 'ppGoals': 0, 'ppPoints': 0, 'shGoals': 0, 'shPoints': 0, 'shootingPct': 0.0, 'shootsCatches': 'R', 'shots': 6, 'skaterFullName': 'Justin Holl', 'timeOnIcePerGame': 1364.4}, {'assists': 0, 'evGoals': 0, 'evPoints': 0, 'faceoffWinPct': None, 'gameWinningGoals': 0, 'gamesPlayed': 2, 'goals': 0, 'lastName': 'Hudon', 'otGoals': 0, 'penaltyMinutes': 0, 'playerId': 8476948, 'plusMinus': 0, 'points': 0, 'pointsPerGame': 0.0, 'positionCode': 'L', 'ppGoals': 0, 'ppPoints': 0, 'shGoals': 0, 'shPoints': 0, 'shootingPct': None, 'shootsCatches': 'L', 'shots': 0, 'skaterFullName': 'Charles Hudon', 'timeOnIcePerGame': 294.0}, {'assists': 0, 'evGoals': 0, 'evPoints': 0, 'faceoffWinPct': None, 'gameWinningGoals': 0, 'gamesPlayed': 3, 'goals': 0, 'lastName': 'Stillman', 'otGoals': 0, 'penaltyMinutes': 0, 'playerId': 8479388, 'plusMinus': -3, 'points': 0, 'pointsPerGame': 0.0, 'positionCode': 'D', 'ppGoals': 0, 'ppPoints': 0, 'shGoals': 0, 'shPoints': 0, 'shootingPct': 0.0, 'shootsCatches': 'L', 'shots': 1, 'skaterFullName': 'Riley Stillman', 'timeOnIcePerGame': 1038.6666}, {'assists': 0, 'evGoals': 0, 'evPoints': 0, 'faceoffWinPct': None, 'gameWinningGoals': 0, 'gamesPlayed': 2, 'goals': 0, 'lastName': 'Timmins', 'otGoals': 0, 'penaltyMinutes': 4, 'playerId': 8479982, 'plusMinus': 1, 'points': 0, 'pointsPerGame': 0.0, 'positionCode': 'D', 'ppGoals': 0, 'ppPoints': 0, 'shGoals': 0, 'shPoints': 0, 'shootingPct': None, 'shootsCatches': 'R', 'shots': 0, 'skaterFullName': 'Conor Timmins', 'timeOnIcePerGame': 669.5}, {'assists': 0, 'evGoals': 0, 'evPoints': 0, 'faceoffWinPct': None, 'gameWinningGoals': 0, 'gamesPlayed': 4, 'goals': 0, 'lastName': 'Athanasiou', 'otGoals': 0, 'penaltyMinutes': 2, 'playerId': 8476960, 'plusMinus': -2, 'points': 0, 'pointsPerGame': 0.0, 'positionCode': 'C', 'ppGoals': 0, 'ppPoints': 0, 'shGoals': 0, 'shPoints': 0, 'shootingPct': 0.0, 'shootsCatches': 'L', 'shots': 7, 'skaterFullName': 'Andreas Athanasiou', 'timeOnIcePerGame': 658.25}, {'assists': 0, 'evGoals': 0, 'evPoints': 0, 'faceoffWinPct': None, 'gameWinningGoals': 0, 'gamesPlayed': 5, 'goals': 0, 'lastName': 'Hamonic', 'otGoals': 0, 'penaltyMinutes': 2, 'playerId': 8474612, 'plusMinus': -4, 'points': 0, 'pointsPerGame': 0.0, 'positionCode': 'D', 'ppGoals': 0, 'ppPoints': 0, 'shGoals': 0, 'shPoints': 0, 'shootingPct': 0.0, 'shootsCatches': 'R', 'shots': 6, 'skaterFullName': 'Travis Hamonic', 'timeOnIcePerGame': 1333.0}, {'assists': 0, 'evGoals': 0, 'evPoints': 0, 'faceoffWinPct': None, 'gameWinningGoals': 0, 'gamesPlayed': 1, 'goals': 0, 'lastName': 'Czarnik', 'otGoals': 0, 'penaltyMinutes': 0, 'playerId': 8478512, 'plusMinus': -1, 'points': 0, 'pointsPerGame': 0.0, 'positionCode': 'C', 'ppGoals': 0, 'ppPoints': 0, 'shGoals': 0, 'shPoints': 0, 'shootingPct': None, 'shootsCatches': 'R', 'shots': 0, 'skaterFullName': 'Austin Czarnik', 'timeOnIcePerGame': 300.0}, {'assists': 0, 'evGoals': 0, 'evPoints': 0, 'faceoffWinPct': None, 'gameWinningGoals': 0, 'gamesPlayed': 2, 'goals': 0, 'lastName': 'Quenneville', 'otGoals': 0, 'penaltyMinutes': 0, 'playerId': 8477961, 'plusMinus': -1, 'points': 0, 'pointsPerGame': 0.0, 'positionCode': 'C', 'ppGoals': 0, 'ppPoints': 0, 'shGoals': 0, 'shPoints': 0, 'shootingPct': 0.0, 'shootsCatches': 'L', 'shots': 1, 'skaterFullName': 'John Quenneville', 'timeOnIcePerGame': 596.5}, {'assists': 0, 'evGoals': 0, 'evPoints': 0, 'faceoffWinPct': 0.42857, 'gameWinningGoals': 0, 'gamesPlayed': 3, 'goals': 0, 'lastName': 'Toninato', 'otGoals': 0, 'penaltyMinutes': 0, 'playerId': 8476952, 'plusMinus': -3, 'points': 0, 'pointsPerGame': 0.0, 'positionCode': 'C', 'ppGoals': 0, 'ppPoints': 0, 'shGoals': 0, 'shPoints': 0, 'shootingPct': 0.0, 'shootsCatches': 'L', 'shots': 1, 'skaterFullName': 'Dominic Toninato', 'timeOnIcePerGame': 603.6666}, {'assists': 0, 'evGoals': 0, 'evPoints': 0, 'faceoffWinPct': None, 'gameWinningGoals': 0, 'gamesPlayed': 4, 'goals': 0, 'lastName': 'Tinordi', 'otGoals': 0, 'penaltyMinutes': 2, 'playerId': 8475797, 'plusMinus': -2, 'points': 0, 'pointsPerGame': 0.0, 'positionCode': 'D', 'ppGoals': 0, 'ppPoints': 0, 'shGoals': 0, 'shPoints': 0, 'shootingPct': 0.0, 'shootsCatches': 'L', 'shots': 3, 'skaterFullName': 'Jarred Tinordi', 'timeOnIcePerGame': 638.0}, {'assists': 0, 'evGoals': 0, 'evPoints': 0, 'faceoffWinPct': 0.8, 'gameWinningGoals': 0, 'gamesPlayed': 2, 'goals': 0, 'lastName': 'Weal', 'otGoals': 0, 'penaltyMinutes': 0, 'playerId': 8475738, 'plusMinus': 0, 'points': 0, 'pointsPerGame': 0.0, 'positionCode': 'C', 'ppGoals': 0, 'ppPoints': 0, 'shGoals': 0, 'shPoints': 0, 'shootingPct': None, 'shootsCatches': 'R', 'shots': 0, 'skaterFullName': 'Jordan Weal', 'timeOnIcePerGame': 643.5}, {'assists': 0, 'evGoals': 0, 'evPoints': 0, 'faceoffWinPct': 0.0, 'gameWinningGoals': 0, 'gamesPlayed': 5, 'goals': 0, 'lastName': 'MacEachern', 'otGoals': 0, 'penaltyMinutes': 6, 'playerId': 8476907, 'plusMinus': -2, 'points': 0, 'pointsPerGame': 0.0, 'positionCode': 'L', 'ppGoals': 0, 'ppPoints': 0, 'shGoals': 0, 'shPoints': 0, 'shootingPct': 0.0, 'shootsCatches': 'L', 'shots': 6, 'skaterFullName': 'Mackenzie MacEachern', 'timeOnIcePerGame': 406.4}, {'assists': 0, 'evGoals': 0, 'evPoints': 0, 'faceoffWinPct': None, 'gameWinningGoals': 0, 'gamesPlayed': 5, 'goals': 0, 'lastName': 'Kyrou', 'otGoals': 0, 'penaltyMinutes': 0, 'playerId': 8479385, 'plusMinus': -1, 'points': 0, 'pointsPerGame': 0.0, 'positionCode': 'C', 'ppGoals': 0, 'ppPoints': 0, 'shGoals': 0, 'shPoints': 0, 'shootingPct': 0.0, 'shootsCatches': 'R', 'shots': 5, 'skaterFullName': 'Jordan Kyrou', 'timeOnIcePerGame': 495.6}, {'assists': 0, 'evGoals': 0, 'evPoints': 0, 'faceoffWinPct': None, 'gameWinningGoals': 0, 'gamesPlayed': 2, 'goals': 0, 'lastName': 'Brown', 'otGoals': 0, 'penaltyMinutes': 0, 'playerId': 8477384, 'plusMinus': 0, 'points': 0, 'pointsPerGame': 0.0, 'positionCode': 'D', 'ppGoals': 0, 'ppPoints': 0, 'shGoals': 0, 'shPoints': 0, 'shootingPct': None, 'shootsCatches': 'R', 'shots': 0, 'skaterFullName': 'Josh Brown', 'timeOnIcePerGame': 565.0}, {'assists': 0, 'evGoals': 0, 'evPoints': 0, 'faceoffWinPct': None, 'gameWinningGoals': 0, 'gamesPlayed': 1, 'goals': 0, 'lastName': 'Bartkowski', 'otGoals': 0, 'penaltyMinutes': 0, 'playerId': 8474749, 'plusMinus': 0, 'points': 0, 'pointsPerGame': 0.0, 'positionCode': 'D', 'ppGoals': 0, 'ppPoints': 0, 'shGoals': 0, 'shPoints': 0, 'shootingPct': 0.0, 'shootsCatches': 'L', 'shots': 2, 'skaterFullName': 'Matt Bartkowski', 'timeOnIcePerGame': 599.0}, {'assists': 0, 'evGoals': 0, 'evPoints': 0, 'faceoffWinPct': None, 'gameWinningGoals': 0, 'gamesPlayed': 18, 'goals': 0, 'lastName': 'Fedun', 'otGoals': 0, 'penaltyMinutes': 6, 'playerId': 8476166, 'plusMinus': -8, 'points': 0, 'pointsPerGame': 0.0, 'positionCode': 'D', 'ppGoals': 0, 'ppPoints': 0, 'shGoals': 0, 'shPoints': 0, 'shootingPct': 0.0, 'shootsCatches': 'R', 'shots': 20, 'skaterFullName': 'Taylor Fedun', 'timeOnIcePerGame': 523.8888}, {'assists': 0, 'evGoals': 0, 'evPoints': 0, 'faceoffWinPct': None, 'gameWinningGoals': 0, 'gamesPlayed': 1, 'goals': 0, 'lastName': 'Appleton', 'otGoals': 0, 'penaltyMinutes': 0, 'playerId': 8478891, 'plusMinus': 1, 'points': 0, 'pointsPerGame': 0.0, 'positionCode': 'C', 'ppGoals': 0, 'ppPoints': 0, 'shGoals': 0, 'shPoints': 0, 'shootingPct': 0.0, 'shootsCatches': 'R', 'shots': 2, 'skaterFullName': 'Mason Appleton', 'timeOnIcePerGame': 617.0}, {'assists': 0, 'evGoals': 0, 'evPoints': 0, 'faceoffWinPct': None, 'gameWinningGoals': 0, 'gamesPlayed': 6, 'goals': 0, 'lastName': 'Hamhuis', 'otGoals': 0, 'penaltyMinutes': 0, 'playerId': 8469465, 'plusMinus': 2, 'points': 0, 'pointsPerGame': 0.0, 'positionCode': 'D', 'ppGoals': 0, 'ppPoints': 0, 'shGoals': 0, 'shPoints': 0, 'shootingPct': 0.0, 'shootsCatches': 'L', 'shots': 5, 'skaterFullName': 'Dan Hamhuis', 'timeOnIcePerGame': 809.0}, {'assists': 0, 'evGoals': 0, 'evPoints': 0, 'faceoffWinPct': None, 'gameWinningGoals': 0, 'gamesPlayed': 1, 'goals': 0, 'lastName': 'Harley', 'otGoals': 0, 'penaltyMinutes': 0, 'playerId': 8481581, 'plusMinus': 0, 'points': 0, 'pointsPerGame': 0.0, 'positionCode': 'D', 'ppGoals': 0, 'ppPoints': 0, 'shGoals': 0, 'shPoints': 0, 'shootingPct': None, 'shootsCatches': 'L', 'shots': 0, 'skaterFullName': 'Thomas Harley', 'timeOnIcePerGame': 658.0}, {'assists': 0, 'evGoals': 0, 'evPoints': 0, 'faceoffWinPct': None, 'gameWinningGoals': 0, 'gamesPlayed': 3, 'goals': 0, 'lastName': 'Di Giuseppe', 'otGoals': 0, 'penaltyMinutes': 0, 'playerId': 8476858, 'plusMinus': -3, 'points': 0, 'pointsPerGame': 0.0, 'positionCode': 'L', 'ppGoals': 0, 'ppPoints': 0, 'shGoals': 0, 'shPoints': 0, 'shootingPct': 0.0, 'shootsCatches': 'L', 'shots': 2, 'skaterFullName': 'Phillip Di Giuseppe', 'timeOnIcePerGame': 495.3333}, {'assists': 0, 'evGoals': 0, 'evPoints': 0, 'faceoffWinPct': None, 'gameWinningGoals': 0, 'gamesPlayed': 11, 'goals': 0, 'lastName': 'Moore', 'otGoals': 0, 'penaltyMinutes': 0, 'playerId': 8475186, 'plusMinus': -4, 'points': 0, 'pointsPerGame': 0.0, 'positionCode': 'D', 'ppGoals': 0, 'ppPoints': 0, 'shGoals': 0, 'shPoints': 0, 'shootingPct': 0.0, 'shootsCatches': 'L', 'shots': 9, 'skaterFullName': 'John Moore', 'timeOnIcePerGame': 853.7272}, {'assists': 0, 'evGoals': 0, 'evPoints': 0, 'faceoffWinPct': 0.5102, 'gameWinningGoals': 0, 'gamesPlayed': 4, 'goals': 0, 'lastName': 'Galchenyuk', 'otGoals': 0, 'penaltyMinutes': 4, 'playerId': 8476851, 'plusMinus': -2, 'points': 0, 'pointsPerGame': 0.0, 'positionCode': 'C', 'ppGoals': 0, 'ppPoints': 0, 'shGoals': 0, 'shPoints': 0, 'shootingPct': 0.0, 'shootsCatches': 'L', 'shots': 4, 'skaterFullName': 'Alex Galchenyuk', 'timeOnIcePerGame': 826.0}, {'assists': 0, 'evGoals': 0, 'evPoints': 0, 'faceoffWinPct': None, 'gameWinningGoals': 0, 'gamesPlayed': 3, 'goals': 0, 'lastName': 'Smith', 'otGoals': 0, 'penaltyMinutes': 4, 'playerId': 8474090, 'plusMinus': -1, 'points': 0, 'pointsPerGame': 0.0, 'positionCode': 'D', 'ppGoals': 0, 'ppPoints': 0, 'shGoals': 0, 'shPoints': 0, 'shootingPct': 0.0, 'shootsCatches': 'L', 'shots': 3, 'skaterFullName': 'Brendan Smith', 'timeOnIcePerGame': 1047.6666}, {'assists': 0, 'evGoals': 0, 'evPoints': 0, 'faceoffWinPct': None, 'gameWinningGoals': 0, 'gamesPlayed': 1, 'goals': 0, 'lastName': 'Dobson', 'otGoals': 0, 'penaltyMinutes': 0, 'playerId': 8480865, 'plusMinus': 0, 'points': 0, 'pointsPerGame': 0.0, 'positionCode': 'D', 'ppGoals': 0, 'ppPoints': 0, 'shGoals': 0, 'shPoints': 0, 'shootingPct': None, 'shootsCatches': 'R', 'shots': 0, 'skaterFullName': 'Noah Dobson', 'timeOnIcePerGame': 775.0}, {'assists': 0, 'evGoals': 0, 'evPoints': 0, 'faceoffWinPct': None, 'gameWinningGoals': 0, 'gamesPlayed': 4, 'goals': 0, 'lastName': 'DeMelo', 'otGoals': 0, 'penaltyMinutes': 2, 'playerId': 8476331, 'plusMinus': 0, 'points': 0, 'pointsPerGame': 0.0, 'positionCode': 'D', 'ppGoals': 0, 'ppPoints': 0, 'shGoals': 0, 'shPoints': 0, 'shootingPct': 0.0, 'shootsCatches': 'R', 'shots': 6, 'skaterFullName': 'Dylan DeMelo', 'timeOnIcePerGame': 1268.25}, {'assists': 0, 'evGoals': 0, 'evPoints': 0, 'faceoffWinPct': 0.75, 'gameWinningGoals': 0, 'gamesPlayed': 2, 'goals': 0, 'lastName': 'Saarela', 'otGoals': 0, 'penaltyMinutes': 0, 'playerId': 8478839, 'plusMinus': 0, 'points': 0, 'pointsPerGame': 0.0, 'positionCode': 'C', 'ppGoals': 0, 'ppPoints': 0, 'shGoals': 0, 'shPoints': 0, 'shootingPct': 0.0, 'shootsCatches': 'L', 'shots': 1, 'skaterFullName': 'Aleksi Saarela', 'timeOnIcePerGame': 658.0}, {'assists': 0, 'evGoals': 0, 'evPoints': 0, 'faceoffWinPct': None, 'gameWinningGoals': 0, 'gamesPlayed': 5, 'goals': 0, 'lastName': 'Rinaldo', 'otGoals': 0, 'penaltyMinutes': 4, 'playerId': 8474736, 'plusMinus': 0, 'points': 0, 'pointsPerGame': 0.0, 'positionCode': 'C', 'ppGoals': 0, 'ppPoints': 0, 'shGoals': 0, 'shPoints': 0, 'shootingPct': None, 'shootsCatches': 'L', 'shots': 0, 'skaterFullName': 'Zac Rinaldo', 'timeOnIcePerGame': 375.4}, {'assists': 0, 'evGoals': 0, 'evPoints': 0, 'faceoffWinPct': None, 'gameWinningGoals': 0, 'gamesPlayed': 4, 'goals': 0, 'lastName': 'Caamano', 'otGoals': 0, 'penaltyMinutes': 0, 'playerId': 8479381, 'plusMinus': -4, 'points': 0, 'pointsPerGame': 0.0, 'positionCode': 'R', 'ppGoals': 0, 'ppPoints': 0, 'shGoals': 0, 'shPoints': 0, 'shootingPct': 0.0, 'shootsCatches': 'L', 'shots': 3, 'skaterFullName': 'Nick Caamano', 'timeOnIcePerGame': 744.5}, {'assists': 0, 'evGoals': 0, 'evPoints': 0, 'faceoffWinPct': 0.0, 'gameWinningGoals': 0, 'gamesPlayed': 5, 'goals': 0, 'lastName': 'Andrighetto', 'otGoals': 0, 'penaltyMinutes': 2, 'playerId': 8477413, 'plusMinus': -2, 'points': 0, 'pointsPerGame': 0.0, 'positionCode': 'R', 'ppGoals': 0, 'ppPoints': 0, 'shGoals': 0, 'shPoints': 0, 'shootingPct': 0.0, 'shootsCatches': 'L', 'shots': 7, 'skaterFullName': 'Sven Andrighetto', 'timeOnIcePerGame': 477.4}, {'assists': 0, 'evGoals': 0, 'evPoints': 0, 'faceoffWinPct': 1.0, 'gameWinningGoals': 0, 'gamesPlayed': 3, 'goals': 0, 'lastName': 'Smith-Pelly', 'otGoals': 0, 'penaltyMinutes': 0, 'playerId': 8475758, 'plusMinus': 0, 'points': 0, 'pointsPerGame': 0.0, 'positionCode': 'R', 'ppGoals': 0, 'ppPoints': 0, 'shGoals': 0, 'shPoints': 0, 'shootingPct': 0.0, 'shootsCatches': 'R', 'shots': 2, 'skaterFullName': 'Devante Smith-Pelly', 'timeOnIcePerGame': 587.3333}, {'assists': 0, 'evGoals': 0, 'evPoints': 0, 'faceoffWinPct': 0.0, 'gameWinningGoals': 0, 'gamesPlayed': 6, 'goals': 0, 'lastName': 'MacEwen', 'otGoals': 0, 'penaltyMinutes': 9, 'playerId': 8479772, 'plusMinus': 1, 'points': 0, 'pointsPerGame': 0.0, 'positionCode': 'C', 'ppGoals': 0, 'ppPoints': 0, 'shGoals': 0, 'shPoints': 0, 'shootingPct': 0.0, 'shootsCatches': 'R', 'shots': 7, 'skaterFullName': 'Zack MacEwen', 'timeOnIcePerGame': 455.1666}, {'assists': 0, 'evGoals': 0, 'evPoints': 0, 'faceoffWinPct': 0.33333, 'gameWinningGoals': 0, 'gamesPlayed': 3, 'goals': 0, 'lastName': 'Buchnevich', 'otGoals': 0, 'penaltyMinutes': 6, 'playerId': 8477402, 'plusMinus': -1, 'points': 0, 'pointsPerGame': 0.0, 'positionCode': 'R', 'ppGoals': 0, 'ppPoints': 0, 'shGoals': 0, 'shPoints': 0, 'shootingPct': 0.0, 'shootsCatches': 'L', 'shots': 5, 'skaterFullName': 'Pavel Buchnevich', 'timeOnIcePerGame': 1086.3333}, {'assists': 0, 'evGoals': 0, 'evPoints': 0, 'faceoffWinPct': None, 'gameWinningGoals': 0, 'gamesPlayed': 2, 'goals': 0, 'lastName': 'Larsson', 'otGoals': 0, 'penaltyMinutes': 0, 'playerId': 8476457, 'plusMinus': -1, 'points': 0, 'pointsPerGame': 0.0, 'positionCode': 'D', 'ppGoals': 0, 'ppPoints': 0, 'shGoals': 0, 'shPoints': 0, 'shootingPct': None, 'shootsCatches': 'R', 'shots': 0, 'skaterFullName': 'Adam Larsson', 'timeOnIcePerGame': 1154.5}, {'assists': 0, 'evGoals': 0, 'evPoints': 0, 'faceoffWinPct': None, 'gameWinningGoals': 0, 'gamesPlayed': 3, 'goals': 0, 'lastName': 'Kakko', 'otGoals': 0, 'penaltyMinutes': 0, 'playerId': 8481554, 'plusMinus': -1, 'points': 0, 'pointsPerGame': 0.0, 'positionCode': 'R', 'ppGoals': 0, 'ppPoints': 0, 'shGoals': 0, 'shPoints': 0, 'shootingPct': 0.0, 'shootsCatches': 'L', 'shots': 6, 'skaterFullName': 'Kaapo Kakko', 'timeOnIcePerGame': 952.6666}, {'assists': 0, 'evGoals': 0, 'evPoints': 0, 'faceoffWinPct': None, 'gameWinningGoals': 0, 'gamesPlayed': 5, 'goals': 0, 'lastName': 'Clifford', 'otGoals': 0, 'penaltyMinutes': 0, 'playerId': 8475160, 'plusMinus': 0, 'points': 0, 'pointsPerGame': 0.0, 'positionCode': 'L', 'ppGoals': 0, 'ppPoints': 0, 'shGoals': 0, 'shPoints': 0, 'shootingPct': 0.0, 'shootsCatches': 'L', 'shots': 4, 'skaterFullName': 'Kyle Clifford', 'timeOnIcePerGame': 493.0}, {'assists': 0, 'evGoals': 0, 'evPoints': 0, 'faceoffWinPct': 1.0, 'gameWinningGoals': 0, 'gamesPlayed': 2, 'goals': 0, 'lastName': 'Gerbe', 'otGoals': 0, 'penaltyMinutes': 0, 'playerId': 8471804, 'plusMinus': 0, 'points': 0, 'pointsPerGame': 0.0, 'positionCode': 'C', 'ppGoals': 0, 'ppPoints': 0, 'shGoals': 0, 'shPoints': 0, 'shootingPct': 0.0, 'shootsCatches': 'L', 'shots': 2, 'skaterFullName': 'Nathan Gerbe', 'timeOnIcePerGame': 753.5}, {'assists': 0, 'evGoals': 0, 'evPoints': 0, 'faceoffWinPct': None, 'gameWinningGoals': 0, 'gamesPlayed': 15, 'goals': 0, 'lastName': 'Vrana', 'otGoals': 0, 'penaltyMinutes': 8, 'playerId': 8477944, 'plusMinus': -8, 'points': 0, 'pointsPerGame': 0.0, 'positionCode': 'L', 'ppGoals': 0, 'ppPoints': 0, 'shGoals': 0, 'shPoints': 0, 'shootingPct': 0.0, 'shootsCatches': 'L', 'shots': 25, 'skaterFullName': 'Jakub Vrana', 'timeOnIcePerGame': 861.4}, {'assists': 0, 'evGoals': 0, 'evPoints': 0, 'faceoffWinPct': None, 'gameWinningGoals': 0, 'gamesPlayed': 1, 'goals': 0, 'lastName': 'Heatherington', 'otGoals': 0, 'penaltyMinutes': 0, 'playerId': 8477471, 'plusMinus': 0, 'points': 0, 'pointsPerGame': 0.0, 'positionCode': 'D', 'ppGoals': 0, 'ppPoints': 0, 'shGoals': 0, 'shPoints': 0, 'shootingPct': None, 'shootsCatches': 'L', 'shots': 0, 'skaterFullName': 'Dillon Heatherington', 'timeOnIcePerGame': 476.0}, {'assists': 0, 'evGoals': 0, 'evPoints': 0, 'faceoffWinPct': None, 'gameWinningGoals': 0, 'gamesPlayed': 1, 'goals': 0, 'lastName': 'Hannikainen', 'otGoals': 0, 'penaltyMinutes': 0, 'playerId': 8478541, 'plusMinus': -1, 'points': 0, 'pointsPerGame': 0.0, 'positionCode': 'L', 'ppGoals': 0, 'ppPoints': 0, 'shGoals': 0, 'shPoints': 0, 'shootingPct': None, 'shootsCatches': 'L', 'shots': 0, 'skaterFullName': 'Markus Hannikainen', 'timeOnIcePerGame': 240.0}, {'assists': 0, 'evGoals': 0, 'evPoints': 0, 'faceoffWinPct': 0.33333, 'gameWinningGoals': 0, 'gamesPlayed': 2, 'goals': 0, 'lastName': 'Shore', 'otGoals': 0, 'penaltyMinutes': 0, 'playerId': 8476913, 'plusMinus': -1, 'points': 0, 'pointsPerGame': 0.0, 'positionCode': 'C', 'ppGoals': 0, 'ppPoints': 0, 'shGoals': 0, 'shPoints': 0, 'shootingPct': 0.0, 'shootsCatches': 'L', 'shots': 1, 'skaterFullName': 'Devin Shore', 'timeOnIcePerGame': 392.0}, {'assists': 0, 'evGoals': 0, 'evPoints': 0, 'faceoffWinPct': None, 'gameWinningGoals': 0, 'gamesPlayed': 2, 'goals': 0, 'lastName': 'Sceviour', 'otGoals': 0, 'penaltyMinutes': 0, 'playerId': 8474098, 'plusMinus': -1, 'points': 0, 'pointsPerGame': 0.0, 'positionCode': 'R', 'ppGoals': 0, 'ppPoints': 0, 'shGoals': 0, 'shPoints': 0, 'shootingPct': 0.0, 'shootsCatches': 'R', 'shots': 1, 'skaterFullName': 'Colton Sceviour', 'timeOnIcePerGame': 641.0}, {'assists': 0, 'evGoals': 0, 'evPoints': 0, 'faceoffWinPct': 0.33333, 'gameWinningGoals': 0, 'gamesPlayed': 13, 'goals': 0, 'lastName': 'Hathaway', 'otGoals': 0, 'penaltyMinutes': 26, 'playerId': 8477903, 'plusMinus': -3, 'points': 0, 'pointsPerGame': 0.0, 'positionCode': 'R', 'ppGoals': 0, 'ppPoints': 0, 'shGoals': 0, 'shPoints': 0, 'shootingPct': 0.0, 'shootsCatches': 'R', 'shots': 12, 'skaterFullName': 'Garnet Hathaway', 'timeOnIcePerGame': 648.923}, {'assists': 0, 'evGoals': 0, 'evPoints': 0, 'faceoffWinPct': 0.50847, 'gameWinningGoals': 0, 'gamesPlayed': 8, 'goals': 0, 'lastName': 'Lindholm', 'otGoals': 0, 'penaltyMinutes': 2, 'playerId': 8480944, 'plusMinus': -2, 'points': 0, 'pointsPerGame': 0.0, 'positionCode': 'C', 'ppGoals': 0, 'ppPoints': 0, 'shGoals': 0, 'shPoints': 0, 'shootingPct': 0.0, 'shootsCatches': 'L', 'shots': 8, 'skaterFullName': 'Par Lindholm', 'timeOnIcePerGame': 741.625}, {'assists': 0, 'evGoals': 0, 'evPoints': 0, 'faceoffWinPct': None, 'gameWinningGoals': 0, 'gamesPlayed': 4, 'goals': 0, 'lastName': 'Pysyk', 'otGoals': 0, 'penaltyMinutes': 0, 'playerId': 8475796, 'plusMinus': -1, 'points': 0, 'pointsPerGame': 0.0, 'positionCode': 'D', 'ppGoals': 0, 'ppPoints': 0, 'shGoals': 0, 'shPoints': 0, 'shootingPct': 0.0, 'shootsCatches': 'R', 'shots': 8, 'skaterFullName': 'Mark Pysyk', 'timeOnIcePerGame': 793.5}, {'assists': 0, 'evGoals': 0, 'evPoints': 0, 'faceoffWinPct': None, 'gameWinningGoals': 0, 'gamesPlayed': 8, 'goals': 0, 'lastName': 'Boqvist', 'otGoals': 0, 'penaltyMinutes': 4, 'playerId': 8480871, 'plusMinus': -5, 'points': 0, 'pointsPerGame': 0.0, 'positionCode': 'D', 'ppGoals': 0, 'ppPoints': 0, 'shGoals': 0, 'shPoints': 0, 'shootingPct': 0.0, 'shootsCatches': 'R', 'shots': 7, 'skaterFullName': 'Adam Boqvist', 'timeOnIcePerGame': 809.875}, {'assists': 0, 'evGoals': 0, 'evPoints': 0, 'faceoffWinPct': 0.0, 'gameWinningGoals': 0, 'gamesPlayed': 2, 'goals': 0, 'lastName': 'Hunt', 'otGoals': 0, 'penaltyMinutes': 0, 'playerId': 8478211, 'plusMinus': 1, 'points': 0, 'pointsPerGame': 0.0, 'positionCode': 'L', 'ppGoals': 0, 'ppPoints': 0, 'shGoals': 0, 'shPoints': 0, 'shootingPct': 0.0, 'shootsCatches': 'L', 'shots': 1, 'skaterFullName': 'Dryden Hunt', 'timeOnIcePerGame': 531.0}, {'assists': 0, 'evGoals': 0, 'evPoints': 0, 'faceoffWinPct': 1.0, 'gameWinningGoals': 0, 'gamesPlayed': 3, 'goals': 0, 'lastName': 'Shaw', 'otGoals': 0, 'penaltyMinutes': 0, 'playerId': 8476400, 'plusMinus': -1, 'points': 0, 'pointsPerGame': 0.0, 'positionCode': 'R', 'ppGoals': 0, 'ppPoints': 0, 'shGoals': 0, 'shPoints': 0, 'shootingPct': 0.0, 'shootsCatches': 'R', 'shots': 4, 'skaterFullName': 'Logan Shaw', 'timeOnIcePerGame': 380.6666}, {'assists': 0, 'evGoals': 0, 'evPoints': 0, 'faceoffWinPct': None, 'gameWinningGoals': 0, 'gamesPlayed': 1, 'goals': 0, 'lastName': 'Robinson', 'otGoals': 0, 'penaltyMinutes': 0, 'playerId': 8477210, 'plusMinus': 0, 'points': 0, 'pointsPerGame': 0.0, 'positionCode': 'R', 'ppGoals': 0, 'ppPoints': 0, 'shGoals': 0, 'shPoints': 0, 'shootingPct': None, 'shootsCatches': 'R', 'shots': 0, 'skaterFullName': 'Buddy Robinson', 'timeOnIcePerGame': 645.0}, {'assists': 0, 'evGoals': 0, 'evPoints': 0, 'faceoffWinPct': None, 'gameWinningGoals': 0, 'gamesPlayed': 4, 'goals': 0, 'lastName': 'Dal Colle', 'otGoals': 0, 'penaltyMinutes': 0, 'playerId': 8477936, 'plusMinus': -2, 'points': 0, 'pointsPerGame': 0.0, 'positionCode': 'L', 'ppGoals': 0, 'ppPoints': 0, 'shGoals': 0, 'shPoints': 0, 'shootingPct': 0.0, 'shootsCatches': 'L', 'shots': 4, 'skaterFullName': 'Michael Dal Colle', 'timeOnIcePerGame': 586.25}, {'assists': 0, 'evGoals': 0, 'evPoints': 0, 'faceoffWinPct': None, 'gameWinningGoals': 0, 'gamesPlayed': 1, 'goals': 0, 'lastName': 'Ritchie', 'otGoals': 0, 'penaltyMinutes': 2, 'playerId': 8476439, 'plusMinus': 0, 'points': 0, 'pointsPerGame': 0.0, 'positionCode': 'R', 'ppGoals': 0, 'ppPoints': 0, 'shGoals': 0, 'shPoints': 0, 'shootingPct': 0.0, 'shootsCatches': 'R', 'shots': 2, 'skaterFullName': 'Brett Ritchie', 'timeOnIcePerGame': 472.0}, {'assists': 0, 'evGoals': 0, 'evPoints': 0, 'faceoffWinPct': None, 'gameWinningGoals': 0, 'gamesPlayed': 3, 'goals': 0, 'lastName': 'Djoos', 'otGoals': 0, 'penaltyMinutes': 0, 'playerId': 8477043, 'plusMinus': -3, 'points': 0, 'pointsPerGame': 0.0, 'positionCode': 'D', 'ppGoals': 0, 'ppPoints': 0, 'shGoals': 0, 'shPoints': 0, 'shootingPct': None, 'shootsCatches': 'L', 'shots': 0, 'skaterFullName': 'Christian Djoos', 'timeOnIcePerGame': 444.0}, {'assists': 0, 'evGoals': 0, 'evPoints': 0, 'faceoffWinPct': 0.33333, 'gameWinningGoals': 0, 'gamesPlayed': 4, 'goals': 0, 'lastName': 'Greenway', 'otGoals': 0, 'penaltyMinutes': 8, 'playerId': 8478413, 'plusMinus': -1, 'points': 0, 'pointsPerGame': 0.0, 'positionCode': 'L', 'ppGoals': 0, 'ppPoints': 0, 'shGoals': 0, 'shPoints': 0, 'shootingPct': 0.0, 'shootsCatches': 'L', 'shots': 6, 'skaterFullName': 'Jordan Greenway', 'timeOnIcePerGame': 810.0}, {'assists': 0, 'evGoals': 0, 'evPoints': 0, 'faceoffWinPct': 0.0, 'gameWinningGoals': 0, 'gamesPlayed': 5, 'goals': 0, 'lastName': 'Frolik', 'otGoals': 0, 'penaltyMinutes': 2, 'playerId': 8473564, 'plusMinus': -1, 'points': 0, 'pointsPerGame': 0.0, 'positionCode': 'R', 'ppGoals': 0, 'ppPoints': 0, 'shGoals': 0, 'shPoints': 0, 'shootingPct': 0.0, 'shootsCatches': 'L', 'shots': 7, 'skaterFullName': 'Michael Frolik', 'timeOnIcePerGame': 823.6}, {'assists': 0, 'evGoals': 0, 'evPoints': 0, 'faceoffWinPct': None, 'gameWinningGoals': 0, 'gamesPlayed': 1, 'goals': 0, 'lastName': 'Juolevi', 'otGoals': 0, 'penaltyMinutes': 0, 'playerId': 8479355, 'plusMinus': 0, 'points': 0, 'pointsPerGame': 0.0, 'positionCode': 'D', 'ppGoals': 0, 'ppPoints': 0, 'shGoals': 0, 'shPoints': 0, 'shootingPct': None, 'shootsCatches': 'L', 'shots': 0, 'skaterFullName': 'Olli Juolevi', 'timeOnIcePerGame': 376.0}, {'assists': 0, 'evGoals': 0, 'evPoints': 0, 'faceoffWinPct': None, 'gameWinningGoals': 0, 'gamesPlayed': 4, 'goals': 0, 'lastName': 'Hickey', 'otGoals': 0, 'penaltyMinutes': 0, 'playerId': 8474066, 'plusMinus': -3, 'points': 0, 'pointsPerGame': 0.0, 'positionCode': 'D', 'ppGoals': 0, 'ppPoints': 0, 'shGoals': 0, 'shPoints': 0, 'shootingPct': 0.0, 'shootsCatches': 'L', 'shots': 2, 'skaterFullName': 'Thomas Hickey', 'timeOnIcePerGame': 1100.25}, {'assists': 0, 'evGoals': 0, 'evPoints': 0, 'faceoffWinPct': None, 'gameWinningGoals': 0, 'gamesPlayed': 2, 'goals': 0, 'lastName': 'Vatrano', 'otGoals': 0, 'penaltyMinutes': 2, 'playerId': 8478366, 'plusMinus': -2, 'points': 0, 'pointsPerGame': 0.0, 'positionCode': 'C', 'ppGoals': 0, 'ppPoints': 0, 'shGoals': 0, 'shPoints': 0, 'shootingPct': 0.0, 'shootsCatches': 'L', 'shots': 3, 'skaterFullName': 'Frank Vatrano', 'timeOnIcePerGame': 597.0}, {'assists': 0, 'evGoals': 0, 'evPoints': 0, 'faceoffWinPct': None, 'gameWinningGoals': 0, 'gamesPlayed': 4, 'goals': 0, 'lastName': 'Johns', 'otGoals': 0, 'penaltyMinutes': 0, 'playerId': 8475730, 'plusMinus': -4, 'points': 0, 'pointsPerGame': 0.0, 'positionCode': 'D', 'ppGoals': 0, 'ppPoints': 0, 'shGoals': 0, 'shPoints': 0, 'shootingPct': 0.0, 'shootsCatches': 'R', 'shots': 8, 'skaterFullName': 'Stephen Johns', 'timeOnIcePerGame': 894.5}, {'assists': 0, 'evGoals': 0, 'evPoints': 0, 'faceoffWinPct': None, 'gameWinningGoals': 0, 'gamesPlayed': 1, 'goals': 0, 'lastName': 'Lemieux', 'otGoals': 0, 'penaltyMinutes': 0, 'playerId': 8477962, 'plusMinus': 0, 'points': 0, 'pointsPerGame': 0.0, 'positionCode': 'L', 'ppGoals': 0, 'ppPoints': 0, 'shGoals': 0, 'shPoints': 0, 'shootingPct': 0.0, 'shootsCatches': 'L', 'shots': 5, 'skaterFullName': 'Brendan Lemieux', 'timeOnIcePerGame': 848.0}, {'assists': 0, 'evGoals': 0, 'evPoints': 0, 'faceoffWinPct': 0.5238, 'gameWinningGoals': 0, 'gamesPlayed': 3, 'goals': 0, 'lastName': 'Howden', 'otGoals': 0, 'penaltyMinutes': 4, 'playerId': 8479353, 'plusMinus': -3, 'points': 0, 'pointsPerGame': 0.0, 'positionCode': 'C', 'ppGoals': 0, 'ppPoints': 0, 'shGoals': 0, 'shPoints': 0, 'shootingPct': 0.0, 'shootsCatches': 'L', 'shots': 2, 'skaterFullName': 'Brett Howden', 'timeOnIcePerGame': 936.0}, {'assists': 0, 'evGoals': 0, 'evPoints': 0, 'faceoffWinPct': None, 'gameWinningGoals': 0, 'gamesPlayed': 3, 'goals': 0, 'lastName': 'Gauthier', 'otGoals': 0, 'penaltyMinutes': 0, 'playerId': 8479328, 'plusMinus': -1, 'points': 0, 'pointsPerGame': 0.0, 'positionCode': 'R', 'ppGoals': 0, 'ppPoints': 0, 'shGoals': 0, 'shPoints': 0, 'shootingPct': 0.0, 'shootsCatches': 'R', 'shots': 2, 'skaterFullName': 'Julien Gauthier', 'timeOnIcePerGame': 438.6666}, {'assists': 0, 'evGoals': 0, 'evPoints': 0, 'faceoffWinPct': 0.0, 'gameWinningGoals': 0, 'gamesPlayed': 2, 'goals': 0, 'lastName': 'Lindblom', 'otGoals': 0, 'penaltyMinutes': 0, 'playerId': 8478067, 'plusMinus': -1, 'points': 0, 'pointsPerGame': 0.0, 'positionCode': 'L', 'ppGoals': 0, 'ppPoints': 0, 'shGoals': 0, 'shPoints': 0, 'shootingPct': None, 'shootsCatches': 'L', 'shots': 0, 'skaterFullName': 'Oskar Lindblom', 'timeOnIcePerGame': 1026.0}, {'assists': 0, 'evGoals': 0, 'evPoints': 0, 'faceoffWinPct': None, 'gameWinningGoals': 0, 'gamesPlayed': 1, 'goals': 0, 'lastName': 'Keeper', 'otGoals': 0, 'penaltyMinutes': 0, 'playerId': 8481442, 'plusMinus': -1, 'points': 0, 'pointsPerGame': 0.0, 'positionCode': 'D', 'ppGoals': 0, 'ppPoints': 0, 'shGoals': 0, 'shPoints': 0, 'shootingPct': None, 'shootsCatches': 'R', 'shots': 0, 'skaterFullName': 'Brady Keeper', 'timeOnIcePerGame': 793.0}, {'assists': 0, 'evGoals': 0, 'evPoints': 0, 'faceoffWinPct': None, 'gameWinningGoals': 0, 'gamesPlayed': 4, 'goals': 0, 'lastName': 'Poolman', 'otGoals': 0, 'penaltyMinutes': 2, 'playerId': 8477359, 'plusMinus': 0, 'points': 0, 'pointsPerGame': 0.0, 'positionCode': 'D', 'ppGoals': 0, 'ppPoints': 0, 'shGoals': 0, 'shPoints': 0, 'shootingPct': 0.0, 'shootsCatches': 'R', 'shots': 2, 'skaterFullName': 'Tucker Poolman', 'timeOnIcePerGame': 848.75}, {'assists': 0, 'evGoals': 0, 'evPoints': 0, 'faceoffWinPct': None, 'gameWinningGoals': 0, 'gamesPlayed': 2, 'goals': 0, 'lastName': 'Jones', 'otGoals': 0, 'penaltyMinutes': 0, 'playerId': 8478452, 'plusMinus': 1, 'points': 0, 'pointsPerGame': 0.0, 'positionCode': 'D', 'ppGoals': 0, 'ppPoints': 0, 'shGoals': 0, 'shPoints': 0, 'shootingPct': 0.0, 'shootsCatches': 'L', 'shots': 2, 'skaterFullName': 'Caleb Jones', 'timeOnIcePerGame': 712.5}, {'assists': 0, 'evGoals': 0, 'evPoints': 0, 'faceoffWinPct': None, 'gameWinningGoals': 0, 'gamesPlayed': 9, 'goals': 0, 'lastName': 'Goligoski', 'otGoals': 0, 'penaltyMinutes': 2, 'playerId': 8471274, 'plusMinus': -5, 'points': 0, 'pointsPerGame': 0.0, 'positionCode': 'D', 'ppGoals': 0, 'ppPoints': 0, 'shGoals': 0, 'shPoints': 0, 'shootingPct': 0.0, 'shootsCatches': 'L', 'shots': 7, 'skaterFullName': 'Alex Goligoski', 'timeOnIcePerGame': 1310.0}, {'assists': 0, 'evGoals': 0, 'evPoints': 0, 'faceoffWinPct': 1.0, 'gameWinningGoals': 0, 'gamesPlayed': 11, 'goals': 0, 'lastName': 'Haley', 'otGoals': 0, 'penaltyMinutes': 18, 'playerId': 8474230, 'plusMinus': -1, 'points': 0, 'pointsPerGame': 0.0, 'positionCode': 'L', 'ppGoals': 0, 'ppPoints': 0, 'shGoals': 0, 'shPoints': 0, 'shootingPct': 0.0, 'shootsCatches': 'L', 'shots': 6, 'skaterFullName': 'Micheal Haley', 'timeOnIcePerGame': 415.0909}, {'assists': 0, 'evGoals': 0, 'evPoints': 0, 'faceoffWinPct': None, 'gameWinningGoals': 0, 'gamesPlayed': 1, 'goals': 0, 'lastName': 'Dries', 'otGoals': 0, 'penaltyMinutes': 0, 'playerId': 8480326, 'plusMinus': 0, 'points': 0, 'pointsPerGame': 0.0, 'positionCode': 'C', 'ppGoals': 0, 'ppPoints': 0, 'shGoals': 0, 'shPoints': 0, 'shootingPct': 0.0, 'shootsCatches': 'L', 'shots': 2, 'skaterFullName': 'Sheldon Dries', 'timeOnIcePerGame': 393.0}, {'assists': 0, 'evGoals': 0, 'evPoints': 0, 'faceoffWinPct': None, 'gameWinningGoals': 0, 'gamesPlayed': 4, 'goals': 0, 'lastName': 'Bear', 'otGoals': 0, 'penaltyMinutes': 0, 'playerId': 8478451, 'plusMinus': -4, 'points': 0, 'pointsPerGame': 0.0, 'positionCode': 'D', 'ppGoals': 0, 'ppPoints': 0, 'shGoals': 0, 'shPoints': 0, 'shootingPct': 0.0, 'shootsCatches': 'R', 'shots': 3, 'skaterFullName': 'Ethan Bear', 'timeOnIcePerGame': 1356.75}, {'assists': 0, 'evGoals': 0, 'evPoints': 0, 'faceoffWinPct': None, 'gameWinningGoals': 0, 'gamesPlayed': 1, 'goals': 0, 'lastName': 'Carlsson', 'otGoals': 0, 'penaltyMinutes': 0, 'playerId': 8479523, 'plusMinus': -2, 'points': 0, 'pointsPerGame': 0.0, 'positionCode': 'D', 'ppGoals': 0, 'ppPoints': 0, 'shGoals': 0, 'shPoints': 0, 'shootingPct': 0.0, 'shootsCatches': 'L', 'shots': 1, 'skaterFullName': 'Lucas Carlsson', 'timeOnIcePerGame': 633.0}, {'assists': 0, 'evGoals': 0, 'evPoints': 0, 'faceoffWinPct': None, 'gameWinningGoals': 0, 'gamesPlayed': 1, 'goals': 0, 'lastName': 'Fast', 'otGoals': 0, 'penaltyMinutes': 0, 'playerId': 8475855, 'plusMinus': -1, 'points': 0, 'pointsPerGame': 0.0, 'positionCode': 'R', 'ppGoals': 0, 'ppPoints': 0, 'shGoals': 0, 'shPoints': 0, 'shootingPct': None, 'shootsCatches': 'R', 'shots': 0, 'skaterFullName': 'Jesper Fast', 'timeOnIcePerGame': 64.0}]\n",
     "output_type": "stream"
    },
    {
     "output_type": "execute_result",
     "execution_count": 7,
     "data": {
      "application/vnd.deepnote.dataframe.v2+json": {
       "row_count": 583,
       "column_count": 24,
       "columns": [
        {
         "name": "assists",
         "dtype": "int64",
         "stats": {
          "unique_count": 25,
          "nan_count": 0,
          "min": "0",
          "max": "29",
          "histogram": [
           {
            "bin_start": 0,
            "bin_end": 2.9,
            "count": 336
           },
           {
            "bin_start": 2.9,
            "bin_end": 5.8,
            "count": 121
           },
           {
            "bin_start": 5.8,
            "bin_end": 8.7,
            "count": 63
           },
           {
            "bin_start": 8.7,
            "bin_end": 11.6,
            "count": 28
           },
           {
            "bin_start": 11.6,
            "bin_end": 14.5,
            "count": 13
           },
           {
            "bin_start": 14.5,
            "bin_end": 17.4,
            "count": 7
           },
           {
            "bin_start": 17.4,
            "bin_end": 20.3,
            "count": 7
           },
           {
            "bin_start": 20.3,
            "bin_end": 23.2,
            "count": 6
           },
           {
            "bin_start": 23.2,
            "bin_end": 26.099999999999998,
            "count": 1
           },
           {
            "bin_start": 26.099999999999998,
            "bin_end": 29,
            "count": 1
           }
          ]
         }
        },
        {
         "name": "evGoals",
         "dtype": "int64",
         "stats": {
          "unique_count": 14,
          "nan_count": 0,
          "min": "0",
          "max": "14",
          "histogram": [
           {
            "bin_start": 0,
            "bin_end": 1.4,
            "count": 376
           },
           {
            "bin_start": 1.4,
            "bin_end": 2.8,
            "count": 84
           },
           {
            "bin_start": 2.8,
            "bin_end": 4.199999999999999,
            "count": 72
           },
           {
            "bin_start": 4.199999999999999,
            "bin_end": 5.6,
            "count": 15
           },
           {
            "bin_start": 5.6,
            "bin_end": 7,
            "count": 11
           },
           {
            "bin_start": 7,
            "bin_end": 8.399999999999999,
            "count": 11
           },
           {
            "bin_start": 8.399999999999999,
            "bin_end": 9.799999999999999,
            "count": 6
           },
           {
            "bin_start": 9.799999999999999,
            "bin_end": 11.2,
            "count": 6
           },
           {
            "bin_start": 11.2,
            "bin_end": 12.6,
            "count": 1
           },
           {
            "bin_start": 12.6,
            "bin_end": 14,
            "count": 1
           }
          ]
         }
        },
        {
         "name": "evPoints",
         "dtype": "int64",
         "stats": {
          "unique_count": 26,
          "nan_count": 0,
          "min": "0",
          "max": "26",
          "histogram": [
           {
            "bin_start": 0,
            "bin_end": 2.6,
            "count": 293
           },
           {
            "bin_start": 2.6,
            "bin_end": 5.2,
            "count": 145
           },
           {
            "bin_start": 5.2,
            "bin_end": 7.800000000000001,
            "count": 47
           },
           {
            "bin_start": 7.800000000000001,
            "bin_end": 10.4,
            "count": 43
           },
           {
            "bin_start": 10.4,
            "bin_end": 13,
            "count": 18
           },
           {
            "bin_start": 13,
            "bin_end": 15.600000000000001,
            "count": 14
           },
           {
            "bin_start": 15.600000000000001,
            "bin_end": 18.2,
            "count": 10
           },
           {
            "bin_start": 18.2,
            "bin_end": 20.8,
            "count": 4
           },
           {
            "bin_start": 20.8,
            "bin_end": 23.400000000000002,
            "count": 7
           },
           {
            "bin_start": 23.400000000000002,
            "bin_end": 26,
            "count": 2
           }
          ]
         }
        },
        {
         "name": "faceoffWinPct",
         "dtype": "float64",
         "stats": {
          "unique_count": 168,
          "nan_count": 265,
          "min": "0.0",
          "max": "1.0",
          "histogram": [
           {
            "bin_start": 0,
            "bin_end": 0.1,
            "count": 41
           },
           {
            "bin_start": 0.1,
            "bin_end": 0.2,
            "count": 6
           },
           {
            "bin_start": 0.2,
            "bin_end": 0.30000000000000004,
            "count": 17
           },
           {
            "bin_start": 0.30000000000000004,
            "bin_end": 0.4,
            "count": 35
           },
           {
            "bin_start": 0.4,
            "bin_end": 0.5,
            "count": 75
           },
           {
            "bin_start": 0.5,
            "bin_end": 0.6000000000000001,
            "count": 107
           },
           {
            "bin_start": 0.6000000000000001,
            "bin_end": 0.7000000000000001,
            "count": 10
           },
           {
            "bin_start": 0.7000000000000001,
            "bin_end": 0.8,
            "count": 6
           },
           {
            "bin_start": 0.8,
            "bin_end": 0.9,
            "count": 1
           },
           {
            "bin_start": 0.9,
            "bin_end": 1,
            "count": 20
           }
          ]
         }
        },
        {
         "name": "gameWinningGoals",
         "dtype": "int64",
         "stats": {
          "unique_count": 6,
          "nan_count": 0,
          "min": "0",
          "max": "5",
          "histogram": [
           {
            "bin_start": 0,
            "bin_end": 0.5,
            "count": 441
           },
           {
            "bin_start": 0.5,
            "bin_end": 1,
            "count": 0
           },
           {
            "bin_start": 1,
            "bin_end": 1.5,
            "count": 94
           },
           {
            "bin_start": 1.5,
            "bin_end": 2,
            "count": 0
           },
           {
            "bin_start": 2,
            "bin_end": 2.5,
            "count": 31
           },
           {
            "bin_start": 2.5,
            "bin_end": 3,
            "count": 0
           },
           {
            "bin_start": 3,
            "bin_end": 3.5,
            "count": 12
           },
           {
            "bin_start": 3.5,
            "bin_end": 4,
            "count": 0
           },
           {
            "bin_start": 4,
            "bin_end": 4.5,
            "count": 2
           },
           {
            "bin_start": 4.5,
            "bin_end": 5,
            "count": 3
           }
          ]
         }
        },
        {
         "name": "gamesPlayed",
         "dtype": "int64",
         "stats": {
          "unique_count": 42,
          "nan_count": 0,
          "min": "1",
          "max": "51",
          "histogram": [
           {
            "bin_start": 1,
            "bin_end": 6,
            "count": 164
           },
           {
            "bin_start": 6,
            "bin_end": 11,
            "count": 149
           },
           {
            "bin_start": 11,
            "bin_end": 16,
            "count": 73
           },
           {
            "bin_start": 16,
            "bin_end": 21,
            "count": 66
           },
           {
            "bin_start": 21,
            "bin_end": 26,
            "count": 35
           },
           {
            "bin_start": 26,
            "bin_end": 31,
            "count": 59
           },
           {
            "bin_start": 31,
            "bin_end": 36,
            "count": 13
           },
           {
            "bin_start": 36,
            "bin_end": 41,
            "count": 22
           },
           {
            "bin_start": 41,
            "bin_end": 46,
            "count": 1
           },
           {
            "bin_start": 46,
            "bin_end": 51,
            "count": 1
           }
          ]
         }
        },
        {
         "name": "goals",
         "dtype": "int64",
         "stats": {
          "unique_count": 18,
          "nan_count": 0,
          "min": "0",
          "max": "17",
          "histogram": [
           {
            "bin_start": 0,
            "bin_end": 1.7,
            "count": 345
           },
           {
            "bin_start": 1.7,
            "bin_end": 3.4,
            "count": 118
           },
           {
            "bin_start": 3.4,
            "bin_end": 5.1,
            "count": 60
           },
           {
            "bin_start": 5.1,
            "bin_end": 6.8,
            "count": 13
           },
           {
            "bin_start": 6.8,
            "bin_end": 8.5,
            "count": 19
           },
           {
            "bin_start": 8.5,
            "bin_end": 10.2,
            "count": 11
           },
           {
            "bin_start": 10.2,
            "bin_end": 11.9,
            "count": 3
           },
           {
            "bin_start": 11.9,
            "bin_end": 13.6,
            "count": 8
           },
           {
            "bin_start": 13.6,
            "bin_end": 15.299999999999999,
            "count": 3
           },
           {
            "bin_start": 15.299999999999999,
            "bin_end": 17,
            "count": 3
           }
          ]
         }
        },
        {
         "name": "lastName",
         "dtype": "object",
         "stats": {
          "unique_count": 549,
          "nan_count": 0,
          "categories": [
           {
            "name": "Smith",
            "count": 3
           },
           {
            "name": "Karlsson",
            "count": 3
           },
           {
            "name": "547 others",
            "count": 577
           }
          ]
         }
        },
        {
         "name": "otGoals",
         "dtype": "int64",
         "stats": {
          "unique_count": 3,
          "nan_count": 0,
          "min": "0",
          "max": "2",
          "histogram": [
           {
            "bin_start": 0,
            "bin_end": 0.2,
            "count": 542
           },
           {
            "bin_start": 0.2,
            "bin_end": 0.4,
            "count": 0
           },
           {
            "bin_start": 0.4,
            "bin_end": 0.6000000000000001,
            "count": 0
           },
           {
            "bin_start": 0.6000000000000001,
            "bin_end": 0.8,
            "count": 0
           },
           {
            "bin_start": 0.8,
            "bin_end": 1,
            "count": 0
           },
           {
            "bin_start": 1,
            "bin_end": 1.2000000000000002,
            "count": 39
           },
           {
            "bin_start": 1.2000000000000002,
            "bin_end": 1.4000000000000001,
            "count": 0
           },
           {
            "bin_start": 1.4000000000000001,
            "bin_end": 1.6,
            "count": 0
           },
           {
            "bin_start": 1.6,
            "bin_end": 1.8,
            "count": 0
           },
           {
            "bin_start": 1.8,
            "bin_end": 2,
            "count": 2
           }
          ]
         }
        },
        {
         "name": "penaltyMinutes",
         "dtype": "int64",
         "stats": {
          "unique_count": 39,
          "nan_count": 0,
          "min": "0",
          "max": "61",
          "histogram": [
           {
            "bin_start": 0,
            "bin_end": 6.1,
            "count": 390
           },
           {
            "bin_start": 6.1,
            "bin_end": 12.2,
            "count": 89
           },
           {
            "bin_start": 12.2,
            "bin_end": 18.299999999999997,
            "count": 47
           },
           {
            "bin_start": 18.299999999999997,
            "bin_end": 24.4,
            "count": 23
           },
           {
            "bin_start": 24.4,
            "bin_end": 30.5,
            "count": 15
           },
           {
            "bin_start": 30.5,
            "bin_end": 36.599999999999994,
            "count": 9
           },
           {
            "bin_start": 36.599999999999994,
            "bin_end": 42.699999999999996,
            "count": 6
           },
           {
            "bin_start": 42.699999999999996,
            "bin_end": 48.8,
            "count": 3
           },
           {
            "bin_start": 48.8,
            "bin_end": 54.9,
            "count": 0
           },
           {
            "bin_start": 54.9,
            "bin_end": 61,
            "count": 1
           }
          ]
         }
        },
        {
         "name": "playerId",
         "dtype": "int64",
         "stats": {
          "unique_count": 583,
          "nan_count": 0,
          "min": "8464989",
          "max": "8481813",
          "histogram": [
           {
            "bin_start": 8464989,
            "bin_end": 8466671.4,
            "count": 4
           },
           {
            "bin_start": 8466671.4,
            "bin_end": 8468353.8,
            "count": 0
           },
           {
            "bin_start": 8468353.8,
            "bin_end": 8470036.2,
            "count": 8
           },
           {
            "bin_start": 8470036.2,
            "bin_end": 8471718.6,
            "count": 45
           },
           {
            "bin_start": 8471718.6,
            "bin_end": 8473401,
            "count": 10
           },
           {
            "bin_start": 8473401,
            "bin_end": 8475083.4,
            "count": 86
           },
           {
            "bin_start": 8475083.4,
            "bin_end": 8476765.8,
            "count": 145
           },
           {
            "bin_start": 8476765.8,
            "bin_end": 8478448.2,
            "count": 173
           },
           {
            "bin_start": 8478448.2,
            "bin_end": 8480130.6,
            "count": 81
           },
           {
            "bin_start": 8480130.6,
            "bin_end": 8481813,
            "count": 31
           }
          ]
         }
        },
        {
         "name": "plusMinus",
         "dtype": "int64",
         "stats": {
          "unique_count": 24,
          "nan_count": 0,
          "min": "-11",
          "max": "15",
          "histogram": [
           {
            "bin_start": -11,
            "bin_end": -8.4,
            "count": 2
           },
           {
            "bin_start": -8.4,
            "bin_end": -5.8,
            "count": 37
           },
           {
            "bin_start": -5.8,
            "bin_end": -3.1999999999999993,
            "count": 53
           },
           {
            "bin_start": -3.1999999999999993,
            "bin_end": -0.5999999999999996,
            "count": 183
           },
           {
            "bin_start": -0.5999999999999996,
            "bin_end": 2,
            "count": 161
           },
           {
            "bin_start": 2,
            "bin_end": 4.600000000000001,
            "count": 89
           },
           {
            "bin_start": 4.600000000000001,
            "bin_end": 7.199999999999999,
            "count": 33
           },
           {
            "bin_start": 7.199999999999999,
            "bin_end": 9.8,
            "count": 13
           },
           {
            "bin_start": 9.8,
            "bin_end": 12.400000000000002,
            "count": 11
           },
           {
            "bin_start": 12.400000000000002,
            "bin_end": 15,
            "count": 1
           }
          ]
         }
        },
        {
         "name": "points",
         "dtype": "int64",
         "stats": {
          "unique_count": 35,
          "nan_count": 0,
          "min": "0",
          "max": "38",
          "histogram": [
           {
            "bin_start": 0,
            "bin_end": 3.8,
            "count": 309
           },
           {
            "bin_start": 3.8,
            "bin_end": 7.6,
            "count": 122
           },
           {
            "bin_start": 7.6,
            "bin_end": 11.399999999999999,
            "count": 69
           },
           {
            "bin_start": 11.399999999999999,
            "bin_end": 15.2,
            "count": 33
           },
           {
            "bin_start": 15.2,
            "bin_end": 19,
            "count": 12
           },
           {
            "bin_start": 19,
            "bin_end": 22.799999999999997,
            "count": 13
           },
           {
            "bin_start": 22.799999999999997,
            "bin_end": 26.599999999999998,
            "count": 10
           },
           {
            "bin_start": 26.599999999999998,
            "bin_end": 30.4,
            "count": 9
           },
           {
            "bin_start": 30.4,
            "bin_end": 34.199999999999996,
            "count": 2
           },
           {
            "bin_start": 34.199999999999996,
            "bin_end": 38,
            "count": 4
           }
          ]
         }
        },
        {
         "name": "pointsPerGame",
         "dtype": "float64",
         "stats": {
          "unique_count": 159,
          "nan_count": 0,
          "min": "0.0",
          "max": "2.25",
          "histogram": [
           {
            "bin_start": 0,
            "bin_end": 0.225,
            "count": 249
           },
           {
            "bin_start": 0.225,
            "bin_end": 0.45,
            "count": 158
           },
           {
            "bin_start": 0.45,
            "bin_end": 0.675,
            "count": 99
           },
           {
            "bin_start": 0.675,
            "bin_end": 0.9,
            "count": 48
           },
           {
            "bin_start": 0.9,
            "bin_end": 1.125,
            "count": 18
           },
           {
            "bin_start": 1.125,
            "bin_end": 1.35,
            "count": 7
           },
           {
            "bin_start": 1.35,
            "bin_end": 1.575,
            "count": 2
           },
           {
            "bin_start": 1.575,
            "bin_end": 1.8,
            "count": 0
           },
           {
            "bin_start": 1.8,
            "bin_end": 2.025,
            "count": 1
           },
           {
            "bin_start": 2.025,
            "bin_end": 2.25,
            "count": 1
           }
          ]
         }
        },
        {
         "name": "positionCode",
         "dtype": "object",
         "stats": {
          "unique_count": 4,
          "nan_count": 0,
          "categories": [
           {
            "name": "D",
            "count": 201
           },
           {
            "name": "C",
            "count": 186
           },
           {
            "name": "2 others",
            "count": 196
           }
          ]
         }
        },
        {
         "name": "ppGoals",
         "dtype": "int64",
         "stats": {
          "unique_count": 8,
          "nan_count": 0,
          "min": "0",
          "max": "8",
          "histogram": [
           {
            "bin_start": 0,
            "bin_end": 0.8,
            "count": 445
           },
           {
            "bin_start": 0.8,
            "bin_end": 1.6,
            "count": 68
           },
           {
            "bin_start": 1.6,
            "bin_end": 2.4000000000000004,
            "count": 32
           },
           {
            "bin_start": 2.4000000000000004,
            "bin_end": 3.2,
            "count": 21
           },
           {
            "bin_start": 3.2,
            "bin_end": 4,
            "count": 0
           },
           {
            "bin_start": 4,
            "bin_end": 4.800000000000001,
            "count": 8
           },
           {
            "bin_start": 4.800000000000001,
            "bin_end": 5.6000000000000005,
            "count": 6
           },
           {
            "bin_start": 5.6000000000000005,
            "bin_end": 6.4,
            "count": 2
           },
           {
            "bin_start": 6.4,
            "bin_end": 7.2,
            "count": 0
           },
           {
            "bin_start": 7.2,
            "bin_end": 8,
            "count": 1
           }
          ]
         }
        },
        {
         "name": "ppPoints",
         "dtype": "int64",
         "stats": {
          "unique_count": 17,
          "nan_count": 0,
          "min": "0",
          "max": "17",
          "histogram": [
           {
            "bin_start": 0,
            "bin_end": 1.7,
            "count": 428
           },
           {
            "bin_start": 1.7,
            "bin_end": 3.4,
            "count": 71
           },
           {
            "bin_start": 3.4,
            "bin_end": 5.1,
            "count": 37
           },
           {
            "bin_start": 5.1,
            "bin_end": 6.8,
            "count": 11
           },
           {
            "bin_start": 6.8,
            "bin_end": 8.5,
            "count": 18
           },
           {
            "bin_start": 8.5,
            "bin_end": 10.2,
            "count": 10
           },
           {
            "bin_start": 10.2,
            "bin_end": 11.9,
            "count": 0
           },
           {
            "bin_start": 11.9,
            "bin_end": 13.6,
            "count": 3
           },
           {
            "bin_start": 13.6,
            "bin_end": 15.299999999999999,
            "count": 3
           },
           {
            "bin_start": 15.299999999999999,
            "bin_end": 17,
            "count": 2
           }
          ]
         }
        },
        {
         "name": "shGoals",
         "dtype": "int64",
         "stats": {
          "unique_count": 4,
          "nan_count": 0,
          "min": "0",
          "max": "3",
          "histogram": [
           {
            "bin_start": 0,
            "bin_end": 0.3,
            "count": 555
           },
           {
            "bin_start": 0.3,
            "bin_end": 0.6,
            "count": 0
           },
           {
            "bin_start": 0.6,
            "bin_end": 0.8999999999999999,
            "count": 0
           },
           {
            "bin_start": 0.8999999999999999,
            "bin_end": 1.2,
            "count": 24
           },
           {
            "bin_start": 1.2,
            "bin_end": 1.5,
            "count": 0
           },
           {
            "bin_start": 1.5,
            "bin_end": 1.7999999999999998,
            "count": 0
           },
           {
            "bin_start": 1.7999999999999998,
            "bin_end": 2.1,
            "count": 3
           },
           {
            "bin_start": 2.1,
            "bin_end": 2.4,
            "count": 0
           },
           {
            "bin_start": 2.4,
            "bin_end": 2.6999999999999997,
            "count": 0
           },
           {
            "bin_start": 2.6999999999999997,
            "bin_end": 3,
            "count": 1
           }
          ]
         }
        },
        {
         "name": "shPoints",
         "dtype": "int64",
         "stats": {
          "unique_count": 4,
          "nan_count": 0,
          "min": "0",
          "max": "3",
          "histogram": [
           {
            "bin_start": 0,
            "bin_end": 0.3,
            "count": 522
           },
           {
            "bin_start": 0.3,
            "bin_end": 0.6,
            "count": 0
           },
           {
            "bin_start": 0.6,
            "bin_end": 0.8999999999999999,
            "count": 0
           },
           {
            "bin_start": 0.8999999999999999,
            "bin_end": 1.2,
            "count": 55
           },
           {
            "bin_start": 1.2,
            "bin_end": 1.5,
            "count": 0
           },
           {
            "bin_start": 1.5,
            "bin_end": 1.7999999999999998,
            "count": 0
           },
           {
            "bin_start": 1.7999999999999998,
            "bin_end": 2.1,
            "count": 5
           },
           {
            "bin_start": 2.1,
            "bin_end": 2.4,
            "count": 0
           },
           {
            "bin_start": 2.4,
            "bin_end": 2.6999999999999997,
            "count": 0
           },
           {
            "bin_start": 2.6999999999999997,
            "bin_end": 3,
            "count": 1
           }
          ]
         }
        },
        {
         "name": "shootingPct",
         "dtype": "float64",
         "stats": {
          "unique_count": 148,
          "nan_count": 25,
          "min": "0.0",
          "max": "1.0",
          "histogram": [
           {
            "bin_start": 0,
            "bin_end": 0.1,
            "count": 378
           },
           {
            "bin_start": 0.1,
            "bin_end": 0.2,
            "count": 139
           },
           {
            "bin_start": 0.2,
            "bin_end": 0.30000000000000004,
            "count": 28
           },
           {
            "bin_start": 0.30000000000000004,
            "bin_end": 0.4,
            "count": 8
           },
           {
            "bin_start": 0.4,
            "bin_end": 0.5,
            "count": 1
           },
           {
            "bin_start": 0.5,
            "bin_end": 0.6000000000000001,
            "count": 2
           },
           {
            "bin_start": 0.6000000000000001,
            "bin_end": 0.7000000000000001,
            "count": 0
           },
           {
            "bin_start": 0.7000000000000001,
            "bin_end": 0.8,
            "count": 0
           },
           {
            "bin_start": 0.8,
            "bin_end": 0.9,
            "count": 0
           },
           {
            "bin_start": 0.9,
            "bin_end": 1,
            "count": 2
           }
          ]
         }
        },
        {
         "name": "shootsCatches",
         "dtype": "object",
         "stats": {
          "unique_count": 2,
          "nan_count": 0,
          "categories": [
           {
            "name": "L",
            "count": 361
           },
           {
            "name": "R",
            "count": 222
           }
          ]
         }
        },
        {
         "name": "shots",
         "dtype": "int64",
         "stats": {
          "unique_count": 91,
          "nan_count": 0,
          "min": "0",
          "max": "131",
          "histogram": [
           {
            "bin_start": 0,
            "bin_end": 13.1,
            "count": 279
           },
           {
            "bin_start": 13.1,
            "bin_end": 26.2,
            "count": 117
           },
           {
            "bin_start": 26.2,
            "bin_end": 39.3,
            "count": 79
           },
           {
            "bin_start": 39.3,
            "bin_end": 52.4,
            "count": 40
           },
           {
            "bin_start": 52.4,
            "bin_end": 65.5,
            "count": 28
           },
           {
            "bin_start": 65.5,
            "bin_end": 78.6,
            "count": 13
           },
           {
            "bin_start": 78.6,
            "bin_end": 91.7,
            "count": 14
           },
           {
            "bin_start": 91.7,
            "bin_end": 104.8,
            "count": 7
           },
           {
            "bin_start": 104.8,
            "bin_end": 117.89999999999999,
            "count": 2
           },
           {
            "bin_start": 117.89999999999999,
            "bin_end": 131,
            "count": 4
           }
          ]
         }
        },
        {
         "name": "skaterFullName",
         "dtype": "object",
         "stats": {
          "unique_count": 583,
          "nan_count": 0,
          "categories": [
           {
            "name": "Nathan MacKinnon",
            "count": 1
           },
           {
            "name": "Nikita Kucherov",
            "count": 1
           },
           {
            "name": "581 others",
            "count": 581
           }
          ]
         }
        },
        {
         "name": "timeOnIcePerGame",
         "dtype": "float64",
         "stats": {
          "unique_count": 579,
          "nan_count": 0,
          "min": "64.0",
          "max": "1836.2",
          "histogram": [
           {
            "bin_start": 64,
            "bin_end": 241.22,
            "count": 2
           },
           {
            "bin_start": 241.22,
            "bin_end": 418.44,
            "count": 11
           },
           {
            "bin_start": 418.44,
            "bin_end": 595.66,
            "count": 49
           },
           {
            "bin_start": 595.66,
            "bin_end": 772.88,
            "count": 98
           },
           {
            "bin_start": 772.88,
            "bin_end": 950.1,
            "count": 131
           },
           {
            "bin_start": 950.1,
            "bin_end": 1127.32,
            "count": 126
           },
           {
            "bin_start": 1127.32,
            "bin_end": 1304.54,
            "count": 93
           },
           {
            "bin_start": 1304.54,
            "bin_end": 1481.76,
            "count": 50
           },
           {
            "bin_start": 1481.76,
            "bin_end": 1658.98,
            "count": 20
           },
           {
            "bin_start": 1658.98,
            "bin_end": 1836.2,
            "count": 3
           }
          ]
         }
        },
        {
         "name": "_deepnote_index_column",
         "dtype": "int64"
        }
       ],
       "rows_top": [
        {
         "assists": 23,
         "evGoals": 10,
         "evPoints": 23,
         "faceoffWinPct": "0.46031",
         "gameWinningGoals": 3,
         "gamesPlayed": 27,
         "goals": 15,
         "lastName": "MacKinnon",
         "otGoals": 1,
         "penaltyMinutes": 14,
         "playerId": 8477492,
         "plusMinus": 9,
         "points": 38,
         "pointsPerGame": 1.4074,
         "positionCode": "C",
         "ppGoals": 5,
         "ppPoints": 15,
         "shGoals": 0,
         "shPoints": 0,
         "shootingPct": 0.12295,
         "shootsCatches": "R",
         "shots": 122,
         "skaterFullName": "Nathan MacKinnon",
         "timeOnIcePerGame": 1360.1481,
         "_deepnote_index_column": 0
        },
        {
         "assists": 29,
         "evGoals": 7,
         "evPoints": 23,
         "faceoffWinPct": "0.0",
         "gameWinningGoals": 1,
         "gamesPlayed": 28,
         "goals": 7,
         "lastName": "Kucherov",
         "otGoals": 0,
         "penaltyMinutes": 41,
         "playerId": 8476453,
         "plusMinus": 11,
         "points": 36,
         "pointsPerGame": 1.28571,
         "positionCode": "R",
         "ppGoals": 0,
         "ppPoints": 13,
         "shGoals": 0,
         "shPoints": 0,
         "shootingPct": 0.0693,
         "shootsCatches": "L",
         "shots": 101,
         "skaterFullName": "Nikita Kucherov",
         "timeOnIcePerGame": 1301.5714,
         "_deepnote_index_column": 1
        },
        {
         "assists": 19,
         "evGoals": 10,
         "evPoints": 17,
         "faceoffWinPct": "0.33333",
         "gameWinningGoals": 3,
         "gamesPlayed": 37,
         "goals": 16,
         "lastName": "Marchand",
         "otGoals": 0,
         "penaltyMinutes": 16,
         "playerId": 8473419,
         "plusMinus": 4,
         "points": 35,
         "pointsPerGame": 0.94594,
         "positionCode": "L",
         "ppGoals": 6,
         "ppPoints": 17,
         "shGoals": 0,
         "shPoints": 1,
         "shootingPct": 0.16,
         "shootsCatches": "L",
         "shots": 100,
         "skaterFullName": "Brad Marchand",
         "timeOnIcePerGame": 1237.3243,
         "_deepnote_index_column": 2
        },
        {
         "assists": 22,
         "evGoals": 9,
         "evPoints": 22,
         "faceoffWinPct": "0.38095",
         "gameWinningGoals": 2,
         "gamesPlayed": 27,
         "goals": 13,
         "lastName": "Rantanen",
         "otGoals": 1,
         "penaltyMinutes": 10,
         "playerId": 8478420,
         "plusMinus": 10,
         "points": 35,
         "pointsPerGame": 1.29629,
         "positionCode": "R",
         "ppGoals": 4,
         "ppPoints": 13,
         "shGoals": 0,
         "shPoints": 0,
         "shootingPct": 0.14606,
         "shootsCatches": "L",
         "shots": 89,
         "skaterFullName": "Mikko Rantanen",
         "timeOnIcePerGame": 1246.3703,
         "_deepnote_index_column": 3
        },
        {
         "assists": 19,
         "evGoals": 10,
         "evPoints": 26,
         "faceoffWinPct": "0.57425",
         "gameWinningGoals": 3,
         "gamesPlayed": 27,
         "goals": 15,
         "lastName": "Point",
         "otGoals": 2,
         "penaltyMinutes": 15,
         "playerId": 8478010,
         "plusMinus": 7,
         "points": 34,
         "pointsPerGame": 1.25925,
         "positionCode": "C",
         "ppGoals": 5,
         "ppPoints": 8,
         "shGoals": 0,
         "shPoints": 0,
         "shootingPct": 0.2,
         "shootsCatches": "R",
         "shots": 75,
         "skaterFullName": "Brayden Point",
         "timeOnIcePerGame": 1221.1481,
         "_deepnote_index_column": 4
        },
        {
         "assists": 22,
         "evGoals": 9,
         "evPoints": 25,
         "faceoffWinPct": "0.53325",
         "gameWinningGoals": 3,
         "gamesPlayed": 35,
         "goals": 12,
         "lastName": "O'Reilly",
         "otGoals": 0,
         "penaltyMinutes": 4,
         "playerId": 8475158,
         "plusMinus": 5,
         "points": 34,
         "pointsPerGame": 0.97142,
         "positionCode": "C",
         "ppGoals": 3,
         "ppPoints": 9,
         "shGoals": 0,
         "shPoints": 0,
         "shootingPct": 0.15584,
         "shootsCatches": "L",
         "shots": 77,
         "skaterFullName": "Ryan O'Reilly",
         "timeOnIcePerGame": 1295.4571,
         "_deepnote_index_column": 5
        },
        {
         "assists": 22,
         "evGoals": 5,
         "evPoints": 21,
         "faceoffWinPct": "nan",
         "gameWinningGoals": 0,
         "gamesPlayed": 40,
         "goals": 8,
         "lastName": "Heiskanen",
         "otGoals": 0,
         "penaltyMinutes": 4,
         "playerId": 8480036,
         "plusMinus": 8,
         "points": 30,
         "pointsPerGame": 0.75,
         "positionCode": "D",
         "ppGoals": 3,
         "ppPoints": 9,
         "shGoals": 0,
         "shPoints": 0,
         "shootingPct": 0.08888,
         "shootsCatches": "L",
         "shots": 90,
         "skaterFullName": "Miro Heiskanen",
         "timeOnIcePerGame": 1549.275,
         "_deepnote_index_column": 6
        },
        {
         "assists": 24,
         "evGoals": 6,
         "evPoints": 21,
         "faceoffWinPct": "nan",
         "gameWinningGoals": 4,
         "gamesPlayed": 39,
         "goals": 6,
         "lastName": "Klingberg",
         "otGoals": 1,
         "penaltyMinutes": 20,
         "playerId": 8475906,
         "plusMinus": 3,
         "points": 30,
         "pointsPerGame": 0.76923,
         "positionCode": "D",
         "ppGoals": 0,
         "ppPoints": 9,
         "shGoals": 0,
         "shPoints": 0,
         "shootingPct": 0.07894,
         "shootsCatches": "R",
         "shots": 76,
         "skaterFullName": "John Klingberg",
         "timeOnIcePerGame": 1426.2307,
         "_deepnote_index_column": 7
        },
        {
         "assists": 16,
         "evGoals": 10,
         "evPoints": 20,
         "faceoffWinPct": "0.1875",
         "gameWinningGoals": 2,
         "gamesPlayed": 27,
         "goals": 13,
         "lastName": "Stone",
         "otGoals": 0,
         "penaltyMinutes": 8,
         "playerId": 8475913,
         "plusMinus": 1,
         "points": 29,
         "pointsPerGame": 1.07407,
         "positionCode": "R",
         "ppGoals": 3,
         "ppPoints": 8,
         "shGoals": 0,
         "shPoints": 1,
         "shootingPct": 0.22807,
         "shootsCatches": "R",
         "shots": 57,
         "skaterFullName": "Mark Stone",
         "timeOnIcePerGame": 1159.6666,
         "_deepnote_index_column": 8
        },
        {
         "assists": 17,
         "evGoals": 7,
         "evPoints": 14,
         "faceoffWinPct": "1.0",
         "gameWinningGoals": 2,
         "gamesPlayed": 34,
         "goals": 12,
         "lastName": "Pastrnak",
         "otGoals": 0,
         "penaltyMinutes": 6,
         "playerId": 8477956,
         "plusMinus": -3,
         "points": 29,
         "pointsPerGame": 0.85294,
         "positionCode": "R",
         "ppGoals": 5,
         "ppPoints": 15,
         "shGoals": 0,
         "shPoints": 0,
         "shootingPct": 0.09836,
         "shootsCatches": "R",
         "shots": 122,
         "skaterFullName": "David Pastrnak",
         "timeOnIcePerGame": 1125.5588,
         "_deepnote_index_column": 9
        },
        {
         "assists": 19,
         "evGoals": 5,
         "evPoints": 22,
         "faceoffWinPct": "0.53779",
         "gameWinningGoals": 1,
         "gamesPlayed": 40,
         "goals": 10,
         "lastName": "Benn",
         "otGoals": 0,
         "penaltyMinutes": 42,
         "playerId": 8473994,
         "plusMinus": 4,
         "points": 29,
         "pointsPerGame": 0.725,
         "positionCode": "L",
         "ppGoals": 4,
         "ppPoints": 6,
         "shGoals": 1,
         "shPoints": 1,
         "shootingPct": 0.08928,
         "shootsCatches": "L",
         "shots": 112,
         "skaterFullName": "Jamie Benn",
         "timeOnIcePerGame": 1082.9,
         "_deepnote_index_column": 10
        },
        {
         "assists": 11,
         "evGoals": 12,
         "evPoints": 20,
         "faceoffWinPct": "0.54261",
         "gameWinningGoals": 0,
         "gamesPlayed": 40,
         "goals": 17,
         "lastName": "Pavelski",
         "otGoals": 0,
         "penaltyMinutes": 34,
         "playerId": 8470794,
         "plusMinus": 3,
         "points": 28,
         "pointsPerGame": 0.7,
         "positionCode": "C",
         "ppGoals": 5,
         "ppPoints": 8,
         "shGoals": 0,
         "shPoints": 0,
         "shootingPct": 0.19318,
         "shootsCatches": "R",
         "shots": 88,
         "skaterFullName": "Joe Pavelski",
         "timeOnIcePerGame": 1139.925,
         "_deepnote_index_column": 11
        },
        {
         "assists": 15,
         "evGoals": 9,
         "evPoints": 19,
         "faceoffWinPct": "0.75",
         "gameWinningGoals": 5,
         "gamesPlayed": 40,
         "goals": 13,
         "lastName": "Radulov",
         "otGoals": 2,
         "penaltyMinutes": 32,
         "playerId": 8471228,
         "plusMinus": 5,
         "points": 28,
         "pointsPerGame": 0.7,
         "positionCode": "R",
         "ppGoals": 4,
         "ppPoints": 9,
         "shGoals": 0,
         "shPoints": 0,
         "shootingPct": 0.13131,
         "shootsCatches": "L",
         "shots": 99,
         "skaterFullName": "Alexander Radulov",
         "timeOnIcePerGame": 1055.65,
         "_deepnote_index_column": 12
        },
        {
         "assists": 20,
         "evGoals": 6,
         "evPoints": 18,
         "faceoffWinPct": "0.51529",
         "gameWinningGoals": 1,
         "gamesPlayed": 37,
         "goals": 8,
         "lastName": "Krejci",
         "otGoals": 0,
         "penaltyMinutes": 14,
         "playerId": 8471276,
         "plusMinus": 0,
         "points": 28,
         "pointsPerGame": 0.75675,
         "positionCode": "C",
         "ppGoals": 2,
         "ppPoints": 10,
         "shGoals": 0,
         "shPoints": 0,
         "shootingPct": 0.14545,
         "shootsCatches": "R",
         "shots": 55,
         "skaterFullName": "David Krejci",
         "timeOnIcePerGame": 1090,
         "_deepnote_index_column": 13
        },
        {
         "assists": 19,
         "evGoals": 5,
         "evPoints": 15,
         "faceoffWinPct": "nan",
         "gameWinningGoals": 1,
         "gamesPlayed": 27,
         "goals": 8,
         "lastName": "Theodore",
         "otGoals": 0,
         "penaltyMinutes": 14,
         "playerId": 8477447,
         "plusMinus": 8,
         "points": 27,
         "pointsPerGame": 1,
         "positionCode": "D",
         "ppGoals": 3,
         "ppPoints": 12,
         "shGoals": 0,
         "shPoints": 0,
         "shootingPct": 0.08888,
         "shootsCatches": "L",
         "shots": 90,
         "skaterFullName": "Shea Theodore",
         "timeOnIcePerGame": 1352.4074,
         "_deepnote_index_column": 14
        },
        {
         "assists": 20,
         "evGoals": 4,
         "evPoints": 17,
         "faceoffWinPct": "0.4074",
         "gameWinningGoals": 2,
         "gamesPlayed": 30,
         "goals": 6,
         "lastName": "Bailey",
         "otGoals": 1,
         "penaltyMinutes": 0,
         "playerId": 8474573,
         "plusMinus": 10,
         "points": 26,
         "pointsPerGame": 0.86666,
         "positionCode": "R",
         "ppGoals": 1,
         "ppPoints": 8,
         "shGoals": 1,
         "shPoints": 1,
         "shootingPct": 0.11538,
         "shootsCatches": "L",
         "shots": 52,
         "skaterFullName": "Josh Bailey",
         "timeOnIcePerGame": 1132.0333,
         "_deepnote_index_column": 15
        },
        {
         "assists": 14,
         "evGoals": 7,
         "evPoints": 17,
         "faceoffWinPct": "0.4",
         "gameWinningGoals": 2,
         "gamesPlayed": 35,
         "goals": 11,
         "lastName": "Perron",
         "otGoals": 0,
         "penaltyMinutes": 24,
         "playerId": 8474102,
         "plusMinus": 6,
         "points": 25,
         "pointsPerGame": 0.71428,
         "positionCode": "L",
         "ppGoals": 4,
         "ppPoints": 8,
         "shGoals": 0,
         "shPoints": 0,
         "shootingPct": 0.12359,
         "shootsCatches": "R",
         "shots": 89,
         "skaterFullName": "David Perron",
         "timeOnIcePerGame": 1121.8571,
         "_deepnote_index_column": 16
        },
        {
         "assists": 14,
         "evGoals": 3,
         "evPoints": 10,
         "faceoffWinPct": "0.57664",
         "gameWinningGoals": 4,
         "gamesPlayed": 37,
         "goals": 11,
         "lastName": "Bergeron",
         "otGoals": 1,
         "penaltyMinutes": 18,
         "playerId": 8470638,
         "plusMinus": 6,
         "points": 25,
         "pointsPerGame": 0.67567,
         "positionCode": "C",
         "ppGoals": 8,
         "ppPoints": 14,
         "shGoals": 0,
         "shPoints": 1,
         "shootingPct": 0.08396,
         "shootsCatches": "R",
         "shots": 131,
         "skaterFullName": "Patrice Bergeron",
         "timeOnIcePerGame": 1146.2432,
         "_deepnote_index_column": 17
        },
        {
         "assists": 21,
         "evGoals": 3,
         "evPoints": 17,
         "faceoffWinPct": "nan",
         "gameWinningGoals": 1,
         "gamesPlayed": 35,
         "goals": 4,
         "lastName": "Pietrangelo",
         "otGoals": 0,
         "penaltyMinutes": 18,
         "playerId": 8474565,
         "plusMinus": 5,
         "points": 25,
         "pointsPerGame": 0.71428,
         "positionCode": "D",
         "ppGoals": 1,
         "ppPoints": 8,
         "shGoals": 0,
         "shPoints": 0,
         "shootingPct": 0.03636,
         "shootsCatches": "R",
         "shots": 110,
         "skaterFullName": "Alex Pietrangelo",
         "timeOnIcePerGame": 1536.4571,
         "_deepnote_index_column": 18
        },
        {
         "assists": 8,
         "evGoals": 14,
         "evPoints": 22,
         "faceoffWinPct": "0.57894",
         "gameWinningGoals": 2,
         "gamesPlayed": 35,
         "goals": 16,
         "lastName": "Schwartz",
         "otGoals": 0,
         "penaltyMinutes": 6,
         "playerId": 8475768,
         "plusMinus": 6,
         "points": 24,
         "pointsPerGame": 0.68571,
         "positionCode": "L",
         "ppGoals": 2,
         "ppPoints": 2,
         "shGoals": 0,
         "shPoints": 0,
         "shootingPct": 0.17204,
         "shootsCatches": "L",
         "shots": 93,
         "skaterFullName": "Jaden Schwartz",
         "timeOnIcePerGame": 1081.8,
         "_deepnote_index_column": 19
        }
       ],
       "rows_bottom": [
        {
         "assists": 0,
         "evGoals": 0,
         "evPoints": 0,
         "faceoffWinPct": "nan",
         "gameWinningGoals": 0,
         "gamesPlayed": 1,
         "goals": 0,
         "lastName": "Ritchie",
         "otGoals": 0,
         "penaltyMinutes": 2,
         "playerId": 8476439,
         "plusMinus": 0,
         "points": 0,
         "pointsPerGame": 0,
         "positionCode": "R",
         "ppGoals": 0,
         "ppPoints": 0,
         "shGoals": 0,
         "shPoints": 0,
         "shootingPct": "0.0",
         "shootsCatches": "R",
         "shots": 2,
         "skaterFullName": "Brett Ritchie",
         "timeOnIcePerGame": 472,
         "_deepnote_index_column": 562
        },
        {
         "assists": 0,
         "evGoals": 0,
         "evPoints": 0,
         "faceoffWinPct": "nan",
         "gameWinningGoals": 0,
         "gamesPlayed": 3,
         "goals": 0,
         "lastName": "Djoos",
         "otGoals": 0,
         "penaltyMinutes": 0,
         "playerId": 8477043,
         "plusMinus": -3,
         "points": 0,
         "pointsPerGame": 0,
         "positionCode": "D",
         "ppGoals": 0,
         "ppPoints": 0,
         "shGoals": 0,
         "shPoints": 0,
         "shootingPct": "nan",
         "shootsCatches": "L",
         "shots": 0,
         "skaterFullName": "Christian Djoos",
         "timeOnIcePerGame": 444,
         "_deepnote_index_column": 563
        },
        {
         "assists": 0,
         "evGoals": 0,
         "evPoints": 0,
         "faceoffWinPct": "0.33333",
         "gameWinningGoals": 0,
         "gamesPlayed": 4,
         "goals": 0,
         "lastName": "Greenway",
         "otGoals": 0,
         "penaltyMinutes": 8,
         "playerId": 8478413,
         "plusMinus": -1,
         "points": 0,
         "pointsPerGame": 0,
         "positionCode": "L",
         "ppGoals": 0,
         "ppPoints": 0,
         "shGoals": 0,
         "shPoints": 0,
         "shootingPct": "0.0",
         "shootsCatches": "L",
         "shots": 6,
         "skaterFullName": "Jordan Greenway",
         "timeOnIcePerGame": 810,
         "_deepnote_index_column": 564
        },
        {
         "assists": 0,
         "evGoals": 0,
         "evPoints": 0,
         "faceoffWinPct": "0.0",
         "gameWinningGoals": 0,
         "gamesPlayed": 5,
         "goals": 0,
         "lastName": "Frolik",
         "otGoals": 0,
         "penaltyMinutes": 2,
         "playerId": 8473564,
         "plusMinus": -1,
         "points": 0,
         "pointsPerGame": 0,
         "positionCode": "R",
         "ppGoals": 0,
         "ppPoints": 0,
         "shGoals": 0,
         "shPoints": 0,
         "shootingPct": "0.0",
         "shootsCatches": "L",
         "shots": 7,
         "skaterFullName": "Michael Frolik",
         "timeOnIcePerGame": 823.6,
         "_deepnote_index_column": 565
        },
        {
         "assists": 0,
         "evGoals": 0,
         "evPoints": 0,
         "faceoffWinPct": "nan",
         "gameWinningGoals": 0,
         "gamesPlayed": 1,
         "goals": 0,
         "lastName": "Juolevi",
         "otGoals": 0,
         "penaltyMinutes": 0,
         "playerId": 8479355,
         "plusMinus": 0,
         "points": 0,
         "pointsPerGame": 0,
         "positionCode": "D",
         "ppGoals": 0,
         "ppPoints": 0,
         "shGoals": 0,
         "shPoints": 0,
         "shootingPct": "nan",
         "shootsCatches": "L",
         "shots": 0,
         "skaterFullName": "Olli Juolevi",
         "timeOnIcePerGame": 376,
         "_deepnote_index_column": 566
        },
        {
         "assists": 0,
         "evGoals": 0,
         "evPoints": 0,
         "faceoffWinPct": "nan",
         "gameWinningGoals": 0,
         "gamesPlayed": 4,
         "goals": 0,
         "lastName": "Hickey",
         "otGoals": 0,
         "penaltyMinutes": 0,
         "playerId": 8474066,
         "plusMinus": -3,
         "points": 0,
         "pointsPerGame": 0,
         "positionCode": "D",
         "ppGoals": 0,
         "ppPoints": 0,
         "shGoals": 0,
         "shPoints": 0,
         "shootingPct": "0.0",
         "shootsCatches": "L",
         "shots": 2,
         "skaterFullName": "Thomas Hickey",
         "timeOnIcePerGame": 1100.25,
         "_deepnote_index_column": 567
        },
        {
         "assists": 0,
         "evGoals": 0,
         "evPoints": 0,
         "faceoffWinPct": "nan",
         "gameWinningGoals": 0,
         "gamesPlayed": 2,
         "goals": 0,
         "lastName": "Vatrano",
         "otGoals": 0,
         "penaltyMinutes": 2,
         "playerId": 8478366,
         "plusMinus": -2,
         "points": 0,
         "pointsPerGame": 0,
         "positionCode": "C",
         "ppGoals": 0,
         "ppPoints": 0,
         "shGoals": 0,
         "shPoints": 0,
         "shootingPct": "0.0",
         "shootsCatches": "L",
         "shots": 3,
         "skaterFullName": "Frank Vatrano",
         "timeOnIcePerGame": 597,
         "_deepnote_index_column": 568
        },
        {
         "assists": 0,
         "evGoals": 0,
         "evPoints": 0,
         "faceoffWinPct": "nan",
         "gameWinningGoals": 0,
         "gamesPlayed": 4,
         "goals": 0,
         "lastName": "Johns",
         "otGoals": 0,
         "penaltyMinutes": 0,
         "playerId": 8475730,
         "plusMinus": -4,
         "points": 0,
         "pointsPerGame": 0,
         "positionCode": "D",
         "ppGoals": 0,
         "ppPoints": 0,
         "shGoals": 0,
         "shPoints": 0,
         "shootingPct": "0.0",
         "shootsCatches": "R",
         "shots": 8,
         "skaterFullName": "Stephen Johns",
         "timeOnIcePerGame": 894.5,
         "_deepnote_index_column": 569
        },
        {
         "assists": 0,
         "evGoals": 0,
         "evPoints": 0,
         "faceoffWinPct": "nan",
         "gameWinningGoals": 0,
         "gamesPlayed": 1,
         "goals": 0,
         "lastName": "Lemieux",
         "otGoals": 0,
         "penaltyMinutes": 0,
         "playerId": 8477962,
         "plusMinus": 0,
         "points": 0,
         "pointsPerGame": 0,
         "positionCode": "L",
         "ppGoals": 0,
         "ppPoints": 0,
         "shGoals": 0,
         "shPoints": 0,
         "shootingPct": "0.0",
         "shootsCatches": "L",
         "shots": 5,
         "skaterFullName": "Brendan Lemieux",
         "timeOnIcePerGame": 848,
         "_deepnote_index_column": 570
        },
        {
         "assists": 0,
         "evGoals": 0,
         "evPoints": 0,
         "faceoffWinPct": "0.5238",
         "gameWinningGoals": 0,
         "gamesPlayed": 3,
         "goals": 0,
         "lastName": "Howden",
         "otGoals": 0,
         "penaltyMinutes": 4,
         "playerId": 8479353,
         "plusMinus": -3,
         "points": 0,
         "pointsPerGame": 0,
         "positionCode": "C",
         "ppGoals": 0,
         "ppPoints": 0,
         "shGoals": 0,
         "shPoints": 0,
         "shootingPct": "0.0",
         "shootsCatches": "L",
         "shots": 2,
         "skaterFullName": "Brett Howden",
         "timeOnIcePerGame": 936,
         "_deepnote_index_column": 571
        },
        {
         "assists": 0,
         "evGoals": 0,
         "evPoints": 0,
         "faceoffWinPct": "nan",
         "gameWinningGoals": 0,
         "gamesPlayed": 3,
         "goals": 0,
         "lastName": "Gauthier",
         "otGoals": 0,
         "penaltyMinutes": 0,
         "playerId": 8479328,
         "plusMinus": -1,
         "points": 0,
         "pointsPerGame": 0,
         "positionCode": "R",
         "ppGoals": 0,
         "ppPoints": 0,
         "shGoals": 0,
         "shPoints": 0,
         "shootingPct": "0.0",
         "shootsCatches": "R",
         "shots": 2,
         "skaterFullName": "Julien Gauthier",
         "timeOnIcePerGame": 438.6666,
         "_deepnote_index_column": 572
        },
        {
         "assists": 0,
         "evGoals": 0,
         "evPoints": 0,
         "faceoffWinPct": "0.0",
         "gameWinningGoals": 0,
         "gamesPlayed": 2,
         "goals": 0,
         "lastName": "Lindblom",
         "otGoals": 0,
         "penaltyMinutes": 0,
         "playerId": 8478067,
         "plusMinus": -1,
         "points": 0,
         "pointsPerGame": 0,
         "positionCode": "L",
         "ppGoals": 0,
         "ppPoints": 0,
         "shGoals": 0,
         "shPoints": 0,
         "shootingPct": "nan",
         "shootsCatches": "L",
         "shots": 0,
         "skaterFullName": "Oskar Lindblom",
         "timeOnIcePerGame": 1026,
         "_deepnote_index_column": 573
        },
        {
         "assists": 0,
         "evGoals": 0,
         "evPoints": 0,
         "faceoffWinPct": "nan",
         "gameWinningGoals": 0,
         "gamesPlayed": 1,
         "goals": 0,
         "lastName": "Keeper",
         "otGoals": 0,
         "penaltyMinutes": 0,
         "playerId": 8481442,
         "plusMinus": -1,
         "points": 0,
         "pointsPerGame": 0,
         "positionCode": "D",
         "ppGoals": 0,
         "ppPoints": 0,
         "shGoals": 0,
         "shPoints": 0,
         "shootingPct": "nan",
         "shootsCatches": "R",
         "shots": 0,
         "skaterFullName": "Brady Keeper",
         "timeOnIcePerGame": 793,
         "_deepnote_index_column": 574
        },
        {
         "assists": 0,
         "evGoals": 0,
         "evPoints": 0,
         "faceoffWinPct": "nan",
         "gameWinningGoals": 0,
         "gamesPlayed": 4,
         "goals": 0,
         "lastName": "Poolman",
         "otGoals": 0,
         "penaltyMinutes": 2,
         "playerId": 8477359,
         "plusMinus": 0,
         "points": 0,
         "pointsPerGame": 0,
         "positionCode": "D",
         "ppGoals": 0,
         "ppPoints": 0,
         "shGoals": 0,
         "shPoints": 0,
         "shootingPct": "0.0",
         "shootsCatches": "R",
         "shots": 2,
         "skaterFullName": "Tucker Poolman",
         "timeOnIcePerGame": 848.75,
         "_deepnote_index_column": 575
        },
        {
         "assists": 0,
         "evGoals": 0,
         "evPoints": 0,
         "faceoffWinPct": "nan",
         "gameWinningGoals": 0,
         "gamesPlayed": 2,
         "goals": 0,
         "lastName": "Jones",
         "otGoals": 0,
         "penaltyMinutes": 0,
         "playerId": 8478452,
         "plusMinus": 1,
         "points": 0,
         "pointsPerGame": 0,
         "positionCode": "D",
         "ppGoals": 0,
         "ppPoints": 0,
         "shGoals": 0,
         "shPoints": 0,
         "shootingPct": "0.0",
         "shootsCatches": "L",
         "shots": 2,
         "skaterFullName": "Caleb Jones",
         "timeOnIcePerGame": 712.5,
         "_deepnote_index_column": 576
        },
        {
         "assists": 0,
         "evGoals": 0,
         "evPoints": 0,
         "faceoffWinPct": "nan",
         "gameWinningGoals": 0,
         "gamesPlayed": 9,
         "goals": 0,
         "lastName": "Goligoski",
         "otGoals": 0,
         "penaltyMinutes": 2,
         "playerId": 8471274,
         "plusMinus": -5,
         "points": 0,
         "pointsPerGame": 0,
         "positionCode": "D",
         "ppGoals": 0,
         "ppPoints": 0,
         "shGoals": 0,
         "shPoints": 0,
         "shootingPct": "0.0",
         "shootsCatches": "L",
         "shots": 7,
         "skaterFullName": "Alex Goligoski",
         "timeOnIcePerGame": 1310,
         "_deepnote_index_column": 577
        },
        {
         "assists": 0,
         "evGoals": 0,
         "evPoints": 0,
         "faceoffWinPct": "1.0",
         "gameWinningGoals": 0,
         "gamesPlayed": 11,
         "goals": 0,
         "lastName": "Haley",
         "otGoals": 0,
         "penaltyMinutes": 18,
         "playerId": 8474230,
         "plusMinus": -1,
         "points": 0,
         "pointsPerGame": 0,
         "positionCode": "L",
         "ppGoals": 0,
         "ppPoints": 0,
         "shGoals": 0,
         "shPoints": 0,
         "shootingPct": "0.0",
         "shootsCatches": "L",
         "shots": 6,
         "skaterFullName": "Micheal Haley",
         "timeOnIcePerGame": 415.0909,
         "_deepnote_index_column": 578
        },
        {
         "assists": 0,
         "evGoals": 0,
         "evPoints": 0,
         "faceoffWinPct": "nan",
         "gameWinningGoals": 0,
         "gamesPlayed": 1,
         "goals": 0,
         "lastName": "Dries",
         "otGoals": 0,
         "penaltyMinutes": 0,
         "playerId": 8480326,
         "plusMinus": 0,
         "points": 0,
         "pointsPerGame": 0,
         "positionCode": "C",
         "ppGoals": 0,
         "ppPoints": 0,
         "shGoals": 0,
         "shPoints": 0,
         "shootingPct": "0.0",
         "shootsCatches": "L",
         "shots": 2,
         "skaterFullName": "Sheldon Dries",
         "timeOnIcePerGame": 393,
         "_deepnote_index_column": 579
        },
        {
         "assists": 0,
         "evGoals": 0,
         "evPoints": 0,
         "faceoffWinPct": "nan",
         "gameWinningGoals": 0,
         "gamesPlayed": 4,
         "goals": 0,
         "lastName": "Bear",
         "otGoals": 0,
         "penaltyMinutes": 0,
         "playerId": 8478451,
         "plusMinus": -4,
         "points": 0,
         "pointsPerGame": 0,
         "positionCode": "D",
         "ppGoals": 0,
         "ppPoints": 0,
         "shGoals": 0,
         "shPoints": 0,
         "shootingPct": "0.0",
         "shootsCatches": "R",
         "shots": 3,
         "skaterFullName": "Ethan Bear",
         "timeOnIcePerGame": 1356.75,
         "_deepnote_index_column": 580
        },
        {
         "assists": 0,
         "evGoals": 0,
         "evPoints": 0,
         "faceoffWinPct": "nan",
         "gameWinningGoals": 0,
         "gamesPlayed": 1,
         "goals": 0,
         "lastName": "Carlsson",
         "otGoals": 0,
         "penaltyMinutes": 0,
         "playerId": 8479523,
         "plusMinus": -2,
         "points": 0,
         "pointsPerGame": 0,
         "positionCode": "D",
         "ppGoals": 0,
         "ppPoints": 0,
         "shGoals": 0,
         "shPoints": 0,
         "shootingPct": "0.0",
         "shootsCatches": "L",
         "shots": 1,
         "skaterFullName": "Lucas Carlsson",
         "timeOnIcePerGame": 633,
         "_deepnote_index_column": 581
        },
        {
         "assists": 0,
         "evGoals": 0,
         "evPoints": 0,
         "faceoffWinPct": "nan",
         "gameWinningGoals": 0,
         "gamesPlayed": 1,
         "goals": 0,
         "lastName": "Fast",
         "otGoals": 0,
         "penaltyMinutes": 0,
         "playerId": 8475855,
         "plusMinus": -1,
         "points": 0,
         "pointsPerGame": 0,
         "positionCode": "R",
         "ppGoals": 0,
         "ppPoints": 0,
         "shGoals": 0,
         "shPoints": 0,
         "shootingPct": "nan",
         "shootsCatches": "R",
         "shots": 0,
         "skaterFullName": "Jesper Fast",
         "timeOnIcePerGame": 64,
         "_deepnote_index_column": 582
        }
       ]
      },
      "text/plain": "     assists  evGoals  evPoints  faceoffWinPct  gameWinningGoals  gamesPlayed  \\\n0         23       10        23        0.46031                 3           27   \n1         29        7        23        0.00000                 1           28   \n2         19       10        17        0.33333                 3           37   \n3         22        9        22        0.38095                 2           27   \n4         19       10        26        0.57425                 3           27   \n..       ...      ...       ...            ...               ...          ...   \n578        0        0         0        1.00000                 0           11   \n579        0        0         0            NaN                 0            1   \n580        0        0         0            NaN                 0            4   \n581        0        0         0            NaN                 0            1   \n582        0        0         0            NaN                 0            1   \n\n     goals   lastName  otGoals  penaltyMinutes  ...  positionCode  ppGoals  \\\n0       15  MacKinnon        1              14  ...             C        5   \n1        7   Kucherov        0              41  ...             R        0   \n2       16   Marchand        0              16  ...             L        6   \n3       13   Rantanen        1              10  ...             R        4   \n4       15      Point        2              15  ...             C        5   \n..     ...        ...      ...             ...  ...           ...      ...   \n578      0      Haley        0              18  ...             L        0   \n579      0      Dries        0               0  ...             C        0   \n580      0       Bear        0               0  ...             D        0   \n581      0   Carlsson        0               0  ...             D        0   \n582      0       Fast        0               0  ...             R        0   \n\n     ppPoints  shGoals shPoints  shootingPct  shootsCatches  shots  \\\n0          15        0        0      0.12295              R    122   \n1          13        0        0      0.06930              L    101   \n2          17        0        1      0.16000              L    100   \n3          13        0        0      0.14606              L     89   \n4           8        0        0      0.20000              R     75   \n..        ...      ...      ...          ...            ...    ...   \n578         0        0        0      0.00000              L      6   \n579         0        0        0      0.00000              L      2   \n580         0        0        0      0.00000              R      3   \n581         0        0        0      0.00000              L      1   \n582         0        0        0          NaN              R      0   \n\n       skaterFullName  timeOnIcePerGame  \n0    Nathan MacKinnon         1360.1481  \n1     Nikita Kucherov         1301.5714  \n2       Brad Marchand         1237.3243  \n3      Mikko Rantanen         1246.3703  \n4       Brayden Point         1221.1481  \n..                ...               ...  \n578     Micheal Haley          415.0909  \n579     Sheldon Dries          393.0000  \n580        Ethan Bear         1356.7500  \n581    Lucas Carlsson          633.0000  \n582       Jesper Fast           64.0000  \n\n[583 rows x 24 columns]",
      "text/html": "<div>\n<style scoped>\n    .dataframe tbody tr th:only-of-type {\n        vertical-align: middle;\n    }\n\n    .dataframe tbody tr th {\n        vertical-align: top;\n    }\n\n    .dataframe thead th {\n        text-align: right;\n    }\n</style>\n<table border=\"1\" class=\"dataframe\">\n  <thead>\n    <tr style=\"text-align: right;\">\n      <th></th>\n      <th>assists</th>\n      <th>evGoals</th>\n      <th>evPoints</th>\n      <th>faceoffWinPct</th>\n      <th>gameWinningGoals</th>\n      <th>gamesPlayed</th>\n      <th>goals</th>\n      <th>lastName</th>\n      <th>otGoals</th>\n      <th>penaltyMinutes</th>\n      <th>...</th>\n      <th>positionCode</th>\n      <th>ppGoals</th>\n      <th>ppPoints</th>\n      <th>shGoals</th>\n      <th>shPoints</th>\n      <th>shootingPct</th>\n      <th>shootsCatches</th>\n      <th>shots</th>\n      <th>skaterFullName</th>\n      <th>timeOnIcePerGame</th>\n    </tr>\n  </thead>\n  <tbody>\n    <tr>\n      <th>0</th>\n      <td>23</td>\n      <td>10</td>\n      <td>23</td>\n      <td>0.46031</td>\n      <td>3</td>\n      <td>27</td>\n      <td>15</td>\n      <td>MacKinnon</td>\n      <td>1</td>\n      <td>14</td>\n      <td>...</td>\n      <td>C</td>\n      <td>5</td>\n      <td>15</td>\n      <td>0</td>\n      <td>0</td>\n      <td>0.12295</td>\n      <td>R</td>\n      <td>122</td>\n      <td>Nathan MacKinnon</td>\n      <td>1360.1481</td>\n    </tr>\n    <tr>\n      <th>1</th>\n      <td>29</td>\n      <td>7</td>\n      <td>23</td>\n      <td>0.00000</td>\n      <td>1</td>\n      <td>28</td>\n      <td>7</td>\n      <td>Kucherov</td>\n      <td>0</td>\n      <td>41</td>\n      <td>...</td>\n      <td>R</td>\n      <td>0</td>\n      <td>13</td>\n      <td>0</td>\n      <td>0</td>\n      <td>0.06930</td>\n      <td>L</td>\n      <td>101</td>\n      <td>Nikita Kucherov</td>\n      <td>1301.5714</td>\n    </tr>\n    <tr>\n      <th>2</th>\n      <td>19</td>\n      <td>10</td>\n      <td>17</td>\n      <td>0.33333</td>\n      <td>3</td>\n      <td>37</td>\n      <td>16</td>\n      <td>Marchand</td>\n      <td>0</td>\n      <td>16</td>\n      <td>...</td>\n      <td>L</td>\n      <td>6</td>\n      <td>17</td>\n      <td>0</td>\n      <td>1</td>\n      <td>0.16000</td>\n      <td>L</td>\n      <td>100</td>\n      <td>Brad Marchand</td>\n      <td>1237.3243</td>\n    </tr>\n    <tr>\n      <th>3</th>\n      <td>22</td>\n      <td>9</td>\n      <td>22</td>\n      <td>0.38095</td>\n      <td>2</td>\n      <td>27</td>\n      <td>13</td>\n      <td>Rantanen</td>\n      <td>1</td>\n      <td>10</td>\n      <td>...</td>\n      <td>R</td>\n      <td>4</td>\n      <td>13</td>\n      <td>0</td>\n      <td>0</td>\n      <td>0.14606</td>\n      <td>L</td>\n      <td>89</td>\n      <td>Mikko Rantanen</td>\n      <td>1246.3703</td>\n    </tr>\n    <tr>\n      <th>4</th>\n      <td>19</td>\n      <td>10</td>\n      <td>26</td>\n      <td>0.57425</td>\n      <td>3</td>\n      <td>27</td>\n      <td>15</td>\n      <td>Point</td>\n      <td>2</td>\n      <td>15</td>\n      <td>...</td>\n      <td>C</td>\n      <td>5</td>\n      <td>8</td>\n      <td>0</td>\n      <td>0</td>\n      <td>0.20000</td>\n      <td>R</td>\n      <td>75</td>\n      <td>Brayden Point</td>\n      <td>1221.1481</td>\n    </tr>\n    <tr>\n      <th>...</th>\n      <td>...</td>\n      <td>...</td>\n      <td>...</td>\n      <td>...</td>\n      <td>...</td>\n      <td>...</td>\n      <td>...</td>\n      <td>...</td>\n      <td>...</td>\n      <td>...</td>\n      <td>...</td>\n      <td>...</td>\n      <td>...</td>\n      <td>...</td>\n      <td>...</td>\n      <td>...</td>\n      <td>...</td>\n      <td>...</td>\n      <td>...</td>\n      <td>...</td>\n      <td>...</td>\n    </tr>\n    <tr>\n      <th>578</th>\n      <td>0</td>\n      <td>0</td>\n      <td>0</td>\n      <td>1.00000</td>\n      <td>0</td>\n      <td>11</td>\n      <td>0</td>\n      <td>Haley</td>\n      <td>0</td>\n      <td>18</td>\n      <td>...</td>\n      <td>L</td>\n      <td>0</td>\n      <td>0</td>\n      <td>0</td>\n      <td>0</td>\n      <td>0.00000</td>\n      <td>L</td>\n      <td>6</td>\n      <td>Micheal Haley</td>\n      <td>415.0909</td>\n    </tr>\n    <tr>\n      <th>579</th>\n      <td>0</td>\n      <td>0</td>\n      <td>0</td>\n      <td>NaN</td>\n      <td>0</td>\n      <td>1</td>\n      <td>0</td>\n      <td>Dries</td>\n      <td>0</td>\n      <td>0</td>\n      <td>...</td>\n      <td>C</td>\n      <td>0</td>\n      <td>0</td>\n      <td>0</td>\n      <td>0</td>\n      <td>0.00000</td>\n      <td>L</td>\n      <td>2</td>\n      <td>Sheldon Dries</td>\n      <td>393.0000</td>\n    </tr>\n    <tr>\n      <th>580</th>\n      <td>0</td>\n      <td>0</td>\n      <td>0</td>\n      <td>NaN</td>\n      <td>0</td>\n      <td>4</td>\n      <td>0</td>\n      <td>Bear</td>\n      <td>0</td>\n      <td>0</td>\n      <td>...</td>\n      <td>D</td>\n      <td>0</td>\n      <td>0</td>\n      <td>0</td>\n      <td>0</td>\n      <td>0.00000</td>\n      <td>R</td>\n      <td>3</td>\n      <td>Ethan Bear</td>\n      <td>1356.7500</td>\n    </tr>\n    <tr>\n      <th>581</th>\n      <td>0</td>\n      <td>0</td>\n      <td>0</td>\n      <td>NaN</td>\n      <td>0</td>\n      <td>1</td>\n      <td>0</td>\n      <td>Carlsson</td>\n      <td>0</td>\n      <td>0</td>\n      <td>...</td>\n      <td>D</td>\n      <td>0</td>\n      <td>0</td>\n      <td>0</td>\n      <td>0</td>\n      <td>0.00000</td>\n      <td>L</td>\n      <td>1</td>\n      <td>Lucas Carlsson</td>\n      <td>633.0000</td>\n    </tr>\n    <tr>\n      <th>582</th>\n      <td>0</td>\n      <td>0</td>\n      <td>0</td>\n      <td>NaN</td>\n      <td>0</td>\n      <td>1</td>\n      <td>0</td>\n      <td>Fast</td>\n      <td>0</td>\n      <td>0</td>\n      <td>...</td>\n      <td>R</td>\n      <td>0</td>\n      <td>0</td>\n      <td>0</td>\n      <td>0</td>\n      <td>NaN</td>\n      <td>R</td>\n      <td>0</td>\n      <td>Jesper Fast</td>\n      <td>64.0000</td>\n    </tr>\n  </tbody>\n</table>\n<p>583 rows × 24 columns</p>\n</div>"
     },
     "metadata": {}
    }
   ]
  },
  {
   "cell_type": "code",
   "metadata": {
    "tags": [],
    "cell_id": "00002-5ac50447-bf96-4593-bb97-e0eb81f647c5",
    "deepnote_cell_type": "code"
   },
   "source": "",
   "execution_count": null,
   "outputs": []
  },
  {
   "cell_type": "markdown",
   "source": "<a style='text-decoration:none;line-height:16px;display:flex;color:#5B5B62;padding:10px;justify-content:end;' href='https://deepnote.com?utm_source=created-in-deepnote-cell&projectId=06e3b3a6-f418-4676-af98-f6f17c6cc9f2' target=\"_blank\">\n<img alt='Created in deepnote.com' style='display:inline;max-height:16px;margin:0px;margin-right:7.5px;' src='data:image/svg+xml;base64,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' > </img>\nCreated in <span style='font-weight:600;margin-left:4px;'>Deepnote</span></a>",
   "metadata": {
    "tags": [],
    "created_in_deepnote_cell": true,
    "deepnote_cell_type": "markdown"
   }
  }
 ],
 "nbformat": 4,
 "nbformat_minor": 2,
 "metadata": {
  "kernelspec": {
   "display_name": "Python 3",
   "language": "python",
   "name": "python3"
  },
  "language_info": {
   "codemirror_mode": {
    "name": "ipython",
    "version": 3
   },
   "file_extension": ".py",
   "mimetype": "text/x-python",
   "name": "python",
   "nbconvert_exporter": "python",
   "pygments_lexer": "ipython3",
   "version": "3.6.3"
  },
  "deepnote_notebook_id": "eb0afcfd-56b3-4774-8096-d40ffa61b2ee",
  "deepnote_execution_queue": [],
  "deepnote": {}
 }
}